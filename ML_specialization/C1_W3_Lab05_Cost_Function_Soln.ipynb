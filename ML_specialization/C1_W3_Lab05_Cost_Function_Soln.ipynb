{
  "cells": [
    {
      "cell_type": "markdown",
      "metadata": {
        "id": "view-in-github",
        "colab_type": "text"
      },
      "source": [
        "<a href=\"https://colab.research.google.com/github/lpanigrahi/coursera/blob/main/ML_specialization/C1_W3_Lab05_Cost_Function_Soln.ipynb\" target=\"_parent\"><img src=\"https://colab.research.google.com/assets/colab-badge.svg\" alt=\"Open In Colab\"/></a>"
      ]
    },
    {
      "cell_type": "markdown",
      "metadata": {
        "pycharm": {
          "name": "#%% md\n"
        },
        "id": "og-y-1Q7qQ3b"
      },
      "source": [
        "# Optional Lab: Cost Function for Logistic Regression\n",
        "\n",
        "## Goals\n",
        "In this lab, you will:\n",
        "- examine the implementation and utilize the cost function for logistic regression."
      ],
      "id": "og-y-1Q7qQ3b"
    },
    {
      "cell_type": "code",
      "source": [
        "from google.colab import drive\n",
        "drive.mount('/content/drive')"
      ],
      "metadata": {
        "id": "UQRQ2KGIqSQZ",
        "outputId": "ec18ab2e-7509-402a-e5d0-195d25e601de",
        "colab": {
          "base_uri": "https://localhost:8080/"
        }
      },
      "id": "UQRQ2KGIqSQZ",
      "execution_count": 1,
      "outputs": [
        {
          "output_type": "stream",
          "name": "stdout",
          "text": [
            "Mounted at /content/drive\n"
          ]
        }
      ]
    },
    {
      "cell_type": "code",
      "source": [
        "import os"
      ],
      "metadata": {
        "id": "AGJQAhyDqe0H"
      },
      "id": "AGJQAhyDqe0H",
      "execution_count": 2,
      "outputs": []
    },
    {
      "cell_type": "code",
      "source": [
        "os.chdir(os.path.join(os.getcwd(),'drive/MyDrive/coursera/ML_specialization/C1_W3'))"
      ],
      "metadata": {
        "id": "zqJSXUqRqgr2"
      },
      "id": "zqJSXUqRqgr2",
      "execution_count": 3,
      "outputs": []
    },
    {
      "cell_type": "code",
      "source": [
        "!pip install ipympl -q"
      ],
      "metadata": {
        "id": "2955yK2Uqty1",
        "outputId": "ea146caa-7ed3-42a5-e710-b92aedf66c8d",
        "colab": {
          "base_uri": "https://localhost:8080/"
        }
      },
      "id": "2955yK2Uqty1",
      "execution_count": 6,
      "outputs": [
        {
          "output_type": "stream",
          "name": "stdout",
          "text": [
            "\u001b[2K     \u001b[90m━━━━━━━━━━━━━━━━━━━━━━━━━━━━━━━━━━━━━━\u001b[0m \u001b[32m511.6/511.6 KB\u001b[0m \u001b[31m13.1 MB/s\u001b[0m eta \u001b[36m0:00:00\u001b[0m\n",
            "\u001b[2K     \u001b[90m━━━━━━━━━━━━━━━━━━━━━━━━━━━━━━━━━━━━━━━━\u001b[0m \u001b[32m1.6/1.6 MB\u001b[0m \u001b[31m58.3 MB/s\u001b[0m eta \u001b[36m0:00:00\u001b[0m\n",
            "\u001b[?25h"
          ]
        }
      ]
    },
    {
      "cell_type": "code",
      "execution_count": 7,
      "metadata": {
        "pycharm": {
          "name": "#%%\n"
        },
        "id": "Cv5osSGwqQ3j"
      },
      "outputs": [],
      "source": [
        "import numpy as np\n",
        "%matplotlib widget\n",
        "import matplotlib.pyplot as plt\n",
        "from lab_utils_common import  plot_data, sigmoid, dlc\n",
        "plt.style.use('./deeplearning.mplstyle')"
      ],
      "id": "Cv5osSGwqQ3j"
    },
    {
      "cell_type": "markdown",
      "metadata": {
        "pycharm": {
          "name": "#%% md\n"
        },
        "id": "Un7uRuKGqQ3l"
      },
      "source": [
        "## Dataset \n",
        "Let's start with the same dataset as was used in the decision boundary lab."
      ],
      "id": "Un7uRuKGqQ3l"
    },
    {
      "cell_type": "code",
      "execution_count": 8,
      "metadata": {
        "tags": [],
        "pycharm": {
          "name": "#%%\n"
        },
        "id": "JiCP_9ygqQ3m"
      },
      "outputs": [],
      "source": [
        "X_train = np.array([[0.5, 1.5], [1,1], [1.5, 0.5], [3, 0.5], [2, 2], [1, 2.5]])  #(m,n)\n",
        "y_train = np.array([0, 0, 0, 1, 1, 1])                                           #(m,)"
      ],
      "id": "JiCP_9ygqQ3m"
    },
    {
      "cell_type": "markdown",
      "metadata": {
        "pycharm": {
          "name": "#%% md\n"
        },
        "id": "mbNMiMrnqQ3m"
      },
      "source": [
        "We will use a helper function to plot this data. The data points with label $y=1$ are shown as red crosses, while the data points with label $y=0$ are shown as blue circles."
      ],
      "id": "mbNMiMrnqQ3m"
    },
    {
      "cell_type": "code",
      "execution_count": 9,
      "metadata": {
        "pycharm": {
          "name": "#%%\n"
        },
        "id": "sUS4HZf4qQ3n",
        "outputId": "98d66b19-9271-422f-e693-92a50f3e5dac",
        "colab": {
          "base_uri": "https://localhost:8080/",
          "height": 17,
          "referenced_widgets": [
            "51a9a430c4d54e958153aac38038670d"
          ]
        }
      },
      "outputs": [
        {
          "output_type": "display_data",
          "data": {
            "text/plain": [
              "Canvas(footer_visible=False, header_visible=False, toolbar=Toolbar(toolitems=[('Home', 'Reset original view', …"
            ],
            "image/png": "[encoded data removed]",
            "text/html": [
              "\n",
              "            <div style=\"display: inline-block;\">\n",
              "                <div class=\"jupyter-widgets widget-label\" style=\"text-align: center;\">\n",
              "                    Figure\n",
              "                </div>\n",
              "                <img src='data:image/png;base64,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' width=288.0/>\n",
              "            </div>\n",
              "        "
            ],
            "application/vnd.jupyter.widget-view+json": {
              "version_major": 2,
              "version_minor": 0,
              "model_id": "51a9a430c4d54e958153aac38038670d"
            }
          },
          "metadata": {}
        }
      ],
      "source": [
        "fig,ax = plt.subplots(1,1,figsize=(4,4))\n",
        "plot_data(X_train, y_train, ax)\n",
        "\n",
        "# Set both axes to be from 0-4\n",
        "ax.axis([0, 4, 0, 3.5])\n",
        "ax.set_ylabel('$x_1$', fontsize=12)\n",
        "ax.set_xlabel('$x_0$', fontsize=12)\n",
        "plt.show()"
      ],
      "id": "sUS4HZf4qQ3n"
    },
    {
      "cell_type": "markdown",
      "metadata": {
        "pycharm": {
          "name": "#%% md\n"
        },
        "id": "Z1vjBZLjqQ3o"
      },
      "source": [
        "## Cost function\n",
        "\n",
        "In a previous lab, you developed the *logistic loss* function. Recall, loss is defined to apply to one example. Here you combine the losses to form the **cost**, which includes all the examples.\n",
        "\n",
        "\n",
        "Recall that for logistic regression, the cost function is of the form \n",
        "\n",
        "$$ J(\\mathbf{w},b) = \\frac{1}{m} \\sum_{i=0}^{m-1} \\left[ loss(f_{\\mathbf{w},b}(\\mathbf{x}^{(i)}), y^{(i)}) \\right] \\tag{1}$$\n",
        "\n",
        "where\n",
        "* $loss(f_{\\mathbf{w},b}(\\mathbf{x}^{(i)}), y^{(i)})$ is the cost for a single data point, which is:\n",
        "\n",
        "    $$loss(f_{\\mathbf{w},b}(\\mathbf{x}^{(i)}), y^{(i)}) = -y^{(i)} \\log\\left(f_{\\mathbf{w},b}\\left( \\mathbf{x}^{(i)} \\right) \\right) - \\left( 1 - y^{(i)}\\right) \\log \\left( 1 - f_{\\mathbf{w},b}\\left( \\mathbf{x}^{(i)} \\right) \\right) \\tag{2}$$\n",
        "    \n",
        "*  where m is the number of training examples in the data set and:\n",
        "$$\n",
        "\\begin{align}\n",
        "  f_{\\mathbf{w},b}(\\mathbf{x^{(i)}}) &= g(z^{(i)})\\tag{3} \\\\\n",
        "  z^{(i)} &= \\mathbf{w} \\cdot \\mathbf{x}^{(i)}+ b\\tag{4} \\\\\n",
        "  g(z^{(i)}) &= \\frac{1}{1+e^{-z^{(i)}}}\\tag{5} \n",
        "\\end{align}\n",
        "$$\n",
        " "
      ],
      "id": "Z1vjBZLjqQ3o"
    },
    {
      "cell_type": "markdown",
      "metadata": {
        "pycharm": {
          "name": "#%% md\n"
        },
        "id": "wuKNMqZHqQ3p"
      },
      "source": [
        "<a name='ex-02'></a>\n",
        "#### Code Description\n",
        "\n",
        "The algorithm for `compute_cost_logistic` loops over all the examples calculating the loss for each example and accumulating the total.\n",
        "\n",
        "Note that the variables X and y are not scalar values but matrices of shape ($m, n$) and ($𝑚$,) respectively, where  $𝑛$ is the number of features and $𝑚$ is the number of training examples.\n"
      ],
      "id": "wuKNMqZHqQ3p"
    },
    {
      "cell_type": "code",
      "execution_count": 10,
      "metadata": {
        "pycharm": {
          "name": "#%%\n"
        },
        "id": "Nfmg9OAgqQ3q"
      },
      "outputs": [],
      "source": [
        "def compute_cost_logistic(X, y, w, b):\n",
        "    \"\"\"\n",
        "    Computes cost\n",
        "\n",
        "    Args:\n",
        "      X (ndarray (m,n)): Data, m examples with n features\n",
        "      y (ndarray (m,)) : target values\n",
        "      w (ndarray (n,)) : model parameters  \n",
        "      b (scalar)       : model parameter\n",
        "      \n",
        "    Returns:\n",
        "      cost (scalar): cost\n",
        "    \"\"\"\n",
        "\n",
        "    m = X.shape[0]\n",
        "    cost = 0.0\n",
        "    for i in range(m):\n",
        "        z_i = np.dot(X[i],w) + b\n",
        "        f_wb_i = sigmoid(z_i)\n",
        "        cost +=  -y[i]*np.log(f_wb_i) - (1-y[i])*np.log(1-f_wb_i)\n",
        "             \n",
        "    cost = cost / m\n",
        "    return cost\n"
      ],
      "id": "Nfmg9OAgqQ3q"
    },
    {
      "cell_type": "markdown",
      "metadata": {
        "pycharm": {
          "name": "#%% md\n"
        },
        "id": "yaEN0LP4qQ3s"
      },
      "source": [
        "Check the implementation of the cost function using the cell below."
      ],
      "id": "yaEN0LP4qQ3s"
    },
    {
      "cell_type": "code",
      "execution_count": 11,
      "metadata": {
        "pycharm": {
          "name": "#%%\n"
        },
        "id": "RZhWxko9qQ3t",
        "outputId": "4b6d78eb-92e1-4b17-df65-f570e9ee02dd",
        "colab": {
          "base_uri": "https://localhost:8080/",
          "height": 34
        }
      },
      "outputs": [
        {
          "output_type": "stream",
          "name": "stdout",
          "text": [
            "0.36686678640551745\n"
          ]
        }
      ],
      "source": [
        "w_tmp = np.array([1,1])\n",
        "b_tmp = -3\n",
        "print(compute_cost_logistic(X_train, y_train, w_tmp, b_tmp))"
      ],
      "id": "RZhWxko9qQ3t"
    },
    {
      "cell_type": "markdown",
      "metadata": {
        "pycharm": {
          "name": "#%% md\n"
        },
        "id": "3pexvg8HqQ3u"
      },
      "source": [
        "**Expected output**: 0.3668667864055175"
      ],
      "id": "3pexvg8HqQ3u"
    },
    {
      "cell_type": "markdown",
      "metadata": {
        "pycharm": {
          "name": "#%% md\n"
        },
        "id": "daBCkF7XqQ3u"
      },
      "source": [
        "## Example\n",
        "Now, let's see what the cost function output is for a different value of $w$. \n",
        "\n",
        "* In a previous lab, you plotted the decision boundary for  $b = -3, w_0 = 1, w_1 = 1$. That is, you had `b = -3, w = np.array([1,1])`.\n",
        "\n",
        "* Let's say you want to see if $b = -4, w_0 = 1, w_1 = 1$, or `b = -4, w = np.array([1,1])` provides a better model.\n",
        "\n",
        "Let's first plot the decision boundary for these two different $b$ values to see which one fits the data better.\n",
        "\n",
        "* For $b = -3, w_0 = 1, w_1 = 1$, we'll plot $-3 + x_0+x_1 = 0$ (shown in blue)\n",
        "* For $b = -4, w_0 = 1, w_1 = 1$, we'll plot $-4 + x_0+x_1 = 0$ (shown in magenta)"
      ],
      "id": "daBCkF7XqQ3u"
    },
    {
      "cell_type": "code",
      "execution_count": 12,
      "metadata": {
        "pycharm": {
          "name": "#%%\n"
        },
        "id": "ZLO9uUBcqQ3u",
        "outputId": "4713743e-2d80-4f3a-a109-a8145f85a603",
        "colab": {
          "base_uri": "https://localhost:8080/",
          "height": 17,
          "referenced_widgets": [
            "5fbec78887f84157a00778f803ac2313"
          ]
        }
      },
      "outputs": [
        {
          "output_type": "display_data",
          "data": {
            "text/plain": [
              "Canvas(footer_visible=False, header_visible=False, toolbar=Toolbar(toolitems=[('Home', 'Reset original view', …"
            ],
            "image/png": "[encoded data removed]",
            "text/html": [
              "\n",
              "            <div style=\"display: inline-block;\">\n",
              "                <div class=\"jupyter-widgets widget-label\" style=\"text-align: center;\">\n",
              "                    Figure\n",
              "                </div>\n",
              "                <img src='data:image/png;base64,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' width=288.0/>\n",
              "            </div>\n",
              "        "
            ],
            "application/vnd.jupyter.widget-view+json": {
              "version_major": 2,
              "version_minor": 0,
              "model_id": "5fbec78887f84157a00778f803ac2313"
            }
          },
          "metadata": {}
        }
      ],
      "source": [
        "import matplotlib.pyplot as plt\n",
        "\n",
        "# Choose values between 0 and 6\n",
        "x0 = np.arange(0,6)\n",
        "\n",
        "# Plot the two decision boundaries\n",
        "x1 = 3 - x0\n",
        "x1_other = 4 - x0\n",
        "\n",
        "fig,ax = plt.subplots(1, 1, figsize=(4,4))\n",
        "# Plot the decision boundary\n",
        "ax.plot(x0,x1, c=dlc[\"dlblue\"], label=\"$b$=-3\")\n",
        "ax.plot(x0,x1_other, c=dlc[\"dlmagenta\"], label=\"$b$=-4\")\n",
        "ax.axis([0, 4, 0, 4])\n",
        "\n",
        "# Plot the original data\n",
        "plot_data(X_train,y_train,ax)\n",
        "ax.axis([0, 4, 0, 4])\n",
        "ax.set_ylabel('$x_1$', fontsize=12)\n",
        "ax.set_xlabel('$x_0$', fontsize=12)\n",
        "plt.legend(loc=\"upper right\")\n",
        "plt.title(\"Decision Boundary\")\n",
        "plt.show()"
      ],
      "id": "ZLO9uUBcqQ3u"
    },
    {
      "cell_type": "markdown",
      "metadata": {
        "pycharm": {
          "name": "#%% md\n"
        },
        "id": "WNXRIu6KqQ3v"
      },
      "source": [
        "You can see from this plot that `b = -4, w = np.array([1,1])` is a worse model for the training data. Let's see if the cost function implementation reflects this."
      ],
      "id": "WNXRIu6KqQ3v"
    },
    {
      "cell_type": "code",
      "execution_count": 13,
      "metadata": {
        "pycharm": {
          "name": "#%%\n"
        },
        "id": "zouhPmM_qQ3v",
        "outputId": "6f12e3ac-f9fd-4988-a895-adb17604c04b",
        "colab": {
          "base_uri": "https://localhost:8080/",
          "height": 52
        }
      },
      "outputs": [
        {
          "output_type": "stream",
          "name": "stdout",
          "text": [
            "Cost for b = -3 :  0.36686678640551745\n",
            "Cost for b = -4 :  0.5036808636748461\n"
          ]
        }
      ],
      "source": [
        "w_array1 = np.array([1,1])\n",
        "b_1 = -3\n",
        "w_array2 = np.array([1,1])\n",
        "b_2 = -4\n",
        "\n",
        "print(\"Cost for b = -3 : \", compute_cost_logistic(X_train, y_train, w_array1, b_1))\n",
        "print(\"Cost for b = -4 : \", compute_cost_logistic(X_train, y_train, w_array2, b_2))"
      ],
      "id": "zouhPmM_qQ3v"
    },
    {
      "cell_type": "markdown",
      "metadata": {
        "pycharm": {
          "name": "#%% md\n"
        },
        "id": "4IrXOsqoqQ3w"
      },
      "source": [
        "**Expected output**\n",
        "\n",
        "Cost for b = -3 :  0.3668667864055175\n",
        "\n",
        "Cost for b = -4 :  0.5036808636748461\n",
        "\n",
        "\n",
        "You can see the cost function behaves as expected and the cost for `b = -4, w = np.array([1,1])` is indeed higher than the cost for `b = -3, w = np.array([1,1])`"
      ],
      "id": "4IrXOsqoqQ3w"
    },
    {
      "cell_type": "markdown",
      "metadata": {
        "pycharm": {
          "name": "#%% md\n"
        },
        "id": "3wjFNW69qQ3x"
      },
      "source": [
        "## Congratulations!\n",
        "In this lab you examined and utilized the cost function for logistic regression."
      ],
      "id": "3wjFNW69qQ3x"
    },
    {
      "cell_type": "code",
      "execution_count": null,
      "metadata": {
        "pycharm": {
          "name": "#%%\n"
        },
        "id": "6QR_PRNfqQ3x"
      },
      "outputs": [],
      "source": [],
      "id": "6QR_PRNfqQ3x"
    }
  ],
  "metadata": {
    "kernelspec": {
      "display_name": "Python 3",
      "language": "python",
      "name": "python3"
    },
    "language_info": {
      "codemirror_mode": {
        "name": "ipython",
        "version": 3
      },
      "file_extension": ".py",
      "mimetype": "text/x-python",
      "name": "python",
      "nbconvert_exporter": "python",
      "pygments_lexer": "ipython3",
      "version": "3.7.6"
    },
    "colab": {
      "provenance": [],
      "include_colab_link": true
    },
    "widgets": {
      "application/vnd.jupyter.widget-state+json": {
        "51a9a430c4d54e958153aac38038670d": {
          "model_module": "jupyter-matplotlib",
          "model_name": "MPLCanvasModel",
          "model_module_version": "^0.11",
          "state": {
            "_cursor": "pointer",
            "_data_url": "data:image/png;base64,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",
            "_dom_classes": [],
            "_figure_label": "Figure",
            "_image_mode": "full",
            "_message": "",
            "_model_module": "jupyter-matplotlib",
            "_model_module_version": "^0.11",
            "_model_name": "MPLCanvasModel",
            "_rubberband_height": 0,
            "_rubberband_width": 0,
            "_rubberband_x": 0,
            "_rubberband_y": 0,
            "_size": [
              288,
              288
            ],
            "_view_count": null,
            "_view_module": "jupyter-matplotlib",
            "_view_module_version": "^0.11",
            "_view_name": "MPLCanvasView",
            "capture_scroll": false,
            "footer_visible": false,
            "header_visible": false,
            "layout": "IPY_MODEL_8511d7fc136e4684bfcfd5cdb48c3c6d",
            "pan_zoom_throttle": 33,
            "resizable": true,
            "toolbar": "IPY_MODEL_8b78d78efff446d39fe7a69143a61cad",
            "toolbar_position": "left",
            "toolbar_visible": false
          }
        },
        "5fbec78887f84157a00778f803ac2313": {
          "model_module": "jupyter-matplotlib",
          "model_name": "MPLCanvasModel",
          "model_module_version": "^0.11",
          "state": {
            "_cursor": "pointer",
            "_data_url": "data:image/png;base64,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",
            "_dom_classes": [],
            "_figure_label": "Figure",
            "_image_mode": "full",
            "_message": "",
            "_model_module": "jupyter-matplotlib",
            "_model_module_version": "^0.11",
            "_model_name": "MPLCanvasModel",
            "_rubberband_height": 0,
            "_rubberband_width": 0,
            "_rubberband_x": 0,
            "_rubberband_y": 0,
            "_size": [
              288,
              288
            ],
            "_view_count": null,
            "_view_module": "jupyter-matplotlib",
            "_view_module_version": "^0.11",
            "_view_name": "MPLCanvasView",
            "capture_scroll": false,
            "footer_visible": false,
            "header_visible": false,
            "layout": "IPY_MODEL_0cf80d23df6a427f807f2ab2a9f7284e",
            "pan_zoom_throttle": 33,
            "resizable": true,
            "toolbar": "IPY_MODEL_935e730d14a1419c9f238ce64d390cfd",
            "toolbar_position": "left",
            "toolbar_visible": false
          }
        }
      }
    }
  },
  "nbformat": 4,
  "nbformat_minor": 5
}