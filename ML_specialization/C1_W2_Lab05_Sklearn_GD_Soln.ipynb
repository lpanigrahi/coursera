{
  "cells": [
    {
      "cell_type": "markdown",
      "metadata": {
        "id": "view-in-github",
        "colab_type": "text"
      },
      "source": [
        "<a href=\"https://colab.research.google.com/github/lpanigrahi/coursera/blob/main/ML_specialization/C1_W2_Lab05_Sklearn_GD_Soln.ipynb\" target=\"_parent\"><img src=\"https://colab.research.google.com/assets/colab-badge.svg\" alt=\"Open In Colab\"/></a>"
      ]
    },
    {
      "cell_type": "markdown",
      "metadata": {
        "pycharm": {
          "name": "#%% md\n"
        },
        "id": "pFm26s2-iXsS"
      },
      "source": [
        "# Optional Lab: Linear Regression using Scikit-Learn"
      ],
      "id": "pFm26s2-iXsS"
    },
    {
      "cell_type": "markdown",
      "metadata": {
        "pycharm": {
          "name": "#%% md\n"
        },
        "id": "PjR77aVXiXsc"
      },
      "source": [
        "There is an open-source, commercially usable machine learning toolkit called [scikit-learn](https://scikit-learn.org/stable/index.html). This toolkit contains implementations of many of the algorithms that you will work with in this course.\n",
        "\n"
      ],
      "id": "PjR77aVXiXsc"
    },
    {
      "cell_type": "markdown",
      "metadata": {
        "pycharm": {
          "name": "#%% md\n"
        },
        "id": "t8fia7f_iXsd"
      },
      "source": [
        "## Goals\n",
        "In this lab you will:\n",
        "- Utilize  scikit-learn to implement linear regression using Gradient Descent"
      ],
      "id": "t8fia7f_iXsd"
    },
    {
      "cell_type": "markdown",
      "metadata": {
        "pycharm": {
          "name": "#%% md\n"
        },
        "id": "GC9FKkh7iXsf"
      },
      "source": [
        "## Tools\n",
        "You will utilize functions from scikit-learn as well as matplotlib and NumPy. "
      ],
      "id": "GC9FKkh7iXsf"
    },
    {
      "cell_type": "code",
      "source": [
        "from google.colab import drive\n",
        "drive.mount('/content/drive')"
      ],
      "metadata": {
        "id": "JEIN2WoqiecU",
        "outputId": "70512845-bba6-4c64-af61-f26ed11ac84e",
        "colab": {
          "base_uri": "https://localhost:8080/"
        }
      },
      "id": "JEIN2WoqiecU",
      "execution_count": 1,
      "outputs": [
        {
          "output_type": "stream",
          "name": "stdout",
          "text": [
            "Mounted at /content/drive\n"
          ]
        }
      ]
    },
    {
      "cell_type": "code",
      "source": [
        "import os"
      ],
      "metadata": {
        "id": "N2e0dYy2ipOG"
      },
      "id": "N2e0dYy2ipOG",
      "execution_count": 2,
      "outputs": []
    },
    {
      "cell_type": "code",
      "source": [
        "os.chdir(os.path.join(os.getcwd(),'drive/MyDrive/coursera/ML_specialization/C1_W1'))"
      ],
      "metadata": {
        "id": "ODTmpJZBitjA"
      },
      "id": "ODTmpJZBitjA",
      "execution_count": 4,
      "outputs": []
    },
    {
      "cell_type": "code",
      "execution_count": 5,
      "metadata": {
        "pycharm": {
          "name": "#%%\n"
        },
        "id": "Eei-OJLiiXsg"
      },
      "outputs": [],
      "source": [
        "import numpy as np\n",
        "import matplotlib.pyplot as plt\n",
        "from sklearn.linear_model import SGDRegressor\n",
        "from sklearn.preprocessing import StandardScaler\n",
        "from lab_utils_multi import  load_house_data\n",
        "from lab_utils_common import dlc\n",
        "np.set_printoptions(precision=2)\n",
        "plt.style.use('./deeplearning.mplstyle')"
      ],
      "id": "Eei-OJLiiXsg"
    },
    {
      "cell_type": "markdown",
      "metadata": {
        "pycharm": {
          "name": "#%% md\n"
        },
        "id": "qmHi67fQiXsi"
      },
      "source": [
        "# Gradient Descent\n",
        "Scikit-learn has a gradient descent regression model [sklearn.linear_model.SGDRegressor](https://scikit-learn.org/stable/modules/generated/sklearn.linear_model.SGDRegressor.html#examples-using-sklearn-linear-model-sgdregressor).  Like your previous implementation of gradient descent, this model performs best with normalized inputs. [sklearn.preprocessing.StandardScaler](https://scikit-learn.org/stable/modules/generated/sklearn.preprocessing.StandardScaler.html#sklearn.preprocessing.StandardScaler) will perform z-score normalization as in a previous lab. Here it is referred to as 'standard score'."
      ],
      "id": "qmHi67fQiXsi"
    },
    {
      "cell_type": "markdown",
      "metadata": {
        "pycharm": {
          "name": "#%% md\n"
        },
        "id": "IuVu8pA5iXsj"
      },
      "source": [
        "### Load the data set"
      ],
      "id": "IuVu8pA5iXsj"
    },
    {
      "cell_type": "code",
      "execution_count": 6,
      "metadata": {
        "pycharm": {
          "name": "#%%\n"
        },
        "id": "VFzK0VUViXsj"
      },
      "outputs": [],
      "source": [
        "X_train, y_train = load_house_data()\n",
        "X_features = ['size(sqft)','bedrooms','floors','age']"
      ],
      "id": "VFzK0VUViXsj"
    },
    {
      "cell_type": "markdown",
      "metadata": {
        "pycharm": {
          "name": "#%% md\n"
        },
        "id": "0DGJMkKOiXsk"
      },
      "source": [
        "### Scale/normalize the training data"
      ],
      "id": "0DGJMkKOiXsk"
    },
    {
      "cell_type": "code",
      "execution_count": 7,
      "metadata": {
        "pycharm": {
          "name": "#%%\n"
        },
        "id": "oly55pb8iXsl",
        "outputId": "2cb10327-233c-457a-8714-831d4f1e885f",
        "colab": {
          "base_uri": "https://localhost:8080/"
        }
      },
      "outputs": [
        {
          "output_type": "stream",
          "name": "stdout",
          "text": [
            "Peak to Peak range by column in Raw        X:[2.41e+03 4.00e+00 1.00e+00 9.50e+01]\n",
            "Peak to Peak range by column in Normalized X:[5.85 6.14 2.06 3.69]\n"
          ]
        }
      ],
      "source": [
        "scaler = StandardScaler()\n",
        "X_norm = scaler.fit_transform(X_train)\n",
        "print(f\"Peak to Peak range by column in Raw        X:{np.ptp(X_train,axis=0)}\")   \n",
        "print(f\"Peak to Peak range by column in Normalized X:{np.ptp(X_norm,axis=0)}\")"
      ],
      "id": "oly55pb8iXsl"
    },
    {
      "cell_type": "markdown",
      "metadata": {
        "pycharm": {
          "name": "#%% md\n"
        },
        "id": "fAniGW0aiXsn"
      },
      "source": [
        "### Create and fit the regression model"
      ],
      "id": "fAniGW0aiXsn"
    },
    {
      "cell_type": "code",
      "execution_count": 8,
      "metadata": {
        "pycharm": {
          "name": "#%%\n"
        },
        "id": "I7eAZU-wiXsn",
        "outputId": "91e5fa62-a324-4608-9d35-31c2bf659dbb",
        "colab": {
          "base_uri": "https://localhost:8080/"
        }
      },
      "outputs": [
        {
          "output_type": "stream",
          "name": "stdout",
          "text": [
            "SGDRegressor()\n",
            "number of iterations completed: 131, number of weight updates: 12970.0\n"
          ]
        }
      ],
      "source": [
        "sgdr = SGDRegressor(max_iter=1000)\n",
        "sgdr.fit(X_norm, y_train)\n",
        "print(sgdr)\n",
        "print(f\"number of iterations completed: {sgdr.n_iter_}, number of weight updates: {sgdr.t_}\")"
      ],
      "id": "I7eAZU-wiXsn"
    },
    {
      "cell_type": "markdown",
      "metadata": {
        "pycharm": {
          "name": "#%% md\n"
        },
        "id": "58UXseJKiXso"
      },
      "source": [
        "### View parameters\n",
        "Note, the parameters are associated with the *normalized* input data. The fit parameters are very close to those found in the previous lab with this data."
      ],
      "id": "58UXseJKiXso"
    },
    {
      "cell_type": "code",
      "execution_count": 9,
      "metadata": {
        "pycharm": {
          "name": "#%%\n"
        },
        "id": "RYNZ5hLQiXso",
        "outputId": "b5e20d2a-05df-4189-87c2-e81e72d30d58",
        "colab": {
          "base_uri": "https://localhost:8080/"
        }
      },
      "outputs": [
        {
          "output_type": "stream",
          "name": "stdout",
          "text": [
            "model parameters:                   w: [110.22 -21.09 -32.52 -38.03], b:[363.16]\n",
            "model parameters from previous lab: w: [110.56 -21.27 -32.71 -37.97], b: 363.16\n"
          ]
        }
      ],
      "source": [
        "b_norm = sgdr.intercept_\n",
        "w_norm = sgdr.coef_\n",
        "print(f\"model parameters:                   w: {w_norm}, b:{b_norm}\")\n",
        "print( \"model parameters from previous lab: w: [110.56 -21.27 -32.71 -37.97], b: 363.16\")"
      ],
      "id": "RYNZ5hLQiXso"
    },
    {
      "cell_type": "markdown",
      "metadata": {
        "pycharm": {
          "name": "#%% md\n"
        },
        "id": "Z8pJZoHliXss"
      },
      "source": [
        "### Make predictions\n",
        "Predict the targets of the training data. Use both the `predict` routine and compute using $w$ and $b$."
      ],
      "id": "Z8pJZoHliXss"
    },
    {
      "cell_type": "code",
      "execution_count": 10,
      "metadata": {
        "pycharm": {
          "name": "#%%\n"
        },
        "id": "4O_XXL8FiXst",
        "outputId": "ed38f166-e4cf-48ce-9e98-8565d08d2875",
        "colab": {
          "base_uri": "https://localhost:8080/"
        }
      },
      "outputs": [
        {
          "output_type": "stream",
          "name": "stdout",
          "text": [
            "prediction using np.dot() and sgdr.predict match: True\n",
            "Prediction on training set:\n",
            "[295.19 485.91 389.58 492.07]\n",
            "Target values \n",
            "[300.  509.8 394.  540. ]\n"
          ]
        }
      ],
      "source": [
        "# make a prediction using sgdr.predict()\n",
        "y_pred_sgd = sgdr.predict(X_norm)\n",
        "# make a prediction using w,b. \n",
        "y_pred = np.dot(X_norm, w_norm) + b_norm  \n",
        "print(f\"prediction using np.dot() and sgdr.predict match: {(y_pred == y_pred_sgd).all()}\")\n",
        "\n",
        "print(f\"Prediction on training set:\\n{y_pred[:4]}\" )\n",
        "print(f\"Target values \\n{y_train[:4]}\")"
      ],
      "id": "4O_XXL8FiXst"
    },
    {
      "cell_type": "markdown",
      "metadata": {
        "pycharm": {
          "name": "#%% md\n"
        },
        "id": "L8l9vVKHiXsu"
      },
      "source": [
        "### Plot Results\n",
        "Let's plot the predictions versus the target values."
      ],
      "id": "L8l9vVKHiXsu"
    },
    {
      "cell_type": "code",
      "execution_count": 11,
      "metadata": {
        "pycharm": {
          "name": "#%%\n"
        },
        "id": "FcZ_J8WeiXsu",
        "outputId": "aaadc00b-23f4-41b9-bcfb-7d12806783b7",
        "colab": {
          "base_uri": "https://localhost:8080/",
          "height": 242
        }
      },
      "outputs": [
        {
          "output_type": "display_data",
          "data": {
            "text/plain": [
              "<Figure size 864x216 with 4 Axes>"
            ],
            "image/png": "[encoded data removed]"
          },
          "metadata": {}
        }
      ],
      "source": [
        "# plot predictions and targets vs original features    \n",
        "fig,ax=plt.subplots(1,4,figsize=(12,3),sharey=True)\n",
        "for i in range(len(ax)):\n",
        "    ax[i].scatter(X_train[:,i],y_train, label = 'target')\n",
        "    ax[i].set_xlabel(X_features[i])\n",
        "    ax[i].scatter(X_train[:,i],y_pred,color=dlc[\"dlorange\"], label = 'predict')\n",
        "ax[0].set_ylabel(\"Price\"); ax[0].legend();\n",
        "fig.suptitle(\"target versus prediction using z-score normalized model\")\n",
        "plt.show()"
      ],
      "id": "FcZ_J8WeiXsu"
    },
    {
      "cell_type": "markdown",
      "metadata": {
        "pycharm": {
          "name": "#%% md\n"
        },
        "id": "Yyf9V33YiXsv"
      },
      "source": [
        "## Congratulations!\n",
        "In this lab you:\n",
        "- utilized an open-source machine learning toolkit, scikit-learn\n",
        "- implemented linear regression using gradient descent and feature normalization from that toolkit"
      ],
      "id": "Yyf9V33YiXsv"
    },
    {
      "cell_type": "code",
      "execution_count": null,
      "metadata": {
        "pycharm": {
          "name": "#%%\n"
        },
        "id": "KcFKnrMjiXsv"
      },
      "outputs": [],
      "source": [],
      "id": "KcFKnrMjiXsv"
    }
  ],
  "metadata": {
    "kernelspec": {
      "display_name": "Python 3",
      "language": "python",
      "name": "python3"
    },
    "language_info": {
      "codemirror_mode": {
        "name": "ipython",
        "version": 3
      },
      "file_extension": ".py",
      "mimetype": "text/x-python",
      "name": "python",
      "nbconvert_exporter": "python",
      "pygments_lexer": "ipython3",
      "version": "3.8.10"
    },
    "colab": {
      "provenance": [],
      "include_colab_link": true
    }
  },
  "nbformat": 4,
  "nbformat_minor": 5
}