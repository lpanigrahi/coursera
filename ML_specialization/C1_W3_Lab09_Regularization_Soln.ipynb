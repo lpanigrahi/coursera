{
  "cells": [
    {
      "cell_type": "markdown",
      "metadata": {
        "id": "view-in-github",
        "colab_type": "text"
      },
      "source": [
        "<a href=\"https://colab.research.google.com/github/lpanigrahi/coursera/blob/main/ML_specialization/C1_W3_Lab09_Regularization_Soln.ipynb\" target=\"_parent\"><img src=\"https://colab.research.google.com/assets/colab-badge.svg\" alt=\"Open In Colab\"/></a>"
      ]
    },
    {
      "cell_type": "markdown",
      "metadata": {
        "pycharm": {
          "name": "#%% md\n"
        },
        "id": "W1juVzA4RJRM"
      },
      "source": [
        "# Optional Lab - Regularized Cost and Gradient"
      ],
      "id": "W1juVzA4RJRM"
    },
    {
      "cell_type": "markdown",
      "metadata": {
        "pycharm": {
          "name": "#%% md\n"
        },
        "id": "v1M1GyDIRJRS"
      },
      "source": [
        "## Goals\n",
        "In this lab, you will:\n",
        "- extend the previous linear and logistic cost functions with a regularization term.\n",
        "- rerun the previous example of over-fitting with a regularization term added.\n"
      ],
      "id": "v1M1GyDIRJRS"
    },
    {
      "cell_type": "code",
      "source": [
        "from google.colab import drive\n",
        "drive.mount('/content/drive')"
      ],
      "metadata": {
        "id": "4v35qmfVRK5J",
        "outputId": "5f4d9bf5-a1f0-4308-895d-2a6c65ff6d79",
        "colab": {
          "base_uri": "https://localhost:8080/"
        }
      },
      "id": "4v35qmfVRK5J",
      "execution_count": 1,
      "outputs": [
        {
          "output_type": "stream",
          "name": "stdout",
          "text": [
            "Mounted at /content/drive\n"
          ]
        }
      ]
    },
    {
      "cell_type": "code",
      "source": [
        "import os"
      ],
      "metadata": {
        "id": "N352x2cART7Q"
      },
      "id": "N352x2cART7Q",
      "execution_count": 2,
      "outputs": []
    },
    {
      "cell_type": "code",
      "source": [
        "os.chdir(os.path.join(os.getcwd(),'drive/MyDrive/coursera/ML_specialization/C1_W3'))"
      ],
      "metadata": {
        "id": "TXJouJRkRVof"
      },
      "id": "TXJouJRkRVof",
      "execution_count": 3,
      "outputs": []
    },
    {
      "cell_type": "code",
      "source": [
        "!pip install ipympl -q"
      ],
      "metadata": {
        "id": "COZLipfgRn8N",
        "outputId": "340af34b-e665-4d0c-8e7c-6a360fd72fc8",
        "colab": {
          "base_uri": "https://localhost:8080/"
        }
      },
      "id": "COZLipfgRn8N",
      "execution_count": 4,
      "outputs": [
        {
          "output_type": "stream",
          "name": "stdout",
          "text": [
            "\u001b[2K     \u001b[90m━━━━━━━━━━━━━━━━━━━━━━━━━━━━━━━━━━━━━━━\u001b[0m \u001b[32m511.6/511.6 KB\u001b[0m \u001b[31m9.6 MB/s\u001b[0m eta \u001b[36m0:00:00\u001b[0m\n",
            "\u001b[2K     \u001b[90m━━━━━━━━━━━━━━━━━━━━━━━━━━━━━━━━━━━━━━━━\u001b[0m \u001b[32m1.6/1.6 MB\u001b[0m \u001b[31m42.6 MB/s\u001b[0m eta \u001b[36m0:00:00\u001b[0m\n",
            "\u001b[?25h"
          ]
        }
      ]
    },
    {
      "cell_type": "code",
      "execution_count": 5,
      "metadata": {
        "pycharm": {
          "name": "#%%\n"
        },
        "id": "eTsnIui0RJRT"
      },
      "outputs": [],
      "source": [
        "import numpy as np\n",
        "%matplotlib widget\n",
        "import matplotlib.pyplot as plt\n",
        "from plt_overfit import overfit_example, output\n",
        "from lab_utils_common import sigmoid\n",
        "np.set_printoptions(precision=8)"
      ],
      "id": "eTsnIui0RJRT"
    },
    {
      "cell_type": "markdown",
      "metadata": {
        "pycharm": {
          "name": "#%% md\n"
        },
        "id": "_5NGZ-hVRJRV"
      },
      "source": [
        "# Adding regularization\n",
        "<img align=\"Left\" src=\"https://github.com/lpanigrahi/coursera/blob/main/ML_specialization/images/C1_W3_LinearGradientRegularized.png?raw=1\"  style=\" width:400px; padding: 10px; \" >\n",
        "<img align=\"Center\" src=\"https://github.com/lpanigrahi/coursera/blob/main/ML_specialization/images/C1_W3_LogisticGradientRegularized.png?raw=1\"  style=\" width:400px; padding: 10px; \" >\n",
        "\n",
        "The slides above show the cost and gradient functions for both linear and logistic regression. Note:\n",
        "- Cost\n",
        "    - The cost functions differ significantly between linear and logistic regression, but adding regularization to the equations is the same.\n",
        "- Gradient\n",
        "    - The gradient functions for linear and logistic regression are very similar. They differ only in the implementation of $f_{wb}$."
      ],
      "id": "_5NGZ-hVRJRV"
    },
    {
      "cell_type": "markdown",
      "metadata": {
        "pycharm": {
          "name": "#%% md\n"
        },
        "id": "uFLJ5_jERJRW"
      },
      "source": [
        "## Cost functions with regularization\n",
        "### Cost function for regularized linear regression\n",
        "\n",
        "The equation for the cost function regularized linear regression is:\n",
        "$$J(\\mathbf{w},b) = \\frac{1}{2m} \\sum\\limits_{i = 0}^{m-1} (f_{\\mathbf{w},b}(\\mathbf{x}^{(i)}) - y^{(i)})^2  + \\frac{\\lambda}{2m}  \\sum_{j=0}^{n-1} w_j^2 \\tag{1}$$ \n",
        "where:\n",
        "$$ f_{\\mathbf{w},b}(\\mathbf{x}^{(i)}) = \\mathbf{w} \\cdot \\mathbf{x}^{(i)} + b  \\tag{2} $$ \n",
        "\n",
        "\n",
        "Compare this to the cost function without regularization (which you implemented in  a previous lab), which is of the form:\n",
        "\n",
        "$$J(\\mathbf{w},b) = \\frac{1}{2m} \\sum\\limits_{i = 0}^{m-1} (f_{\\mathbf{w},b}(\\mathbf{x}^{(i)}) - y^{(i)})^2 $$ \n",
        "\n",
        "The difference is the regularization term,  <span style=\"color:blue\">\n",
        "    $\\frac{\\lambda}{2m}  \\sum_{j=0}^{n-1} w_j^2$ </span> \n",
        "    \n",
        "Including this term encourages gradient descent to minimize the size of the parameters. Note, in this example, the parameter $b$ is not regularized. This is standard practice.\n",
        "\n",
        "Below is an implementation of equations (1) and (2). Note that this uses a *standard pattern for this course*,   a `for loop` over all `m` examples."
      ],
      "id": "uFLJ5_jERJRW"
    },
    {
      "cell_type": "code",
      "execution_count": 6,
      "metadata": {
        "pycharm": {
          "name": "#%%\n"
        },
        "id": "ZFez2z1dRJRX"
      },
      "outputs": [],
      "source": [
        "def compute_cost_linear_reg(X, y, w, b, lambda_ = 1):\n",
        "    \"\"\"\n",
        "    Computes the cost over all examples\n",
        "    Args:\n",
        "      X (ndarray (m,n): Data, m examples with n features\n",
        "      y (ndarray (m,)): target values\n",
        "      w (ndarray (n,)): model parameters  \n",
        "      b (scalar)      : model parameter\n",
        "      lambda_ (scalar): Controls amount of regularization\n",
        "    Returns:\n",
        "      total_cost (scalar):  cost \n",
        "    \"\"\"\n",
        "\n",
        "    m  = X.shape[0]\n",
        "    n  = len(w)\n",
        "    cost = 0.\n",
        "    for i in range(m):\n",
        "        f_wb_i = np.dot(X[i], w) + b                                   #(n,)(n,)=scalar, see np.dot\n",
        "        cost = cost + (f_wb_i - y[i])**2                               #scalar             \n",
        "    cost = cost / (2 * m)                                              #scalar  \n",
        " \n",
        "    reg_cost = 0\n",
        "    for j in range(n):\n",
        "        reg_cost += (w[j]**2)                                          #scalar\n",
        "    reg_cost = (lambda_/(2*m)) * reg_cost                              #scalar\n",
        "    \n",
        "    total_cost = cost + reg_cost                                       #scalar\n",
        "    return total_cost                                                  #scalar"
      ],
      "id": "ZFez2z1dRJRX"
    },
    {
      "cell_type": "markdown",
      "metadata": {
        "pycharm": {
          "name": "#%% md\n"
        },
        "id": "UoW3cLQYRJRX"
      },
      "source": [
        "Run the cell below to see it in action."
      ],
      "id": "UoW3cLQYRJRX"
    },
    {
      "cell_type": "code",
      "execution_count": 7,
      "metadata": {
        "tags": [],
        "pycharm": {
          "name": "#%%\n"
        },
        "id": "0LByvI2RRJRY",
        "outputId": "d9cd0074-5df5-4bb5-ece1-6ba58429a96c",
        "colab": {
          "base_uri": "https://localhost:8080/"
        }
      },
      "outputs": [
        {
          "output_type": "stream",
          "name": "stdout",
          "text": [
            "Regularized cost: 0.07917239320214277\n"
          ]
        }
      ],
      "source": [
        "np.random.seed(1)\n",
        "X_tmp = np.random.rand(5,6)\n",
        "y_tmp = np.array([0,1,0,1,0])\n",
        "w_tmp = np.random.rand(X_tmp.shape[1]).reshape(-1,)-0.5\n",
        "b_tmp = 0.5\n",
        "lambda_tmp = 0.7\n",
        "cost_tmp = compute_cost_linear_reg(X_tmp, y_tmp, w_tmp, b_tmp, lambda_tmp)\n",
        "\n",
        "print(\"Regularized cost:\", cost_tmp)"
      ],
      "id": "0LByvI2RRJRY"
    },
    {
      "cell_type": "markdown",
      "metadata": {
        "pycharm": {
          "name": "#%% md\n"
        },
        "id": "e8x9zfXERJRa"
      },
      "source": [
        "**Expected Output**:\n",
        "<table>\n",
        "  <tr>\n",
        "    <td> <b>Regularized cost: </b> 0.07917239320214275 </td>\n",
        "  </tr>\n",
        "</table>"
      ],
      "id": "e8x9zfXERJRa"
    },
    {
      "cell_type": "markdown",
      "metadata": {
        "pycharm": {
          "name": "#%% md\n"
        },
        "id": "extDvdD9RJRa"
      },
      "source": [
        "### Cost function for regularized logistic regression\n",
        "For regularized **logistic** regression, the cost function is of the form\n",
        "$$J(\\mathbf{w},b) = \\frac{1}{m}  \\sum_{i=0}^{m-1} \\left[ -y^{(i)} \\log\\left(f_{\\mathbf{w},b}\\left( \\mathbf{x}^{(i)} \\right) \\right) - \\left( 1 - y^{(i)}\\right) \\log \\left( 1 - f_{\\mathbf{w},b}\\left( \\mathbf{x}^{(i)} \\right) \\right) \\right] + \\frac{\\lambda}{2m}  \\sum_{j=0}^{n-1} w_j^2 \\tag{3}$$\n",
        "where:\n",
        "$$ f_{\\mathbf{w},b}(\\mathbf{x}^{(i)}) = sigmoid(\\mathbf{w} \\cdot \\mathbf{x}^{(i)} + b)  \\tag{4} $$ \n",
        "\n",
        "Compare this to the cost function without regularization (which you implemented in  a previous lab):\n",
        "\n",
        "$$ J(\\mathbf{w},b) = \\frac{1}{m}\\sum_{i=0}^{m-1} \\left[ (-y^{(i)} \\log\\left(f_{\\mathbf{w},b}\\left( \\mathbf{x}^{(i)} \\right) \\right) - \\left( 1 - y^{(i)}\\right) \\log \\left( 1 - f_{\\mathbf{w},b}\\left( \\mathbf{x}^{(i)} \\right) \\right)\\right] $$\n",
        "\n",
        "As was the case in linear regression above, the difference is the regularization term, which is    <span style=\"color:blue\">\n",
        "    $\\frac{\\lambda}{2m}  \\sum_{j=0}^{n-1} w_j^2$ </span> \n",
        "\n",
        "Including this term encourages gradient descent to minimize the size of the parameters. Note, in this example, the parameter $b$ is not regularized. This is standard practice. "
      ],
      "id": "extDvdD9RJRa"
    },
    {
      "cell_type": "code",
      "execution_count": 8,
      "metadata": {
        "pycharm": {
          "name": "#%%\n"
        },
        "id": "lc7333GDRJRb"
      },
      "outputs": [],
      "source": [
        "def compute_cost_logistic_reg(X, y, w, b, lambda_ = 1):\n",
        "    \"\"\"\n",
        "    Computes the cost over all examples\n",
        "    Args:\n",
        "    Args:\n",
        "      X (ndarray (m,n): Data, m examples with n features\n",
        "      y (ndarray (m,)): target values\n",
        "      w (ndarray (n,)): model parameters  \n",
        "      b (scalar)      : model parameter\n",
        "      lambda_ (scalar): Controls amount of regularization\n",
        "    Returns:\n",
        "      total_cost (scalar):  cost \n",
        "    \"\"\"\n",
        "\n",
        "    m,n  = X.shape\n",
        "    cost = 0.\n",
        "    for i in range(m):\n",
        "        z_i = np.dot(X[i], w) + b                                      #(n,)(n,)=scalar, see np.dot\n",
        "        f_wb_i = sigmoid(z_i)                                          #scalar\n",
        "        cost +=  -y[i]*np.log(f_wb_i) - (1-y[i])*np.log(1-f_wb_i)      #scalar\n",
        "             \n",
        "    cost = cost/m                                                      #scalar\n",
        "\n",
        "    reg_cost = 0\n",
        "    for j in range(n):\n",
        "        reg_cost += (w[j]**2)                                          #scalar\n",
        "    reg_cost = (lambda_/(2*m)) * reg_cost                              #scalar\n",
        "    \n",
        "    total_cost = cost + reg_cost                                       #scalar\n",
        "    return total_cost                                                  #scalar"
      ],
      "id": "lc7333GDRJRb"
    },
    {
      "cell_type": "markdown",
      "metadata": {
        "pycharm": {
          "name": "#%% md\n"
        },
        "id": "4mLQHjLLRJRb"
      },
      "source": [
        "Run the cell below to see it in action."
      ],
      "id": "4mLQHjLLRJRb"
    },
    {
      "cell_type": "code",
      "execution_count": 9,
      "metadata": {
        "tags": [],
        "pycharm": {
          "name": "#%%\n"
        },
        "id": "0rHtb_X1RJRc",
        "outputId": "5e515467-0dfe-4a05-d8a0-82cf4d527dba",
        "colab": {
          "base_uri": "https://localhost:8080/"
        }
      },
      "outputs": [
        {
          "output_type": "stream",
          "name": "stdout",
          "text": [
            "Regularized cost: 0.6850849138741673\n"
          ]
        }
      ],
      "source": [
        "np.random.seed(1)\n",
        "X_tmp = np.random.rand(5,6)\n",
        "y_tmp = np.array([0,1,0,1,0])\n",
        "w_tmp = np.random.rand(X_tmp.shape[1]).reshape(-1,)-0.5\n",
        "b_tmp = 0.5\n",
        "lambda_tmp = 0.7\n",
        "cost_tmp = compute_cost_logistic_reg(X_tmp, y_tmp, w_tmp, b_tmp, lambda_tmp)\n",
        "\n",
        "print(\"Regularized cost:\", cost_tmp)"
      ],
      "id": "0rHtb_X1RJRc"
    },
    {
      "cell_type": "markdown",
      "metadata": {
        "pycharm": {
          "name": "#%% md\n"
        },
        "id": "Kalqoq2hRJRc"
      },
      "source": [
        "**Expected Output**:\n",
        "<table>\n",
        "  <tr>\n",
        "    <td> <b>Regularized cost: </b> 0.6850849138741673 </td>\n",
        "  </tr>\n",
        "</table>"
      ],
      "id": "Kalqoq2hRJRc"
    },
    {
      "cell_type": "markdown",
      "metadata": {
        "pycharm": {
          "name": "#%% md\n"
        },
        "id": "y1jskBBIRJRc"
      },
      "source": [
        "## Gradient descent with regularization\n",
        "The basic algorithm for running gradient descent does not change with regularization, it is:\n",
        "$$\\begin{align*}\n",
        "&\\text{repeat until convergence:} \\; \\lbrace \\\\\n",
        "&  \\; \\; \\;w_j = w_j -  \\alpha \\frac{\\partial J(\\mathbf{w},b)}{\\partial w_j} \\tag{1}  \\; & \\text{for j := 0..n-1} \\\\ \n",
        "&  \\; \\; \\;  \\; \\;b = b -  \\alpha \\frac{\\partial J(\\mathbf{w},b)}{\\partial b} \\\\\n",
        "&\\rbrace\n",
        "\\end{align*}$$\n",
        "Where each iteration performs simultaneous updates on $w_j$ for all $j$.\n",
        "\n",
        "What changes with regularization is computing the gradients."
      ],
      "id": "y1jskBBIRJRc"
    },
    {
      "cell_type": "markdown",
      "metadata": {
        "pycharm": {
          "name": "#%% md\n"
        },
        "id": "WG5me-EBRJRd"
      },
      "source": [
        "### Computing the Gradient with regularization (both linear/logistic)\n",
        "The gradient calculation for both linear and logistic regression are nearly identical, differing only in computation of $f_{\\mathbf{w}b}$.\n",
        "$$\\begin{align*}\n",
        "\\frac{\\partial J(\\mathbf{w},b)}{\\partial w_j}  &= \\frac{1}{m} \\sum\\limits_{i = 0}^{m-1} (f_{\\mathbf{w},b}(\\mathbf{x}^{(i)}) - y^{(i)})x_{j}^{(i)}  +  \\frac{\\lambda}{m} w_j \\tag{2} \\\\\n",
        "\\frac{\\partial J(\\mathbf{w},b)}{\\partial b}  &= \\frac{1}{m} \\sum\\limits_{i = 0}^{m-1} (f_{\\mathbf{w},b}(\\mathbf{x}^{(i)}) - y^{(i)}) \\tag{3} \n",
        "\\end{align*}$$\n",
        "\n",
        "* m is the number of training examples in the data set      \n",
        "* $f_{\\mathbf{w},b}(x^{(i)})$ is the model's prediction, while $y^{(i)}$ is the target\n",
        "\n",
        "      \n",
        "* For a  <span style=\"color:blue\"> **linear** </span> regression model  \n",
        "    $f_{\\mathbf{w},b}(x) = \\mathbf{w} \\cdot \\mathbf{x} + b$  \n",
        "* For a <span style=\"color:blue\"> **logistic** </span> regression model  \n",
        "    $z = \\mathbf{w} \\cdot \\mathbf{x} + b$  \n",
        "    $f_{\\mathbf{w},b}(x) = g(z)$  \n",
        "    where $g(z)$ is the sigmoid function:  \n",
        "    $g(z) = \\frac{1}{1+e^{-z}}$   \n",
        "    \n",
        "The term which adds regularization is  the <span style=\"color:blue\">$\\frac{\\lambda}{m} w_j $</span>."
      ],
      "id": "WG5me-EBRJRd"
    },
    {
      "cell_type": "markdown",
      "metadata": {
        "pycharm": {
          "name": "#%% md\n"
        },
        "id": "uOTS_8MsRJRd"
      },
      "source": [
        "### Gradient function for regularized linear regression"
      ],
      "id": "uOTS_8MsRJRd"
    },
    {
      "cell_type": "code",
      "execution_count": 10,
      "metadata": {
        "pycharm": {
          "name": "#%%\n"
        },
        "id": "hVcoQR4pRJRd"
      },
      "outputs": [],
      "source": [
        "def compute_gradient_linear_reg(X, y, w, b, lambda_): \n",
        "    \"\"\"\n",
        "    Computes the gradient for linear regression \n",
        "    Args:\n",
        "      X (ndarray (m,n): Data, m examples with n features\n",
        "      y (ndarray (m,)): target values\n",
        "      w (ndarray (n,)): model parameters  \n",
        "      b (scalar)      : model parameter\n",
        "      lambda_ (scalar): Controls amount of regularization\n",
        "      \n",
        "    Returns:\n",
        "      dj_dw (ndarray (n,)): The gradient of the cost w.r.t. the parameters w. \n",
        "      dj_db (scalar):       The gradient of the cost w.r.t. the parameter b. \n",
        "    \"\"\"\n",
        "    m,n = X.shape           #(number of examples, number of features)\n",
        "    dj_dw = np.zeros((n,))\n",
        "    dj_db = 0.\n",
        "\n",
        "    for i in range(m):                             \n",
        "        err = (np.dot(X[i], w) + b) - y[i]                 \n",
        "        for j in range(n):                         \n",
        "            dj_dw[j] = dj_dw[j] + err * X[i, j]               \n",
        "        dj_db = dj_db + err                        \n",
        "    dj_dw = dj_dw / m                                \n",
        "    dj_db = dj_db / m   \n",
        "    \n",
        "    for j in range(n):\n",
        "        dj_dw[j] = dj_dw[j] + (lambda_/m) * w[j]\n",
        "\n",
        "    return dj_db, dj_dw"
      ],
      "id": "hVcoQR4pRJRd"
    },
    {
      "cell_type": "markdown",
      "metadata": {
        "pycharm": {
          "name": "#%% md\n"
        },
        "id": "ZyILnjxnRJRe"
      },
      "source": [
        "Run the cell below to see it in action."
      ],
      "id": "ZyILnjxnRJRe"
    },
    {
      "cell_type": "code",
      "execution_count": 11,
      "metadata": {
        "pycharm": {
          "name": "#%%\n"
        },
        "id": "DsXFhpARRJRe",
        "outputId": "3420bbcc-e92c-44da-c14e-57da7a439228",
        "colab": {
          "base_uri": "https://localhost:8080/"
        }
      },
      "outputs": [
        {
          "output_type": "stream",
          "name": "stdout",
          "text": [
            "dj_db: 0.6648774569425726\n",
            "Regularized dj_dw:\n",
            " [0.29653214748822276, 0.4911679625918033, 0.21645877535865857]\n"
          ]
        }
      ],
      "source": [
        "np.random.seed(1)\n",
        "X_tmp = np.random.rand(5,3)\n",
        "y_tmp = np.array([0,1,0,1,0])\n",
        "w_tmp = np.random.rand(X_tmp.shape[1])\n",
        "b_tmp = 0.5\n",
        "lambda_tmp = 0.7\n",
        "dj_db_tmp, dj_dw_tmp =  compute_gradient_linear_reg(X_tmp, y_tmp, w_tmp, b_tmp, lambda_tmp)\n",
        "\n",
        "print(f\"dj_db: {dj_db_tmp}\", )\n",
        "print(f\"Regularized dj_dw:\\n {dj_dw_tmp.tolist()}\", )"
      ],
      "id": "DsXFhpARRJRe"
    },
    {
      "cell_type": "markdown",
      "metadata": {
        "pycharm": {
          "name": "#%% md\n"
        },
        "id": "XClOVAXVRJRf"
      },
      "source": [
        "**Expected Output**\n",
        "```\n",
        "dj_db: 0.6648774569425726\n",
        "Regularized dj_dw:\n",
        " [0.29653214748822276, 0.4911679625918033, 0.21645877535865857]\n",
        " ```"
      ],
      "id": "XClOVAXVRJRf"
    },
    {
      "cell_type": "markdown",
      "metadata": {
        "pycharm": {
          "name": "#%% md\n"
        },
        "id": "9iRbqEpDRJRf"
      },
      "source": [
        "### Gradient function for regularized logistic regression"
      ],
      "id": "9iRbqEpDRJRf"
    },
    {
      "cell_type": "code",
      "execution_count": 12,
      "metadata": {
        "pycharm": {
          "name": "#%%\n"
        },
        "id": "qcJeDHKSRJRf"
      },
      "outputs": [],
      "source": [
        "def compute_gradient_logistic_reg(X, y, w, b, lambda_): \n",
        "    \"\"\"\n",
        "    Computes the gradient for linear regression \n",
        " \n",
        "    Args:\n",
        "      X (ndarray (m,n): Data, m examples with n features\n",
        "      y (ndarray (m,)): target values\n",
        "      w (ndarray (n,)): model parameters  \n",
        "      b (scalar)      : model parameter\n",
        "      lambda_ (scalar): Controls amount of regularization\n",
        "    Returns\n",
        "      dj_dw (ndarray Shape (n,)): The gradient of the cost w.r.t. the parameters w. \n",
        "      dj_db (scalar)            : The gradient of the cost w.r.t. the parameter b. \n",
        "    \"\"\"\n",
        "    m,n = X.shape\n",
        "    dj_dw = np.zeros((n,))                            #(n,)\n",
        "    dj_db = 0.0                                       #scalar\n",
        "\n",
        "    for i in range(m):\n",
        "        f_wb_i = sigmoid(np.dot(X[i],w) + b)          #(n,)(n,)=scalar\n",
        "        err_i  = f_wb_i  - y[i]                       #scalar\n",
        "        for j in range(n):\n",
        "            dj_dw[j] = dj_dw[j] + err_i * X[i,j]      #scalar\n",
        "        dj_db = dj_db + err_i\n",
        "    dj_dw = dj_dw/m                                   #(n,)\n",
        "    dj_db = dj_db/m                                   #scalar\n",
        "\n",
        "    for j in range(n):\n",
        "        dj_dw[j] = dj_dw[j] + (lambda_/m) * w[j]\n",
        "\n",
        "    return dj_db, dj_dw  \n"
      ],
      "id": "qcJeDHKSRJRf"
    },
    {
      "cell_type": "markdown",
      "metadata": {
        "pycharm": {
          "name": "#%% md\n"
        },
        "id": "I-fyx8VrRJRf"
      },
      "source": [
        "Run the cell below to see it in action."
      ],
      "id": "I-fyx8VrRJRf"
    },
    {
      "cell_type": "code",
      "execution_count": 13,
      "metadata": {
        "pycharm": {
          "name": "#%%\n"
        },
        "id": "W7IG9WbSRJRg",
        "outputId": "a5b2e3c8-2471-4838-d99c-c02123d868fd",
        "colab": {
          "base_uri": "https://localhost:8080/"
        }
      },
      "outputs": [
        {
          "output_type": "stream",
          "name": "stdout",
          "text": [
            "dj_db: 0.341798994972791\n",
            "Regularized dj_dw:\n",
            " [0.17380012933994293, 0.32007507881566943, 0.10776313396851499]\n"
          ]
        }
      ],
      "source": [
        "np.random.seed(1)\n",
        "X_tmp = np.random.rand(5,3)\n",
        "y_tmp = np.array([0,1,0,1,0])\n",
        "w_tmp = np.random.rand(X_tmp.shape[1])\n",
        "b_tmp = 0.5\n",
        "lambda_tmp = 0.7\n",
        "dj_db_tmp, dj_dw_tmp =  compute_gradient_logistic_reg(X_tmp, y_tmp, w_tmp, b_tmp, lambda_tmp)\n",
        "\n",
        "print(f\"dj_db: {dj_db_tmp}\", )\n",
        "print(f\"Regularized dj_dw:\\n {dj_dw_tmp.tolist()}\", )"
      ],
      "id": "W7IG9WbSRJRg"
    },
    {
      "cell_type": "markdown",
      "metadata": {
        "pycharm": {
          "name": "#%% md\n"
        },
        "id": "u71F-No0RJRg"
      },
      "source": [
        "**Expected Output**\n",
        "```\n",
        "dj_db: 0.341798994972791\n",
        "Regularized dj_dw:\n",
        " [0.17380012933994293, 0.32007507881566943, 0.10776313396851499]\n",
        " ```"
      ],
      "id": "u71F-No0RJRg"
    },
    {
      "cell_type": "markdown",
      "metadata": {
        "pycharm": {
          "name": "#%% md\n"
        },
        "id": "DsTQ0a7LRJRg"
      },
      "source": [
        "## Rerun over-fitting example"
      ],
      "id": "DsTQ0a7LRJRg"
    },
    {
      "cell_type": "code",
      "execution_count": 14,
      "metadata": {
        "pycharm": {
          "name": "#%%\n"
        },
        "id": "BX4tI38PRJRg",
        "outputId": "c45d36ad-7f45-46f6-a8a4-ba7607addaf4",
        "colab": {
          "base_uri": "https://localhost:8080/",
          "height": 17,
          "referenced_widgets": [
            "7fe2ee7ade6a4d63834f43dcac10fadd",
            "3a9da17c51ea4498b4050c442ff88d1e",
            "60c5c69d627a46568f4116cfdc41caca"
          ]
        }
      },
      "outputs": [
        {
          "output_type": "display_data",
          "data": {
            "text/plain": [
              "Output()"
            ],
            "application/vnd.jupyter.widget-view+json": {
              "version_major": 2,
              "version_minor": 0,
              "model_id": "7fe2ee7ade6a4d63834f43dcac10fadd"
            }
          },
          "metadata": {}
        },
        {
          "output_type": "display_data",
          "data": {
            "text/plain": [
              "Canvas(footer_visible=False, header_visible=False, toolbar=Toolbar(toolitems=[('Home', 'Reset original view', …"
            ],
            "image/png": "[encoded data removed]",
            "text/html": [
              "\n",
              "            <div style=\"display: inline-block;\">\n",
              "                <div class=\"jupyter-widgets widget-label\" style=\"text-align: center;\">\n",
              "                    Figure\n",
              "                </div>\n",
              "                <img src='data:image/png;base64,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' width=576.0/>\n",
              "            </div>\n",
              "        "
            ],
            "application/vnd.jupyter.widget-view+json": {
              "version_major": 2,
              "version_minor": 0,
              "model_id": "60c5c69d627a46568f4116cfdc41caca"
            }
          },
          "metadata": {}
        }
      ],
      "source": [
        "plt.close(\"all\")\n",
        "display(output)\n",
        "ofit = overfit_example(True)"
      ],
      "id": "BX4tI38PRJRg"
    },
    {
      "cell_type": "markdown",
      "metadata": {
        "pycharm": {
          "name": "#%% md\n"
        },
        "id": "e5FV36vGRJRh"
      },
      "source": [
        "In the plot above, try out regularization on the previous example. In particular:\n",
        "- Categorical (logistic regression)\n",
        "    - set degree to 6, lambda to 0 (no regularization), fit the data\n",
        "    - now set lambda to 1 (increase regularization), fit the data, notice the difference.\n",
        "- Regression (linear regression)\n",
        "    - try the same procedure."
      ],
      "id": "e5FV36vGRJRh"
    },
    {
      "cell_type": "markdown",
      "metadata": {
        "pycharm": {
          "name": "#%% md\n"
        },
        "id": "dA8j9Wx9RJRh"
      },
      "source": [
        "## Congratulations!\n",
        "You have:\n",
        "- examples of cost and gradient routines with regularization added for both linear and logistic regression\n",
        "- developed some intuition on how regularization can reduce over-fitting"
      ],
      "id": "dA8j9Wx9RJRh"
    },
    {
      "cell_type": "code",
      "execution_count": null,
      "metadata": {
        "pycharm": {
          "name": "#%%\n"
        },
        "id": "Fkk94fF4RJRh"
      },
      "outputs": [],
      "source": [],
      "id": "Fkk94fF4RJRh"
    }
  ],
  "metadata": {
    "kernelspec": {
      "display_name": "Python 3",
      "language": "python",
      "name": "python3"
    },
    "language_info": {
      "codemirror_mode": {
        "name": "ipython",
        "version": 3
      },
      "file_extension": ".py",
      "mimetype": "text/x-python",
      "name": "python",
      "nbconvert_exporter": "python",
      "pygments_lexer": "ipython3",
      "version": "3.7.6"
    },
    "colab": {
      "provenance": [],
      "include_colab_link": true
    },
    "widgets": {
      "application/vnd.jupyter.widget-state+json": {
        "7fe2ee7ade6a4d63834f43dcac10fadd": {
          "model_module": "@jupyter-widgets/output",
          "model_name": "OutputModel",
          "model_module_version": "1.0.0",
          "state": {
            "_dom_classes": [],
            "_model_module": "@jupyter-widgets/output",
            "_model_module_version": "1.0.0",
            "_model_name": "OutputModel",
            "_view_count": null,
            "_view_module": "@jupyter-widgets/output",
            "_view_module_version": "1.0.0",
            "_view_name": "OutputView",
            "layout": "IPY_MODEL_3a9da17c51ea4498b4050c442ff88d1e",
            "msg_id": "",
            "outputs": []
          }
        },
        "3a9da17c51ea4498b4050c442ff88d1e": {
          "model_module": "@jupyter-widgets/base",
          "model_name": "LayoutModel",
          "model_module_version": "1.2.0",
          "state": {
            "_model_module": "@jupyter-widgets/base",
            "_model_module_version": "1.2.0",
            "_model_name": "LayoutModel",
            "_view_count": null,
            "_view_module": "@jupyter-widgets/base",
            "_view_module_version": "1.2.0",
            "_view_name": "LayoutView",
            "align_content": null,
            "align_items": null,
            "align_self": null,
            "border": null,
            "bottom": null,
            "display": null,
            "flex": null,
            "flex_flow": null,
            "grid_area": null,
            "grid_auto_columns": null,
            "grid_auto_flow": null,
            "grid_auto_rows": null,
            "grid_column": null,
            "grid_gap": null,
            "grid_row": null,
            "grid_template_areas": null,
            "grid_template_columns": null,
            "grid_template_rows": null,
            "height": null,
            "justify_content": null,
            "justify_items": null,
            "left": null,
            "margin": null,
            "max_height": null,
            "max_width": null,
            "min_height": null,
            "min_width": null,
            "object_fit": null,
            "object_position": null,
            "order": null,
            "overflow": null,
            "overflow_x": null,
            "overflow_y": null,
            "padding": null,
            "right": null,
            "top": null,
            "visibility": null,
            "width": null
          }
        },
        "60c5c69d627a46568f4116cfdc41caca": {
          "model_module": "jupyter-matplotlib",
          "model_name": "MPLCanvasModel",
          "model_module_version": "^0.11",
          "state": {
            "_cursor": "default",
            "_data_url": "data:image/png;base64,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",
            "_dom_classes": [],
            "_figure_label": "Figure",
            "_image_mode": "full",
            "_message": "",
            "_model_module": "jupyter-matplotlib",
            "_model_module_version": "^0.11",
            "_model_name": "MPLCanvasModel",
            "_rubberband_height": 0,
            "_rubberband_width": 0,
            "_rubberband_x": 0,
            "_rubberband_y": 0,
            "_size": [
              576,
              432
            ],
            "_view_count": null,
            "_view_module": "jupyter-matplotlib",
            "_view_module_version": "^0.11",
            "_view_name": "MPLCanvasView",
            "capture_scroll": false,
            "footer_visible": false,
            "header_visible": false,
            "layout": "IPY_MODEL_18a2eb8749714e85a21ee2b863d7a55e",
            "pan_zoom_throttle": 33,
            "resizable": true,
            "toolbar": "IPY_MODEL_c9faf5e011834ef2913da97c0b54d7b9",
            "toolbar_position": "left",
            "toolbar_visible": false
          }
        }
      }
    }
  },
  "nbformat": 4,
  "nbformat_minor": 5
}