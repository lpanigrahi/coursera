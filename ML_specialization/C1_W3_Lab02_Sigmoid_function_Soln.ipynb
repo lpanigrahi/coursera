{
  "cells": [
    {
      "cell_type": "markdown",
      "metadata": {
        "id": "view-in-github",
        "colab_type": "text"
      },
      "source": [
        "<a href=\"https://colab.research.google.com/github/lpanigrahi/coursera/blob/main/ML_specialization/C1_W3_Lab02_Sigmoid_function_Soln.ipynb\" target=\"_parent\"><img src=\"https://colab.research.google.com/assets/colab-badge.svg\" alt=\"Open In Colab\"/></a>"
      ]
    },
    {
      "cell_type": "markdown",
      "metadata": {
        "pycharm": {
          "name": "#%% md\n"
        },
        "id": "9EbVGKHgl6Xz"
      },
      "source": [
        "# Optional Lab: Logistic Regression\n",
        "\n",
        "In this ungraded lab, you will \n",
        "- explore the sigmoid function (also known as the logistic function)\n",
        "- explore logistic regression; which uses the sigmoid function"
      ],
      "id": "9EbVGKHgl6Xz"
    },
    {
      "cell_type": "code",
      "source": [
        "from google.colab import drive\n",
        "drive.mount('/content/drive')"
      ],
      "metadata": {
        "id": "GimYPGdTl7pl",
        "outputId": "4f1b3872-005e-4ad4-e7bf-7965bdf368ae",
        "colab": {
          "base_uri": "https://localhost:8080/"
        }
      },
      "id": "GimYPGdTl7pl",
      "execution_count": 2,
      "outputs": [
        {
          "output_type": "stream",
          "name": "stdout",
          "text": [
            "Mounted at /content/drive\n"
          ]
        }
      ]
    },
    {
      "cell_type": "code",
      "source": [
        "import os"
      ],
      "metadata": {
        "id": "BhKtp5OKmK1K"
      },
      "id": "BhKtp5OKmK1K",
      "execution_count": 3,
      "outputs": []
    },
    {
      "cell_type": "code",
      "source": [
        "os.chdir(os.path.join(os.getcwd(),'drive/MyDrive/coursera/ML_specialization/C1_W3'))"
      ],
      "metadata": {
        "id": "DkRlwRJtmMU5"
      },
      "id": "DkRlwRJtmMU5",
      "execution_count": 4,
      "outputs": []
    },
    {
      "cell_type": "code",
      "source": [
        "!pip install ipympl -q"
      ],
      "metadata": {
        "id": "2Dv991YLmud4",
        "outputId": "e9831a4f-2a5e-47e8-afeb-777c535d5d05",
        "colab": {
          "base_uri": "https://localhost:8080/"
        }
      },
      "id": "2Dv991YLmud4",
      "execution_count": 6,
      "outputs": [
        {
          "output_type": "stream",
          "name": "stdout",
          "text": [
            "\u001b[2K     \u001b[90m━━━━━━━━━━━━━━━━━━━━━━━━━━━━━━━━━━━━━━━\u001b[0m \u001b[32m511.6/511.6 KB\u001b[0m \u001b[31m8.5 MB/s\u001b[0m eta \u001b[36m0:00:00\u001b[0m\n",
            "\u001b[2K     \u001b[90m━━━━━━━━━━━━━━━━━━━━━━━━━━━━━━━━━━━━━━━━\u001b[0m \u001b[32m1.6/1.6 MB\u001b[0m \u001b[31m47.7 MB/s\u001b[0m eta \u001b[36m0:00:00\u001b[0m\n",
            "\u001b[?25h"
          ]
        }
      ]
    },
    {
      "cell_type": "code",
      "execution_count": 7,
      "metadata": {
        "pycharm": {
          "name": "#%%\n"
        },
        "id": "nlD9hhNJl6X8"
      },
      "outputs": [],
      "source": [
        "import numpy as np\n",
        "%matplotlib widget\n",
        "import matplotlib.pyplot as plt\n",
        "from plt_one_addpt_onclick import plt_one_addpt_onclick\n",
        "from lab_utils_common import draw_vthresh\n",
        "plt.style.use('./deeplearning.mplstyle')"
      ],
      "id": "nlD9hhNJl6X8"
    },
    {
      "cell_type": "markdown",
      "metadata": {
        "pycharm": {
          "name": "#%% md\n"
        },
        "id": "nEIt7pFYl6X-"
      },
      "source": [
        "## Sigmoid or Logistic Function\n",
        "<img align=\"left\" src=\"https://github.com/lpanigrahi/coursera/blob/main/ML_specialization/images/C1_W3_LogisticRegression_left.png?raw=1\"     style=\" width:300px; padding: 10px; \" >As discussed in the lecture videos, for a classification task, we can start by using our linear regression model, $f_{\\mathbf{w},b}(\\mathbf{x}^{(i)}) = \\mathbf{w} \\cdot  \\mathbf{x}^{(i)} + b$, to predict $y$ given $x$. \n",
        "- However, we would like the predictions of our classification model to be between 0 and 1 since our output variable $y$ is either 0 or 1. \n",
        "- This can be accomplished by using a \"sigmoid function\" which maps all input values to values between 0 and 1. \n",
        "\n",
        "\n",
        "Let's implement the sigmoid function and see this for ourselves.\n",
        "\n",
        "## Formula for Sigmoid function\n",
        "\n",
        "The formula for a sigmoid function is as follows -  \n",
        "\n",
        "$g(z) = \\frac{1}{1+e^{-z}}\\tag{1}$\n",
        "\n",
        "In the case of logistic regression, z (the input to the sigmoid function), is the output of a linear regression model. \n",
        "- In the case of a single example, $z$ is scalar.\n",
        "- in the case of multiple examples, $z$ may be a vector consisting of $m$ values, one for each example. \n",
        "- The implementation of the sigmoid function should cover both of these potential input formats.\n",
        "Let's implement this in Python."
      ],
      "id": "nEIt7pFYl6X-"
    },
    {
      "cell_type": "markdown",
      "metadata": {
        "pycharm": {
          "name": "#%% md\n"
        },
        "id": "XhjTulkTl6X_"
      },
      "source": [
        "NumPy has a function called [`exp()`](https://numpy.org/doc/stable/reference/generated/numpy.exp.html), which offers a convenient way to calculate the exponential ( $e^{z}$) of all elements in the input array (`z`).\n",
        " \n",
        "It also works with a single number as an input, as shown below."
      ],
      "id": "XhjTulkTl6X_"
    },
    {
      "cell_type": "code",
      "execution_count": 8,
      "metadata": {
        "pycharm": {
          "name": "#%%\n"
        },
        "id": "YmvU_aqdl6X_",
        "outputId": "80bbef0c-e8b1-403e-d117-e0482ddd3cd1",
        "colab": {
          "base_uri": "https://localhost:8080/"
        }
      },
      "outputs": [
        {
          "output_type": "stream",
          "name": "stdout",
          "text": [
            "Input to exp: [1 2 3]\n",
            "Output of exp: [ 2.72  7.39 20.09]\n",
            "Input to exp: 1\n",
            "Output of exp: 2.718281828459045\n"
          ]
        }
      ],
      "source": [
        "# Input is an array. \n",
        "input_array = np.array([1,2,3])\n",
        "exp_array = np.exp(input_array)\n",
        "\n",
        "print(\"Input to exp:\", input_array)\n",
        "print(\"Output of exp:\", exp_array)\n",
        "\n",
        "# Input is a single number\n",
        "input_val = 1  \n",
        "exp_val = np.exp(input_val)\n",
        "\n",
        "print(\"Input to exp:\", input_val)\n",
        "print(\"Output of exp:\", exp_val)"
      ],
      "id": "YmvU_aqdl6X_"
    },
    {
      "cell_type": "markdown",
      "metadata": {
        "pycharm": {
          "name": "#%% md\n"
        },
        "id": "7akV4jnhl6YB"
      },
      "source": [
        "The `sigmoid` function is implemented in python as shown in the cell below."
      ],
      "id": "7akV4jnhl6YB"
    },
    {
      "cell_type": "code",
      "execution_count": 9,
      "metadata": {
        "pycharm": {
          "name": "#%%\n"
        },
        "id": "tGUtVM2_l6YC"
      },
      "outputs": [],
      "source": [
        "def sigmoid(z):\n",
        "    \"\"\"\n",
        "    Compute the sigmoid of z\n",
        "\n",
        "    Args:\n",
        "        z (ndarray): A scalar, numpy array of any size.\n",
        "\n",
        "    Returns:\n",
        "        g (ndarray): sigmoid(z), with the same shape as z\n",
        "         \n",
        "    \"\"\"\n",
        "\n",
        "    g = 1/(1+np.exp(-z))\n",
        "   \n",
        "    return g"
      ],
      "id": "tGUtVM2_l6YC"
    },
    {
      "cell_type": "markdown",
      "metadata": {
        "pycharm": {
          "name": "#%% md\n"
        },
        "id": "FynUNaqml6YD"
      },
      "source": [
        "Let's see what the output of this function is for various value of `z`"
      ],
      "id": "FynUNaqml6YD"
    },
    {
      "cell_type": "code",
      "execution_count": 10,
      "metadata": {
        "pycharm": {
          "name": "#%%\n"
        },
        "id": "NhNICG0vl6YD",
        "outputId": "c9fdbeae-2750-48ad-f576-be52465e34fe",
        "colab": {
          "base_uri": "https://localhost:8080/"
        }
      },
      "outputs": [
        {
          "output_type": "stream",
          "name": "stdout",
          "text": [
            "Input (z), Output (sigmoid(z))\n",
            "[[-1.000e+01  4.540e-05]\n",
            " [-9.000e+00  1.234e-04]\n",
            " [-8.000e+00  3.354e-04]\n",
            " [-7.000e+00  9.111e-04]\n",
            " [-6.000e+00  2.473e-03]\n",
            " [-5.000e+00  6.693e-03]\n",
            " [-4.000e+00  1.799e-02]\n",
            " [-3.000e+00  4.743e-02]\n",
            " [-2.000e+00  1.192e-01]\n",
            " [-1.000e+00  2.689e-01]\n",
            " [ 0.000e+00  5.000e-01]\n",
            " [ 1.000e+00  7.311e-01]\n",
            " [ 2.000e+00  8.808e-01]\n",
            " [ 3.000e+00  9.526e-01]\n",
            " [ 4.000e+00  9.820e-01]\n",
            " [ 5.000e+00  9.933e-01]\n",
            " [ 6.000e+00  9.975e-01]\n",
            " [ 7.000e+00  9.991e-01]\n",
            " [ 8.000e+00  9.997e-01]\n",
            " [ 9.000e+00  9.999e-01]\n",
            " [ 1.000e+01  1.000e+00]]\n"
          ]
        }
      ],
      "source": [
        "# Generate an array of evenly spaced values between -10 and 10\n",
        "z_tmp = np.arange(-10,11)\n",
        "\n",
        "# Use the function implemented above to get the sigmoid values\n",
        "y = sigmoid(z_tmp)\n",
        "\n",
        "# Code for pretty printing the two arrays next to each other\n",
        "np.set_printoptions(precision=3) \n",
        "print(\"Input (z), Output (sigmoid(z))\")\n",
        "print(np.c_[z_tmp, y])"
      ],
      "id": "NhNICG0vl6YD"
    },
    {
      "cell_type": "markdown",
      "metadata": {
        "pycharm": {
          "name": "#%% md\n"
        },
        "id": "ghSULol9l6YF"
      },
      "source": [
        "The values in the left column are `z`, and the values in the right column are `sigmoid(z)`. As you can see, the input values to the sigmoid range from -10 to 10, and the output values range from 0 to 1. \n",
        "\n",
        "Now, let's try to plot this function using the `matplotlib` library."
      ],
      "id": "ghSULol9l6YF"
    },
    {
      "cell_type": "code",
      "execution_count": 13,
      "metadata": {
        "pycharm": {
          "name": "#%%\n"
        },
        "id": "xyxAA6j-l6YG",
        "outputId": "59ea7cc1-237f-492f-ba76-cc2a576ce23b",
        "colab": {
          "base_uri": "https://localhost:8080/",
          "height": 17,
          "referenced_widgets": [
            "55d2ee52a0a547c592c54afb4a337980"
          ]
        }
      },
      "outputs": [
        {
          "output_type": "display_data",
          "data": {
            "text/plain": [
              "Canvas(toolbar=Toolbar(toolitems=[('Home', 'Reset original view', 'home', 'home'), ('Back', 'Back to previous …"
            ],
            "image/png": "[encoded data removed]",
            "text/html": [
              "\n",
              "            <div style=\"display: inline-block;\">\n",
              "                <div class=\"jupyter-widgets widget-label\" style=\"text-align: center;\">\n",
              "                    Figure\n",
              "                </div>\n",
              "                <img src='data:image/png;base64,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' width=360.0/>\n",
              "            </div>\n",
              "        "
            ],
            "application/vnd.jupyter.widget-view+json": {
              "version_major": 2,
              "version_minor": 0,
              "model_id": "55d2ee52a0a547c592c54afb4a337980"
            }
          },
          "metadata": {}
        }
      ],
      "source": [
        "# Plot z vs sigmoid(z)\n",
        "fig,ax = plt.subplots(1,1,figsize=(5,3))\n",
        "ax.plot(z_tmp, y, c=\"b\")\n",
        "\n",
        "ax.set_title(\"Sigmoid function\")\n",
        "ax.set_ylabel('sigmoid(z)')\n",
        "ax.set_xlabel('z')\n",
        "draw_vthresh(ax,0)"
      ],
      "id": "xyxAA6j-l6YG"
    },
    {
      "cell_type": "markdown",
      "metadata": {
        "pycharm": {
          "name": "#%% md\n"
        },
        "id": "3R-sYB_-l6YH"
      },
      "source": [
        "As you can see, the sigmoid function approaches  `0` as `z` goes to large negative values and approaches `1` as `z` goes to large positive values.\n"
      ],
      "id": "3R-sYB_-l6YH"
    },
    {
      "cell_type": "markdown",
      "metadata": {
        "pycharm": {
          "name": "#%% md\n"
        },
        "id": "jGdltXHzl6YH"
      },
      "source": [
        "## Logistic Regression\n",
        "<img align=\"left\" src=\"https://github.com/lpanigrahi/coursera/blob/main/ML_specialization/images/C1_W3_LogisticRegression_right.png?raw=1\"     style=\" width:300px; padding: 10px; \" > A logistic regression model applies the sigmoid to the familiar linear regression model as shown below:\n",
        "\n",
        "$$ f_{\\mathbf{w},b}(\\mathbf{x}^{(i)}) = g(\\mathbf{w} \\cdot \\mathbf{x}^{(i)} + b ) \\tag{2} $$ \n",
        "\n",
        "  where\n",
        "\n",
        "  $g(z) = \\frac{1}{1+e^{-z}}\\tag{3}$\n"
      ],
      "id": "jGdltXHzl6YH"
    },
    {
      "cell_type": "markdown",
      "metadata": {
        "pycharm": {
          "name": "#%% md\n"
        },
        "id": "SenxSm-bl6YI"
      },
      "source": [
        "  \n",
        "Let's apply logistic regression to the categorical data example of tumor classification.  \n",
        "First, load the examples and initial values for the parameters.\n",
        "  \n"
      ],
      "id": "SenxSm-bl6YI"
    },
    {
      "cell_type": "code",
      "execution_count": 14,
      "metadata": {
        "tags": [],
        "pycharm": {
          "name": "#%%\n"
        },
        "id": "l4L9XC74l6YI"
      },
      "outputs": [],
      "source": [
        "x_train = np.array([0., 1, 2, 3, 4, 5])\n",
        "y_train = np.array([0,  0, 0, 1, 1, 1])\n",
        "\n",
        "w_in = np.zeros((1))\n",
        "b_in = 0"
      ],
      "id": "l4L9XC74l6YI"
    },
    {
      "cell_type": "markdown",
      "metadata": {
        "pycharm": {
          "name": "#%% md\n"
        },
        "id": "YFZHTO31l6YJ"
      },
      "source": [
        "Try the following steps:\n",
        "- Click on 'Run Logistic Regression' to find the best logistic regression model for the given training data\n",
        "    - Note the resulting model fits the data quite well.\n",
        "    - Note, the orange line is '$z$' or $\\mathbf{w} \\cdot \\mathbf{x}^{(i)} + b$  above. It does not match the line in a linear regression model.\n",
        "Further improve these results by applying a *threshold*. \n",
        "- Tick the box on the 'Toggle 0.5 threshold' to show the predictions if a threshold is applied.\n",
        "    - These predictions look good. The predictions match the data\n",
        "    - Now, add further data points in the large tumor size range (near 10), and re-run logistic regression.\n",
        "    - unlike the linear regression model, this model continues to make correct predictions"
      ],
      "id": "YFZHTO31l6YJ"
    },
    {
      "cell_type": "code",
      "execution_count": 15,
      "metadata": {
        "pycharm": {
          "name": "#%%\n"
        },
        "id": "r7oMdbi4l6YJ",
        "outputId": "942eed63-2d9d-4b89-b5e3-024a3372f75e",
        "colab": {
          "base_uri": "https://localhost:8080/",
          "height": 17,
          "referenced_widgets": [
            "ed819f30c75f4f18909435985ab09bef"
          ]
        }
      },
      "outputs": [
        {
          "output_type": "display_data",
          "data": {
            "text/plain": [
              "Canvas(footer_visible=False, header_visible=False, toolbar=Toolbar(toolitems=[('Home', 'Reset original view', …"
            ],
            "image/png": "[encoded data removed]",
            "text/html": [
              "\n",
              "            <div style=\"display: inline-block;\">\n",
              "                <div class=\"jupyter-widgets widget-label\" style=\"text-align: center;\">\n",
              "                    Figure\n",
              "                </div>\n",
              "                <img src='data:image/png;base64,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' width=576.0/>\n",
              "            </div>\n",
              "        "
            ],
            "application/vnd.jupyter.widget-view+json": {
              "version_major": 2,
              "version_minor": 0,
              "model_id": "ed819f30c75f4f18909435985ab09bef"
            }
          },
          "metadata": {}
        }
      ],
      "source": [
        "plt.close('all') \n",
        "addpt = plt_one_addpt_onclick( x_train,y_train, w_in, b_in, logistic=True)"
      ],
      "id": "r7oMdbi4l6YJ"
    },
    {
      "cell_type": "markdown",
      "metadata": {
        "pycharm": {
          "name": "#%% md\n"
        },
        "id": "t1f33eVul6YJ"
      },
      "source": [
        "## Congratulations!\n",
        "You have explored the use of the sigmoid function in logistic regression."
      ],
      "id": "t1f33eVul6YJ"
    },
    {
      "cell_type": "code",
      "execution_count": null,
      "metadata": {
        "pycharm": {
          "name": "#%%\n"
        },
        "id": "O3r7ocN2l6YK"
      },
      "outputs": [],
      "source": [],
      "id": "O3r7ocN2l6YK"
    }
  ],
  "metadata": {
    "kernelspec": {
      "display_name": "Python 3",
      "language": "python",
      "name": "python3"
    },
    "language_info": {
      "codemirror_mode": {
        "name": "ipython",
        "version": 3
      },
      "file_extension": ".py",
      "mimetype": "text/x-python",
      "name": "python",
      "nbconvert_exporter": "python",
      "pygments_lexer": "ipython3",
      "version": "3.9.10"
    },
    "colab": {
      "provenance": [],
      "include_colab_link": true
    },
    "widgets": {
      "application/vnd.jupyter.widget-state+json": {
        "55d2ee52a0a547c592c54afb4a337980": {
          "model_module": "jupyter-matplotlib",
          "model_name": "MPLCanvasModel",
          "model_module_version": "^0.11",
          "state": {
            "_cursor": "pointer",
            "_data_url": "data:image/png;base64,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",
            "_dom_classes": [],
            "_figure_label": "Figure",
            "_image_mode": "full",
            "_message": "",
            "_model_module": "jupyter-matplotlib",
            "_model_module_version": "^0.11",
            "_model_name": "MPLCanvasModel",
            "_rubberband_height": 0,
            "_rubberband_width": 0,
            "_rubberband_x": 0,
            "_rubberband_y": 0,
            "_size": [
              360,
              216
            ],
            "_view_count": null,
            "_view_module": "jupyter-matplotlib",
            "_view_module_version": "^0.11",
            "_view_name": "MPLCanvasView",
            "capture_scroll": false,
            "footer_visible": true,
            "header_visible": true,
            "layout": "IPY_MODEL_165f526d6d9948e785b1970c6b3861a9",
            "pan_zoom_throttle": 33,
            "resizable": true,
            "toolbar": "IPY_MODEL_f5beb074a83245f0b7c53641211c047d",
            "toolbar_position": "left",
            "toolbar_visible": "fade-in-fade-out"
          }
        },
        "ed819f30c75f4f18909435985ab09bef": {
          "model_module": "jupyter-matplotlib",
          "model_name": "MPLCanvasModel",
          "model_module_version": "^0.11",
          "state": {
            "_cursor": "pointer",
            "_data_url": "data:image/png;base64,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",
            "_dom_classes": [],
            "_figure_label": "Figure",
            "_image_mode": "full",
            "_message": "",
            "_model_module": "jupyter-matplotlib",
            "_model_module_version": "^0.11",
            "_model_name": "MPLCanvasModel",
            "_rubberband_height": 0,
            "_rubberband_width": 0,
            "_rubberband_x": 0,
            "_rubberband_y": 0,
            "_size": [
              576,
              288
            ],
            "_view_count": null,
            "_view_module": "jupyter-matplotlib",
            "_view_module_version": "^0.11",
            "_view_name": "MPLCanvasView",
            "capture_scroll": false,
            "footer_visible": false,
            "header_visible": false,
            "layout": "IPY_MODEL_c6179074d95d4eb5ba2e4bfdc3a97465",
            "pan_zoom_throttle": 33,
            "resizable": true,
            "toolbar": "IPY_MODEL_26349475a2c74bd1a89e543c75f17b15",
            "toolbar_position": "left",
            "toolbar_visible": false
          }
        }
      }
    }
  },
  "nbformat": 4,
  "nbformat_minor": 5
}