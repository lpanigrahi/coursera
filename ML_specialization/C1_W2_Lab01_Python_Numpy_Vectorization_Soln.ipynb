{
  "cells": [
    {
      "cell_type": "markdown",
      "metadata": {
        "id": "view-in-github",
        "colab_type": "text"
      },
      "source": [
        "<a href=\"https://colab.research.google.com/github/lpanigrahi/coursera/blob/main/ML_specialization/C1_W2_Lab01_Python_Numpy_Vectorization_Soln.ipynb\" target=\"_parent\"><img src=\"https://colab.research.google.com/assets/colab-badge.svg\" alt=\"Open In Colab\"/></a>"
      ]
    },
    {
      "cell_type": "markdown",
      "metadata": {
        "pycharm": {
          "name": "#%% md\n"
        },
        "id": "I9UtyfDfZ5pS"
      },
      "source": [
        "# Optional Lab: Python, NumPy and Vectorization\n",
        "A brief introduction to some of the scientific computing used in this course. In particular the NumPy scientific computing package and its use with python.\n",
        "\n",
        "# Outline\n",
        "- [&nbsp;&nbsp;1.1 Goals](#toc_40015_1.1)\n",
        "- [&nbsp;&nbsp;1.2 Useful References](#toc_40015_1.2)\n",
        "- [2 Python and NumPy <a name='Python and NumPy'></a>](#toc_40015_2)\n",
        "- [3 Vectors](#toc_40015_3)\n",
        "- [&nbsp;&nbsp;3.1 Abstract](#toc_40015_3.1)\n",
        "- [&nbsp;&nbsp;3.2 NumPy Arrays](#toc_40015_3.2)\n",
        "- [&nbsp;&nbsp;3.3 Vector Creation](#toc_40015_3.3)\n",
        "- [&nbsp;&nbsp;3.4 Operations on Vectors](#toc_40015_3.4)\n",
        "- [4 Matrices](#toc_40015_4)\n",
        "- [&nbsp;&nbsp;4.1 Abstract](#toc_40015_4.1)\n",
        "- [&nbsp;&nbsp;4.2 NumPy Arrays](#toc_40015_4.2)\n",
        "- [&nbsp;&nbsp;4.3 Matrix Creation](#toc_40015_4.3)\n",
        "- [&nbsp;&nbsp;4.4 Operations on Matrices](#toc_40015_4.4)\n"
      ]
    },
    {
      "cell_type": "code",
      "execution_count": 1,
      "metadata": {
        "pycharm": {
          "name": "#%%\n"
        },
        "id": "GUQaM12bZ5pY"
      },
      "outputs": [],
      "source": [
        "import numpy as np    # it is an unofficial standard to use np for numpy\n",
        "import time"
      ]
    },
    {
      "cell_type": "markdown",
      "metadata": {
        "pycharm": {
          "name": "#%% md\n"
        },
        "id": "HrntG51RZ5pa"
      },
      "source": [
        "<a name=\"toc_40015_1.1\"></a>\n",
        "## 1.1 Goals\n",
        "In this lab, you will:\n",
        "- Review the features of NumPy and Python that are used in Course 1"
      ]
    },
    {
      "cell_type": "markdown",
      "metadata": {
        "pycharm": {
          "name": "#%% md\n"
        },
        "id": "u9jTFPnDZ5pb"
      },
      "source": [
        "<a name=\"toc_40015_1.2\"></a>\n",
        "## 1.2 Useful References\n",
        "- NumPy Documentation including a basic introduction: [NumPy.org](https://NumPy.org/doc/stable/)\n",
        "- A challenging feature topic: [NumPy Broadcasting](https://NumPy.org/doc/stable/user/basics.broadcasting.html)\n"
      ]
    },
    {
      "cell_type": "markdown",
      "metadata": {
        "pycharm": {
          "name": "#%% md\n"
        },
        "id": "f5pp8vvrZ5pc"
      },
      "source": [
        "<a name=\"toc_40015_2\"></a>\n",
        "# 2 Python and NumPy <a name='Python and NumPy'></a>\n",
        "Python is the programming language we will be using in this course. It has a set of numeric data types and arithmetic operations. NumPy is a library that extends the base capabilities of python to add a richer data set including more numeric types, vectors, matrices, and many matrix functions. NumPy and python  work together fairly seamlessly. Python arithmetic operators work on NumPy data types and many NumPy functions will accept python data types.\n"
      ]
    },
    {
      "cell_type": "markdown",
      "metadata": {
        "pycharm": {
          "name": "#%% md\n"
        },
        "id": "OeERYO1UZ5pc"
      },
      "source": [
        "<a name=\"toc_40015_3\"></a>\n",
        "# 3 Vectors\n",
        "<a name=\"toc_40015_3.1\"></a>\n",
        "## 3.1 Abstract\n",
        "<img align=\"right\" src=\"https://github.com/lpanigrahi/coursera/blob/main/ML_specialization/images/C1_W2_Lab04_Vectors.PNG?raw=1\" style=\"width:340px;\" >Vectors, as you will use them in this course, are ordered arrays of numbers. In notation, vectors are denoted with lower case bold letters such as $\\mathbf{x}$.  The elements of a vector are all the same type. A vector does not, for example, contain both characters and numbers. The number of elements in the array is often referred to as the *dimension* though mathematicians may prefer *rank*. The vector shown has a dimension of $n$. The elements of a vector can be referenced with an index. In math settings, indexes typically run from 1 to n. In computer science and these labs, indexing will typically run from 0 to n-1.  In notation, elements of a vector, when referenced individually will indicate the index in a subscript, for example, the $0^{th}$ element, of the vector $\\mathbf{x}$ is $x_0$. Note, the x is not bold in this case.  \n"
      ]
    },
    {
      "cell_type": "markdown",
      "metadata": {
        "pycharm": {
          "name": "#%% md\n"
        },
        "id": "SgPR7FqFZ5pe"
      },
      "source": [
        "<a name=\"toc_40015_3.2\"></a>\n",
        "## 3.2 NumPy Arrays\n",
        "\n",
        "NumPy's basic data structure is an indexable, n-dimensional *array* containing elements of the same type (`dtype`). Right away, you may notice we have overloaded the term 'dimension'. Above, it was the number of elements in the vector, here, dimension refers to the number of indexes of an array. A one-dimensional or 1-D array has one index. In Course 1, we will represent vectors as NumPy 1-D arrays. \n",
        "\n",
        " - 1-D array, shape (n,): n elements indexed [0] through [n-1]\n",
        " "
      ]
    },
    {
      "cell_type": "markdown",
      "metadata": {
        "pycharm": {
          "name": "#%% md\n"
        },
        "id": "MqmsZoOVZ5pf"
      },
      "source": [
        "<a name=\"toc_40015_3.3\"></a>\n",
        "## 3.3 Vector Creation\n"
      ]
    },
    {
      "cell_type": "markdown",
      "metadata": {
        "pycharm": {
          "name": "#%% md\n"
        },
        "id": "QBgUfrOIZ5pg"
      },
      "source": [
        "Data creation routines in NumPy will generally have a first parameter which is the shape of the object. This can either be a single value for a 1-D result or a tuple (n,m,...) specifying the shape of the result. Below are examples of creating vectors using these routines."
      ]
    },
    {
      "cell_type": "code",
      "execution_count": 2,
      "metadata": {
        "pycharm": {
          "name": "#%%\n"
        },
        "id": "ypOart-VZ5pg",
        "outputId": "39358d8a-71e0-46b7-b748-f4754b4de42f",
        "colab": {
          "base_uri": "https://localhost:8080/"
        }
      },
      "outputs": [
        {
          "output_type": "stream",
          "name": "stdout",
          "text": [
            "np.zeros(4) :   a = [0. 0. 0. 0.], a shape = (4,), a data type = float64\n",
            "np.zeros(4,) :  a = [0. 0. 0. 0.], a shape = (4,), a data type = float64\n",
            "np.random.random_sample(4): a = [0.4752202  0.60600218 0.89905438 0.31927418], a shape = (4,), a data type = float64\n"
          ]
        }
      ],
      "source": [
        "# NumPy routines which allocate memory and fill arrays with value\n",
        "a = np.zeros(4);                print(f\"np.zeros(4) :   a = {a}, a shape = {a.shape}, a data type = {a.dtype}\")\n",
        "a = np.zeros((4,));             print(f\"np.zeros(4,) :  a = {a}, a shape = {a.shape}, a data type = {a.dtype}\")\n",
        "a = np.random.random_sample(4); print(f\"np.random.random_sample(4): a = {a}, a shape = {a.shape}, a data type = {a.dtype}\")"
      ]
    },
    {
      "cell_type": "markdown",
      "metadata": {
        "pycharm": {
          "name": "#%% md\n"
        },
        "id": "85074AuvZ5pl"
      },
      "source": [
        "Some data creation routines do not take a shape tuple:"
      ]
    },
    {
      "cell_type": "code",
      "execution_count": 3,
      "metadata": {
        "pycharm": {
          "name": "#%%\n"
        },
        "id": "VkYsVuEWZ5pl",
        "outputId": "e8b55668-5c0e-4e9e-f804-ead94d979a69",
        "colab": {
          "base_uri": "https://localhost:8080/"
        }
      },
      "outputs": [
        {
          "output_type": "stream",
          "name": "stdout",
          "text": [
            "np.arange(4.):     a = [0. 1. 2. 3.], a shape = (4,), a data type = float64\n",
            "np.random.rand(4): a = [0.64279895 0.85408405 0.8783824  0.59424341], a shape = (4,), a data type = float64\n"
          ]
        }
      ],
      "source": [
        "# NumPy routines which allocate memory and fill arrays with value but do not accept shape as input argument\n",
        "a = np.arange(4.);              print(f\"np.arange(4.):     a = {a}, a shape = {a.shape}, a data type = {a.dtype}\")\n",
        "a = np.random.rand(4);          print(f\"np.random.rand(4): a = {a}, a shape = {a.shape}, a data type = {a.dtype}\")"
      ]
    },
    {
      "cell_type": "markdown",
      "metadata": {
        "pycharm": {
          "name": "#%% md\n"
        },
        "id": "329VbuPVZ5pm"
      },
      "source": [
        "values can be specified manually as well. "
      ]
    },
    {
      "cell_type": "code",
      "execution_count": 4,
      "metadata": {
        "pycharm": {
          "name": "#%%\n"
        },
        "id": "NiDgDRSpZ5pm",
        "outputId": "9c346edd-d346-4d15-c931-010103286ac5",
        "colab": {
          "base_uri": "https://localhost:8080/"
        }
      },
      "outputs": [
        {
          "output_type": "stream",
          "name": "stdout",
          "text": [
            "np.array([5,4,3,2]):  a = [5 4 3 2],     a shape = (4,), a data type = int64\n",
            "np.array([5.,4,3,2]): a = [5. 4. 3. 2.], a shape = (4,), a data type = float64\n"
          ]
        }
      ],
      "source": [
        "# NumPy routines which allocate memory and fill with user specified values\n",
        "a = np.array([5,4,3,2]);  print(f\"np.array([5,4,3,2]):  a = {a},     a shape = {a.shape}, a data type = {a.dtype}\")\n",
        "a = np.array([5.,4,3,2]); print(f\"np.array([5.,4,3,2]): a = {a}, a shape = {a.shape}, a data type = {a.dtype}\")"
      ]
    },
    {
      "cell_type": "markdown",
      "metadata": {
        "pycharm": {
          "name": "#%% md\n"
        },
        "id": "TR75PkG4Z5pn"
      },
      "source": [
        "These have all created a one-dimensional vector  `a` with four elements. `a.shape` returns the dimensions. Here we see a.shape = `(4,)` indicating a 1-d array with 4 elements.  "
      ]
    },
    {
      "cell_type": "markdown",
      "metadata": {
        "pycharm": {
          "name": "#%% md\n"
        },
        "id": "CALdm9a9Z5pn"
      },
      "source": [
        "<a name=\"toc_40015_3.4\"></a>\n",
        "## 3.4 Operations on Vectors\n",
        "Let's explore some operations using vectors.\n",
        "<a name=\"toc_40015_3.4.1\"></a>\n",
        "### 3.4.1 Indexing\n",
        "Elements of vectors can be accessed via indexing and slicing. NumPy provides a very complete set of indexing and slicing capabilities. We will explore only the basics needed for the course here. Reference [Slicing and Indexing](https://NumPy.org/doc/stable/reference/arrays.indexing.html) for more details.  \n",
        "**Indexing** means referring to *an element* of an array by its position within the array.  \n",
        "**Slicing** means getting a *subset* of elements from an array based on their indices.  \n",
        "NumPy starts indexing at zero so the 3rd element of an vector $\\mathbf{a}$ is `a[2]`."
      ]
    },
    {
      "cell_type": "code",
      "execution_count": 5,
      "metadata": {
        "pycharm": {
          "name": "#%%\n"
        },
        "id": "ftmUeOj7Z5pn",
        "outputId": "dbf4488a-a3a8-40de-ca05-00852389d982",
        "colab": {
          "base_uri": "https://localhost:8080/"
        }
      },
      "outputs": [
        {
          "output_type": "stream",
          "name": "stdout",
          "text": [
            "[0 1 2 3 4 5 6 7 8 9]\n",
            "a[2].shape: () a[2]  = 2, Accessing an element returns a scalar\n",
            "a[-1] = 9\n",
            "The error message you'll see is:\n",
            "index 10 is out of bounds for axis 0 with size 10\n"
          ]
        }
      ],
      "source": [
        "#vector indexing operations on 1-D vectors\n",
        "a = np.arange(10)\n",
        "print(a)\n",
        "\n",
        "#access an element\n",
        "print(f\"a[2].shape: {a[2].shape} a[2]  = {a[2]}, Accessing an element returns a scalar\")\n",
        "\n",
        "# access the last element, negative indexes count from the end\n",
        "print(f\"a[-1] = {a[-1]}\")\n",
        "\n",
        "#indexs must be within the range of the vector or they will produce and error\n",
        "try:\n",
        "    c = a[10]\n",
        "except Exception as e:\n",
        "    print(\"The error message you'll see is:\")\n",
        "    print(e)"
      ]
    },
    {
      "cell_type": "markdown",
      "metadata": {
        "pycharm": {
          "name": "#%% md\n"
        },
        "id": "FB_HahMIZ5po"
      },
      "source": [
        "<a name=\"toc_40015_3.4.2\"></a>\n",
        "### 3.4.2 Slicing\n",
        "Slicing creates an array of indices using a set of three values (`start:stop:step`). A subset of values is also valid. Its use is best explained by example:"
      ]
    },
    {
      "cell_type": "code",
      "execution_count": 6,
      "metadata": {
        "pycharm": {
          "name": "#%%\n"
        },
        "id": "A3MmEdfEZ5po",
        "outputId": "3d71f5c6-e9c0-4564-b305-b97e3ec67e57",
        "colab": {
          "base_uri": "https://localhost:8080/"
        }
      },
      "outputs": [
        {
          "output_type": "stream",
          "name": "stdout",
          "text": [
            "a         = [0 1 2 3 4 5 6 7 8 9]\n",
            "a[2:7:1] =  [2 3 4 5 6]\n",
            "a[2:7:2] =  [2 4 6]\n",
            "a[3:]    =  [3 4 5 6 7 8 9]\n",
            "a[:3]    =  [0 1 2]\n",
            "a[:]     =  [0 1 2 3 4 5 6 7 8 9]\n"
          ]
        }
      ],
      "source": [
        "#vector slicing operations\n",
        "a = np.arange(10)\n",
        "print(f\"a         = {a}\")\n",
        "\n",
        "#access 5 consecutive elements (start:stop:step)\n",
        "c = a[2:7:1];     print(\"a[2:7:1] = \", c)\n",
        "\n",
        "# access 3 elements separated by two \n",
        "c = a[2:7:2];     print(\"a[2:7:2] = \", c)\n",
        "\n",
        "# access all elements index 3 and above\n",
        "c = a[3:];        print(\"a[3:]    = \", c)\n",
        "\n",
        "# access all elements below index 3\n",
        "c = a[:3];        print(\"a[:3]    = \", c)\n",
        "\n",
        "# access all elements\n",
        "c = a[:];         print(\"a[:]     = \", c)"
      ]
    },
    {
      "cell_type": "markdown",
      "metadata": {
        "pycharm": {
          "name": "#%% md\n"
        },
        "id": "tWh_INecZ5pp"
      },
      "source": [
        "<a name=\"toc_40015_3.4.3\"></a>\n",
        "### 3.4.3 Single vector operations\n",
        "There are a number of useful operations that involve operations on a single vector."
      ]
    },
    {
      "cell_type": "code",
      "execution_count": 7,
      "metadata": {
        "pycharm": {
          "name": "#%%\n"
        },
        "id": "U-U4fCSTZ5pp",
        "outputId": "f8594a22-67b3-44e1-8a2c-62a408d9e9eb",
        "colab": {
          "base_uri": "https://localhost:8080/"
        }
      },
      "outputs": [
        {
          "output_type": "stream",
          "name": "stdout",
          "text": [
            "a             : [1 2 3 4]\n",
            "b = -a        : [-1 -2 -3 -4]\n",
            "b = np.sum(a) : 10\n",
            "b = np.mean(a): 2.5\n",
            "b = a**2      : [ 1  4  9 16]\n"
          ]
        }
      ],
      "source": [
        "a = np.array([1,2,3,4])\n",
        "print(f\"a             : {a}\")\n",
        "# negate elements of a\n",
        "b = -a \n",
        "print(f\"b = -a        : {b}\")\n",
        "\n",
        "# sum all elements of a, returns a scalar\n",
        "b = np.sum(a) \n",
        "print(f\"b = np.sum(a) : {b}\")\n",
        "\n",
        "b = np.mean(a)\n",
        "print(f\"b = np.mean(a): {b}\")\n",
        "\n",
        "b = a**2\n",
        "print(f\"b = a**2      : {b}\")"
      ]
    },
    {
      "cell_type": "markdown",
      "metadata": {
        "pycharm": {
          "name": "#%% md\n"
        },
        "id": "QONnZ0WkZ5pp"
      },
      "source": [
        "<a name=\"toc_40015_3.4.4\"></a>\n",
        "### 3.4.4 Vector Vector element-wise operations\n",
        "Most of the NumPy arithmetic, logical and comparison operations apply to vectors as well. These operators work on an element-by-element basis. For example \n",
        "$$ \\mathbf{a} + \\mathbf{b} = \\sum_{i=0}^{n-1} a_i + b_i $$"
      ]
    },
    {
      "cell_type": "code",
      "execution_count": 21,
      "metadata": {
        "pycharm": {
          "name": "#%%\n"
        },
        "id": "AntCwMy-Z5pp",
        "outputId": "8b7c81d0-91f9-4f90-b46d-7399a536cf36",
        "colab": {
          "base_uri": "https://localhost:8080/"
        }
      },
      "outputs": [
        {
          "output_type": "stream",
          "name": "stdout",
          "text": [
            "Binary operators work element wise: [0 0 6 8]\n"
          ]
        }
      ],
      "source": [
        "a = np.array([ 1, 2, 3, 4])\n",
        "b = np.array([-1,-2, 3, 4])\n",
        "print(f\"Binary operators work element wise: {a + b}\")"
      ]
    },
    {
      "cell_type": "markdown",
      "metadata": {
        "pycharm": {
          "name": "#%% md\n"
        },
        "id": "ibQz2nr4Z5pq"
      },
      "source": [
        "Of course, for this to work correctly, the vectors must be of the same size:"
      ]
    },
    {
      "cell_type": "code",
      "execution_count": 22,
      "metadata": {
        "pycharm": {
          "name": "#%%\n"
        },
        "id": "xR3ubGZeZ5pq",
        "outputId": "e5b592fa-ff44-4d9f-e763-56da20ceab00",
        "colab": {
          "base_uri": "https://localhost:8080/"
        }
      },
      "outputs": [
        {
          "output_type": "stream",
          "name": "stdout",
          "text": [
            "The error message you'll see is:\n",
            "operands could not be broadcast together with shapes (4,) (2,) \n"
          ]
        }
      ],
      "source": [
        "#try a mismatched vector operation\n",
        "c = np.array([1, 2])\n",
        "try:\n",
        "    d = a + c\n",
        "except Exception as e:\n",
        "    print(\"The error message you'll see is:\")\n",
        "    print(e)"
      ]
    },
    {
      "cell_type": "markdown",
      "metadata": {
        "pycharm": {
          "name": "#%% md\n"
        },
        "id": "IJUGlLE9Z5pq"
      },
      "source": [
        "<a name=\"toc_40015_3.4.5\"></a>\n",
        "### 3.4.5 Scalar Vector operations\n",
        "Vectors can be 'scaled' by scalar values. A scalar value is just a number. The scalar multiplies all the elements of the vector."
      ]
    },
    {
      "cell_type": "code",
      "execution_count": 23,
      "metadata": {
        "pycharm": {
          "name": "#%%\n"
        },
        "id": "6k_Ye3B6Z5pr",
        "outputId": "1406ea0a-cd76-4c41-c8ee-fbeb6b2d7279",
        "colab": {
          "base_uri": "https://localhost:8080/"
        }
      },
      "outputs": [
        {
          "output_type": "stream",
          "name": "stdout",
          "text": [
            "b = 5 * a : [ 5 10 15 20]\n"
          ]
        }
      ],
      "source": [
        "a = np.array([1, 2, 3, 4])\n",
        "\n",
        "# multiply a by a scalar\n",
        "b = 5 * a \n",
        "print(f\"b = 5 * a : {b}\")"
      ]
    },
    {
      "cell_type": "markdown",
      "metadata": {
        "pycharm": {
          "name": "#%% md\n"
        },
        "id": "FhBemUIXZ5pr"
      },
      "source": [
        "<a name=\"toc_40015_3.4.6\"></a>\n",
        "### 3.4.6 Vector Vector dot product\n",
        "The dot product is a mainstay of Linear Algebra and NumPy. This is an operation used extensively in this course and should be well understood. The dot product is shown below."
      ]
    },
    {
      "cell_type": "markdown",
      "metadata": {
        "pycharm": {
          "name": "#%% md\n"
        },
        "id": "7cWpBfwnZ5pr"
      },
      "source": [
        "<img src=\"https://github.com/lpanigrahi/coursera/blob/main/ML_specialization/images/C1_W2_Lab04_dot_notrans.gif?raw=1\" width=800> "
      ]
    },
    {
      "cell_type": "markdown",
      "metadata": {
        "pycharm": {
          "name": "#%% md\n"
        },
        "id": "F9trnN-aZ5pr"
      },
      "source": [
        "The dot product multiplies the values in two vectors element-wise and then sums the result.\n",
        "Vector dot product requires the dimensions of the two vectors to be the same. "
      ]
    },
    {
      "cell_type": "markdown",
      "metadata": {
        "pycharm": {
          "name": "#%% md\n"
        },
        "id": "rhO7OVfuZ5ps"
      },
      "source": [
        "Let's implement our own version of the dot product below:\n",
        "\n",
        "**Using a for loop**, implement a function which returns the dot product of two vectors. The function to return given inputs $a$ and $b$:\n",
        "$$ x = \\sum_{i=0}^{n-1} a_i b_i $$\n",
        "Assume both `a` and `b` are the same shape."
      ]
    },
    {
      "cell_type": "code",
      "execution_count": 24,
      "metadata": {
        "pycharm": {
          "name": "#%%\n"
        },
        "id": "PXnouM5KZ5ps"
      },
      "outputs": [],
      "source": [
        "def my_dot(a, b): \n",
        "    \"\"\"\n",
        "   Compute the dot product of two vectors\n",
        " \n",
        "    Args:\n",
        "      a (ndarray (n,)):  input vector \n",
        "      b (ndarray (n,)):  input vector with same dimension as a\n",
        "    \n",
        "    Returns:\n",
        "      x (scalar): \n",
        "    \"\"\"\n",
        "    x=0\n",
        "    for i in range(a.shape[0]):\n",
        "        x = x + a[i] * b[i]\n",
        "    return x"
      ]
    },
    {
      "cell_type": "code",
      "execution_count": 25,
      "metadata": {
        "pycharm": {
          "name": "#%%\n"
        },
        "id": "NZBB6-NlZ5ps",
        "outputId": "e4f0528b-fdbb-452c-9ee1-337ca5cc81a7",
        "colab": {
          "base_uri": "https://localhost:8080/"
        }
      },
      "outputs": [
        {
          "output_type": "stream",
          "name": "stdout",
          "text": [
            "my_dot(a, b) = 24\n"
          ]
        }
      ],
      "source": [
        "# test 1-D\n",
        "a = np.array([1, 2, 3, 4])\n",
        "b = np.array([-1, 4, 3, 2])\n",
        "print(f\"my_dot(a, b) = {my_dot(a, b)}\")"
      ]
    },
    {
      "cell_type": "markdown",
      "metadata": {
        "pycharm": {
          "name": "#%% md\n"
        },
        "id": "7COJxkDXZ5pt"
      },
      "source": [
        "Note, the dot product is expected to return a scalar value. \n",
        "\n",
        "Let's try the same operations using `np.dot`.  "
      ]
    },
    {
      "cell_type": "code",
      "execution_count": 26,
      "metadata": {
        "pycharm": {
          "name": "#%%\n"
        },
        "id": "KDxU4G22Z5pt",
        "outputId": "9304fc8a-4862-41da-8c80-158c45882c60",
        "colab": {
          "base_uri": "https://localhost:8080/"
        }
      },
      "outputs": [
        {
          "output_type": "stream",
          "name": "stdout",
          "text": [
            "NumPy 1-D np.dot(a, b) = 24, np.dot(a, b).shape = () \n",
            "NumPy 1-D np.dot(b, a) = 24, np.dot(a, b).shape = () \n"
          ]
        }
      ],
      "source": [
        "# test 1-D\n",
        "a = np.array([1, 2, 3, 4])\n",
        "b = np.array([-1, 4, 3, 2])\n",
        "c = np.dot(a, b)\n",
        "print(f\"NumPy 1-D np.dot(a, b) = {c}, np.dot(a, b).shape = {c.shape} \") \n",
        "c = np.dot(b, a)\n",
        "print(f\"NumPy 1-D np.dot(b, a) = {c}, np.dot(a, b).shape = {c.shape} \")\n"
      ]
    },
    {
      "cell_type": "markdown",
      "metadata": {
        "pycharm": {
          "name": "#%% md\n"
        },
        "id": "cgTh5kJIZ5pt"
      },
      "source": [
        "Above, you will note that the results for 1-D matched our implementation."
      ]
    },
    {
      "cell_type": "markdown",
      "metadata": {
        "pycharm": {
          "name": "#%% md\n"
        },
        "id": "-Oyw_PvkZ5pt"
      },
      "source": [
        "<a name=\"toc_40015_3.4.7\"></a>\n",
        "### 3.4.7 The Need for Speed: vector vs for loop\n",
        "We utilized the NumPy  library because it improves speed memory efficiency. Let's demonstrate:"
      ]
    },
    {
      "cell_type": "code",
      "execution_count": 27,
      "metadata": {
        "pycharm": {
          "name": "#%%\n"
        },
        "id": "Ee6lE7cNZ5pu",
        "outputId": "22e9d962-682a-4fc6-e329-63177dcef281",
        "colab": {
          "base_uri": "https://localhost:8080/"
        }
      },
      "outputs": [
        {
          "output_type": "stream",
          "name": "stdout",
          "text": [
            "np.dot(a, b) =  2501072.5817\n",
            "Vectorized version duration: 12.6169 ms \n",
            "my_dot(a, b) =  2501072.5817\n",
            "loop version duration: 3134.2788 ms \n"
          ]
        }
      ],
      "source": [
        "np.random.seed(1)\n",
        "a = np.random.rand(10000000)  # very large arrays\n",
        "b = np.random.rand(10000000)\n",
        "\n",
        "tic = time.time()  # capture start time\n",
        "c = np.dot(a, b)\n",
        "toc = time.time()  # capture end time\n",
        "\n",
        "print(f\"np.dot(a, b) =  {c:.4f}\")\n",
        "print(f\"Vectorized version duration: {1000*(toc-tic):.4f} ms \")\n",
        "\n",
        "tic = time.time()  # capture start time\n",
        "c = my_dot(a,b)\n",
        "toc = time.time()  # capture end time\n",
        "\n",
        "print(f\"my_dot(a, b) =  {c:.4f}\")\n",
        "print(f\"loop version duration: {1000*(toc-tic):.4f} ms \")\n",
        "\n",
        "del(a);del(b)  #remove these big arrays from memory"
      ]
    },
    {
      "cell_type": "markdown",
      "metadata": {
        "pycharm": {
          "name": "#%% md\n"
        },
        "id": "vkwLhSfrZ5pu"
      },
      "source": [
        "So, vectorization provides a large speed up in this example. This is because NumPy makes better use of available data parallelism in the underlying hardware. GPU's and modern CPU's implement Single Instruction, Multiple Data (SIMD) pipelines allowing multiple operations to be issued in parallel. This is critical in Machine Learning where the data sets are often very large."
      ]
    },
    {
      "cell_type": "markdown",
      "metadata": {
        "pycharm": {
          "name": "#%% md\n"
        },
        "id": "_sOgRPDsZ5pu"
      },
      "source": [
        "<a name=\"toc_12345_3.4.8\"></a>\n",
        "### 3.4.8 Vector Vector operations in Course 1\n",
        "Vector Vector operations will appear frequently in course 1. Here is why:\n",
        "- Going forward, our examples will be stored in an array, `X_train` of dimension (m,n). This will be explained more in context, but here it is important to note it is a 2 Dimensional array or matrix (see next section on matrices).\n",
        "- `w` will be a 1-dimensional vector of shape (n,).\n",
        "- we will perform operations by looping through the examples, extracting each example to work on individually by indexing X. For example:`X[i]`\n",
        "- `X[i]` returns a value of shape (n,), a 1-dimensional vector. Consequently, operations involving `X[i]` are often vector-vector.  \n",
        "\n",
        "That is a somewhat lengthy explanation, but aligning and understanding the shapes of your operands is important when performing vector operations."
      ]
    },
    {
      "cell_type": "code",
      "execution_count": 28,
      "metadata": {
        "pycharm": {
          "name": "#%%\n"
        },
        "id": "YrW5PRI1Z5pv",
        "outputId": "0fb2136a-6d3d-4b95-b31e-21072f2c143b",
        "colab": {
          "base_uri": "https://localhost:8080/"
        }
      },
      "outputs": [
        {
          "output_type": "stream",
          "name": "stdout",
          "text": [
            "X[1] has shape (1,)\n",
            "w has shape (1,)\n",
            "c has shape ()\n"
          ]
        }
      ],
      "source": [
        "# show common Course 1 example\n",
        "X = np.array([[1],[2],[3],[4]])\n",
        "w = np.array([2])\n",
        "c = np.dot(X[1], w)\n",
        "\n",
        "print(f\"X[1] has shape {X[1].shape}\")\n",
        "print(f\"w has shape {w.shape}\")\n",
        "print(f\"c has shape {c.shape}\")"
      ]
    },
    {
      "cell_type": "markdown",
      "metadata": {
        "pycharm": {
          "name": "#%% md\n"
        },
        "id": "mhZ65PLyZ5pv"
      },
      "source": [
        "<a name=\"toc_40015_4\"></a>\n",
        "# 4 Matrices\n"
      ]
    },
    {
      "cell_type": "markdown",
      "metadata": {
        "pycharm": {
          "name": "#%% md\n"
        },
        "id": "_e1_uBMoZ5pv"
      },
      "source": [
        "<a name=\"toc_40015_4.1\"></a>\n",
        "## 4.1 Abstract\n",
        "Matrices, are two dimensional arrays. The elements of a matrix are all of the same type. In notation, matrices are denoted with capitol, bold letter such as $\\mathbf{X}$. In this and other labs, `m` is often the number of rows and `n` the number of columns. The elements of a matrix can be referenced with a two dimensional index. In math settings, numbers in the index typically run from 1 to n. In computer science and these labs, indexing will run from 0 to n-1.  \n",
        "<figure>\n",
        "    <center> <img src=\"https://github.com/lpanigrahi/coursera/blob/main/ML_specialization/images/C1_W2_Lab04_Matrices.PNG?raw=1\"  alt='missing'  width=900><center/>\n",
        "    <figcaption> Generic Matrix Notation, 1st index is row, 2nd is column </figcaption>\n",
        "<figure/>"
      ]
    },
    {
      "cell_type": "markdown",
      "metadata": {
        "pycharm": {
          "name": "#%% md\n"
        },
        "id": "KYAbzLOgZ5pv"
      },
      "source": [
        "<a name=\"toc_40015_4.2\"></a>\n",
        "## 4.2 NumPy Arrays\n",
        "\n",
        "NumPy's basic data structure is an indexable, n-dimensional *array* containing elements of the same type (`dtype`). These were described earlier. Matrices have a two-dimensional (2-D) index [m,n].\n",
        "\n",
        "In Course 1, 2-D matrices are used to hold training data. Training data is $m$ examples by $n$ features creating an (m,n) array. Course 1 does not do operations directly on matrices but typically extracts an example as a vector and operates on that. Below you will review: \n",
        "- data creation\n",
        "- slicing and indexing"
      ]
    },
    {
      "cell_type": "markdown",
      "metadata": {
        "pycharm": {
          "name": "#%% md\n"
        },
        "id": "TNAKwniBZ5pw"
      },
      "source": [
        "<a name=\"toc_40015_4.3\"></a>\n",
        "## 4.3 Matrix Creation\n",
        "The same functions that created 1-D vectors will create 2-D or n-D arrays. Here are some examples\n"
      ]
    },
    {
      "cell_type": "markdown",
      "metadata": {
        "pycharm": {
          "name": "#%% md\n"
        },
        "id": "Rvgkxp_FZ5pw"
      },
      "source": [
        "Below, the shape tuple is provided to achieve a 2-D result. Notice how NumPy uses brackets to denote each dimension. Notice further than NumPy, when printing, will print one row per line.\n"
      ]
    },
    {
      "cell_type": "code",
      "execution_count": 29,
      "metadata": {
        "pycharm": {
          "name": "#%%\n"
        },
        "id": "FUdro0H4Z5pw",
        "outputId": "51d48bab-9abe-4e35-cf0b-aac302851b55",
        "colab": {
          "base_uri": "https://localhost:8080/"
        }
      },
      "outputs": [
        {
          "output_type": "stream",
          "name": "stdout",
          "text": [
            "a shape = (1, 5), a = [[0. 0. 0. 0. 0.]]\n",
            "a shape = (2, 1), a = [[0.]\n",
            " [0.]]\n",
            "a shape = (1, 1), a = [[0.44236513]]\n"
          ]
        }
      ],
      "source": [
        "a = np.zeros((1, 5))                                       \n",
        "print(f\"a shape = {a.shape}, a = {a}\")                     \n",
        "\n",
        "a = np.zeros((2, 1))                                                                   \n",
        "print(f\"a shape = {a.shape}, a = {a}\") \n",
        "\n",
        "a = np.random.random_sample((1, 1))  \n",
        "print(f\"a shape = {a.shape}, a = {a}\") "
      ]
    },
    {
      "cell_type": "markdown",
      "metadata": {
        "pycharm": {
          "name": "#%% md\n"
        },
        "id": "Pm2lNCUPZ5pw"
      },
      "source": [
        "One can also manually specify data. Dimensions are specified with additional brackets matching the format in the printing above."
      ]
    },
    {
      "cell_type": "code",
      "execution_count": 30,
      "metadata": {
        "pycharm": {
          "name": "#%%\n"
        },
        "id": "u6IYaWKjZ5px",
        "outputId": "7ac088e7-1338-4106-ec01-0ce8016a7594",
        "colab": {
          "base_uri": "https://localhost:8080/"
        }
      },
      "outputs": [
        {
          "output_type": "stream",
          "name": "stdout",
          "text": [
            " a shape = (3, 1), np.array: a = [[5]\n",
            " [4]\n",
            " [3]]\n",
            " a shape = (3, 1), np.array: a = [[5]\n",
            " [4]\n",
            " [3]]\n"
          ]
        }
      ],
      "source": [
        "# NumPy routines which allocate memory and fill with user specified values\n",
        "a = np.array([[5], [4], [3]]);   print(f\" a shape = {a.shape}, np.array: a = {a}\")\n",
        "a = np.array([[5],   # One can also\n",
        "              [4],   # separate values\n",
        "              [3]]); #into separate rows\n",
        "print(f\" a shape = {a.shape}, np.array: a = {a}\")"
      ]
    },
    {
      "cell_type": "markdown",
      "metadata": {
        "pycharm": {
          "name": "#%% md\n"
        },
        "id": "NhGpwcJPZ5px"
      },
      "source": [
        "<a name=\"toc_40015_4.4\"></a>\n",
        "## 4.4 Operations on Matrices\n",
        "Let's explore some operations using matrices."
      ]
    },
    {
      "cell_type": "markdown",
      "metadata": {
        "pycharm": {
          "name": "#%% md\n"
        },
        "id": "z7m9L4K_Z5px"
      },
      "source": [
        "<a name=\"toc_40015_4.4.1\"></a>\n",
        "### 4.4.1 Indexing\n"
      ]
    },
    {
      "cell_type": "markdown",
      "metadata": {
        "pycharm": {
          "name": "#%% md\n"
        },
        "id": "hXQPyX2wZ5px"
      },
      "source": [
        "Matrices include a second index. The two indexes describe [row, column]. Access can either return an element or a row/column. See below:"
      ]
    },
    {
      "cell_type": "code",
      "execution_count": 31,
      "metadata": {
        "pycharm": {
          "name": "#%%\n"
        },
        "id": "xZJx0aP2Z5py",
        "outputId": "b86a0088-e944-4eed-c38d-04697edcebce",
        "colab": {
          "base_uri": "https://localhost:8080/"
        }
      },
      "outputs": [
        {
          "output_type": "stream",
          "name": "stdout",
          "text": [
            "a.shape: (3, 2), \n",
            "a= [[0 1]\n",
            " [2 3]\n",
            " [4 5]]\n",
            "\n",
            "a[2,0].shape:   (), a[2,0] = 4,     type(a[2,0]) = <class 'numpy.int64'> Accessing an element returns a scalar\n",
            "\n",
            "a[2].shape:   (2,), a[2]   = [4 5], type(a[2])   = <class 'numpy.ndarray'>\n"
          ]
        }
      ],
      "source": [
        "#vector indexing operations on matrices\n",
        "a = np.arange(6).reshape(-1, 2)   #reshape is a convenient way to create matrices\n",
        "print(f\"a.shape: {a.shape}, \\na= {a}\")\n",
        "\n",
        "#access an element\n",
        "print(f\"\\na[2,0].shape:   {a[2, 0].shape}, a[2,0] = {a[2, 0]},     type(a[2,0]) = {type(a[2, 0])} Accessing an element returns a scalar\\n\")\n",
        "\n",
        "#access a row\n",
        "print(f\"a[2].shape:   {a[2].shape}, a[2]   = {a[2]}, type(a[2])   = {type(a[2])}\")"
      ]
    },
    {
      "cell_type": "markdown",
      "metadata": {
        "pycharm": {
          "name": "#%% md\n"
        },
        "id": "ivYjS3DDZ5py"
      },
      "source": [
        "It is worth drawing attention to the last example. Accessing a matrix by just specifying the row will return a *1-D vector*."
      ]
    },
    {
      "cell_type": "markdown",
      "metadata": {
        "pycharm": {
          "name": "#%% md\n"
        },
        "id": "scTGQzk8Z5py"
      },
      "source": [
        "**Reshape**  \n",
        "The previous example used [reshape](https://numpy.org/doc/stable/reference/generated/numpy.reshape.html) to shape the array.  \n",
        "`a = np.arange(6).reshape(-1, 2) `   \n",
        "This line of code first created a *1-D Vector* of six elements. It then reshaped that vector into a *2-D* array using the reshape command. This could have been written:  \n",
        "`a = np.arange(6).reshape(3, 2) `  \n",
        "To arrive at the same 3 row, 2 column array.\n",
        "The -1 argument tells the routine to compute the number of rows given the size of the array and the number of columns.\n"
      ]
    },
    {
      "cell_type": "markdown",
      "metadata": {
        "pycharm": {
          "name": "#%% md\n"
        },
        "id": "OjiE5EuaZ5pz"
      },
      "source": [
        "<a name=\"toc_40015_4.4.2\"></a>\n",
        "### 4.4.2 Slicing\n",
        "Slicing creates an array of indices using a set of three values (`start:stop:step`). A subset of values is also valid. Its use is best explained by example:"
      ]
    },
    {
      "cell_type": "code",
      "execution_count": 32,
      "metadata": {
        "pycharm": {
          "name": "#%%\n"
        },
        "id": "guLBgWpyZ5pz",
        "outputId": "7f83d07c-04e0-4caa-fbdb-ada31bde5e5e",
        "colab": {
          "base_uri": "https://localhost:8080/"
        }
      },
      "outputs": [
        {
          "output_type": "stream",
          "name": "stdout",
          "text": [
            "a = \n",
            "[[ 0  1  2  3  4  5  6  7  8  9]\n",
            " [10 11 12 13 14 15 16 17 18 19]]\n",
            "a[0, 2:7:1] =  [2 3 4 5 6] ,  a[0, 2:7:1].shape = (5,) a 1-D array\n",
            "a[:, 2:7:1] = \n",
            " [[ 2  3  4  5  6]\n",
            " [12 13 14 15 16]] ,  a[:, 2:7:1].shape = (2, 5) a 2-D array\n",
            "a[:,:] = \n",
            " [[ 0  1  2  3  4  5  6  7  8  9]\n",
            " [10 11 12 13 14 15 16 17 18 19]] ,  a[:,:].shape = (2, 10)\n",
            "a[1,:] =  [10 11 12 13 14 15 16 17 18 19] ,  a[1,:].shape = (10,) a 1-D array\n",
            "a[1]   =  [10 11 12 13 14 15 16 17 18 19] ,  a[1].shape   = (10,) a 1-D array\n"
          ]
        }
      ],
      "source": [
        "#vector 2-D slicing operations\n",
        "a = np.arange(20).reshape(-1, 10)\n",
        "print(f\"a = \\n{a}\")\n",
        "\n",
        "#access 5 consecutive elements (start:stop:step)\n",
        "print(\"a[0, 2:7:1] = \", a[0, 2:7:1], \",  a[0, 2:7:1].shape =\", a[0, 2:7:1].shape, \"a 1-D array\")\n",
        "\n",
        "#access 5 consecutive elements (start:stop:step) in two rows\n",
        "print(\"a[:, 2:7:1] = \\n\", a[:, 2:7:1], \",  a[:, 2:7:1].shape =\", a[:, 2:7:1].shape, \"a 2-D array\")\n",
        "\n",
        "# access all elements\n",
        "print(\"a[:,:] = \\n\", a[:,:], \",  a[:,:].shape =\", a[:,:].shape)\n",
        "\n",
        "# access all elements in one row (very common usage)\n",
        "print(\"a[1,:] = \", a[1,:], \",  a[1,:].shape =\", a[1,:].shape, \"a 1-D array\")\n",
        "# same as\n",
        "print(\"a[1]   = \", a[1],   \",  a[1].shape   =\", a[1].shape, \"a 1-D array\")\n"
      ]
    },
    {
      "cell_type": "markdown",
      "metadata": {
        "pycharm": {
          "name": "#%% md\n"
        },
        "id": "5mwzn8X0Z5pz"
      },
      "source": [
        "<a name=\"toc_40015_5.0\"></a>\n",
        "## Congratulations!\n",
        "In this lab you mastered the features of Python and NumPy that are needed for Course 1."
      ]
    }
  ],
  "metadata": {
    "dl_toc_settings": {
      "rndtag": "40015"
    },
    "kernelspec": {
      "display_name": "Python 3",
      "language": "python",
      "name": "python3"
    },
    "language_info": {
      "codemirror_mode": {
        "name": "ipython",
        "version": 3
      },
      "file_extension": ".py",
      "mimetype": "text/x-python",
      "name": "python",
      "nbconvert_exporter": "python",
      "pygments_lexer": "ipython3",
      "version": "3.7.6"
    },
    "toc-autonumbering": false,
    "colab": {
      "provenance": [],
      "include_colab_link": true
    }
  },
  "nbformat": 4,
  "nbformat_minor": 0
}