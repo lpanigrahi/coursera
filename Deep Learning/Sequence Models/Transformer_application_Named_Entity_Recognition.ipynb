{
  "cells": [
    {
      "cell_type": "markdown",
      "metadata": {
        "id": "view-in-github",
        "colab_type": "text"
      },
      "source": [
        "<a href=\"https://colab.research.google.com/github/lpanigrahi/coursera/blob/main/Deep%20Learning/Sequence%20Models/Transformer_application_Named_Entity_Recognition.ipynb\" target=\"_parent\"><img src=\"https://colab.research.google.com/assets/colab-badge.svg\" alt=\"Open In Colab\"/></a>"
      ]
    },
    {
      "cell_type": "markdown",
      "metadata": {
        "id": "ZREBQQeuJOJV"
      },
      "source": [
        "# Transformer Network Application: Named-Entity Recognition\n",
        "\n",
        "Welcome to Week 4's first ungraded lab. In this notebook you'll explore one application of the transformer architecture that you built in the previous assignment.\n",
        "\n",
        "**After this assignment you'll be able to**:\n",
        "\n",
        "* Use tokenizers and pre-trained models from the HuggingFace Library.\n",
        "* Fine-tune a pre-trained transformer model for Named-Entity Recognition"
      ]
    },
    {
      "cell_type": "markdown",
      "metadata": {
        "id": "GcQ_SM49JOJc"
      },
      "source": [
        "## Table of Contents\n",
        "\n",
        "- [Packages](#0)\n",
        "- [1 - Named-Entity Recogniton to Process Resumes](#1)\n",
        "    - [1.1 - Data Cleaning](#1-1)\n",
        "    - [1.2 - Padding and Generating Tags](#1-2)\n",
        "    - [1.3 - Tokenize and Align Labels with 🤗 Library](#1-3)\n",
        "        - [Exercise 1 - tokenize_and_align_labels](#ex-1)\n",
        "    - [1.4 - Optimization](#1-4)"
      ]
    },
    {
      "cell_type": "code",
      "source": [
        "from google.colab import drive\n",
        "drive.mount('/content/drive')"
      ],
      "metadata": {
        "id": "mmL2h19mJUwa",
        "outputId": "4ed52374-1e5c-4ed4-ebfe-89bb48a63940",
        "colab": {
          "base_uri": "https://localhost:8080/"
        }
      },
      "execution_count": 1,
      "outputs": [
        {
          "output_type": "stream",
          "name": "stdout",
          "text": [
            "Drive already mounted at /content/drive; to attempt to forcibly remount, call drive.mount(\"/content/drive\", force_remount=True).\n"
          ]
        }
      ]
    },
    {
      "cell_type": "code",
      "source": [
        "import os"
      ],
      "metadata": {
        "id": "cc07SCEAJpOt"
      },
      "execution_count": 2,
      "outputs": []
    },
    {
      "cell_type": "code",
      "source": [
        "PROJECT_NAME = 'Transformer_application_Named_Entity_Recognition'\n",
        "UTILITY_FILE = ''\n",
        "TEST_CASE_FILE = ''\n",
        "UTILITY_FILE_NAME = ''\n",
        "TESTCASE_FILE_NAME = ''"
      ],
      "metadata": {
        "id": "LEg-ograJttb"
      },
      "execution_count": 3,
      "outputs": []
    },
    {
      "cell_type": "code",
      "source": [
        "WORKING_DIR = os.path.join(os.getcwd(),'drive/MyDrive/coursera',PROJECT_NAME)\n",
        "\n",
        "if not os.path.exists(WORKING_DIR):\n",
        "  %mkdir {WORKING_DIR}\n",
        "  %cd {WORKING_DIR}\n",
        "else:\n",
        "  %cd {WORKING_DIR}"
      ],
      "metadata": {
        "id": "lreAkHr2J-W9",
        "outputId": "c6fb7e0d-9933-4311-b5c4-ab09ee2520f7",
        "colab": {
          "base_uri": "https://localhost:8080/"
        }
      },
      "execution_count": 4,
      "outputs": [
        {
          "output_type": "stream",
          "name": "stdout",
          "text": [
            "/content/drive/MyDrive/coursera/Transformer_application_Named_Entity_Recognition\n"
          ]
        }
      ]
    },
    {
      "cell_type": "code",
      "source": [
        "paths = {\n",
        "    'DATASET': os.path.join('datasets'),\n",
        "    'SAVE_MODEL': os.path.join('model'),   \n",
        " }"
      ],
      "metadata": {
        "id": "hMWIXdRCKH7m"
      },
      "execution_count": 5,
      "outputs": []
    },
    {
      "cell_type": "code",
      "source": [
        "for path in paths.values():\n",
        "    if not os.path.exists(path):\n",
        "        if os.name == 'posix':\n",
        "            !mkdir -p {path}"
      ],
      "metadata": {
        "id": "zXtHYM1aKO71"
      },
      "execution_count": 6,
      "outputs": []
    },
    {
      "cell_type": "code",
      "source": [
        "!pip install transformers"
      ],
      "metadata": {
        "id": "TcJ4-vwRL_Ei",
        "outputId": "9459fc8f-0bb5-4cfb-f50e-6f0dd5c1372c",
        "colab": {
          "base_uri": "https://localhost:8080/"
        }
      },
      "execution_count": 7,
      "outputs": [
        {
          "output_type": "stream",
          "name": "stdout",
          "text": [
            "Looking in indexes: https://pypi.org/simple, https://us-python.pkg.dev/colab-wheels/public/simple/\n",
            "Requirement already satisfied: transformers in /usr/local/lib/python3.8/dist-packages (4.26.0)\n",
            "Requirement already satisfied: filelock in /usr/local/lib/python3.8/dist-packages (from transformers) (3.9.0)\n",
            "Requirement already satisfied: tqdm>=4.27 in /usr/local/lib/python3.8/dist-packages (from transformers) (4.64.1)\n",
            "Requirement already satisfied: huggingface-hub<1.0,>=0.11.0 in /usr/local/lib/python3.8/dist-packages (from transformers) (0.12.0)\n",
            "Requirement already satisfied: regex!=2019.12.17 in /usr/local/lib/python3.8/dist-packages (from transformers) (2022.6.2)\n",
            "Requirement already satisfied: requests in /usr/local/lib/python3.8/dist-packages (from transformers) (2.25.1)\n",
            "Requirement already satisfied: pyyaml>=5.1 in /usr/local/lib/python3.8/dist-packages (from transformers) (6.0)\n",
            "Requirement already satisfied: packaging>=20.0 in /usr/local/lib/python3.8/dist-packages (from transformers) (23.0)\n",
            "Requirement already satisfied: tokenizers!=0.11.3,<0.14,>=0.11.1 in /usr/local/lib/python3.8/dist-packages (from transformers) (0.13.2)\n",
            "Requirement already satisfied: numpy>=1.17 in /usr/local/lib/python3.8/dist-packages (from transformers) (1.21.6)\n",
            "Requirement already satisfied: typing-extensions>=3.7.4.3 in /usr/local/lib/python3.8/dist-packages (from huggingface-hub<1.0,>=0.11.0->transformers) (4.4.0)\n",
            "Requirement already satisfied: certifi>=2017.4.17 in /usr/local/lib/python3.8/dist-packages (from requests->transformers) (2022.12.7)\n",
            "Requirement already satisfied: urllib3<1.27,>=1.21.1 in /usr/local/lib/python3.8/dist-packages (from requests->transformers) (1.24.3)\n",
            "Requirement already satisfied: chardet<5,>=3.0.2 in /usr/local/lib/python3.8/dist-packages (from requests->transformers) (4.0.0)\n",
            "Requirement already satisfied: idna<3,>=2.5 in /usr/local/lib/python3.8/dist-packages (from requests->transformers) (2.10)\n"
          ]
        }
      ]
    },
    {
      "cell_type": "markdown",
      "metadata": {
        "id": "wXmewzeAJOJd"
      },
      "source": [
        "<a name='0'></a>\n",
        "## Packages\n",
        "\n",
        "Run the following cell to load the packages you'll need."
      ]
    },
    {
      "cell_type": "code",
      "execution_count": 8,
      "metadata": {
        "id": "j0TRUL8OJOJe"
      },
      "outputs": [],
      "source": [
        "import pandas as pd\n",
        "import tensorflow as tf\n",
        "import json\n",
        "import random\n",
        "import logging\n",
        "import re"
      ]
    },
    {
      "cell_type": "markdown",
      "metadata": {
        "id": "Z8xJg6ABJOJg"
      },
      "source": [
        "<a name='1'></a>\n",
        "## 1 - Named-Entity Recogniton to Process Resumes\n",
        "\n",
        "When faced with a large amount of unstructured text data, named-entity recognition (NER) can help you detect and classify important information in your dataset. For instance, in the running example \"Jane vists Africa in September\", NER would help you detect \"Jane\", \"Africa\", and \"September\" as named-entities and classify them as person, location, and time. \n",
        "\n",
        "* You will use a variation of the Transformer model you built in the last assignment to process a large dataset of resumes.\n",
        "* You will find and classify relavent information such as the companies the applicant worked at, skills, type of degree, etc. "
      ]
    },
    {
      "cell_type": "markdown",
      "metadata": {
        "id": "O4U5vkAYJOJh"
      },
      "source": [
        "<a name='1-1'></a>\n",
        "### 1.1 - Dataset Cleaning\n",
        "\n",
        "In this assignment you will optimize a Transformer model on a dataset of resumes. Take a look at how the data you will be working with are structured."
      ]
    },
    {
      "cell_type": "code",
      "execution_count": 9,
      "metadata": {
        "id": "9XdSmJ7QJOJh"
      },
      "outputs": [],
      "source": [
        "df_data = pd.read_json(\"datasets/ner.json\", lines=True)\n",
        "df_data = df_data.drop(['extras'], axis=1)\n",
        "df_data['content'] = df_data['content'].str.replace(\"\\n\", \" \")"
      ]
    },
    {
      "cell_type": "code",
      "execution_count": 10,
      "metadata": {
        "id": "8E5An9zhJOJi",
        "outputId": "701b6fbd-c375-4be8-acb6-68e7286da9b2",
        "colab": {
          "base_uri": "https://localhost:8080/",
          "height": 206
        }
      },
      "outputs": [
        {
          "output_type": "execute_result",
          "data": {
            "text/plain": [
              "                                             content  \\\n",
              "0  Abhishek Jha Application Development Associate...   \n",
              "1  Afreen Jamadar Active member of IIIT Committee...   \n",
              "2  Akhil Yadav Polemaina Hyderabad, Telangana - E...   \n",
              "3  Alok Khandai Operational Analyst (SQL DBA) Eng...   \n",
              "4  Ananya Chavan lecturer - oracle tutorials  Mum...   \n",
              "\n",
              "                                          annotation  \n",
              "0  [{'label': ['Skills'], 'points': [{'start': 12...  \n",
              "1  [{'label': ['Email Address'], 'points': [{'sta...  \n",
              "2  [{'label': ['Skills'], 'points': [{'start': 37...  \n",
              "3  [{'label': ['Skills'], 'points': [{'start': 80...  \n",
              "4  [{'label': ['Degree'], 'points': [{'start': 20...  "
            ],
            "text/html": [
              "\n",
              "  <div id=\"df-e0a54316-2744-46d9-834c-989e63bc4ba9\">\n",
              "    <div class=\"colab-df-container\">\n",
              "      <div>\n",
              "<style scoped>\n",
              "    .dataframe tbody tr th:only-of-type {\n",
              "        vertical-align: middle;\n",
              "    }\n",
              "\n",
              "    .dataframe tbody tr th {\n",
              "        vertical-align: top;\n",
              "    }\n",
              "\n",
              "    .dataframe thead th {\n",
              "        text-align: right;\n",
              "    }\n",
              "</style>\n",
              "<table border=\"1\" class=\"dataframe\">\n",
              "  <thead>\n",
              "    <tr style=\"text-align: right;\">\n",
              "      <th></th>\n",
              "      <th>content</th>\n",
              "      <th>annotation</th>\n",
              "    </tr>\n",
              "  </thead>\n",
              "  <tbody>\n",
              "    <tr>\n",
              "      <th>0</th>\n",
              "      <td>Abhishek Jha Application Development Associate...</td>\n",
              "      <td>[{'label': ['Skills'], 'points': [{'start': 12...</td>\n",
              "    </tr>\n",
              "    <tr>\n",
              "      <th>1</th>\n",
              "      <td>Afreen Jamadar Active member of IIIT Committee...</td>\n",
              "      <td>[{'label': ['Email Address'], 'points': [{'sta...</td>\n",
              "    </tr>\n",
              "    <tr>\n",
              "      <th>2</th>\n",
              "      <td>Akhil Yadav Polemaina Hyderabad, Telangana - E...</td>\n",
              "      <td>[{'label': ['Skills'], 'points': [{'start': 37...</td>\n",
              "    </tr>\n",
              "    <tr>\n",
              "      <th>3</th>\n",
              "      <td>Alok Khandai Operational Analyst (SQL DBA) Eng...</td>\n",
              "      <td>[{'label': ['Skills'], 'points': [{'start': 80...</td>\n",
              "    </tr>\n",
              "    <tr>\n",
              "      <th>4</th>\n",
              "      <td>Ananya Chavan lecturer - oracle tutorials  Mum...</td>\n",
              "      <td>[{'label': ['Degree'], 'points': [{'start': 20...</td>\n",
              "    </tr>\n",
              "  </tbody>\n",
              "</table>\n",
              "</div>\n",
              "      <button class=\"colab-df-convert\" onclick=\"convertToInteractive('df-e0a54316-2744-46d9-834c-989e63bc4ba9')\"\n",
              "              title=\"Convert this dataframe to an interactive table.\"\n",
              "              style=\"display:none;\">\n",
              "        \n",
              "  <svg xmlns=\"http://www.w3.org/2000/svg\" height=\"24px\"viewBox=\"0 0 24 24\"\n",
              "       width=\"24px\">\n",
              "    <path d=\"M0 0h24v24H0V0z\" fill=\"none\"/>\n",
              "    <path d=\"M18.56 5.44l.94 2.06.94-2.06 2.06-.94-2.06-.94-.94-2.06-.94 2.06-2.06.94zm-11 1L8.5 8.5l.94-2.06 2.06-.94-2.06-.94L8.5 2.5l-.94 2.06-2.06.94zm10 10l.94 2.06.94-2.06 2.06-.94-2.06-.94-.94-2.06-.94 2.06-2.06.94z\"/><path d=\"M17.41 7.96l-1.37-1.37c-.4-.4-.92-.59-1.43-.59-.52 0-1.04.2-1.43.59L10.3 9.45l-7.72 7.72c-.78.78-.78 2.05 0 2.83L4 21.41c.39.39.9.59 1.41.59.51 0 1.02-.2 1.41-.59l7.78-7.78 2.81-2.81c.8-.78.8-2.07 0-2.86zM5.41 20L4 18.59l7.72-7.72 1.47 1.35L5.41 20z\"/>\n",
              "  </svg>\n",
              "      </button>\n",
              "      \n",
              "  <style>\n",
              "    .colab-df-container {\n",
              "      display:flex;\n",
              "      flex-wrap:wrap;\n",
              "      gap: 12px;\n",
              "    }\n",
              "\n",
              "    .colab-df-convert {\n",
              "      background-color: #E8F0FE;\n",
              "      border: none;\n",
              "      border-radius: 50%;\n",
              "      cursor: pointer;\n",
              "      display: none;\n",
              "      fill: #1967D2;\n",
              "      height: 32px;\n",
              "      padding: 0 0 0 0;\n",
              "      width: 32px;\n",
              "    }\n",
              "\n",
              "    .colab-df-convert:hover {\n",
              "      background-color: #E2EBFA;\n",
              "      box-shadow: 0px 1px 2px rgba(60, 64, 67, 0.3), 0px 1px 3px 1px rgba(60, 64, 67, 0.15);\n",
              "      fill: #174EA6;\n",
              "    }\n",
              "\n",
              "    [theme=dark] .colab-df-convert {\n",
              "      background-color: #3B4455;\n",
              "      fill: #D2E3FC;\n",
              "    }\n",
              "\n",
              "    [theme=dark] .colab-df-convert:hover {\n",
              "      background-color: #434B5C;\n",
              "      box-shadow: 0px 1px 3px 1px rgba(0, 0, 0, 0.15);\n",
              "      filter: drop-shadow(0px 1px 2px rgba(0, 0, 0, 0.3));\n",
              "      fill: #FFFFFF;\n",
              "    }\n",
              "  </style>\n",
              "\n",
              "      <script>\n",
              "        const buttonEl =\n",
              "          document.querySelector('#df-e0a54316-2744-46d9-834c-989e63bc4ba9 button.colab-df-convert');\n",
              "        buttonEl.style.display =\n",
              "          google.colab.kernel.accessAllowed ? 'block' : 'none';\n",
              "\n",
              "        async function convertToInteractive(key) {\n",
              "          const element = document.querySelector('#df-e0a54316-2744-46d9-834c-989e63bc4ba9');\n",
              "          const dataTable =\n",
              "            await google.colab.kernel.invokeFunction('convertToInteractive',\n",
              "                                                     [key], {});\n",
              "          if (!dataTable) return;\n",
              "\n",
              "          const docLinkHtml = 'Like what you see? Visit the ' +\n",
              "            '<a target=\"_blank\" href=https://colab.research.google.com/notebooks/data_table.ipynb>data table notebook</a>'\n",
              "            + ' to learn more about interactive tables.';\n",
              "          element.innerHTML = '';\n",
              "          dataTable['output_type'] = 'display_data';\n",
              "          await google.colab.output.renderOutput(dataTable, element);\n",
              "          const docLink = document.createElement('div');\n",
              "          docLink.innerHTML = docLinkHtml;\n",
              "          element.appendChild(docLink);\n",
              "        }\n",
              "      </script>\n",
              "    </div>\n",
              "  </div>\n",
              "  "
            ]
          },
          "metadata": {},
          "execution_count": 10
        }
      ],
      "source": [
        "df_data.head()"
      ]
    },
    {
      "cell_type": "code",
      "execution_count": 11,
      "metadata": {
        "id": "_j-1nIuQJOJk",
        "outputId": "9ec7d3b3-5bd5-4954-d3c9-776dc721d70a",
        "colab": {
          "base_uri": "https://localhost:8080/"
        }
      },
      "outputs": [
        {
          "output_type": "execute_result",
          "data": {
            "text/plain": [
              "[{'label': ['Skills'],\n",
              "  'points': [{'start': 1295,\n",
              "    'end': 1621,\n",
              "    'text': '\\n• Programming language: C, C++, Java\\n• Oracle PeopleSoft\\n• Internet Of Things\\n• Machine Learning\\n• Database Management System\\n• Computer Networks\\n• Operating System worked on: Linux, Windows, Mac\\n\\nNon - Technical Skills\\n\\n• Honest and Hard-Working\\n• Tolerant and Flexible to Different Situations\\n• Polite and Calm\\n• Team-Player'}]},\n",
              " {'label': ['Skills'],\n",
              "  'points': [{'start': 993,\n",
              "    'end': 1153,\n",
              "    'text': 'C (Less than 1 year), Database (Less than 1 year), Database Management (Less than 1 year),\\nDatabase Management System (Less than 1 year), Java (Less than 1 year)'}]},\n",
              " {'label': ['College Name'],\n",
              "  'points': [{'start': 939, 'end': 956, 'text': 'Kendriya Vidyalaya'}]},\n",
              " {'label': ['College Name'],\n",
              "  'points': [{'start': 883, 'end': 904, 'text': 'Woodbine modern school'}]},\n",
              " {'label': ['Graduation Year'],\n",
              "  'points': [{'start': 856, 'end': 860, 'text': '2017\\n'}]},\n",
              " {'label': ['College Name'],\n",
              "  'points': [{'start': 771,\n",
              "    'end': 813,\n",
              "    'text': 'B.v.b college of engineering and technology'}]},\n",
              " {'label': ['Designation'],\n",
              "  'points': [{'start': 727,\n",
              "    'end': 769,\n",
              "    'text': 'B.E in Information science and engineering\\n'}]},\n",
              " {'label': ['Companies worked at'],\n",
              "  'points': [{'start': 407, 'end': 415, 'text': 'Accenture'}]},\n",
              " {'label': ['Designation'],\n",
              "  'points': [{'start': 372,\n",
              "    'end': 404,\n",
              "    'text': 'Application Development Associate'}]},\n",
              " {'label': ['Email Address'],\n",
              "  'points': [{'start': 95,\n",
              "    'end': 145,\n",
              "    'text': 'Indeed: indeed.com/r/Abhishek-Jha/10e7a8cb732bc43a\\n'}]},\n",
              " {'label': ['Location'],\n",
              "  'points': [{'start': 60, 'end': 68, 'text': 'Bengaluru'}]},\n",
              " {'label': ['Companies worked at'],\n",
              "  'points': [{'start': 49, 'end': 57, 'text': 'Accenture'}]},\n",
              " {'label': ['Designation'],\n",
              "  'points': [{'start': 13,\n",
              "    'end': 45,\n",
              "    'text': 'Application Development Associate'}]},\n",
              " {'label': ['Name'],\n",
              "  'points': [{'start': 0, 'end': 11, 'text': 'Abhishek Jha'}]}]"
            ]
          },
          "metadata": {},
          "execution_count": 11
        }
      ],
      "source": [
        "df_data.iloc[0]['annotation']"
      ]
    },
    {
      "cell_type": "code",
      "execution_count": 12,
      "metadata": {
        "id": "-OV0Of4bJOJn"
      },
      "outputs": [],
      "source": [
        "def mergeIntervals(intervals):\n",
        "    sorted_by_lower_bound = sorted(intervals, key=lambda tup: tup[0])\n",
        "    merged = []\n",
        "\n",
        "    for higher in sorted_by_lower_bound:\n",
        "        if not merged:\n",
        "            merged.append(higher)\n",
        "        else:\n",
        "            lower = merged[-1]\n",
        "            if higher[0] <= lower[1]:\n",
        "                if lower[2] is higher[2]:\n",
        "                    upper_bound = max(lower[1], higher[1])\n",
        "                    merged[-1] = (lower[0], upper_bound, lower[2])\n",
        "                else:\n",
        "                    if lower[1] > higher[1]:\n",
        "                        merged[-1] = lower\n",
        "                    else:\n",
        "                        merged[-1] = (lower[0], higher[1], higher[2])\n",
        "            else:\n",
        "                merged.append(higher)\n",
        "    return merged"
      ]
    },
    {
      "cell_type": "code",
      "execution_count": 13,
      "metadata": {
        "id": "4M4pk-I1JOJn"
      },
      "outputs": [],
      "source": [
        "def get_entities(df):\n",
        "    \n",
        "    entities = []\n",
        "    \n",
        "    for i in range(len(df)):\n",
        "        entity = []\n",
        "    \n",
        "        for annot in df['annotation'][i]:\n",
        "            try:\n",
        "                ent = annot['label'][0]\n",
        "                start = annot['points'][0]['start']\n",
        "                end = annot['points'][0]['end'] + 1\n",
        "                entity.append((start, end, ent))\n",
        "            except:\n",
        "                pass\n",
        "    \n",
        "        entity = mergeIntervals(entity)\n",
        "        entities.append(entity)\n",
        "    \n",
        "    return entities"
      ]
    },
    {
      "cell_type": "code",
      "execution_count": 14,
      "metadata": {
        "id": "72XZabSWJOJo",
        "outputId": "15bf1bb7-2aa7-4378-c153-a9c484993de6",
        "colab": {
          "base_uri": "https://localhost:8080/",
          "height": 337
        }
      },
      "outputs": [
        {
          "output_type": "execute_result",
          "data": {
            "text/plain": [
              "                                             content  \\\n",
              "0  Abhishek Jha Application Development Associate...   \n",
              "1  Afreen Jamadar Active member of IIIT Committee...   \n",
              "2  Akhil Yadav Polemaina Hyderabad, Telangana - E...   \n",
              "3  Alok Khandai Operational Analyst (SQL DBA) Eng...   \n",
              "4  Ananya Chavan lecturer - oracle tutorials  Mum...   \n",
              "\n",
              "                                          annotation  \\\n",
              "0  [{'label': ['Skills'], 'points': [{'start': 12...   \n",
              "1  [{'label': ['Email Address'], 'points': [{'sta...   \n",
              "2  [{'label': ['Skills'], 'points': [{'start': 37...   \n",
              "3  [{'label': ['Skills'], 'points': [{'start': 80...   \n",
              "4  [{'label': ['Degree'], 'points': [{'start': 20...   \n",
              "\n",
              "                                            entities  \n",
              "0  [(0, 12, Name), (13, 46, Designation), (49, 58...  \n",
              "1  [(0, 14, Name), (62, 68, Location), (104, 148,...  \n",
              "2  [(0, 21, Name), (22, 31, Location), (65, 117, ...  \n",
              "3  [(0, 12, Name), (13, 51, Designation), (54, 60...  \n",
              "4  [(0, 13, Name), (14, 22, Designation), (24, 41...  "
            ],
            "text/html": [
              "\n",
              "  <div id=\"df-1ffeb74b-6093-46c5-b8b2-69ce9eae8df9\">\n",
              "    <div class=\"colab-df-container\">\n",
              "      <div>\n",
              "<style scoped>\n",
              "    .dataframe tbody tr th:only-of-type {\n",
              "        vertical-align: middle;\n",
              "    }\n",
              "\n",
              "    .dataframe tbody tr th {\n",
              "        vertical-align: top;\n",
              "    }\n",
              "\n",
              "    .dataframe thead th {\n",
              "        text-align: right;\n",
              "    }\n",
              "</style>\n",
              "<table border=\"1\" class=\"dataframe\">\n",
              "  <thead>\n",
              "    <tr style=\"text-align: right;\">\n",
              "      <th></th>\n",
              "      <th>content</th>\n",
              "      <th>annotation</th>\n",
              "      <th>entities</th>\n",
              "    </tr>\n",
              "  </thead>\n",
              "  <tbody>\n",
              "    <tr>\n",
              "      <th>0</th>\n",
              "      <td>Abhishek Jha Application Development Associate...</td>\n",
              "      <td>[{'label': ['Skills'], 'points': [{'start': 12...</td>\n",
              "      <td>[(0, 12, Name), (13, 46, Designation), (49, 58...</td>\n",
              "    </tr>\n",
              "    <tr>\n",
              "      <th>1</th>\n",
              "      <td>Afreen Jamadar Active member of IIIT Committee...</td>\n",
              "      <td>[{'label': ['Email Address'], 'points': [{'sta...</td>\n",
              "      <td>[(0, 14, Name), (62, 68, Location), (104, 148,...</td>\n",
              "    </tr>\n",
              "    <tr>\n",
              "      <th>2</th>\n",
              "      <td>Akhil Yadav Polemaina Hyderabad, Telangana - E...</td>\n",
              "      <td>[{'label': ['Skills'], 'points': [{'start': 37...</td>\n",
              "      <td>[(0, 21, Name), (22, 31, Location), (65, 117, ...</td>\n",
              "    </tr>\n",
              "    <tr>\n",
              "      <th>3</th>\n",
              "      <td>Alok Khandai Operational Analyst (SQL DBA) Eng...</td>\n",
              "      <td>[{'label': ['Skills'], 'points': [{'start': 80...</td>\n",
              "      <td>[(0, 12, Name), (13, 51, Designation), (54, 60...</td>\n",
              "    </tr>\n",
              "    <tr>\n",
              "      <th>4</th>\n",
              "      <td>Ananya Chavan lecturer - oracle tutorials  Mum...</td>\n",
              "      <td>[{'label': ['Degree'], 'points': [{'start': 20...</td>\n",
              "      <td>[(0, 13, Name), (14, 22, Designation), (24, 41...</td>\n",
              "    </tr>\n",
              "  </tbody>\n",
              "</table>\n",
              "</div>\n",
              "      <button class=\"colab-df-convert\" onclick=\"convertToInteractive('df-1ffeb74b-6093-46c5-b8b2-69ce9eae8df9')\"\n",
              "              title=\"Convert this dataframe to an interactive table.\"\n",
              "              style=\"display:none;\">\n",
              "        \n",
              "  <svg xmlns=\"http://www.w3.org/2000/svg\" height=\"24px\"viewBox=\"0 0 24 24\"\n",
              "       width=\"24px\">\n",
              "    <path d=\"M0 0h24v24H0V0z\" fill=\"none\"/>\n",
              "    <path d=\"M18.56 5.44l.94 2.06.94-2.06 2.06-.94-2.06-.94-.94-2.06-.94 2.06-2.06.94zm-11 1L8.5 8.5l.94-2.06 2.06-.94-2.06-.94L8.5 2.5l-.94 2.06-2.06.94zm10 10l.94 2.06.94-2.06 2.06-.94-2.06-.94-.94-2.06-.94 2.06-2.06.94z\"/><path d=\"M17.41 7.96l-1.37-1.37c-.4-.4-.92-.59-1.43-.59-.52 0-1.04.2-1.43.59L10.3 9.45l-7.72 7.72c-.78.78-.78 2.05 0 2.83L4 21.41c.39.39.9.59 1.41.59.51 0 1.02-.2 1.41-.59l7.78-7.78 2.81-2.81c.8-.78.8-2.07 0-2.86zM5.41 20L4 18.59l7.72-7.72 1.47 1.35L5.41 20z\"/>\n",
              "  </svg>\n",
              "      </button>\n",
              "      \n",
              "  <style>\n",
              "    .colab-df-container {\n",
              "      display:flex;\n",
              "      flex-wrap:wrap;\n",
              "      gap: 12px;\n",
              "    }\n",
              "\n",
              "    .colab-df-convert {\n",
              "      background-color: #E8F0FE;\n",
              "      border: none;\n",
              "      border-radius: 50%;\n",
              "      cursor: pointer;\n",
              "      display: none;\n",
              "      fill: #1967D2;\n",
              "      height: 32px;\n",
              "      padding: 0 0 0 0;\n",
              "      width: 32px;\n",
              "    }\n",
              "\n",
              "    .colab-df-convert:hover {\n",
              "      background-color: #E2EBFA;\n",
              "      box-shadow: 0px 1px 2px rgba(60, 64, 67, 0.3), 0px 1px 3px 1px rgba(60, 64, 67, 0.15);\n",
              "      fill: #174EA6;\n",
              "    }\n",
              "\n",
              "    [theme=dark] .colab-df-convert {\n",
              "      background-color: #3B4455;\n",
              "      fill: #D2E3FC;\n",
              "    }\n",
              "\n",
              "    [theme=dark] .colab-df-convert:hover {\n",
              "      background-color: #434B5C;\n",
              "      box-shadow: 0px 1px 3px 1px rgba(0, 0, 0, 0.15);\n",
              "      filter: drop-shadow(0px 1px 2px rgba(0, 0, 0, 0.3));\n",
              "      fill: #FFFFFF;\n",
              "    }\n",
              "  </style>\n",
              "\n",
              "      <script>\n",
              "        const buttonEl =\n",
              "          document.querySelector('#df-1ffeb74b-6093-46c5-b8b2-69ce9eae8df9 button.colab-df-convert');\n",
              "        buttonEl.style.display =\n",
              "          google.colab.kernel.accessAllowed ? 'block' : 'none';\n",
              "\n",
              "        async function convertToInteractive(key) {\n",
              "          const element = document.querySelector('#df-1ffeb74b-6093-46c5-b8b2-69ce9eae8df9');\n",
              "          const dataTable =\n",
              "            await google.colab.kernel.invokeFunction('convertToInteractive',\n",
              "                                                     [key], {});\n",
              "          if (!dataTable) return;\n",
              "\n",
              "          const docLinkHtml = 'Like what you see? Visit the ' +\n",
              "            '<a target=\"_blank\" href=https://colab.research.google.com/notebooks/data_table.ipynb>data table notebook</a>'\n",
              "            + ' to learn more about interactive tables.';\n",
              "          element.innerHTML = '';\n",
              "          dataTable['output_type'] = 'display_data';\n",
              "          await google.colab.output.renderOutput(dataTable, element);\n",
              "          const docLink = document.createElement('div');\n",
              "          docLink.innerHTML = docLinkHtml;\n",
              "          element.appendChild(docLink);\n",
              "        }\n",
              "      </script>\n",
              "    </div>\n",
              "  </div>\n",
              "  "
            ]
          },
          "metadata": {},
          "execution_count": 14
        }
      ],
      "source": [
        "df_data['entities'] = get_entities(df_data)\n",
        "df_data.head()"
      ]
    },
    {
      "cell_type": "code",
      "execution_count": 15,
      "metadata": {
        "id": "5BPvfpomJOJp"
      },
      "outputs": [],
      "source": [
        "def convert_dataturks_to_spacy(dataturks_JSON_FilePath):\n",
        "    try:\n",
        "        training_data = []\n",
        "        lines=[]\n",
        "        with open(dataturks_JSON_FilePath, 'r') as f:\n",
        "            lines = f.readlines()\n",
        "\n",
        "        for line in lines:\n",
        "            data = json.loads(line)\n",
        "            text = data['content'].replace(\"\\n\", \" \")\n",
        "            entities = []\n",
        "            data_annotations = data['annotation']\n",
        "            if data_annotations is not None:\n",
        "                for annotation in data_annotations:\n",
        "                    #only a single point in text annotation.\n",
        "                    point = annotation['points'][0]\n",
        "                    labels = annotation['label']\n",
        "                    # handle both list of labels or a single label.\n",
        "                    if not isinstance(labels, list):\n",
        "                        labels = [labels]\n",
        "\n",
        "                    for label in labels:\n",
        "                        point_start = point['start']\n",
        "                        point_end = point['end']\n",
        "                        point_text = point['text']\n",
        "                        \n",
        "                        lstrip_diff = len(point_text) - len(point_text.lstrip())\n",
        "                        rstrip_diff = len(point_text) - len(point_text.rstrip())\n",
        "                        if lstrip_diff != 0:\n",
        "                            point_start = point_start + lstrip_diff\n",
        "                        if rstrip_diff != 0:\n",
        "                            point_end = point_end - rstrip_diff\n",
        "                        entities.append((point_start, point_end + 1 , label))\n",
        "            training_data.append((text, {\"entities\" : entities}))\n",
        "        return training_data\n",
        "    except Exception as e:\n",
        "        logging.exception(\"Unable to process \" + dataturks_JSON_FilePath + \"\\n\" + \"error = \" + str(e))\n",
        "        return None\n",
        "\n",
        "def trim_entity_spans(data: list) -> list:\n",
        "    \"\"\"Removes leading and trailing white spaces from entity spans.\n",
        "\n",
        "    Args:\n",
        "        data (list): The data to be cleaned in spaCy JSON format.\n",
        "\n",
        "    Returns:\n",
        "        list: The cleaned data.\n",
        "    \"\"\"\n",
        "    invalid_span_tokens = re.compile(r'\\s')\n",
        "\n",
        "    cleaned_data = []\n",
        "    for text, annotations in data:\n",
        "        entities = annotations['entities']\n",
        "        valid_entities = []\n",
        "        for start, end, label in entities:\n",
        "            valid_start = start\n",
        "            valid_end = end\n",
        "            while valid_start < len(text) and invalid_span_tokens.match(\n",
        "                    text[valid_start]):\n",
        "                valid_start += 1\n",
        "            while valid_end > 1 and invalid_span_tokens.match(\n",
        "                    text[valid_end - 1]):\n",
        "                valid_end -= 1\n",
        "            valid_entities.append([valid_start, valid_end, label])\n",
        "        cleaned_data.append([text, {'entities': valid_entities}])\n",
        "    return cleaned_data  "
      ]
    },
    {
      "cell_type": "code",
      "execution_count": 16,
      "metadata": {
        "id": "IuByiYpMJOJr"
      },
      "outputs": [],
      "source": [
        "data = trim_entity_spans(convert_dataturks_to_spacy(\"datasets/ner.json\"))"
      ]
    },
    {
      "cell_type": "code",
      "execution_count": 17,
      "metadata": {
        "id": "2bJ9wtdaJOJr"
      },
      "outputs": [],
      "source": [
        "from tqdm.notebook import tqdm\n",
        "def clean_dataset(data):\n",
        "    cleanedDF = pd.DataFrame(columns=[\"setences_cleaned\"])\n",
        "    sum1 = 0\n",
        "    for i in tqdm(range(len(data))):\n",
        "        start = 0\n",
        "        emptyList = [\"Empty\"] * len(data[i][0].split())\n",
        "        numberOfWords = 0\n",
        "        lenOfString = len(data[i][0])\n",
        "        strData = data[i][0]\n",
        "        strDictData = data[i][1]\n",
        "        lastIndexOfSpace = strData.rfind(' ')\n",
        "        for i in range(lenOfString):\n",
        "            if (strData[i]==\" \" and strData[i+1]!=\" \"):\n",
        "                for k,v in strDictData.items():\n",
        "                    for j in range(len(v)):\n",
        "                        entList = v[len(v)-j-1]\n",
        "                        if (start>=int(entList[0]) and i<=int(entList[1])):\n",
        "                            emptyList[numberOfWords] = entList[2]\n",
        "                            break\n",
        "                        else:\n",
        "                            continue\n",
        "                start = i + 1  \n",
        "                numberOfWords += 1\n",
        "            if (i == lastIndexOfSpace):\n",
        "                for j in range(len(v)):\n",
        "                        entList = v[len(v)-j-1]\n",
        "                        if (lastIndexOfSpace>=int(entList[0]) and lenOfString<=int(entList[1])):\n",
        "                            emptyList[numberOfWords] = entList[2]\n",
        "                            numberOfWords += 1\n",
        "        cleanedDF = cleanedDF.append(pd.Series([emptyList],  index=cleanedDF.columns ), ignore_index=True )\n",
        "        sum1 = sum1 + numberOfWords\n",
        "    return cleanedDF"
      ]
    },
    {
      "cell_type": "code",
      "execution_count": 18,
      "metadata": {
        "id": "gVctAVOXJOJs",
        "outputId": "58bfe55e-2758-40f0-82ff-1c79f59f1dc0",
        "colab": {
          "base_uri": "https://localhost:8080/",
          "height": 49,
          "referenced_widgets": [
            "be5b8a680c2f44658e926abc46f1286d",
            "1a8458b7aa19444f9b5e50cab6cb424f",
            "0521263e2aea4fccb8514edc7abb7e0b",
            "e70ccb61b8c340609a2fdf4b68677742",
            "54b97d3b8b194e0282f5e012d30e2e72",
            "3093a7cd153749dc9670ee52ff1d5073",
            "7cb0ef10c0ee4f889449d352898044bf",
            "da897fc9f6234b11a58b1bfd93f13308",
            "f3a021a0fede4f5299692dfe4da20bcb",
            "bc78ffad33b241899ac18dad16a41610",
            "621bf0f04c564af4ba8bb0acb1299619"
          ]
        }
      },
      "outputs": [
        {
          "output_type": "display_data",
          "data": {
            "text/plain": [
              "  0%|          | 0/220 [00:00<?, ?it/s]"
            ],
            "application/vnd.jupyter.widget-view+json": {
              "version_major": 2,
              "version_minor": 0,
              "model_id": "be5b8a680c2f44658e926abc46f1286d"
            }
          },
          "metadata": {}
        }
      ],
      "source": [
        "cleanedDF = clean_dataset(data)"
      ]
    },
    {
      "cell_type": "markdown",
      "metadata": {
        "id": "9OOhidczJOJs"
      },
      "source": [
        "Take a look at your cleaned dataset and the categories the named-entities are matched to, or 'tags'."
      ]
    },
    {
      "cell_type": "code",
      "execution_count": 19,
      "metadata": {
        "id": "Lt508oqcJOJt",
        "outputId": "9eb10665-82d5-4cfe-d56b-a66007f545fb",
        "colab": {
          "base_uri": "https://localhost:8080/",
          "height": 206
        }
      },
      "outputs": [
        {
          "output_type": "execute_result",
          "data": {
            "text/plain": [
              "                                    setences_cleaned\n",
              "0  [Name, Name, Designation, Designation, Designa...\n",
              "1  [Name, Name, Empty, Empty, Empty, Empty, Empty...\n",
              "2  [Name, Name, Name, Empty, Empty, Empty, Empty,...\n",
              "3  [Name, Name, Designation, Designation, Designa...\n",
              "4  [Name, Name, Designation, Empty, Companies wor..."
            ],
            "text/html": [
              "\n",
              "  <div id=\"df-defb9738-1e28-4842-a771-51c61eebd6d4\">\n",
              "    <div class=\"colab-df-container\">\n",
              "      <div>\n",
              "<style scoped>\n",
              "    .dataframe tbody tr th:only-of-type {\n",
              "        vertical-align: middle;\n",
              "    }\n",
              "\n",
              "    .dataframe tbody tr th {\n",
              "        vertical-align: top;\n",
              "    }\n",
              "\n",
              "    .dataframe thead th {\n",
              "        text-align: right;\n",
              "    }\n",
              "</style>\n",
              "<table border=\"1\" class=\"dataframe\">\n",
              "  <thead>\n",
              "    <tr style=\"text-align: right;\">\n",
              "      <th></th>\n",
              "      <th>setences_cleaned</th>\n",
              "    </tr>\n",
              "  </thead>\n",
              "  <tbody>\n",
              "    <tr>\n",
              "      <th>0</th>\n",
              "      <td>[Name, Name, Designation, Designation, Designa...</td>\n",
              "    </tr>\n",
              "    <tr>\n",
              "      <th>1</th>\n",
              "      <td>[Name, Name, Empty, Empty, Empty, Empty, Empty...</td>\n",
              "    </tr>\n",
              "    <tr>\n",
              "      <th>2</th>\n",
              "      <td>[Name, Name, Name, Empty, Empty, Empty, Empty,...</td>\n",
              "    </tr>\n",
              "    <tr>\n",
              "      <th>3</th>\n",
              "      <td>[Name, Name, Designation, Designation, Designa...</td>\n",
              "    </tr>\n",
              "    <tr>\n",
              "      <th>4</th>\n",
              "      <td>[Name, Name, Designation, Empty, Companies wor...</td>\n",
              "    </tr>\n",
              "  </tbody>\n",
              "</table>\n",
              "</div>\n",
              "      <button class=\"colab-df-convert\" onclick=\"convertToInteractive('df-defb9738-1e28-4842-a771-51c61eebd6d4')\"\n",
              "              title=\"Convert this dataframe to an interactive table.\"\n",
              "              style=\"display:none;\">\n",
              "        \n",
              "  <svg xmlns=\"http://www.w3.org/2000/svg\" height=\"24px\"viewBox=\"0 0 24 24\"\n",
              "       width=\"24px\">\n",
              "    <path d=\"M0 0h24v24H0V0z\" fill=\"none\"/>\n",
              "    <path d=\"M18.56 5.44l.94 2.06.94-2.06 2.06-.94-2.06-.94-.94-2.06-.94 2.06-2.06.94zm-11 1L8.5 8.5l.94-2.06 2.06-.94-2.06-.94L8.5 2.5l-.94 2.06-2.06.94zm10 10l.94 2.06.94-2.06 2.06-.94-2.06-.94-.94-2.06-.94 2.06-2.06.94z\"/><path d=\"M17.41 7.96l-1.37-1.37c-.4-.4-.92-.59-1.43-.59-.52 0-1.04.2-1.43.59L10.3 9.45l-7.72 7.72c-.78.78-.78 2.05 0 2.83L4 21.41c.39.39.9.59 1.41.59.51 0 1.02-.2 1.41-.59l7.78-7.78 2.81-2.81c.8-.78.8-2.07 0-2.86zM5.41 20L4 18.59l7.72-7.72 1.47 1.35L5.41 20z\"/>\n",
              "  </svg>\n",
              "      </button>\n",
              "      \n",
              "  <style>\n",
              "    .colab-df-container {\n",
              "      display:flex;\n",
              "      flex-wrap:wrap;\n",
              "      gap: 12px;\n",
              "    }\n",
              "\n",
              "    .colab-df-convert {\n",
              "      background-color: #E8F0FE;\n",
              "      border: none;\n",
              "      border-radius: 50%;\n",
              "      cursor: pointer;\n",
              "      display: none;\n",
              "      fill: #1967D2;\n",
              "      height: 32px;\n",
              "      padding: 0 0 0 0;\n",
              "      width: 32px;\n",
              "    }\n",
              "\n",
              "    .colab-df-convert:hover {\n",
              "      background-color: #E2EBFA;\n",
              "      box-shadow: 0px 1px 2px rgba(60, 64, 67, 0.3), 0px 1px 3px 1px rgba(60, 64, 67, 0.15);\n",
              "      fill: #174EA6;\n",
              "    }\n",
              "\n",
              "    [theme=dark] .colab-df-convert {\n",
              "      background-color: #3B4455;\n",
              "      fill: #D2E3FC;\n",
              "    }\n",
              "\n",
              "    [theme=dark] .colab-df-convert:hover {\n",
              "      background-color: #434B5C;\n",
              "      box-shadow: 0px 1px 3px 1px rgba(0, 0, 0, 0.15);\n",
              "      filter: drop-shadow(0px 1px 2px rgba(0, 0, 0, 0.3));\n",
              "      fill: #FFFFFF;\n",
              "    }\n",
              "  </style>\n",
              "\n",
              "      <script>\n",
              "        const buttonEl =\n",
              "          document.querySelector('#df-defb9738-1e28-4842-a771-51c61eebd6d4 button.colab-df-convert');\n",
              "        buttonEl.style.display =\n",
              "          google.colab.kernel.accessAllowed ? 'block' : 'none';\n",
              "\n",
              "        async function convertToInteractive(key) {\n",
              "          const element = document.querySelector('#df-defb9738-1e28-4842-a771-51c61eebd6d4');\n",
              "          const dataTable =\n",
              "            await google.colab.kernel.invokeFunction('convertToInteractive',\n",
              "                                                     [key], {});\n",
              "          if (!dataTable) return;\n",
              "\n",
              "          const docLinkHtml = 'Like what you see? Visit the ' +\n",
              "            '<a target=\"_blank\" href=https://colab.research.google.com/notebooks/data_table.ipynb>data table notebook</a>'\n",
              "            + ' to learn more about interactive tables.';\n",
              "          element.innerHTML = '';\n",
              "          dataTable['output_type'] = 'display_data';\n",
              "          await google.colab.output.renderOutput(dataTable, element);\n",
              "          const docLink = document.createElement('div');\n",
              "          docLink.innerHTML = docLinkHtml;\n",
              "          element.appendChild(docLink);\n",
              "        }\n",
              "      </script>\n",
              "    </div>\n",
              "  </div>\n",
              "  "
            ]
          },
          "metadata": {},
          "execution_count": 19
        }
      ],
      "source": [
        "cleanedDF.head()"
      ]
    },
    {
      "cell_type": "markdown",
      "metadata": {
        "id": "mwNUVwyiJOJu"
      },
      "source": [
        "<a name='1-2'></a>\n",
        "### 1.2 - Padding and Generating Tags\n",
        "\n",
        "Now, it is time to generate a list of unique tags you will match the named-entities to."
      ]
    },
    {
      "cell_type": "code",
      "execution_count": 20,
      "metadata": {
        "id": "X6HBVkVgJOJv"
      },
      "outputs": [],
      "source": [
        "unique_tags = set(cleanedDF['setences_cleaned'].explode().unique())#pd.unique(cleanedDF['setences_cleaned'])#set(tag for doc in cleanedDF['setences_cleaned'].values.tolist() for tag in doc)\n",
        "tag2id = {tag: id for id, tag in enumerate(unique_tags)}\n",
        "id2tag = {id: tag for tag, id in tag2id.items()}"
      ]
    },
    {
      "cell_type": "code",
      "execution_count": 21,
      "metadata": {
        "id": "lq5faAFPJOJv",
        "outputId": "c145a038-93cc-4db0-8604-1f5a03c6d99e",
        "colab": {
          "base_uri": "https://localhost:8080/"
        }
      },
      "outputs": [
        {
          "output_type": "execute_result",
          "data": {
            "text/plain": [
              "{'College Name',\n",
              " 'Companies worked at',\n",
              " 'Degree',\n",
              " 'Designation',\n",
              " 'Email Address',\n",
              " 'Empty',\n",
              " 'Graduation Year',\n",
              " 'Location',\n",
              " 'Name',\n",
              " 'Skills',\n",
              " 'UNKNOWN',\n",
              " 'Years of Experience'}"
            ]
          },
          "metadata": {},
          "execution_count": 21
        }
      ],
      "source": [
        "unique_tags"
      ]
    },
    {
      "cell_type": "markdown",
      "metadata": {
        "id": "8MidsEvcJOJw"
      },
      "source": [
        "Next, you will create an array of tags from your cleaned dataset. Oftentimes your input sequence will exceed the maximum length of a sequence your network can process. In this case, your sequence will be cut off, and you need to append zeroes onto the end of the shortened sequences using this [Keras padding API](https://www.tensorflow.org/api_docs/python/tf/keras/preprocessing/sequence/pad_sequences)."
      ]
    },
    {
      "cell_type": "code",
      "execution_count": 22,
      "metadata": {
        "id": "kIj1dV46JOJw"
      },
      "outputs": [],
      "source": [
        "from tensorflow.keras.preprocessing.sequence import pad_sequences"
      ]
    },
    {
      "cell_type": "code",
      "execution_count": 23,
      "metadata": {
        "id": "5nh67awxJOJw"
      },
      "outputs": [],
      "source": [
        "MAX_LEN = 512\n",
        "labels = cleanedDF['setences_cleaned'].values.tolist()\n",
        "\n",
        "tags = pad_sequences([[tag2id.get(l) for l in lab] for lab in labels],\n",
        "                     maxlen=MAX_LEN, value=tag2id[\"Empty\"], padding=\"post\",\n",
        "                     dtype=\"long\", truncating=\"post\")"
      ]
    },
    {
      "cell_type": "code",
      "execution_count": 24,
      "metadata": {
        "id": "Lq8Eg0PKJOJw",
        "outputId": "f7b3d1de-91cd-4874-f81b-3a574debd5aa",
        "colab": {
          "base_uri": "https://localhost:8080/"
        }
      },
      "outputs": [
        {
          "output_type": "execute_result",
          "data": {
            "text/plain": [
              "array([[6, 6, 7, ..., 4, 4, 4],\n",
              "       [6, 6, 4, ..., 4, 4, 4],\n",
              "       [6, 6, 6, ..., 4, 2, 4],\n",
              "       ...,\n",
              "       [6, 6, 7, ..., 4, 4, 4],\n",
              "       [6, 6, 7, ..., 4, 4, 4],\n",
              "       [6, 6, 7, ..., 4, 4, 4]])"
            ]
          },
          "metadata": {},
          "execution_count": 24
        }
      ],
      "source": [
        "tags"
      ]
    },
    {
      "cell_type": "markdown",
      "metadata": {
        "id": "_ddnZxNiJOJx"
      },
      "source": [
        "<a name='1-3'></a>\n",
        "### 1.3 - Tokenize and Align Labels with 🤗 Library\n",
        "\n",
        "Before feeding the texts to a Transformer model, you will need to tokenize your input using a [🤗 Transformer tokenizer](https://huggingface.co/transformers/main_classes/tokenizer.html). It is crucial that the tokenizer you use must match the Transformer model type you are using! In this exercise, you will use the 🤗 [DistilBERT fast tokenizer](https://huggingface.co/transformers/model_doc/distilbert.html), which standardizes the length of your sequence to 512 and pads with zeros. Notice this matches the maximu length you used when creating tags. "
      ]
    },
    {
      "cell_type": "code",
      "execution_count": 25,
      "metadata": {
        "id": "OF8kBLMZJOJx"
      },
      "outputs": [],
      "source": [
        "from transformers import DistilBertTokenizerFast #, TFDistilBertModel\n",
        "tokenizer = DistilBertTokenizerFast.from_pretrained(\"distilbert-base-uncased\")"
      ]
    },
    {
      "cell_type": "markdown",
      "metadata": {
        "id": "bG5QH4XtJOJx"
      },
      "source": [
        "Transformer models are often trained by tokenizers that split words into subwords. For instance, the word 'Africa' might get split into multiple subtokens. This can create some misalignment between the list of tags for the dataset and the list of labels generated by the tokenizer, since the tokenizer can split one word into several, or add special tokens. Before processing, it is important that you align the lists of tags and the list of labels generated by the selected tokenizer with a `tokenize_and_align_labels()` function.\n",
        "\n",
        "<a name='ex-1'></a>\n",
        "### Exercise 1 - tokenize_and_align_labels\n",
        "\n",
        "Implement `tokenize_and_align_labels()`. The function should perform the following:\n",
        "* The tokenizer cuts sequences that exceed the maximum size allowed by your model with the parameter `truncation=True`\n",
        "* Aligns the list of tags and labels with the tokenizer `word_ids` method returns a list that maps the subtokens to the original word in the sentence and special tokens to `None`. \n",
        "* Set the labels of all the special tokens (`None`) to -100 to prevent them from affecting the loss function. \n",
        "* Label of the first subtoken of a word and set the label for the following subtokens to -100. "
      ]
    },
    {
      "cell_type": "code",
      "execution_count": 26,
      "metadata": {
        "id": "M1u4lUCCJOJx"
      },
      "outputs": [],
      "source": [
        "label_all_tokens = True\n",
        "def tokenize_and_align_labels(tokenizer, examples, tags):\n",
        "    tokenized_inputs = tokenizer(examples, truncation=True, is_split_into_words=False, padding='max_length', max_length=512)\n",
        "    labels = []\n",
        "    for i, label in enumerate(tags):\n",
        "        word_ids = tokenized_inputs.word_ids(batch_index=i)\n",
        "        previous_word_idx = None\n",
        "        label_ids = []\n",
        "        for word_idx in word_ids:\n",
        "            # Special tokens have a word id that is None. We set the label to -100 so they are automatically\n",
        "            # ignored in the loss function.\n",
        "            if word_idx is None:\n",
        "                label_ids.append(-100)\n",
        "            # We set the label for the first token of each word.\n",
        "            elif word_idx != previous_word_idx:\n",
        "                label_ids.append(label[word_idx])\n",
        "            # For the other tokens in a word, we set the label to either the current label or -100, depending on\n",
        "            # the label_all_tokens flag.\n",
        "            else:\n",
        "                label_ids.append(label[word_idx] if label_all_tokens else -100)\n",
        "            previous_word_idx = word_idx\n",
        "\n",
        "        labels.append(label_ids)\n",
        "\n",
        "    tokenized_inputs[\"labels\"] = labels\n",
        "    return tokenized_inputs"
      ]
    },
    {
      "cell_type": "markdown",
      "metadata": {
        "id": "BsQqp6ZXJOJy"
      },
      "source": [
        "Now that you have tokenized inputs, you can create train and test datasets!"
      ]
    },
    {
      "cell_type": "code",
      "execution_count": 27,
      "metadata": {
        "id": "70BOeTgfJOJy"
      },
      "outputs": [],
      "source": [
        "test = tokenize_and_align_labels(tokenizer, df_data['content'].values.tolist(), tags)\n",
        "train_dataset = tf.data.Dataset.from_tensor_slices((\n",
        "    test['input_ids'],\n",
        "    test['labels']\n",
        "))"
      ]
    },
    {
      "cell_type": "code",
      "source": [
        "# list(train_dataset.as_numpy_iterator())[0]"
      ],
      "metadata": {
        "id": "NGDKCoRUblRm"
      },
      "execution_count": 28,
      "outputs": []
    },
    {
      "cell_type": "markdown",
      "metadata": {
        "id": "7Y3wlG2SJOJy"
      },
      "source": [
        "<a name='1-4'></a>\n",
        "### 1.4 - Optimization\n",
        "\n",
        "Fantastic! Now you can finally feed your data into into a pretrained 🤗 model. You will optimize a DistilBERT model, which matches the tokenizer you used to preprocess your data. Try playing around with the different hyperparamters to improve your results!"
      ]
    },
    {
      "cell_type": "code",
      "execution_count": 29,
      "metadata": {
        "id": "LRttz2-7JOJz",
        "outputId": "a3f8a697-2e45-421b-9561-490e757b6f81",
        "colab": {
          "base_uri": "https://localhost:8080/"
        }
      },
      "outputs": [
        {
          "output_type": "stream",
          "name": "stderr",
          "text": [
            "Some layers from the model checkpoint at distilbert-base-uncased were not used when initializing TFDistilBertForTokenClassification: ['vocab_transform', 'vocab_layer_norm', 'vocab_projector', 'activation_13']\n",
            "- This IS expected if you are initializing TFDistilBertForTokenClassification from the checkpoint of a model trained on another task or with another architecture (e.g. initializing a BertForSequenceClassification model from a BertForPreTraining model).\n",
            "- This IS NOT expected if you are initializing TFDistilBertForTokenClassification from the checkpoint of a model that you expect to be exactly identical (initializing a BertForSequenceClassification model from a BertForSequenceClassification model).\n",
            "Some layers of TFDistilBertForTokenClassification were not initialized from the model checkpoint at distilbert-base-uncased and are newly initialized: ['dropout_19', 'classifier']\n",
            "You should probably TRAIN this model on a down-stream task to be able to use it for predictions and inference.\n"
          ]
        }
      ],
      "source": [
        "from transformers import TFDistilBertForTokenClassification\n",
        "\n",
        "model = TFDistilBertForTokenClassification.from_pretrained(\"distilbert-base-uncased\", num_labels=len(unique_tags))"
      ]
    },
    {
      "cell_type": "code",
      "execution_count": 30,
      "metadata": {
        "id": "35fkAYv5JOJz",
        "outputId": "c53a3c2e-1cf3-42ef-dca9-1ee7a64259f1",
        "colab": {
          "base_uri": "https://localhost:8080/"
        }
      },
      "outputs": [
        {
          "output_type": "stream",
          "name": "stderr",
          "text": [
            "No loss specified in compile() - the model's internal loss computation will be used as the loss. Don't panic - this is a common way to train TensorFlow models in Transformers! To disable this behaviour please pass a loss argument, or explicitly pass `loss=None` if you do not want your model to compute a loss.\n"
          ]
        },
        {
          "output_type": "stream",
          "name": "stdout",
          "text": [
            "14/14 [==============================] - 34s 941ms/step - loss: 1.8246 - accuracy: 0.5661\n"
          ]
        },
        {
          "output_type": "execute_result",
          "data": {
            "text/plain": [
              "<keras.callbacks.History at 0x7f30c95698b0>"
            ]
          },
          "metadata": {},
          "execution_count": 30
        }
      ],
      "source": [
        "optimizer = tf.keras.optimizers.Adam(learning_rate=1e-5)\n",
        "# model.compile(optimizer=optimizer, loss=model.compute_loss, metrics=['accuracy']) # can also use any keras loss fn\n",
        "model.compile(optimizer=optimizer, metrics=['accuracy'])\n",
        "model.fit(train_dataset.shuffle(1000).batch(16),\n",
        "          epochs=1, \n",
        "          batch_size=16)"
      ]
    },
    {
      "cell_type": "markdown",
      "source": [],
      "metadata": {
        "id": "7K6De8ggmcu4"
      }
    },
    {
      "cell_type": "markdown",
      "metadata": {
        "id": "lWDYpk4cJOJ0"
      },
      "source": [
        "### Congratulations!\n",
        "\n",
        "#### Here's what you should remember\n",
        "\n",
        "- Named-entity recognition (NER) detects and classifies named-entities, and can help process resumes, customer reviews, browsing histories, etc. \n",
        "- You must preprocess text data with the corresponding tokenizer to the pretrained model before feeding your input into your Transformer model"
      ]
    },
    {
      "cell_type": "code",
      "execution_count": 30,
      "metadata": {
        "id": "8Kla8oyiJOJ0"
      },
      "outputs": [],
      "source": []
    }
  ],
  "metadata": {
    "kernelspec": {
      "display_name": "Python 3",
      "language": "python",
      "name": "python3"
    },
    "language_info": {
      "codemirror_mode": {
        "name": "ipython",
        "version": 3
      },
      "file_extension": ".py",
      "mimetype": "text/x-python",
      "name": "python",
      "nbconvert_exporter": "python",
      "pygments_lexer": "ipython3",
      "version": "3.8.5"
    },
    "varInspector": {
      "cols": {
        "lenName": 16,
        "lenType": 16,
        "lenVar": 40
      },
      "kernels_config": {
        "python": {
          "delete_cmd_postfix": "",
          "delete_cmd_prefix": "del ",
          "library": "var_list.py",
          "varRefreshCmd": "print(var_dic_list())"
        },
        "r": {
          "delete_cmd_postfix": ") ",
          "delete_cmd_prefix": "rm(",
          "library": "var_list.r",
          "varRefreshCmd": "cat(var_dic_list()) "
        }
      },
      "types_to_exclude": [
        "module",
        "function",
        "builtin_function_or_method",
        "instance",
        "_Feature"
      ],
      "window_display": false
    },
    "colab": {
      "provenance": [],
      "include_colab_link": true
    },
    "accelerator": "GPU",
    "gpuClass": "standard",
    "widgets": {
      "application/vnd.jupyter.widget-state+json": {
        "be5b8a680c2f44658e926abc46f1286d": {
          "model_module": "@jupyter-widgets/controls",
          "model_name": "HBoxModel",
          "model_module_version": "1.5.0",
          "state": {
            "_dom_classes": [],
            "_model_module": "@jupyter-widgets/controls",
            "_model_module_version": "1.5.0",
            "_model_name": "HBoxModel",
            "_view_count": null,
            "_view_module": "@jupyter-widgets/controls",
            "_view_module_version": "1.5.0",
            "_view_name": "HBoxView",
            "box_style": "",
            "children": [
              "IPY_MODEL_1a8458b7aa19444f9b5e50cab6cb424f",
              "IPY_MODEL_0521263e2aea4fccb8514edc7abb7e0b",
              "IPY_MODEL_e70ccb61b8c340609a2fdf4b68677742"
            ],
            "layout": "IPY_MODEL_54b97d3b8b194e0282f5e012d30e2e72"
          }
        },
        "1a8458b7aa19444f9b5e50cab6cb424f": {
          "model_module": "@jupyter-widgets/controls",
          "model_name": "HTMLModel",
          "model_module_version": "1.5.0",
          "state": {
            "_dom_classes": [],
            "_model_module": "@jupyter-widgets/controls",
            "_model_module_version": "1.5.0",
            "_model_name": "HTMLModel",
            "_view_count": null,
            "_view_module": "@jupyter-widgets/controls",
            "_view_module_version": "1.5.0",
            "_view_name": "HTMLView",
            "description": "",
            "description_tooltip": null,
            "layout": "IPY_MODEL_3093a7cd153749dc9670ee52ff1d5073",
            "placeholder": "​",
            "style": "IPY_MODEL_7cb0ef10c0ee4f889449d352898044bf",
            "value": "100%"
          }
        },
        "0521263e2aea4fccb8514edc7abb7e0b": {
          "model_module": "@jupyter-widgets/controls",
          "model_name": "FloatProgressModel",
          "model_module_version": "1.5.0",
          "state": {
            "_dom_classes": [],
            "_model_module": "@jupyter-widgets/controls",
            "_model_module_version": "1.5.0",
            "_model_name": "FloatProgressModel",
            "_view_count": null,
            "_view_module": "@jupyter-widgets/controls",
            "_view_module_version": "1.5.0",
            "_view_name": "ProgressView",
            "bar_style": "success",
            "description": "",
            "description_tooltip": null,
            "layout": "IPY_MODEL_da897fc9f6234b11a58b1bfd93f13308",
            "max": 220,
            "min": 0,
            "orientation": "horizontal",
            "style": "IPY_MODEL_f3a021a0fede4f5299692dfe4da20bcb",
            "value": 220
          }
        },
        "e70ccb61b8c340609a2fdf4b68677742": {
          "model_module": "@jupyter-widgets/controls",
          "model_name": "HTMLModel",
          "model_module_version": "1.5.0",
          "state": {
            "_dom_classes": [],
            "_model_module": "@jupyter-widgets/controls",
            "_model_module_version": "1.5.0",
            "_model_name": "HTMLModel",
            "_view_count": null,
            "_view_module": "@jupyter-widgets/controls",
            "_view_module_version": "1.5.0",
            "_view_name": "HTMLView",
            "description": "",
            "description_tooltip": null,
            "layout": "IPY_MODEL_bc78ffad33b241899ac18dad16a41610",
            "placeholder": "​",
            "style": "IPY_MODEL_621bf0f04c564af4ba8bb0acb1299619",
            "value": " 220/220 [00:01&lt;00:00, 233.68it/s]"
          }
        },
        "54b97d3b8b194e0282f5e012d30e2e72": {
          "model_module": "@jupyter-widgets/base",
          "model_name": "LayoutModel",
          "model_module_version": "1.2.0",
          "state": {
            "_model_module": "@jupyter-widgets/base",
            "_model_module_version": "1.2.0",
            "_model_name": "LayoutModel",
            "_view_count": null,
            "_view_module": "@jupyter-widgets/base",
            "_view_module_version": "1.2.0",
            "_view_name": "LayoutView",
            "align_content": null,
            "align_items": null,
            "align_self": null,
            "border": null,
            "bottom": null,
            "display": null,
            "flex": null,
            "flex_flow": null,
            "grid_area": null,
            "grid_auto_columns": null,
            "grid_auto_flow": null,
            "grid_auto_rows": null,
            "grid_column": null,
            "grid_gap": null,
            "grid_row": null,
            "grid_template_areas": null,
            "grid_template_columns": null,
            "grid_template_rows": null,
            "height": null,
            "justify_content": null,
            "justify_items": null,
            "left": null,
            "margin": null,
            "max_height": null,
            "max_width": null,
            "min_height": null,
            "min_width": null,
            "object_fit": null,
            "object_position": null,
            "order": null,
            "overflow": null,
            "overflow_x": null,
            "overflow_y": null,
            "padding": null,
            "right": null,
            "top": null,
            "visibility": null,
            "width": null
          }
        },
        "3093a7cd153749dc9670ee52ff1d5073": {
          "model_module": "@jupyter-widgets/base",
          "model_name": "LayoutModel",
          "model_module_version": "1.2.0",
          "state": {
            "_model_module": "@jupyter-widgets/base",
            "_model_module_version": "1.2.0",
            "_model_name": "LayoutModel",
            "_view_count": null,
            "_view_module": "@jupyter-widgets/base",
            "_view_module_version": "1.2.0",
            "_view_name": "LayoutView",
            "align_content": null,
            "align_items": null,
            "align_self": null,
            "border": null,
            "bottom": null,
            "display": null,
            "flex": null,
            "flex_flow": null,
            "grid_area": null,
            "grid_auto_columns": null,
            "grid_auto_flow": null,
            "grid_auto_rows": null,
            "grid_column": null,
            "grid_gap": null,
            "grid_row": null,
            "grid_template_areas": null,
            "grid_template_columns": null,
            "grid_template_rows": null,
            "height": null,
            "justify_content": null,
            "justify_items": null,
            "left": null,
            "margin": null,
            "max_height": null,
            "max_width": null,
            "min_height": null,
            "min_width": null,
            "object_fit": null,
            "object_position": null,
            "order": null,
            "overflow": null,
            "overflow_x": null,
            "overflow_y": null,
            "padding": null,
            "right": null,
            "top": null,
            "visibility": null,
            "width": null
          }
        },
        "7cb0ef10c0ee4f889449d352898044bf": {
          "model_module": "@jupyter-widgets/controls",
          "model_name": "DescriptionStyleModel",
          "model_module_version": "1.5.0",
          "state": {
            "_model_module": "@jupyter-widgets/controls",
            "_model_module_version": "1.5.0",
            "_model_name": "DescriptionStyleModel",
            "_view_count": null,
            "_view_module": "@jupyter-widgets/base",
            "_view_module_version": "1.2.0",
            "_view_name": "StyleView",
            "description_width": ""
          }
        },
        "da897fc9f6234b11a58b1bfd93f13308": {
          "model_module": "@jupyter-widgets/base",
          "model_name": "LayoutModel",
          "model_module_version": "1.2.0",
          "state": {
            "_model_module": "@jupyter-widgets/base",
            "_model_module_version": "1.2.0",
            "_model_name": "LayoutModel",
            "_view_count": null,
            "_view_module": "@jupyter-widgets/base",
            "_view_module_version": "1.2.0",
            "_view_name": "LayoutView",
            "align_content": null,
            "align_items": null,
            "align_self": null,
            "border": null,
            "bottom": null,
            "display": null,
            "flex": null,
            "flex_flow": null,
            "grid_area": null,
            "grid_auto_columns": null,
            "grid_auto_flow": null,
            "grid_auto_rows": null,
            "grid_column": null,
            "grid_gap": null,
            "grid_row": null,
            "grid_template_areas": null,
            "grid_template_columns": null,
            "grid_template_rows": null,
            "height": null,
            "justify_content": null,
            "justify_items": null,
            "left": null,
            "margin": null,
            "max_height": null,
            "max_width": null,
            "min_height": null,
            "min_width": null,
            "object_fit": null,
            "object_position": null,
            "order": null,
            "overflow": null,
            "overflow_x": null,
            "overflow_y": null,
            "padding": null,
            "right": null,
            "top": null,
            "visibility": null,
            "width": null
          }
        },
        "f3a021a0fede4f5299692dfe4da20bcb": {
          "model_module": "@jupyter-widgets/controls",
          "model_name": "ProgressStyleModel",
          "model_module_version": "1.5.0",
          "state": {
            "_model_module": "@jupyter-widgets/controls",
            "_model_module_version": "1.5.0",
            "_model_name": "ProgressStyleModel",
            "_view_count": null,
            "_view_module": "@jupyter-widgets/base",
            "_view_module_version": "1.2.0",
            "_view_name": "StyleView",
            "bar_color": null,
            "description_width": ""
          }
        },
        "bc78ffad33b241899ac18dad16a41610": {
          "model_module": "@jupyter-widgets/base",
          "model_name": "LayoutModel",
          "model_module_version": "1.2.0",
          "state": {
            "_model_module": "@jupyter-widgets/base",
            "_model_module_version": "1.2.0",
            "_model_name": "LayoutModel",
            "_view_count": null,
            "_view_module": "@jupyter-widgets/base",
            "_view_module_version": "1.2.0",
            "_view_name": "LayoutView",
            "align_content": null,
            "align_items": null,
            "align_self": null,
            "border": null,
            "bottom": null,
            "display": null,
            "flex": null,
            "flex_flow": null,
            "grid_area": null,
            "grid_auto_columns": null,
            "grid_auto_flow": null,
            "grid_auto_rows": null,
            "grid_column": null,
            "grid_gap": null,
            "grid_row": null,
            "grid_template_areas": null,
            "grid_template_columns": null,
            "grid_template_rows": null,
            "height": null,
            "justify_content": null,
            "justify_items": null,
            "left": null,
            "margin": null,
            "max_height": null,
            "max_width": null,
            "min_height": null,
            "min_width": null,
            "object_fit": null,
            "object_position": null,
            "order": null,
            "overflow": null,
            "overflow_x": null,
            "overflow_y": null,
            "padding": null,
            "right": null,
            "top": null,
            "visibility": null,
            "width": null
          }
        },
        "621bf0f04c564af4ba8bb0acb1299619": {
          "model_module": "@jupyter-widgets/controls",
          "model_name": "DescriptionStyleModel",
          "model_module_version": "1.5.0",
          "state": {
            "_model_module": "@jupyter-widgets/controls",
            "_model_module_version": "1.5.0",
            "_model_name": "DescriptionStyleModel",
            "_view_count": null,
            "_view_module": "@jupyter-widgets/base",
            "_view_module_version": "1.2.0",
            "_view_name": "StyleView",
            "description_width": ""
          }
        }
      }
    }
  },
  "nbformat": 4,
  "nbformat_minor": 0
}