{
  "cells": [
    {
      "cell_type": "markdown",
      "metadata": {
        "id": "view-in-github",
        "colab_type": "text"
      },
      "source": [
        "<a href=\"https://colab.research.google.com/github/lpanigrahi/coursera/blob/main/Deep%20Learning/Sequence%20Models/C5_W4_A1_Transformer_Subclass_v1.ipynb\" target=\"_parent\"><img src=\"https://colab.research.google.com/assets/colab-badge.svg\" alt=\"Open In Colab\"/></a>"
      ]
    },
    {
      "cell_type": "markdown",
      "metadata": {
        "id": "AbzZLqIPv6b7",
        "outputId": "19f2fc2b-6f1d-4b43-fd50-4c513e3936fd"
      },
      "source": [
        "# Transformer Network\n",
        "\n",
        "Welcome to Week 4's assignment, the last assignment of Course 5 of the Deep Learning Specialization! And congratulations on making it to the last assignment of the entire Deep Learning Specialization - you're almost done!\n",
        "\n",
        "Ealier in the course, you've implemented sequential neural networks such as RNNs, GRUs, and LSTMs. In this notebook you'll explore the Transformer architecture, a neural network that takes advantage of parallel processing and allows you to substantially speed up the training process. \n",
        "\n",
        "**After this assignment you'll be able to**:\n",
        "\n",
        "* Create positional encodings to capture sequential relationships in data\n",
        "* Calculate scaled dot-product self-attention with word embeddings\n",
        "* Implement masked multi-head attention\n",
        "* Build and train a Transformer model\n",
        "\n",
        "For the last time, let's get started!"
      ]
    },
    {
      "cell_type": "markdown",
      "metadata": {
        "id": "yndXyZPP1l-u"
      },
      "source": [
        "## Table of Contents\n",
        "\n",
        "- [Packages](#0)\n",
        "- [1 - Positional Encoding](#1)\n",
        "    - [1.1 - Sine and Cosine Angles](#1-1)\n",
        "        - [Exercise 1 - get_angles](#ex-1)\n",
        "    - [1.2 - Sine and Cosine Positional Encodings](#1-2)\n",
        "        - [Exercise 2 - positional_encoding](#ex-2)\n",
        "- [2 - Masking](#2)\n",
        "    - [2.1 - Padding Mask](#2-1)\n",
        "    - [2.2 - Look-ahead Mask](#2-2)\n",
        "- [3 - Self-Attention](#3)\n",
        "    - [Exercise 3 - scaled_dot_product_attention](#ex-3)\n",
        "- [4 - Encoder](#4)\n",
        "    - [4.1 Encoder Layer](#4-1)\n",
        "        - [Exercise 4 - EncoderLayer](#ex-4)\n",
        "    - [4.2 - Full Encoder](#4-2)\n",
        "        - [Exercise 5 - Encoder](#ex-5)\n",
        "- [5 - Decoder](#5)\n",
        "    - [5.1 - Decoder Layer](#5-1)\n",
        "        - [Exercise 6 - DecoderLayer](#ex-6)\n",
        "    - [5.2 - Full Decoder](#5-2)\n",
        "        - [Exercise 7 - Decoder](#ex-7)\n",
        "- [6 - Transformer](#6)\n",
        "    - [Exercise 8 - Transformer](#ex-8)\n",
        "- [7 - References](#7)"
      ]
    },
    {
      "cell_type": "code",
      "source": [
        "from google.colab import drive\n",
        "drive.mount('/content/drive')"
      ],
      "metadata": {
        "id": "VtO0FKK22DxT",
        "outputId": "21be9407-d459-4940-820c-64d8fbd97d84",
        "colab": {
          "base_uri": "https://localhost:8080/"
        }
      },
      "execution_count": 1,
      "outputs": [
        {
          "output_type": "stream",
          "name": "stdout",
          "text": [
            "Drive already mounted at /content/drive; to attempt to forcibly remount, call drive.mount(\"/content/drive\", force_remount=True).\n"
          ]
        }
      ]
    },
    {
      "cell_type": "code",
      "source": [
        "import os"
      ],
      "metadata": {
        "id": "m8-aJVE62dZa"
      },
      "execution_count": 2,
      "outputs": []
    },
    {
      "cell_type": "code",
      "source": [
        "PROJECT_NAME = 'Transformer\\ Assignment'"
      ],
      "metadata": {
        "id": "FAltQMb-2hD5"
      },
      "execution_count": 3,
      "outputs": []
    },
    {
      "cell_type": "code",
      "source": [
        "WORKING_DIR = os.path.join(os.getcwd(),'drive/MyDrive/coursera',PROJECT_NAME)\n",
        "\n",
        "if not os.path.exists(WORKING_DIR):\n",
        "  %mkdir {WORKING_DIR}\n",
        "  %cd {WORKING_DIR}\n",
        "else:\n",
        "  %cd {WORKING_DIR}"
      ],
      "metadata": {
        "id": "9lS4nUI_2vLA",
        "outputId": "78a89f6b-6894-4f52-eb00-49a7799e1300",
        "colab": {
          "base_uri": "https://localhost:8080/"
        }
      },
      "execution_count": 4,
      "outputs": [
        {
          "output_type": "stream",
          "name": "stdout",
          "text": [
            "/content/drive/MyDrive/coursera/Transformer Assignment\n"
          ]
        }
      ]
    },
    {
      "cell_type": "code",
      "source": [
        "!pip install transformers"
      ],
      "metadata": {
        "id": "TTYNG3Y53H7N",
        "outputId": "f648986e-37c5-4b45-e44e-15c30c8a01db",
        "colab": {
          "base_uri": "https://localhost:8080/"
        }
      },
      "execution_count": 5,
      "outputs": [
        {
          "output_type": "stream",
          "name": "stdout",
          "text": [
            "Looking in indexes: https://pypi.org/simple, https://us-python.pkg.dev/colab-wheels/public/simple/\n",
            "Requirement already satisfied: transformers in /usr/local/lib/python3.8/dist-packages (4.26.0)\n",
            "Requirement already satisfied: numpy>=1.17 in /usr/local/lib/python3.8/dist-packages (from transformers) (1.21.6)\n",
            "Requirement already satisfied: regex!=2019.12.17 in /usr/local/lib/python3.8/dist-packages (from transformers) (2022.6.2)\n",
            "Requirement already satisfied: filelock in /usr/local/lib/python3.8/dist-packages (from transformers) (3.9.0)\n",
            "Requirement already satisfied: pyyaml>=5.1 in /usr/local/lib/python3.8/dist-packages (from transformers) (6.0)\n",
            "Requirement already satisfied: huggingface-hub<1.0,>=0.11.0 in /usr/local/lib/python3.8/dist-packages (from transformers) (0.12.0)\n",
            "Requirement already satisfied: packaging>=20.0 in /usr/local/lib/python3.8/dist-packages (from transformers) (23.0)\n",
            "Requirement already satisfied: tokenizers!=0.11.3,<0.14,>=0.11.1 in /usr/local/lib/python3.8/dist-packages (from transformers) (0.13.2)\n",
            "Requirement already satisfied: requests in /usr/local/lib/python3.8/dist-packages (from transformers) (2.25.1)\n",
            "Requirement already satisfied: tqdm>=4.27 in /usr/local/lib/python3.8/dist-packages (from transformers) (4.64.1)\n",
            "Requirement already satisfied: typing-extensions>=3.7.4.3 in /usr/local/lib/python3.8/dist-packages (from huggingface-hub<1.0,>=0.11.0->transformers) (4.4.0)\n",
            "Requirement already satisfied: idna<3,>=2.5 in /usr/local/lib/python3.8/dist-packages (from requests->transformers) (2.10)\n",
            "Requirement already satisfied: chardet<5,>=3.0.2 in /usr/local/lib/python3.8/dist-packages (from requests->transformers) (4.0.0)\n",
            "Requirement already satisfied: certifi>=2017.4.17 in /usr/local/lib/python3.8/dist-packages (from requests->transformers) (2022.12.7)\n",
            "Requirement already satisfied: urllib3<1.27,>=1.21.1 in /usr/local/lib/python3.8/dist-packages (from requests->transformers) (1.24.3)\n"
          ]
        }
      ]
    },
    {
      "cell_type": "markdown",
      "metadata": {
        "id": "FAvker1h1l-v"
      },
      "source": [
        "<a name='0'></a>\n",
        "## Packages\n",
        "\n",
        "Run the following cell to load the packages you'll need."
      ]
    },
    {
      "cell_type": "code",
      "execution_count": 6,
      "metadata": {
        "id": "_OpwqWL2QH5G"
      },
      "outputs": [],
      "source": [
        "import tensorflow as tf\n",
        "import pandas as pd\n",
        "import time\n",
        "import numpy as np\n",
        "import matplotlib.pyplot as plt\n",
        "\n",
        "from tensorflow.keras.layers import Embedding, MultiHeadAttention, Dense, Input, Dropout, LayerNormalization\n",
        "from transformers import DistilBertTokenizerFast #, TFDistilBertModel\n",
        "from transformers import TFDistilBertForTokenClassification\n",
        "from tqdm import tqdm_notebook as tqdm"
      ]
    },
    {
      "cell_type": "markdown",
      "metadata": {
        "id": "VEvyZPf91l-y"
      },
      "source": [
        "<a name='1'></a>\n",
        "## 1 - Positional Encoding\n",
        "\n",
        "In sequence to sequence tasks, the relative order of your data is extremely important to its meaning. When you were training sequential neural networks such as RNNs, you fed your inputs into the network in order. Information about the order of your data was automatically fed into your model.  However, when you train a Transformer network, you feed your data into the model all at once. While this dramatically reduces training time, there is no information about the order of your data. This is where positional encoding is useful - you can specifically encode the positions of your inputs and pass them into the network using these sine and cosine formulas:\n",
        "    \n",
        "$$\n",
        "PE_{(pos, 2i)}= sin\\left(\\frac{pos}{{10000}^{\\frac{2i}{d}}}\\right)\n",
        "\\tag{1}$$\n",
        "<br>\n",
        "$$\n",
        "PE_{(pos, 2i+1)}= cos\\left(\\frac{pos}{{10000}^{\\frac{2i}{d}}}\\right)\n",
        "\\tag{2}$$\n",
        "\n",
        "* $d$ is the dimension of the word embedding and positional encoding\n",
        "* $pos$ is the position of the word.\n",
        "* $i$ refers to each of the different dimensions of the positional encoding.\n",
        "\n",
        "The values of the sine and cosine equations are small enough (between -1 and 1) that when you add the positional encoding to a word embedding, the word embedding is not significantly distorted. The sum of the positional encoding and word embeding is ultimately what is fed into the model. Using a combination of these two equations helps your Transformer network attend to the relative positions of your input data. Note that while in the lectures Andrew uses vertical vectors but in this assignment, all vectors are horizontal. All matrix multiplications should be adjusted accordingly.\n",
        "\n",
        "<a name='1-1'></a>\n",
        "### 1.1 - Sine and Cosine Angles\n",
        "\n",
        "Get the possible angles used to compute the positional encodings by calculating the inner term of the sine and cosine equations: \n",
        "\n",
        "$$\\frac{pos}{10000^{\\frac{2i}{d}}} \\tag{3}$$\n",
        "\n",
        "<a name='ex-1'></a>\n",
        "### Exercise 1 - get_angles\n",
        "\n",
        "Implement the function `get_angles()` to calculate the possible angles for the sine and cosine  positional encodings"
      ]
    },
    {
      "cell_type": "code",
      "execution_count": 7,
      "metadata": {
        "id": "bPzwMVfcQpT-"
      },
      "outputs": [],
      "source": [
        "# UNQ_C1 (UNIQUE CELL IDENTIFIER, DO NOT EDIT)\n",
        "# GRADED FUNCTION get_angles\n",
        "def get_angles(pos, i, d):\n",
        "    \"\"\"\n",
        "    Get the angles for the positional encoding\n",
        "    \n",
        "    Arguments:\n",
        "        pos -- Column vector containing the positions [[0], [1], ...,[N-1]]\n",
        "        i --   Row vector containing the dimension span [[0, 1, 2, ..., M-1]]\n",
        "        d(integer) -- Encoding size\n",
        "    \n",
        "    Returns:\n",
        "        angles -- (pos, d) numpy array \n",
        "    \"\"\"\n",
        "    # START CODE HERE\n",
        "    angles = pos/ (np.power(10000, (2 * (i//2)) / np.float32(d)))\n",
        "    # END CODE HERE\n",
        "    \n",
        "    return angles"
      ]
    },
    {
      "cell_type": "code",
      "execution_count": 8,
      "metadata": {
        "scrolled": true,
        "id": "gNMOUIBj1l-0",
        "outputId": "00fee39a-9754-4572-84f4-1eb81ada9acd",
        "colab": {
          "base_uri": "https://localhost:8080/"
        }
      },
      "outputs": [
        {
          "output_type": "stream",
          "name": "stdout",
          "text": [
            "\u001b[92mAll tests passed\n"
          ]
        },
        {
          "output_type": "execute_result",
          "data": {
            "text/plain": [
              "array([[0.e+00, 0.e+00, 0.e+00, 0.e+00, 0.e+00, 0.e+00, 0.e+00, 0.e+00],\n",
              "       [1.e+00, 1.e+00, 1.e-01, 1.e-01, 1.e-02, 1.e-02, 1.e-03, 1.e-03],\n",
              "       [2.e+00, 2.e+00, 2.e-01, 2.e-01, 2.e-02, 2.e-02, 2.e-03, 2.e-03],\n",
              "       [3.e+00, 3.e+00, 3.e-01, 3.e-01, 3.e-02, 3.e-02, 3.e-03, 3.e-03]])"
            ]
          },
          "metadata": {},
          "execution_count": 8
        }
      ],
      "source": [
        "# UNIT TEST\n",
        "def get_angles_test(target):\n",
        "    position = 4\n",
        "    d_model = 16\n",
        "    pos_m = np.arange(position)[:, np.newaxis]\n",
        "    dims = np.arange(d_model)[np.newaxis, :]\n",
        "\n",
        "    result = target(pos_m, dims, d_model)\n",
        "\n",
        "    assert type(result) == np.ndarray, \"You must return a numpy ndarray\"\n",
        "    assert result.shape == (position, d_model), f\"Wrong shape. We expected: ({position}, {d_model})\"\n",
        "    assert np.sum(result[0, :]) == 0\n",
        "    assert np.isclose(np.sum(result[:, 0]), position * (position - 1) / 2)\n",
        "    even_cols =  result[:, 0::2]\n",
        "    odd_cols = result[:,  1::2]\n",
        "    assert np.all(even_cols == odd_cols), \"Submatrices of odd and even columns must be equal\"\n",
        "    limit = (position - 1) / np.power(10000,14.0/16.0)\n",
        "    assert np.isclose(result[position - 1, d_model -1], limit ), f\"Last value must be {limit}\"\n",
        "\n",
        "    print(\"\\033[92mAll tests passed\")\n",
        "\n",
        "get_angles_test(get_angles)\n",
        "\n",
        "# Example\n",
        "position = 4\n",
        "d_model = 8\n",
        "pos_m = np.arange(position)[:, np.newaxis]\n",
        "dims = np.arange(d_model)[np.newaxis, :]\n",
        "get_angles(pos_m, dims, d_model)"
      ]
    },
    {
      "cell_type": "markdown",
      "metadata": {
        "id": "yg3mGjv21l-2"
      },
      "source": [
        "<a name='1-2'></a>\n",
        "### 1.2 - Sine and Cosine Positional Encodings\n",
        "\n",
        "Now you can use the angles you computed to calculate the sine and cosine positional encodings.\n",
        "\n",
        "$$\n",
        "PE_{(pos, 2i)}= sin\\left(\\frac{pos}{{10000}^{\\frac{2i}{d}}}\\right)\n",
        "$$\n",
        "<br>\n",
        "$$\n",
        "PE_{(pos, 2i+1)}= cos\\left(\\frac{pos}{{10000}^{\\frac{2i}{d}}}\\right)\n",
        "$$\n",
        "\n",
        "<a name='ex-2'></a>\n",
        "### Exercise 2 - positional_encoding\n",
        "\n",
        "Implement the function `positional_encoding()` to calculate the sine and cosine  positional encodings\n",
        "\n",
        "**Reminder:** Use the sine equation when $i$ is an even number and the cosine equation when $i$ is an odd number.\n",
        "\n",
        "#### Additional Hints\n",
        "* You may find \n",
        "[np.newaxis](https://numpy.org/doc/stable/reference/arrays.indexing.html) useful depending on the implementation you choose. "
      ]
    },
    {
      "cell_type": "code",
      "execution_count": 9,
      "metadata": {
        "id": "y78txxoHQtwG"
      },
      "outputs": [],
      "source": [
        "# UNQ_C2 (UNIQUE CELL IDENTIFIER, DO NOT EDIT)\n",
        "# GRADED FUNCTION positional_encoding\n",
        "def positional_encoding(positions, d):\n",
        "    \"\"\"\n",
        "    Precomputes a matrix with all the positional encodings \n",
        "    \n",
        "    Arguments:\n",
        "        positions (int) -- Maximum number of positions to be encoded \n",
        "        d (int) -- Encoding size \n",
        "    \n",
        "    Returns:\n",
        "        pos_encoding -- (1, position, d_model) A matrix with the positional encodings\n",
        "    \"\"\"\n",
        "    # START CODE HERE\n",
        "    # initialize a matrix angle_rads of all the angles \n",
        "    angle_rads = get_angles(np.arange(positions)[:, np.newaxis],\n",
        "                            np.arange(d)[ np.newaxis,:],\n",
        "                            d)\n",
        "  \n",
        "    # -> angle_rads has dim (positions,d)\n",
        "    # apply sin to even indices in the array; 2i\n",
        "    angle_rads[:, 0::2] = np.sin(angle_rads[:, 0::2])\n",
        "  \n",
        "    # apply cos to odd indices in the array; 2i+1\n",
        "    angle_rads[:, 1::2] = np.cos(angle_rads[:, 1::2])\n",
        "    # END CODE HERE\n",
        "    \n",
        "    pos_encoding = angle_rads[np.newaxis, ...]\n",
        "    \n",
        "    return tf.cast(pos_encoding, dtype=tf.float32)"
      ]
    },
    {
      "cell_type": "code",
      "execution_count": 10,
      "metadata": {
        "colab": {
          "base_uri": "https://localhost:8080/"
        },
        "id": "jYiWrawRQvuv",
        "outputId": "6451c02d-46ef-4a80-8284-8c243f7b06ee"
      },
      "outputs": [
        {
          "output_type": "stream",
          "name": "stdout",
          "text": [
            "\u001b[92mAll tests passed\n"
          ]
        }
      ],
      "source": [
        "# UNIT TEST\n",
        "def positional_encoding_test(target):\n",
        "    position = 8\n",
        "    d_model = 16\n",
        "\n",
        "    pos_encoding = target(position, d_model)\n",
        "    sin_part = pos_encoding[:, :, 0::2]\n",
        "    cos_part = pos_encoding[:, :, 1::2]\n",
        "\n",
        "    assert tf.is_tensor(pos_encoding), \"Output is not a tensor\"\n",
        "    assert pos_encoding.shape == (1, position, d_model), f\"Wrong shape. We expected: (1, {position}, {d_model})\"\n",
        "\n",
        "    ones = sin_part ** 2  +  cos_part ** 2\n",
        "    assert np.allclose(ones, np.ones((1, position, d_model // 2))), \"Sum of square pairs must be 1 = sin(a)**2 + cos(a)**2\"\n",
        "    \n",
        "    angs = np.arctan(sin_part / cos_part)\n",
        "    angs[angs < 0] += np.pi\n",
        "    angs[sin_part.numpy() < 0] += np.pi\n",
        "    angs = angs % (2 * np.pi)\n",
        "    \n",
        "    pos_m = np.arange(position)[:, np.newaxis]\n",
        "    dims = np.arange(d_model)[np.newaxis, :]\n",
        "\n",
        "    trueAngs = get_angles(pos_m, dims, d_model)[:, 0::2] % (2 * np.pi)\n",
        "    \n",
        "    assert np.allclose(angs[0], trueAngs), \"Did you apply sin and cos to even and odd parts respectively?\"\n",
        " \n",
        "    print(\"\\033[92mAll tests passed\")\n",
        "\n",
        "    \n",
        "positional_encoding_test(positional_encoding)\n"
      ]
    },
    {
      "cell_type": "markdown",
      "metadata": {
        "id": "0aizRLpJ1l-5"
      },
      "source": [
        "Nice work calculating the positional encodings! Now you can visualize them."
      ]
    },
    {
      "cell_type": "code",
      "execution_count": 11,
      "metadata": {
        "id": "k1KnUVOM1l-6",
        "outputId": "111c0184-14ed-48fa-958c-7fefd492d59f",
        "colab": {
          "base_uri": "https://localhost:8080/",
          "height": 300
        }
      },
      "outputs": [
        {
          "output_type": "stream",
          "name": "stdout",
          "text": [
            "(1, 50, 512)\n"
          ]
        },
        {
          "output_type": "display_data",
          "data": {
            "text/plain": [
              "<Figure size 432x288 with 2 Axes>"
            ],
            "image/png": "[encoded data removed]"
          },
          "metadata": {
            "needs_background": "light"
          }
        }
      ],
      "source": [
        "pos_encoding = positional_encoding(50, 512)\n",
        "\n",
        "print (pos_encoding.shape)\n",
        "\n",
        "plt.pcolormesh(pos_encoding[0], cmap='RdBu')\n",
        "plt.xlabel('d')\n",
        "plt.xlim((0, 512))\n",
        "plt.ylabel('Position')\n",
        "plt.colorbar()\n",
        "plt.show()"
      ]
    },
    {
      "cell_type": "markdown",
      "metadata": {
        "id": "HIE0gOmu1l-7"
      },
      "source": [
        "Each row represents a positional encoding - notice how none of the rows are identical! You have created a unique positional encoding for each of the words."
      ]
    },
    {
      "cell_type": "markdown",
      "metadata": {
        "id": "Sx8IRjaH1l-8"
      },
      "source": [
        "<a name='2'></a>\n",
        "## 2 - Masking\n",
        "\n",
        "There are two types of masks that are useful when building your Transformer network: the *padding mask* and the *look-ahead mask*. Both help the softmax computation give the appropriate weights to the words in your input sentence. \n",
        "\n",
        "<a name='2-1'></a>\n",
        "### 2.1 - Padding Mask\n",
        "\n",
        "Oftentimes your input sequence will exceed the maximum length of a sequence your network can process. Let's say the maximum length of your model is five, it is fed the following sequences:\n",
        "\n",
        "    [[\"Do\", \"you\", \"know\", \"when\", \"Jane\", \"is\", \"going\", \"to\", \"visit\", \"Africa\"], \n",
        "     [\"Jane\", \"visits\", \"Africa\", \"in\", \"September\" ],\n",
        "     [\"Exciting\", \"!\"]\n",
        "    ]\n",
        "\n",
        "which might get vectorized as:\n",
        "\n",
        "    [[ 71, 121, 4, 56, 99, 2344, 345, 1284, 15],\n",
        "     [ 56, 1285, 15, 181, 545],\n",
        "     [ 87, 600]\n",
        "    ]\n",
        "    \n",
        "When passing sequences into a transformer model, it is important that they are of uniform length. You can achieve this by padding the sequence with zeros, and truncating sentences that exceed the maximum length of your model:\n",
        "\n",
        "    [[ 71, 121, 4, 56, 99],\n",
        "     [ 2344, 345, 1284, 15, 0],\n",
        "     [ 56, 1285, 15, 181, 545],\n",
        "     [ 87, 600, 0, 0, 0],\n",
        "    ]\n",
        "    \n",
        "Sequences longer than the maximum length of five will be truncated, and zeros will be added to the truncated sequence to achieve uniform length. Similarly, for sequences shorter than the maximum length, they zeros will also be added for padding. However, these zeros will affect the softmax calculation - this is when a padding mask comes in handy! By multiplying a padding mask by -1e9 and adding it to your sequence, you mask out the zeros by setting them to close to negative infinity. We'll implement this for you so you can get to the fun of building the Transformer network! 😇 Just make sure you go through the code so you can correctly implement padding when building your model. \n",
        "\n",
        "After masking, your input should go from `[87, 600, 0, 0, 0]` to `[87, 600, -1e9, -1e9, -1e9]`, so that when you take the softmax, the zeros don't affect the score."
      ]
    },
    {
      "cell_type": "code",
      "execution_count": 12,
      "metadata": {
        "id": "JOL9XWsFQxxo"
      },
      "outputs": [],
      "source": [
        "def create_padding_mask(seq):\n",
        "    \"\"\"\n",
        "    Creates a matrix mask for the padding cells\n",
        "    \n",
        "    Arguments:\n",
        "        seq -- (n, m) matrix\n",
        "    \n",
        "    Returns:\n",
        "        mask -- (n, 1, 1, m) binary tensor\n",
        "    \"\"\"\n",
        "    seq = tf.cast(tf.math.equal(seq, 0), tf.float32)\n",
        "  \n",
        "    # add extra dimensions to add the padding\n",
        "    # to the attention logits.\n",
        "    return seq[:, tf.newaxis, tf.newaxis, :] "
      ]
    },
    {
      "cell_type": "code",
      "execution_count": 13,
      "metadata": {
        "colab": {
          "base_uri": "https://localhost:8080/"
        },
        "id": "5J5FFjklQ1Fz",
        "outputId": "50a5a38d-cbd2-4f72-b2f5-7843d8569c31",
        "scrolled": true
      },
      "outputs": [
        {
          "output_type": "stream",
          "name": "stdout",
          "text": [
            "tf.Tensor(\n",
            "[[[[0. 0. 1. 1. 0.]]]\n",
            "\n",
            "\n",
            " [[[0. 0. 0. 1. 1.]]]\n",
            "\n",
            "\n",
            " [[[1. 1. 1. 0. 0.]]]], shape=(3, 1, 1, 5), dtype=float32)\n"
          ]
        }
      ],
      "source": [
        "x = tf.constant([[7., 6., 0., 0., 1.], [1., 2., 3., 0., 0.], [0., 0., 0., 4., 5.]])\n",
        "print(create_padding_mask(x))"
      ]
    },
    {
      "cell_type": "markdown",
      "metadata": {
        "id": "lCQX6Cqb1l-9"
      },
      "source": [
        "If we multiply this mask by -1e9 and add it to the sample input sequences, the zeros are essentially set to negative infinity. Notice the difference when taking the softmax of the original sequence and the masked sequence:"
      ]
    },
    {
      "cell_type": "code",
      "execution_count": 14,
      "metadata": {
        "scrolled": true,
        "id": "RiMW6ege1l--",
        "outputId": "845b7abd-8f56-4ba5-fbe2-d3ec4d4192d3",
        "colab": {
          "base_uri": "https://localhost:8080/"
        }
      },
      "outputs": [
        {
          "output_type": "stream",
          "name": "stdout",
          "text": [
            "tf.Tensor(\n",
            "[[7.2876644e-01 2.6809821e-01 6.6454901e-04 6.6454901e-04 1.8064314e-03]\n",
            " [8.4437378e-02 2.2952460e-01 6.2391251e-01 3.1062774e-02 3.1062774e-02]\n",
            " [4.8541026e-03 4.8541026e-03 4.8541026e-03 2.6502505e-01 7.2041273e-01]], shape=(3, 5), dtype=float32)\n",
            "tf.Tensor(\n",
            "[[[[7.2973627e-01 2.6845497e-01 0.0000000e+00 0.0000000e+00\n",
            "    1.8088354e-03]\n",
            "   [2.4472848e-01 6.6524094e-01 0.0000000e+00 0.0000000e+00\n",
            "    9.0030573e-02]\n",
            "   [6.6483542e-03 6.6483542e-03 0.0000000e+00 0.0000000e+00\n",
            "    9.8670328e-01]]]\n",
            "\n",
            "\n",
            " [[[7.3057157e-01 2.6876226e-01 6.6619506e-04 0.0000000e+00\n",
            "    0.0000000e+00]\n",
            "   [9.0030573e-02 2.4472848e-01 6.6524094e-01 0.0000000e+00\n",
            "    0.0000000e+00]\n",
            "   [3.3333331e-01 3.3333331e-01 3.3333331e-01 0.0000000e+00\n",
            "    0.0000000e+00]]]\n",
            "\n",
            "\n",
            " [[[0.0000000e+00 0.0000000e+00 0.0000000e+00 2.6894143e-01\n",
            "    7.3105860e-01]\n",
            "   [0.0000000e+00 0.0000000e+00 0.0000000e+00 4.9999997e-01\n",
            "    4.9999997e-01]\n",
            "   [0.0000000e+00 0.0000000e+00 0.0000000e+00 2.6894143e-01\n",
            "    7.3105860e-01]]]], shape=(3, 1, 3, 5), dtype=float32)\n"
          ]
        }
      ],
      "source": [
        "print(tf.keras.activations.softmax(x))\n",
        "print(tf.keras.activations.softmax(x + create_padding_mask(x) * -1.0e9))"
      ]
    },
    {
      "cell_type": "markdown",
      "metadata": {
        "id": "3K8CxU2-1l--"
      },
      "source": [
        "<a name='2-2'></a>\n",
        "### 2.2 - Look-ahead Mask\n",
        "\n",
        "The look-ahead mask follows similar intuition. In training, you will have access to the complete correct output of your training example. The look-ahead mask helps your model pretend that it correctly predicted a part of the output and see if, *without looking ahead*, it can correctly predict the next output. \n",
        "\n",
        "For example, if the expected correct output is `[1, 2, 3]` and you wanted to see if given that the model correctly predicted the first value it could predict the second value, you would mask out the second and third values. So you would input the masked sequence `[1, -1e9, -1e9]` and see if it could generate `[1, 2, -1e9]`.\n",
        "\n",
        "Just because you've worked so hard, we'll also implement this mask for you 😇😇. Again, take a close look at the code so you can effictively implement it later."
      ]
    },
    {
      "cell_type": "code",
      "execution_count": 15,
      "metadata": {
        "id": "9O9UbM31Q3hK"
      },
      "outputs": [],
      "source": [
        "def create_look_ahead_mask(size):\n",
        "    \"\"\"\n",
        "    Returns an upper triangular matrix filled with ones\n",
        "    \n",
        "    Arguments:\n",
        "        size -- matrix size\n",
        "    \n",
        "    Returns:\n",
        "        mask -- (size, size) tensor\n",
        "    \"\"\"\n",
        "    mask = tf.linalg.band_part(tf.ones((size, size)), -1, 0)\n",
        "    return mask "
      ]
    },
    {
      "cell_type": "code",
      "execution_count": 16,
      "metadata": {
        "colab": {
          "base_uri": "https://localhost:8080/"
        },
        "id": "nfzHoVj9Q5nG",
        "outputId": "cf35427d-08a9-4f96-b6e7-904ab97c0e90",
        "scrolled": true
      },
      "outputs": [
        {
          "output_type": "execute_result",
          "data": {
            "text/plain": [
              "<tf.Tensor: shape=(3, 3), dtype=float32, numpy=\n",
              "array([[1., 0., 0.],\n",
              "       [1., 1., 0.],\n",
              "       [1., 1., 1.]], dtype=float32)>"
            ]
          },
          "metadata": {},
          "execution_count": 16
        }
      ],
      "source": [
        "x = tf.random.uniform((1, 3))\n",
        "temp = create_look_ahead_mask(x.shape[1])\n",
        "temp"
      ]
    },
    {
      "cell_type": "markdown",
      "metadata": {
        "id": "VG0gPyv0oDBi"
      },
      "source": [
        "<a name='3'></a>\n",
        "## 3 - Self-Attention\n",
        "\n",
        "As the authors of the Transformers paper state, \"Attention is All You Need\". \n",
        "\n",
        "<img src=\"https://github.com/lpanigrahi/coursera/blob/main/Deep%20Learning/Sequence%20Models/self-attention.png?raw=1\" alt=\"Encoder\" width=\"600\"/>\n",
        "<caption><center><font color='purple'><b>Figure 1: Self-Attention calculation visualization</font></center></caption>\n",
        "    \n",
        "The use of self-attention paired with traditional convolutional networks allows for the parallization which speeds up training. You will implement **scaled dot product attention** which takes in a query, key, value, and a mask as inputs to returns rich, attention-based vector representations of the words in your sequence. This type of self-attention can be mathematically expressed as:\n",
        "$$\n",
        "\\text { Attention }(Q, K, V)=\\operatorname{softmax}\\left(\\frac{Q K^{T}}{\\sqrt{d_{k}}}+{M}\\right) V\\tag{4}\\\n",
        "$$\n",
        "\n",
        "* $Q$ is the matrix of queries \n",
        "* $K$ is the matrix of keys\n",
        "* $V$ is the matrix of values\n",
        "* $M$ is the optional mask you choose to apply \n",
        "* ${d_k}$ is the dimension of the keys, which is used to scale everything down so the softmax doesn't explode\n",
        "\n",
        "<a name='ex-3'></a>\n",
        "### Exercise 3 - scaled_dot_product_attention \n",
        "\n",
        "    Implement the function `scaled_dot_product_attention()` to create attention-based representations\n",
        "**Reminder**: The boolean mask parameter can be passed in as `none` or as either padding or look-ahead. Multiply it by -1e9 before applying the softmax. \n",
        "\n",
        "**Additional Hints**\n",
        "* You may find [tf.matmul](https://www.tensorflow.org/api_docs/python/tf/linalg/matmul) useful for matrix multiplication."
      ]
    },
    {
      "cell_type": "code",
      "execution_count": 17,
      "metadata": {
        "id": "CSysk_rjQ7lp"
      },
      "outputs": [],
      "source": [
        "# UNQ_C3 (UNIQUE CELL IDENTIFIER, DO NOT EDIT)\n",
        "# GRADED FUNCTION scaled_dot_product_attention\n",
        "def scaled_dot_product_attention(q, k, v, mask):\n",
        "    \"\"\"\n",
        "    Calculate the attention weights.\n",
        "      q, k, v must have matching leading dimensions.\n",
        "      k, v must have matching penultimate dimension, i.e.: seq_len_k = seq_len_v.\n",
        "      The mask has different shapes depending on its type(padding or look ahead) \n",
        "      but it must be broadcastable for addition.\n",
        "\n",
        "    Arguments:\n",
        "        q -- query shape == (..., seq_len_q, depth)\n",
        "        k -- key shape == (..., seq_len_k, depth)\n",
        "        v -- value shape == (..., seq_len_v, depth_v)\n",
        "        mask: Float tensor with shape broadcastable \n",
        "              to (..., seq_len_q, seq_len_k). Defaults to None.\n",
        "\n",
        "    Returns:\n",
        "        output -- attention_weights\n",
        "    \"\"\"\n",
        "    # START CODE HERE\n",
        "    \n",
        "    # Q*K'\n",
        "    matmul_qk = tf.matmul(q, k, transpose_b=True)\n",
        "\n",
        "    # scale matmul_qk\n",
        "    dk = tf.cast(tf.shape(k)[-1], tf.float32)\n",
        "    scaled_attention_logits = matmul_qk / tf.math.sqrt(dk)\n",
        "\n",
        "    # add the mask to the scaled tensor.\n",
        "    if mask is not None:\n",
        "        scaled_attention_logits += (mask * -1e9)\n",
        "\n",
        "    # softmax is normalized on the last axis (seq_len_k) so that the scores\n",
        "    # add up to 1.\n",
        "    attention_weights = tf.nn.softmax(scaled_attention_logits, axis=-1)  # (..., seq_len_q, seq_len_k)\n",
        "    # attention_weights * V\n",
        "    output = tf.matmul(attention_weights, v)   # (..., seq_len_q, depth_v)\n",
        "    \n",
        "    # END CODE HERE\n",
        "\n",
        "    return output, attention_weights"
      ]
    },
    {
      "cell_type": "code",
      "execution_count": 18,
      "metadata": {
        "id": "v2H2uYcq1l_A",
        "outputId": "021716e9-6d7f-41a0-f165-156755a9c38f",
        "colab": {
          "base_uri": "https://localhost:8080/"
        }
      },
      "outputs": [
        {
          "output_type": "stream",
          "name": "stdout",
          "text": [
            "\u001b[92mAll tests passed\n"
          ]
        }
      ],
      "source": [
        "# UNIT TEST\n",
        "def scaled_dot_product_attention_test(target):\n",
        "    q = np.array([[1, 0, 1, 1], [0, 1, 1, 1], [1, 0, 0, 1]]).astype(np.float32)\n",
        "    k = np.array([[1, 1, 0, 1], [1, 0, 1, 1 ], [0, 1, 1, 0], [0, 0, 0, 1]]).astype(np.float32)\n",
        "    v = np.array([[0, 0], [1, 0], [1, 0], [1, 1]]).astype(np.float32)\n",
        "\n",
        "    attention, weights = target(q, k, v, None)\n",
        "    assert tf.is_tensor(weights), \"Weights must be a tensor\"\n",
        "    assert tuple(tf.shape(weights).numpy()) == (q.shape[0], k.shape[1]), f\"Wrong shape. We expected ({q.shape[0]}, {k.shape[1]})\"\n",
        "    assert np.allclose(weights, [[0.2589478,  0.42693272, 0.15705977, 0.15705977],\n",
        "                                   [0.2772748,  0.2772748,  0.2772748,  0.16817567],\n",
        "                                   [0.33620113, 0.33620113, 0.12368149, 0.2039163 ]])\n",
        "\n",
        "    assert tf.is_tensor(attention), \"Output must be a tensor\"\n",
        "    assert tuple(tf.shape(attention).numpy()) == (q.shape[0], v.shape[1]), f\"Wrong shape. We expected ({q.shape[0]}, {v.shape[1]})\"\n",
        "    assert np.allclose(attention, [[0.74105227, 0.15705977],\n",
        "                                   [0.7227253,  0.16817567],\n",
        "                                   [0.6637989,  0.2039163 ]])\n",
        "\n",
        "    mask = np.array([[0, 0, 1, 0], [0, 0, 1, 0], [0, 0, 1, 0]])\n",
        "    attention, weights = target(q, k, v, mask)\n",
        "\n",
        "    assert np.allclose(weights, [[0.30719590187072754, 0.5064803957939148, 0.0, 0.18632373213768005],\n",
        "                                 [0.3836517333984375, 0.3836517333984375, 0.0, 0.2326965481042862],\n",
        "                                 [0.3836517333984375, 0.3836517333984375, 0.0, 0.2326965481042862]]), \"Wrong masked weights\"\n",
        "    assert np.allclose(attention, [[0.6928040981292725, 0.18632373213768005],\n",
        "                                   [0.6163482666015625, 0.2326965481042862], \n",
        "                                   [0.6163482666015625, 0.2326965481042862]]), \"Wrong masked attention\"\n",
        "    \n",
        "    print(\"\\033[92mAll tests passed\")\n",
        "    \n",
        "scaled_dot_product_attention_test(scaled_dot_product_attention)\n"
      ]
    },
    {
      "cell_type": "markdown",
      "metadata": {
        "id": "VvpDxOpL1l_A"
      },
      "source": [
        "Excellent work! You can now implement self-attention. With that, you can start building the encoder block! "
      ]
    },
    {
      "cell_type": "markdown",
      "metadata": {
        "id": "blS0pEpTqRVI"
      },
      "source": [
        "<a name='4'></a>\n",
        "## 4 - Encoder\n",
        "\n",
        "The Transformer Encoder layer pairs self-attention and convolutional neural network style of processing to improve the speed of training and passes K and V matrices to the Decoder, which you'll build later in the assignment. In this section of the assignment, you will implement the Encoder by pairing multi-head attention and a feed forward neural network (Figure 2a). \n",
        "<img src=\"https://github.com/lpanigrahi/coursera/blob/main/Deep%20Learning/Sequence%20Models/encoder_layer.png?raw=1\" alt=\"Encoder\" width=\"250\"/>\n",
        "<caption><center><font color='purple'><b>Figure 2a: Transformer encoder layer</font></center></caption>\n",
        "\n",
        "* `MultiHeadAttention` you can think of as computing the self-attention several times to detect different features. \n",
        "* Feed forward neural network contains two Dense layers which we'll implement as the function `FullyConnected`\n",
        "\n",
        "Your input sentence first passes through a *multi-head attention layer*, where the encoder looks at other words in the input sentence as it encodes a specific word. The outputs of the multi-head attention layer are then fed to a *feed forward neural network*. The exact same feed forward network is independently applied to each position.\n",
        "   \n",
        "* For the `MultiHeadAttention` layer, you will use the [Keras implementation](https://www.tensorflow.org/api_docs/python/tf/keras/layers/MultiHeadAttention). If you're curious about how to split the query matrix Q, key matrix K, and value matrix V into different heads, you can look through the implementation. \n",
        "* You will also use the [Sequential API](https://keras.io/api/models/sequential/) with two dense layers to built the feed forward neural network layers."
      ]
    },
    {
      "cell_type": "code",
      "execution_count": 19,
      "metadata": {
        "id": "sC5vJhz29vZR"
      },
      "outputs": [],
      "source": [
        "def FullyConnected(embedding_dim, fully_connected_dim):\n",
        "    return tf.keras.Sequential([\n",
        "        tf.keras.layers.Dense(fully_connected_dim, activation='relu'),  # (batch_size, seq_len, dff)\n",
        "        tf.keras.layers.Dense(embedding_dim)  # (batch_size, seq_len, d_model)\n",
        "    ])"
      ]
    },
    {
      "cell_type": "markdown",
      "metadata": {
        "id": "R65WbX5wqYYH"
      },
      "source": [
        "<a name='4-1'></a>\n",
        "### 4.1 Encoder Layer\n",
        "\n",
        "Now you can pair multi-head attention and feed forward neural network together in an encoder layer! You will also use residual connections and layer normalization to help speed up training (Figure 2a).\n",
        "\n",
        "<a name='ex-4'></a>\n",
        "### Exercise 4 - EncoderLayer\n",
        "\n",
        "Implement `EncoderLayer()` using the `call()` method\n",
        "\n",
        "In this exercise, you will implement one encoder block (Figure 2) using the `call()` method. The function should perform the following steps: \n",
        "1. You will pass the Q, V, K matrices and a boolean mask to a multi-head attention layer. Remember that to compute *self*-attention Q, V and K should be the same.\n",
        "2. Next, you will pass the output of the multi-head attention layer to a dropout layer. Don't forget to use the `training` parameter to set the mode of your model. \n",
        "3. Now add a skip connection by adding your original input `x` and the output of the dropout layer. \n",
        "4. After adding the skip connection, pass the output through the first layer normalization.\n",
        "5. Finally, repeat steps 1-4 but with the feed forward neural network instead of the multi-head attention layer.\n",
        "\n",
        "**Additional Hints**:\n",
        "* The `__init__` method creates all the layers that will be accesed by the the `call` method. Wherever you want to use a layer defined inside  the `__init__`  method you will have to use the syntax `self.[insert layer name]`. \n",
        "* You will find the documentation of [MultiHeadAttention](https://www.tensorflow.org/api_docs/python/tf/keras/layers/MultiHeadAttention) helpful. *Note that if query, key and value are the same, then this function performs self-attention.*"
      ]
    },
    {
      "cell_type": "code",
      "execution_count": 20,
      "metadata": {
        "id": "tIufbrc-9_2u"
      },
      "outputs": [],
      "source": [
        "# UNQ_C4 (UNIQUE CELL IDENTIFIER, DO NOT EDIT)\n",
        "# GRADED FUNCTION EncoderLayer\n",
        "class EncoderLayer(tf.keras.layers.Layer):\n",
        "    \"\"\"\n",
        "    The encoder layer is composed by a multi-head self-attention mechanism,\n",
        "    followed by a simple, positionwise fully connected feed-forward network. \n",
        "    This archirecture includes a residual connection around each of the two \n",
        "    sub-layers, followed by layer normalization.\n",
        "    \"\"\"\n",
        "    def __init__(self, embedding_dim, num_heads, fully_connected_dim, dropout_rate=0.1, layernorm_eps=1e-6):\n",
        "        super(EncoderLayer, self).__init__()\n",
        "\n",
        "        self.mha = MultiHeadAttention(num_heads=num_heads,\n",
        "                                      key_dim=embedding_dim)\n",
        "\n",
        "        self.ffn = FullyConnected(embedding_dim=embedding_dim,\n",
        "                                  fully_connected_dim=fully_connected_dim)\n",
        "\n",
        "        self.layernorm1 = LayerNormalization(epsilon=layernorm_eps)\n",
        "        self.layernorm2 = LayerNormalization(epsilon=layernorm_eps)\n",
        "\n",
        "        self.dropout1 = Dropout(dropout_rate)\n",
        "        self.dropout2 = Dropout(dropout_rate)\n",
        "    \n",
        "    def call(self, x, training, mask):\n",
        "        \"\"\"\n",
        "        Forward pass for the Encoder Layer\n",
        "        \n",
        "        Arguments:\n",
        "            x -- Tensor of shape (batch_size, input_seq_len, embedding_dim)\n",
        "            training -- Boolean, set to true to activate\n",
        "                        the training mode for dropout layers\n",
        "            mask -- Boolean mask to ensure that the padding is not \n",
        "                    treated as part of the input\n",
        "        Returns:\n",
        "            out2 -- Tensor of shape (batch_size, input_seq_len, embedding_dim)\n",
        "        \"\"\"\n",
        "        # START CODE HERE\n",
        "        # calculate self-attention using mha(~1 line)\n",
        "        #-> To compute self-attention Q, V and K should be the same (x)\n",
        "        self_attn_output = self.mha(x, x, x, mask) # Self attention (batch_size, input_seq_len, embedding_dim)\n",
        "        \n",
        "        # apply dropout layer to the self-attention output (~1 line)\n",
        "        self_attn_output = self.dropout1(self_attn_output, training=training)\n",
        "        \n",
        "        # apply layer normalization on sum of the input and the attention output to get the  \n",
        "        # output of the multi-head attention layer (~1 line)\n",
        "        mult_attn_out = self.layernorm1(x + self_attn_output)  # (batch_size, input_seq_len, embedding_dim)\n",
        "\n",
        "        # pass the output of the multi-head attention layer through a ffn (~1 line)\n",
        "        ffn_output = self.ffn(mult_attn_out)  # (batch_size, input_seq_len, embedding_dim)\n",
        "        \n",
        "        # apply dropout layer to ffn output (~1 line)\n",
        "        ffn_output = self.dropout2(ffn_output, training=training)\n",
        "        \n",
        "        # apply layer normalization on sum of the output from multi-head attention and ffn output to get the\n",
        "        # output of the encoder layer (~1 line)\n",
        "        encoder_layer_out = self.layernorm2(ffn_output + mult_attn_out)  # (batch_size, input_seq_len, embedding_dim)\n",
        "        # END CODE HERE\n",
        "        \n",
        "        return encoder_layer_out"
      ]
    },
    {
      "cell_type": "code",
      "execution_count": 21,
      "metadata": {
        "id": "btZzCSzg1l_B",
        "outputId": "3bbefc86-2772-4fd4-c0f3-032ce3646fc3",
        "colab": {
          "base_uri": "https://localhost:8080/"
        }
      },
      "outputs": [
        {
          "output_type": "stream",
          "name": "stdout",
          "text": [
            "\u001b[92mAll tests passed\n"
          ]
        }
      ],
      "source": [
        "# UNIT TEST\n",
        "def EncoderLayer_test(target):\n",
        "    q = np.array([[[1, 0, 1, 1], [0, 1, 1, 1], [1, 0, 0, 1]]]).astype(np.float32)\n",
        "    encoder_layer1 = EncoderLayer(4, 2, 8)\n",
        "    tf.random.set_seed(10)\n",
        "    encoded = encoder_layer1(q, True, np.array([[1, 0, 1]]))\n",
        "    \n",
        "    assert tf.is_tensor(encoded), \"Wrong type. Output must be a tensor\"\n",
        "    assert tuple(tf.shape(encoded).numpy()) == (1, q.shape[1], q.shape[2]), f\"Wrong shape. We expected ((1, {q.shape[1]}, {q.shape[2]}))\"\n",
        "\n",
        "    assert np.allclose(encoded.numpy(), \n",
        "                       [[-0.5214877 , -1.001476  , -0.12321664,  1.6461804 ],\n",
        "                       [-1.3114998 ,  1.2167752 , -0.5830886 ,  0.6778133 ],\n",
        "                       [ 0.25485858,  0.3776546 , -1.6564771 ,  1.023964  ]],), \"Wrong values\"\n",
        "    \n",
        "    print(\"\\033[92mAll tests passed\")\n",
        "    \n",
        "\n",
        "EncoderLayer_test(EncoderLayer)"
      ]
    },
    {
      "cell_type": "markdown",
      "metadata": {
        "id": "FeVuNbNh1l_C"
      },
      "source": [
        "<a name='4-2'></a>\n",
        "### 4.2 - Full Encoder\n",
        "\n",
        "Awesome job! You have now successfully implemented positional encoding, self-attention, and an encoder layer - give yourself a pat on the back. Now you're ready to build the full Transformer Encoder (Figure 2b), where you will embedd your input and add the positional encodings you calculated. You will then feed your encoded embeddings to a stack of Encoder layers. \n",
        "\n",
        "<img src=\"https://github.com/lpanigrahi/coursera/blob/main/Deep%20Learning/Sequence%20Models/encoder.png?raw=1\" alt=\"Encoder\" width=\"330\"/>\n",
        "<caption><center><font color='purple'><b>Figure 2b: Transformer Encoder</font></center></caption>\n",
        "\n",
        "\n",
        "<a name='ex-5'></a>\n",
        "### Exercise 5 - Encoder\n",
        "\n",
        "Complete the `Encoder()` function using the `call()` method to embed your input, add positional encoding, and implement multiple encoder layers \n",
        "\n",
        "In this exercise, you will initialize your Encoder with an Embedding layer, positional encoding, and multiple EncoderLayers. Your `call()` method will perform the following steps: \n",
        "1. Pass your input through the Embedding layer.\n",
        "2. Scale your embedding by multiplying it by the square root of your embedding dimension. Remember to cast the embedding dimension to data type `tf.float32` before computing the square root.\n",
        "3. Add the position encoding: self.pos_encoding `[:, :seq_len, :]` to your embedding.\n",
        "4. Pass the encoded embedding through a dropout layer, remembering to use the `training` parameter to set the model training mode. \n",
        "5. Pass the output of the dropout layer through the stack of encoding layers using a for loop."
      ]
    },
    {
      "cell_type": "code",
      "execution_count": 22,
      "metadata": {
        "id": "7j2Tjr0K0t0I"
      },
      "outputs": [],
      "source": [
        " # UNQ_C5 (UNIQUE CELL IDENTIFIER, DO NOT EDIT)\n",
        "# GRADED FUNCTION\n",
        "class Encoder(tf.keras.layers.Layer):\n",
        "    \"\"\"\n",
        "    The entire Encoder starts by passing the input to an embedding layer \n",
        "    and using positional encoding to then pass the output through a stack of\n",
        "    encoder Layers\n",
        "        \n",
        "    \"\"\"   \n",
        "    def __init__(self, num_layers, embedding_dim, num_heads, fully_connected_dim, input_vocab_size,\n",
        "               maximum_position_encoding, dropout_rate=0.1, layernorm_eps=1e-6):\n",
        "        super(Encoder, self).__init__()\n",
        "\n",
        "        self.embedding_dim = embedding_dim\n",
        "        self.num_layers = num_layers\n",
        "\n",
        "        self.embedding = Embedding(input_vocab_size, self.embedding_dim)\n",
        "        self.pos_encoding = positional_encoding(maximum_position_encoding, \n",
        "                                                self.embedding_dim)\n",
        "\n",
        "\n",
        "        self.enc_layers = [EncoderLayer(embedding_dim=self.embedding_dim,\n",
        "                                        num_heads=num_heads,\n",
        "                                        fully_connected_dim=fully_connected_dim,\n",
        "                                        dropout_rate=dropout_rate,\n",
        "                                        layernorm_eps=layernorm_eps) \n",
        "                           for _ in range(self.num_layers)]\n",
        "\n",
        "        self.dropout = Dropout(dropout_rate)\n",
        "        \n",
        "    def call(self, x, training, mask):\n",
        "        \"\"\"\n",
        "        Forward pass for the Encoder\n",
        "        \n",
        "        Arguments:\n",
        "            x -- Tensor of shape (batch_size, input_seq_len)\n",
        "            training -- Boolean, set to true to activate\n",
        "                        the training mode for dropout layers\n",
        "            mask -- Boolean mask to ensure that the padding is not \n",
        "                    treated as part of the input\n",
        "        Returns:\n",
        "            out2 -- Tensor of shape (batch_size, input_seq_len, embedding_dim)\n",
        "        \"\"\"\n",
        "\n",
        "        seq_len = tf.shape(x)[1]\n",
        "        \n",
        "        # START CODE HERE\n",
        "        # Pass input through the Embedding layer\n",
        "        x = self.embedding(x)  # (batch_size, input_seq_len, embedding_dim)\n",
        "        # Scale embedding by multiplying it by the square root of the embedding dimension\n",
        "        x *= tf.math.sqrt(tf.cast(self.embedding_dim,tf.float32))\n",
        "        # Add the position encoding to embedding\n",
        "        x += self.pos_encoding[:, :seq_len, :]\n",
        "        # Pass the encoded embedding through a dropout layer\n",
        "        x = self.dropout(x, training=training)\n",
        "        # Pass the output through the stack of encoding layers \n",
        "        for i in range(self.num_layers):\n",
        "            x = self.enc_layers[i](x,training, mask)\n",
        "        # END CODE HERE\n",
        "\n",
        "        return x  # (batch_size, input_seq_len, embedding_dim)"
      ]
    },
    {
      "cell_type": "code",
      "execution_count": 23,
      "metadata": {
        "id": "GwQZcL6a1l_C",
        "outputId": "4d9348a4-589c-43b7-933b-67ba07e1cc5f",
        "colab": {
          "base_uri": "https://localhost:8080/"
        }
      },
      "outputs": [
        {
          "output_type": "stream",
          "name": "stdout",
          "text": [
            "\u001b[92mAll tests passed\n"
          ]
        }
      ],
      "source": [
        "# UNIT TEST\n",
        "def Encoder_test(target):\n",
        "    tf.random.set_seed(10)\n",
        "    \n",
        "    embedding_dim=4\n",
        "    \n",
        "    encoderq = target(num_layers=2,\n",
        "                      embedding_dim=embedding_dim,\n",
        "                      num_heads=2,\n",
        "                      fully_connected_dim=8,\n",
        "                      input_vocab_size=32,\n",
        "                      maximum_position_encoding=5)\n",
        "    \n",
        "    x = np.array([[2, 1, 3], [1, 2, 0]])\n",
        "    \n",
        "    encoderq_output = encoderq(x, True, None)\n",
        "    \n",
        "    assert tf.is_tensor(encoderq_output), \"Wrong type. Output must be a tensor\"\n",
        "    assert tuple(tf.shape(encoderq_output).numpy()) == (x.shape[0], x.shape[1], embedding_dim), f\"Wrong shape. We expected ({eshape[0]}, {eshape[1]}, {embedding_dim})\"\n",
        "    assert np.allclose(encoderq_output.numpy(), \n",
        "                       [[[-0.40172306,  0.11519244, -1.2322885,   1.5188192 ],\n",
        "                         [ 0.4017268,   0.33922842, -1.6836855,   0.9427304 ],\n",
        "                         [ 0.4685002,  -1.6252842,   0.09368491,  1.063099  ]],\n",
        "                        [[-0.3489219,   0.31335592, -1.3568854,   1.3924513 ],\n",
        "                         [-0.08761203, -0.1680029,  -1.2742313,   1.5298463 ],\n",
        "                         [ 0.2627198,  -1.6140151,   0.2212624 ,  1.130033  ]]]), \"Wrong values\"\n",
        "    \n",
        "    print(\"\\033[92mAll tests passed\")\n",
        "    \n",
        "Encoder_test(Encoder)"
      ]
    },
    {
      "cell_type": "markdown",
      "metadata": {
        "id": "X_fd0uoi1l_D"
      },
      "source": [
        "<a name='5'></a>\n",
        "## 5 - Decoder\n",
        "\n",
        "The Decoder layer takes the K and V matrices generated by the Encoder and in computes the second multi-head attention layer with the Q matrix from the output (Figure 3a).\n",
        "\n",
        "<img src=\"https://github.com/lpanigrahi/coursera/blob/main/Deep%20Learning/Sequence%20Models/decoder_layer.png?raw=1\" alt=\"Encoder\" width=\"250\"/>\n",
        "<caption><center><font color='purple'><b>Figure 3a: Transformer Decoder layer</font></center></caption>\n",
        "\n",
        "<a name='5-1'></a>    \n",
        "### 5.1 - Decoder Layer\n",
        "Again, you'll pair multi-head attention with a feed forward neural network, but this time you'll implement two multi-head attention layers. You will also use residual connections and layer normalization to help speed up training (Figure 3a).\n",
        "\n",
        "<a name='ex-6'></a>    \n",
        "### Exercise 6 - DecoderLayer\n",
        "    \n",
        "Implement `DecoderLayer()` using the `call()` method\n",
        "    \n",
        "1. Block 1 is a multi-head attention layer with a residual connection, dropout layer, and look-ahead mask.\n",
        "2. Block 2 will take into account the output of the Encoder, so the multi-head attention layer will receive K and V from the encoder, and Q from the Block 1. You will then apply a dropout layer, layer normalization and a residual connection, just like you've done before. \n",
        "3. Finally, Block 3 is a feed forward neural network with dropout and normalization layers and a residual connection.\n",
        "    \n",
        "**Additional Hints:**\n",
        "* The first two blocks are fairly similar to the EncoderLayer except you will return `attention_scores` when computing self-attention"
      ]
    },
    {
      "cell_type": "code",
      "execution_count": 24,
      "metadata": {
        "id": "wEouNFvCzMeT"
      },
      "outputs": [],
      "source": [
        "# UNQ_C6 (UNIQUE CELL IDENTIFIER, DO NOT EDIT)\n",
        "# GRADED FUNCTION DecoderLayer\n",
        "class DecoderLayer(tf.keras.layers.Layer):\n",
        "    \"\"\"\n",
        "    The decoder layer is composed by two multi-head attention blocks, \n",
        "    one that takes the new input and uses self-attention, and the other \n",
        "    one that combines it with the output of the encoder, followed by a\n",
        "    fully connected block. \n",
        "    \"\"\"\n",
        "    def __init__(self, embedding_dim, num_heads, fully_connected_dim, dropout_rate=0.1, layernorm_eps=1e-6):\n",
        "        super(DecoderLayer, self).__init__()\n",
        "\n",
        "        self.mha1 = MultiHeadAttention(num_heads=num_heads,\n",
        "                                      key_dim=embedding_dim)\n",
        "\n",
        "        self.mha2 = MultiHeadAttention(num_heads=num_heads,\n",
        "                                      key_dim=embedding_dim)\n",
        "\n",
        "        self.ffn = FullyConnected(embedding_dim=embedding_dim,\n",
        "                                  fully_connected_dim=fully_connected_dim)\n",
        "\n",
        "        self.layernorm1 = LayerNormalization(epsilon=layernorm_eps)\n",
        "        self.layernorm2 = LayerNormalization(epsilon=layernorm_eps)\n",
        "        self.layernorm3 = LayerNormalization(epsilon=layernorm_eps)\n",
        "\n",
        "        self.dropout1 = Dropout(dropout_rate)\n",
        "        self.dropout2 = Dropout(dropout_rate)\n",
        "        self.dropout3 = Dropout(dropout_rate)\n",
        "    \n",
        "    def call(self, x, enc_output, training, look_ahead_mask, padding_mask):\n",
        "        \"\"\"\n",
        "        Forward pass for the Decoder Layer\n",
        "        \n",
        "        Arguments:\n",
        "            x -- Tensor of shape (batch_size, target_seq_len, embedding_dim)\n",
        "            enc_output --  Tensor of shape(batch_size, input_seq_len, embedding_dim)\n",
        "            training -- Boolean, set to true to activate\n",
        "                        the training mode for dropout layers\n",
        "            look_ahead_mask -- Boolean mask for the target_input\n",
        "            padding_mask -- Boolean mask for the second multihead attention layer\n",
        "        Returns:\n",
        "            out3 -- Tensor of shape (batch_size, target_seq_len, embedding_dim)\n",
        "            attn_weights_block1 -- Tensor of shape(batch_size, num_heads, target_seq_len, input_seq_len)\n",
        "            attn_weights_block2 -- Tensor of shape(batch_size, num_heads, target_seq_len, input_seq_len)\n",
        "        \"\"\"\n",
        "        \n",
        "        # START CODE HERE\n",
        "        # enc_output.shape == (batch_size, input_seq_len, embedding_dim)\n",
        "        \n",
        "        # BLOCK 1\n",
        "        # calculate self-attention and return attention scores as attn_weights_block1 (~1 line)\n",
        "        attn1, attn_weights_block1 = self.mha1(x, x, x,look_ahead_mask, return_attention_scores=True)  # (batch_size, target_seq_len, d_model)\n",
        "        \n",
        "        # apply dropout layer on the attention output (~1 line)\n",
        "        attn1 = self.dropout1(attn1, training = training)\n",
        "        \n",
        "        # apply layer normalization to the sum of the attention output and the input (~1 line)\n",
        "        out1 = self.layernorm1(attn1 + x)\n",
        "\n",
        "        # BLOCK 2\n",
        "        # calculate self-attention using the Q from the first block and K and V from the encoder output.\n",
        "        # MultiHeadAttention's call takes input (Query, Value, Key, attention_mask, return_attention_scores, training)\n",
        "        # Return attention scores as attn_weights_block2 (~1 line)\n",
        "        attn2, attn_weights_block2 = self.mha2( out1,enc_output, enc_output, padding_mask, return_attention_scores=True)  # (batch_size, target_seq_len, d_model)\n",
        "        \n",
        "        # apply dropout layer on the attention output (~1 line)\n",
        "        attn2 = self.dropout2(attn2, training=training)\n",
        "        \n",
        "        # apply layer normalization to the sum of the attention output and the output of the first block (~1 line)\n",
        "        out2 = self.layernorm2(attn2 + out1)  # (batch_size, target_seq_len, embedding_dim)\n",
        "        \n",
        "        #BLOCK 3\n",
        "        # pass the output of the second block through a ffn\n",
        "        ffn_output = self.ffn(out2) # (batch_size, target_seq_len, embedding_dim)\n",
        "        \n",
        "        # apply a dropout layer to the ffn output\n",
        "        ffn_output = self.dropout3(ffn_output, training=training)\n",
        "        \n",
        "        # apply layer normalization to the sum of the ffn output and the output of the second block\n",
        "        out3 =  self.layernorm3(ffn_output + out2) # (batch_size, target_seq_len, embedding_dim)\n",
        "        # END CODE HERE\n",
        "\n",
        "        return out3, attn_weights_block1, attn_weights_block2\n",
        "    "
      ]
    },
    {
      "cell_type": "code",
      "execution_count": 25,
      "metadata": {
        "id": "8yqnxm-d1l_D",
        "outputId": "07913370-2e62-45cd-8b3a-d7c48babbcd9",
        "colab": {
          "base_uri": "https://localhost:8080/"
        }
      },
      "outputs": [
        {
          "output_type": "stream",
          "name": "stdout",
          "text": [
            "\u001b[92mAll tests passed\n"
          ]
        }
      ],
      "source": [
        "# UNIT TEST\n",
        "def DecoderLayer_test(target):\n",
        "    \n",
        "    num_heads=8\n",
        "    tf.random.set_seed(10)\n",
        "    \n",
        "    decoderLayerq = target(\n",
        "        embedding_dim=4, \n",
        "        num_heads=num_heads,\n",
        "        fully_connected_dim=32, \n",
        "        dropout_rate=0.1, \n",
        "        layernorm_eps=1e-6)\n",
        "    \n",
        "    encoderq_output = tf.constant([[[-0.40172306,  0.11519244, -1.2322885,   1.5188192 ],\n",
        "                                   [ 0.4017268,   0.33922842, -1.6836855,   0.9427304 ],\n",
        "                                   [ 0.4685002,  -1.6252842,   0.09368491,  1.063099  ]]])\n",
        "    \n",
        "    q = np.array([[[1, 0, 1, 1], [0, 1, 1, 1], [1, 0, 0, 1]]]).astype(np.float32)\n",
        "    \n",
        "    look_ahead_mask = tf.constant([[1., 0., 0.],\n",
        "                       [1., 1., 0.],\n",
        "                       [1., 1., 1.]])\n",
        "    \n",
        "    padding_mask = None\n",
        "    out, attn_w_b1, attn_w_b2 = decoderLayerq(q, encoderq_output, True, look_ahead_mask, padding_mask)\n",
        "    \n",
        "    assert tf.is_tensor(attn_w_b1), \"Wrong type for attn_w_b1. Output must be a tensor\"\n",
        "    assert tf.is_tensor(attn_w_b2), \"Wrong type for attn_w_b2. Output must be a tensor\"\n",
        "    assert tf.is_tensor(out), \"Wrong type for out. Output must be a tensor\"\n",
        "    \n",
        "    shape1 = (q.shape[0], num_heads, q.shape[1], q.shape[1])\n",
        "    assert tuple(tf.shape(attn_w_b1).numpy()) == shape1, f\"Wrong shape. We expected {shape1}\"\n",
        "    assert tuple(tf.shape(attn_w_b2).numpy()) == shape1, f\"Wrong shape. We expected {shape1}\"\n",
        "    assert tuple(tf.shape(out).numpy()) == q.shape, f\"Wrong shape. We expected {q.shape}\"\n",
        "\n",
        "    assert np.allclose(attn_w_b1[0, 0, 1], [0.5271505,  0.47284946, 0.], atol=1e-2), \"Wrong values in attn_w_b1. Check the call to self.mha1\"\n",
        "    assert np.allclose(attn_w_b2[0, 0, 1], [0.33365652, 0.32598493, 0.34035856]),  \"Wrong values in attn_w_b2. Check the call to self.mha2\"\n",
        "    assert np.allclose(out[0, 0], [0.04726627, -1.6235218, 1.0327158, 0.54353976]), \"Wrong values in out\"\n",
        "    \n",
        "\n",
        "    # Now let's try a example with padding mask\n",
        "    padding_mask = np.array([[0, 0, 1]])\n",
        "    out, attn_w_b1, attn_w_b2 = decoderLayerq(q, encoderq_output, True, look_ahead_mask, padding_mask)\n",
        "\n",
        "    assert np.allclose(out[0, 0], [-0.34323323, -1.4689083, 1.1092525, 0.7028891]), \"Wrong values in out when we mask the last word. Are you passing the padding_mask to the inner functions?\"\n",
        "\n",
        "    print(\"\\033[92mAll tests passed\")\n",
        "    \n",
        "DecoderLayer_test(DecoderLayer)"
      ]
    },
    {
      "cell_type": "markdown",
      "metadata": {
        "id": "T1-BvkIF1l_E"
      },
      "source": [
        "<a name='5-2'></a> \n",
        "### 5.2 - Full Decoder\n",
        "You're almost there! Time to use your Decoder layer to build a full Transformer Decoder (Figure 3b). You will embedd your output and add positional encodings. You will then feed your encoded embeddings to a stack of Decoder layers. \n",
        "\n",
        "\n",
        "<img src=\"https://github.com/lpanigrahi/coursera/blob/main/Deep%20Learning/Sequence%20Models/decoder.png?raw=1\" alt=\"Encoder\" width=\"300\"/>\n",
        "<caption><center><font color='purple'><b>Figure 3b: Transformer Decoder</font></center></caption>\n",
        "\n",
        "<a name='ex-7'></a>     \n",
        "### Exercise 7 - Decoder\n",
        "\n",
        "Implement `Decoder()` using the `call()` method to embed your output, add positional encoding, and implement multiple decoder layers\n",
        " \n",
        "In this exercise, you will initialize your Decoder with an Embedding layer, positional encoding, and multiple DecoderLayers. Your `call()` method will perform the following steps: \n",
        "1. Pass your generated output through the Embedding layer.\n",
        "2. Scale your embedding by multiplying it by the square root of your embedding dimension. Remember to cast the embedding dimension to data type `tf.float32` before computing the square root.\n",
        "3. Add the position encoding: self.pos_encoding `[:, :seq_len, :]` to your embedding.\n",
        "4. Pass the encoded embedding through a dropout layer, remembering to use the `training` parameter to set the model training mode. \n",
        "5. Pass the output of the dropout layer through the stack of Decoding layers using a for loop."
      ]
    },
    {
      "cell_type": "code",
      "execution_count": 26,
      "metadata": {
        "id": "McS3by6k4pnP"
      },
      "outputs": [],
      "source": [
        "# UNQ_C7 (UNIQUE CELL IDENTIFIER, DO NOT EDIT)\n",
        "# GRADED FUNCTION Decoder\n",
        "class Decoder(tf.keras.layers.Layer):\n",
        "    \"\"\"\n",
        "    The entire Encoder is starts by passing the target input to an embedding layer \n",
        "    and using positional encoding to then pass the output through a stack of\n",
        "    decoder Layers\n",
        "        \n",
        "    \"\"\" \n",
        "    def __init__(self, num_layers, embedding_dim, num_heads, fully_connected_dim, target_vocab_size,\n",
        "               maximum_position_encoding, dropout_rate=0.1, layernorm_eps=1e-6):\n",
        "        super(Decoder, self).__init__()\n",
        "\n",
        "        self.embedding_dim = embedding_dim\n",
        "        self.num_layers = num_layers\n",
        "\n",
        "        self.embedding = Embedding(target_vocab_size, self.embedding_dim)\n",
        "        self.pos_encoding = positional_encoding(maximum_position_encoding, self.embedding_dim)\n",
        "\n",
        "        self.dec_layers = [DecoderLayer(embedding_dim=self.embedding_dim,\n",
        "                                        num_heads=num_heads,\n",
        "                                        fully_connected_dim=fully_connected_dim,\n",
        "                                        dropout_rate=dropout_rate,\n",
        "                                        layernorm_eps=layernorm_eps) \n",
        "                           for _ in range(self.num_layers)]\n",
        "        self.dropout = Dropout(dropout_rate)\n",
        "    \n",
        "    def call(self, x, enc_output, training, \n",
        "           look_ahead_mask, padding_mask):\n",
        "        \"\"\"\n",
        "        Forward  pass for the Decoder\n",
        "        \n",
        "        Arguments:\n",
        "            x -- Tensor of shape (batch_size, target_seq_len, embedding_dim)\n",
        "            enc_output --  Tensor of shape(batch_size, input_seq_len, embedding_dim)\n",
        "            training -- Boolean, set to true to activate\n",
        "                        the training mode for dropout layers\n",
        "            look_ahead_mask -- Boolean mask for the target_input\n",
        "            padding_mask -- Boolean mask for the second multihead attention layer\n",
        "        Returns:\n",
        "            x -- Tensor of shape (batch_size, target_seq_len, embedding_dim)\n",
        "            attention_weights - Dictionary of tensors containing all the attention weights\n",
        "                                each of shape Tensor of shape (batch_size, num_heads, target_seq_len, input_seq_len)\n",
        "        \"\"\"\n",
        "\n",
        "        seq_len = tf.shape(x)[1]\n",
        "        attention_weights = {}\n",
        "        \n",
        "        # START CODE HERE\n",
        "        # create word embeddings \n",
        "        x = self.embedding(x)  # (batch_size, target_seq_len, embedding_dim)\n",
        "        \n",
        "        # scale embeddings by multiplying by the square root of their dimension\n",
        "        x *= tf.math.sqrt(tf.cast(self.embedding_dim, tf.float32))\n",
        "        \n",
        "        # calculate positional encodings and add to word embedding\n",
        "        x += self.pos_encoding[:, :seq_len, :]\n",
        "        \n",
        "        # apply a dropout layer to x\n",
        "        x = self.dropout(x, training=training)\n",
        "\n",
        "        # use a for loop to pass x through a stack of decoder layers and update attention_weights (~4 lines total)\n",
        "        for i in range(self.num_layers):\n",
        "            # pass x and the encoder output through a stack of decoder layers and save the attention weights\n",
        "            # of block 1 and 2 (~1 line)\n",
        "            x, block1, block2 = self.dec_layers[i](x, enc_output, training, look_ahead_mask, padding_mask)\n",
        "\n",
        "            #update attention_weights dictionary with the attention weights of block 1 and block 2\n",
        "            attention_weights['decoder_layer{}_block1_self_att'.format(i+1)] = block1\n",
        "            attention_weights['decoder_layer{}_block2_decenc_att'.format(i+1)] = block2\n",
        "        # END CODE HERE\n",
        "        \n",
        "        # x.shape == (batch_size, target_seq_len, embedding_dim)\n",
        "        return x, attention_weights"
      ]
    },
    {
      "cell_type": "code",
      "execution_count": 27,
      "metadata": {
        "id": "YvzpZKA01l_F",
        "outputId": "ac8ab8cb-da9d-408b-cd46-09a2c8234ce9",
        "colab": {
          "base_uri": "https://localhost:8080/"
        }
      },
      "outputs": [
        {
          "output_type": "stream",
          "name": "stdout",
          "text": [
            "tf.Tensor([-0.27152586 -0.5606004  -0.861783    1.6939093 ], shape=(4,), dtype=float32)\n",
            "\u001b[92mAll tests passed\n"
          ]
        }
      ],
      "source": [
        "# UNIT TEST\n",
        "def Decoder_test(target):\n",
        "    \n",
        "    tf.random.set_seed(10)\n",
        "        \n",
        "    num_layers=7\n",
        "    embedding_dim=4 \n",
        "    num_heads=3\n",
        "    fully_connected_dim=8\n",
        "    target_vocab_size=33\n",
        "    maximum_position_encoding=6\n",
        "    \n",
        "    x = np.array([[3, 2, 1], [2, 1, 0]])\n",
        "\n",
        "    \n",
        "    encoderq_output = tf.constant([[[-0.40172306,  0.11519244, -1.2322885,   1.5188192 ],\n",
        "                         [ 0.4017268,   0.33922842, -1.6836855,   0.9427304 ],\n",
        "                         [ 0.4685002,  -1.6252842,   0.09368491,  1.063099  ]],\n",
        "                        [[-0.3489219,   0.31335592, -1.3568854,   1.3924513 ],\n",
        "                         [-0.08761203, -0.1680029,  -1.2742313,   1.5298463 ],\n",
        "                         [ 0.2627198,  -1.6140151,   0.2212624 ,  1.130033  ]]])\n",
        "    \n",
        "    look_ahead_mask = tf.constant([[1., 0., 0.],\n",
        "                       [1., 1., 0.],\n",
        "                       [1., 1., 1.]])\n",
        "    \n",
        "    decoderk = Decoder(num_layers,\n",
        "                    embedding_dim, \n",
        "                    num_heads, \n",
        "                    fully_connected_dim,\n",
        "                    target_vocab_size,\n",
        "                    maximum_position_encoding)\n",
        "    outd, att_weights = decoderk(x, encoderq_output, False, look_ahead_mask, None)\n",
        "    \n",
        "    assert tf.is_tensor(outd), \"Wrong type for outd. It must be a dict\"\n",
        "    assert np.allclose(tf.shape(outd), tf.shape(encoderq_output)), f\"Wrong shape. We expected { tf.shape(encoderq_output)}\"\n",
        "    print(outd[1, 1])\n",
        "    assert np.allclose(outd[1, 1], [-0.2715261, -0.5606001, -0.861783, 1.69390933]), \"Wrong values in outd\"\n",
        "    \n",
        "    keys = list(att_weights.keys())\n",
        "    assert type(att_weights) == dict, \"Wrong type for att_weights[0]. Output must be a tensor\"\n",
        "    assert len(keys) == 2 * num_layers, f\"Wrong length for attention weights. It must be 2 x num_layers = {2*num_layers}\"\n",
        "    assert tf.is_tensor(att_weights[keys[0]]), f\"Wrong type for att_weights[{keys[0]}]. Output must be a tensor\"\n",
        "    shape1 = (x.shape[0], num_heads, x.shape[1], x.shape[1])\n",
        "    assert tuple(tf.shape(att_weights[keys[1]]).numpy()) == shape1, f\"Wrong shape. We expected {shape1}\" \n",
        "    assert np.allclose(att_weights[keys[0]][0, 0, 1], [0.52145624, 0.47854376, 0.]), f\"Wrong values in att_weights[{keys[0]}]\"\n",
        "    \n",
        "    print(\"\\033[92mAll tests passed\")\n",
        "    \n",
        "Decoder_test(Decoder)"
      ]
    },
    {
      "cell_type": "markdown",
      "metadata": {
        "id": "qUyfNO9d1l_F"
      },
      "source": [
        "<a name='6'></a> \n",
        "## 6 - Transformer\n",
        "\n",
        "Phew! This has been quite the assignment, and now you've made it to your last exercise of the Deep Learning Specialization. Congratulations! You've done all the hard work, now it's time to put it all together.  \n",
        "\n",
        "<img src=\"https://github.com/lpanigrahi/coursera/blob/main/Deep%20Learning/Sequence%20Models/transformer.png?raw=1\" alt=\"Transformer\" width=\"550\"/>\n",
        "<caption><center><font color='purple'><b>Figure 4: Transformer</font></center></caption>\n",
        "    \n",
        "The flow of data through the Transformer Architecture is as follows:\n",
        "* First your input passes through an Encoder, which is just repeated Encoder layers that you implemented:\n",
        "    - embedding and positional encoding of your input\n",
        "    - multi-head attention on your input\n",
        "    - feed forward neural network to help detect features\n",
        "* Then the predicted output passes through a Decoder, consisting of the decoder layers that you implemented:\n",
        "    - embedding and positional encoding of the output\n",
        "    - multi-head attention on your generated output\n",
        "    - multi-head attention with the Q from the first multi-head attention layer and the K and V from the Encoder\n",
        "    - a feed forward neural network to help detect features\n",
        "* Finally, after the Nth Decoder layer, two dense layers and a softmax are applied to generate prediction for the next output in your sequence.\n",
        "\n",
        "<a name='ex-8'></a> \n",
        "### Exercise 8 - Transformer\n",
        "\n",
        "Implement `Transformer()` using the `call()` method\n",
        "1. Pass the input through the Encoder with the appropiate mask.\n",
        "2. Pass the encoder output and the target through the Decoder with the appropiate mask.\n",
        "3. Apply a linear transformation and a softmax to get a prediction."
      ]
    },
    {
      "cell_type": "code",
      "execution_count": 28,
      "metadata": {
        "id": "QHymPmaj-2ba"
      },
      "outputs": [],
      "source": [
        "# UNQ_C8 (UNIQUE CELL IDENTIFIER, DO NOT EDIT)\n",
        "# GRADED FUNCTION Transformer\n",
        "class Transformer(tf.keras.Model):\n",
        "    \"\"\"\n",
        "    Complete transformer with an Encoder and a Decoder\n",
        "    \"\"\"\n",
        "    def __init__(self, num_layers, embedding_dim, num_heads, fully_connected_dim, input_vocab_size, \n",
        "               target_vocab_size, max_positional_encoding_input,\n",
        "               max_positional_encoding_target, dropout_rate=0.1, layernorm_eps=1e-6):\n",
        "        super(Transformer, self).__init__()\n",
        "\n",
        "        self.encoder = Encoder(num_layers=num_layers,\n",
        "                               embedding_dim=embedding_dim,\n",
        "                               num_heads=num_heads,\n",
        "                               fully_connected_dim=fully_connected_dim,\n",
        "                               input_vocab_size=input_vocab_size,\n",
        "                               maximum_position_encoding=max_positional_encoding_input,\n",
        "                               dropout_rate=dropout_rate,\n",
        "                               layernorm_eps=layernorm_eps)\n",
        "\n",
        "        self.decoder = Decoder(num_layers=num_layers, \n",
        "                               embedding_dim=embedding_dim,\n",
        "                               num_heads=num_heads,\n",
        "                               fully_connected_dim=fully_connected_dim,\n",
        "                               target_vocab_size=target_vocab_size, \n",
        "                               maximum_position_encoding=max_positional_encoding_target,\n",
        "                               dropout_rate=dropout_rate,\n",
        "                               layernorm_eps=layernorm_eps)\n",
        "\n",
        "        self.final_layer = Dense(target_vocab_size, activation='softmax')\n",
        "    \n",
        "    def call(self, inp, tar, training, enc_padding_mask, look_ahead_mask, dec_padding_mask):\n",
        "        \"\"\"\n",
        "        Forward pass for the entire Transformer\n",
        "        Arguments:\n",
        "            inp -- Tensor of shape (batch_size, input_seq_len, fully_connected_dim)\n",
        "            tar -- Tensor of shape (batch_size, target_seq_len, fully_connected_dim)\n",
        "            training -- Boolean, set to true to activate\n",
        "                        the training mode for dropout layers\n",
        "            enc_padding_mask -- Boolean mask to ensure that the padding is not \n",
        "                    treated as part of the input\n",
        "            look_ahead_mask -- Boolean mask for the target_input\n",
        "            padding_mask -- Boolean mask for the second multihead attention layer\n",
        "        Returns:\n",
        "            final_output -- Describe me\n",
        "            attention_weights - Dictionary of tensors containing all the attention weights for the decoder\n",
        "                                each of shape Tensor of shape (batch_size, num_heads, target_seq_len, input_seq_len)\n",
        "        \n",
        "        \"\"\"\n",
        "        # START CODE HERE\n",
        "        # call self.encoder with the appropriate arguments to get the encoder output\n",
        "        enc_output = self.encoder(inp,training,enc_padding_mask) # (batch_size, inp_seq_len, fully_connected_dim)\n",
        "        \n",
        "        # call self.decoder with the appropriate arguments to get the decoder output\n",
        "        # dec_output.shape == (batch_size, tar_seq_len, fully_connected_dim)\n",
        "        dec_output, attention_weights = self.decoder(tar, enc_output, training, look_ahead_mask, dec_padding_mask)\n",
        "        \n",
        "        # pass decoder output through a linear layer and softmax (~2 lines)\n",
        "        final_output = self.final_layer(dec_output)  # (batch_size, tar_seq_len, target_vocab_size)\n",
        "        # START CODE HERE\n",
        "\n",
        "        return final_output, attention_weights"
      ]
    },
    {
      "cell_type": "code",
      "execution_count": 29,
      "metadata": {
        "id": "Lf__ZKwG1l_G",
        "outputId": "a0637ef0-46b4-4657-cc76-c16490f88bec",
        "colab": {
          "base_uri": "https://localhost:8080/"
        }
      },
      "outputs": [
        {
          "output_type": "stream",
          "name": "stdout",
          "text": [
            "tf.Tensor(\n",
            "[0.02616474 0.02074358 0.01675757 0.02552701 0.04473696 0.02171908\n",
            " 0.01542725 0.0365863 ], shape=(8,), dtype=float32)\n",
            "tf.Tensor(\n",
            "[[[0.02616474 0.02074358 0.01675757 0.02552701 0.04473696 0.02171908\n",
            "   0.01542725 0.0365863  0.02433536 0.02948791 0.01698964 0.02147778\n",
            "   0.05749574 0.02669399 0.01277918 0.03276357 0.0253941  0.01698772\n",
            "   0.02758245 0.02529753 0.04394253 0.06258808 0.03667333 0.03009712\n",
            "   0.05011232 0.01414333 0.01601288 0.01800467 0.02506282 0.01607273\n",
            "   0.06204056 0.02099288 0.03005534 0.03070701 0.01854689]\n",
            "  [0.02490053 0.017258   0.01794803 0.02998916 0.05038005 0.01997478\n",
            "   0.01526351 0.03385608 0.03138069 0.02608406 0.01852771 0.0174451\n",
            "   0.05923332 0.03287778 0.01450072 0.02815486 0.02676623 0.01684978\n",
            "   0.02482791 0.02307896 0.04122655 0.05552056 0.03742856 0.03390089\n",
            "   0.04666694 0.01667501 0.01400229 0.01981527 0.02202851 0.01818001\n",
            "   0.0591845  0.02173372 0.03040997 0.03337187 0.02055808]\n",
            "  [0.01867789 0.01225462 0.02509719 0.04180384 0.06244645 0.02000666\n",
            "   0.01934388 0.03032456 0.05771375 0.02616111 0.01742368 0.01100331\n",
            "   0.05456048 0.04248188 0.02078063 0.02245298 0.03337655 0.02052129\n",
            "   0.02396581 0.02193134 0.04068131 0.03323278 0.04556258 0.03676545\n",
            "   0.04394967 0.015748   0.01223158 0.02734469 0.0115495  0.02240609\n",
            "   0.03563077 0.02169302 0.02025471 0.02886863 0.02175329]\n",
            "  [0.02305288 0.01215192 0.0224808  0.04188108 0.05324594 0.01652899\n",
            "   0.01626854 0.02452858 0.05319849 0.01741914 0.02720063 0.01175193\n",
            "   0.04887011 0.05262583 0.02324444 0.01787254 0.02867536 0.0176871\n",
            "   0.01800392 0.01797924 0.02830286 0.03332607 0.03249629 0.04277937\n",
            "   0.03038615 0.0323176  0.01166379 0.02618809 0.01842925 0.02784597\n",
            "   0.04346569 0.02524557 0.03285819 0.0404315  0.02959606]\n",
            "  [0.0185985  0.01163483 0.02560123 0.04363472 0.06270955 0.01928385\n",
            "   0.01924486 0.02882556 0.06161031 0.02436098 0.01855855 0.01041807\n",
            "   0.05321557 0.04556078 0.0220504  0.02093102 0.03341143 0.02041205\n",
            "   0.0226585  0.02099104 0.03823083 0.03121314 0.04416506 0.03813417\n",
            "   0.04104863 0.017571   0.01183265 0.02818889 0.0114538  0.02377767\n",
            "   0.03464996 0.0221759  0.02084129 0.03000083 0.02300425]]], shape=(1, 5, 35), dtype=float32)\n",
            "\u001b[92mAll tests passed\n"
          ]
        }
      ],
      "source": [
        "# UNIT TEST\n",
        "def Transformer_test(target):\n",
        "    \n",
        "    tf.random.set_seed(10)\n",
        "\n",
        "\n",
        "    num_layers = 6\n",
        "    embedding_dim = 4\n",
        "    num_heads = 4\n",
        "    fully_connected_dim = 8\n",
        "    input_vocab_size = 30\n",
        "    target_vocab_size = 35\n",
        "    max_positional_encoding_input = 5\n",
        "    max_positional_encoding_target = 6\n",
        "\n",
        "    trans = Transformer(num_layers, \n",
        "                        embedding_dim, \n",
        "                        num_heads, \n",
        "                        fully_connected_dim, \n",
        "                        input_vocab_size, \n",
        "                        target_vocab_size, \n",
        "                        max_positional_encoding_input,\n",
        "                        max_positional_encoding_target)\n",
        "    # 0 is the padding value\n",
        "    sentence_lang_a = np.array([[2, 1, 4, 3, 0]])\n",
        "    sentence_lang_b = np.array([[3, 2, 1, 0, 0]])\n",
        "\n",
        "    enc_padding_mask = np.array([[0, 0, 0, 0, 1]])\n",
        "    dec_padding_mask = np.array([[0, 0, 0, 1, 1]])\n",
        "\n",
        "    look_ahead_mask = create_look_ahead_mask(sentence_lang_a.shape[1])\n",
        "\n",
        "    translation, weights = trans(\n",
        "        sentence_lang_a,\n",
        "        sentence_lang_b,\n",
        "        True,\n",
        "        enc_padding_mask,\n",
        "        look_ahead_mask,\n",
        "        dec_padding_mask\n",
        "    )\n",
        "    \n",
        "    \n",
        "    assert tf.is_tensor(translation), \"Wrong type for translation. Output must be a tensor\"\n",
        "    shape1 = (sentence_lang_a.shape[0], max_positional_encoding_input, target_vocab_size)\n",
        "    assert tuple(tf.shape(translation).numpy()) == shape1, f\"Wrong shape. We expected {shape1}\"\n",
        "        \n",
        "    print(translation[0, 0, 0:8])\n",
        "    assert np.allclose(translation[0, 0, 0:8],\n",
        "                       [[0.02616475, 0.02074359, 0.01675757, \n",
        "                         0.025527, 0.04473696, 0.02171909, \n",
        "                         0.01542725, 0.03658631]]), \"Wrong values in outd\"\n",
        "    \n",
        "    keys = list(weights.keys())\n",
        "    assert type(weights) == dict, \"Wrong type for weights. It must be a dict\"\n",
        "    assert len(keys) == 2 * num_layers, f\"Wrong length for attention weights. It must be 2 x num_layers = {2*num_layers}\"\n",
        "    assert tf.is_tensor(weights[keys[0]]), f\"Wrong type for att_weights[{keys[0]}]. Output must be a tensor\"\n",
        "\n",
        "    shape1 = (sentence_lang_a.shape[0], num_heads, sentence_lang_a.shape[1], sentence_lang_a.shape[1])\n",
        "    assert tuple(tf.shape(weights[keys[1]]).numpy()) == shape1, f\"Wrong shape. We expected {shape1}\" \n",
        "    assert np.allclose(weights[keys[0]][0, 0, 1], [0.4992985, 0.5007015, 0., 0., 0.]), f\"Wrong values in weights[{keys[0]}]\"\n",
        "    \n",
        "    print(translation)\n",
        "    \n",
        "    print(\"\\033[92mAll tests passed\")\n",
        "\n",
        "    \n",
        "Transformer_test(Transformer)\n"
      ]
    },
    {
      "cell_type": "markdown",
      "metadata": {
        "id": "7Wk_PFK01l_G"
      },
      "source": [
        "## Conclusion\n",
        "\n",
        "You've come to the end of the graded portion of the assignment. By now, you've: \n",
        "\n",
        "* Create positional encodings to capture sequential relationships in data\n",
        "* Calculate scaled dot-product self-attention with word embeddings\n",
        "* Implement masked multi-head attention\n",
        "* Build and train a Transformer model"
      ]
    },
    {
      "cell_type": "markdown",
      "metadata": {
        "id": "FWpd8A351l_G"
      },
      "source": [
        "<font color='blue'>\n",
        "    <b>What you should remember</b>:\n",
        "\n",
        "- The combination of self-attention and convolutional network layers allows of parallization of training and *faster training*.\n",
        "- Self-attention is calculated using the generated query Q, key K, and value V matrices.\n",
        "- Adding positional encoding to word embeddings is an effective way of include sequence information in self-attention calculations. \n",
        "- Multi-head attention can help detect multiple features in your sentence.\n",
        "- Masking stops the model from 'looking ahead' during training, or weighting zeroes too much when processing cropped sentences. "
      ]
    },
    {
      "cell_type": "markdown",
      "metadata": {
        "id": "mt8GbetS1l_H"
      },
      "source": [
        "Now that you have completed the Transformer assignment, make sure you check out the ungraded labs to apply the Transformer model to practical use cases such as Name Entity Recogntion (NER) and Question Answering (QA).  \n",
        "\n",
        "\n",
        "# Congratulations on finishing the Deep Learning Specialization!!!!!! 🎉\n",
        "\n",
        "This was the last graded assignment of the specialization. It is now time to celebrate all your hard work and dedication! \n",
        "\n",
        "<a name='7'></a> \n",
        "## 7 - References\n",
        "\n",
        "The Transformer algorithm was due to Vaswani et al. (2017). \n",
        "\n",
        "- Ashish Vaswani, Noam Shazeer, Niki Parmar, Jakob Uszkoreit, Llion Jones, Aidan N. Gomez, Lukasz Kaiser, Illia Polosukhin (2017). [Attention Is All You Need](https://arxiv.org/abs/1706.03762) "
      ]
    }
  ],
  "metadata": {
    "colab": {
      "name": "Transformer Assignment - Subclass.ipynb",
      "provenance": [],
      "include_colab_link": true
    },
    "coursera": {
      "schema_names": [
        "DLSC5W4-1A"
      ]
    },
    "kernelspec": {
      "display_name": "Python 3",
      "language": "python",
      "name": "python3"
    },
    "language_info": {
      "codemirror_mode": {
        "name": "ipython",
        "version": 3
      },
      "file_extension": ".py",
      "mimetype": "text/x-python",
      "name": "python",
      "nbconvert_exporter": "python",
      "pygments_lexer": "ipython3",
      "version": "3.8.5"
    },
    "varInspector": {
      "cols": {
        "lenName": 16,
        "lenType": 16,
        "lenVar": 40
      },
      "kernels_config": {
        "python": {
          "delete_cmd_postfix": "",
          "delete_cmd_prefix": "del ",
          "library": "var_list.py",
          "varRefreshCmd": "print(var_dic_list())"
        },
        "r": {
          "delete_cmd_postfix": ") ",
          "delete_cmd_prefix": "rm(",
          "library": "var_list.r",
          "varRefreshCmd": "cat(var_dic_list()) "
        }
      },
      "types_to_exclude": [
        "module",
        "function",
        "builtin_function_or_method",
        "instance",
        "_Feature"
      ],
      "window_display": false
    },
    "gpuClass": "standard"
  },
  "nbformat": 4,
  "nbformat_minor": 0
}