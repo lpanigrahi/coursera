{
  "cells": [
    {
      "cell_type": "markdown",
      "metadata": {
        "id": "view-in-github",
        "colab_type": "text"
      },
      "source": [
        "<a href=\"https://colab.research.google.com/github/lpanigrahi/coursera/blob/main/Deep%20Learning/NLP_spc/C4W1_L1_Ungraded_Lab_Stack_Semantics.ipynb\" target=\"_parent\"><img src=\"https://colab.research.google.com/assets/colab-badge.svg\" alt=\"Open In Colab\"/></a>"
      ]
    },
    {
      "cell_type": "markdown",
      "metadata": {
        "id": "UEhsaZ_7LYcT"
      },
      "source": [
        "# Stack Semantics in Trax: Ungraded Lab"
      ]
    },
    {
      "cell_type": "markdown",
      "metadata": {
        "id": "RJroCsb1LYcZ"
      },
      "source": [
        "In this ungraded lab, we will explain the stack semantics in Trax. This will help in understanding how to use layers like `Select` and `Residual` which gets . If you've taken a computer science class before, you will recall that a stack is a data structure that follows the Last In, First Out (LIFO) principle. That is, whatever is the latest element that is pushed into the stack will also be the first one to be popped out. If you're not yet familiar with stacks, then you may find this [short tutorial](https://www.tutorialspoint.com/python_data_structure/python_stack.htm) useful. In a nutshell, all you really need to remember is it puts elements one on top of the other. You should be aware of what is on top of the stack to know which element you will be popping. You will see this in the discussions below. Let's get started!"
      ]
    },
    {
      "cell_type": "markdown",
      "metadata": {
        "id": "GSpke4gvLYca"
      },
      "source": [
        "## Imports"
      ]
    },
    {
      "cell_type": "code",
      "source": [
        "!pip install trax"
      ],
      "metadata": {
        "id": "rneXWeMALb_r",
        "outputId": "86136a17-bbad-415e-f4c7-f586e411e51d",
        "colab": {
          "base_uri": "https://localhost:8080/"
        }
      },
      "execution_count": 1,
      "outputs": [
        {
          "output_type": "stream",
          "name": "stdout",
          "text": [
            "Looking in indexes: https://pypi.org/simple, https://us-python.pkg.dev/colab-wheels/public/simple/\n",
            "Requirement already satisfied: trax in /usr/local/lib/python3.8/dist-packages (1.4.1)\n",
            "Requirement already satisfied: absl-py in /usr/local/lib/python3.8/dist-packages (from trax) (1.4.0)\n",
            "Requirement already satisfied: gin-config in /usr/local/lib/python3.8/dist-packages (from trax) (0.5.0)\n",
            "Requirement already satisfied: matplotlib in /usr/local/lib/python3.8/dist-packages (from trax) (3.2.2)\n",
            "Requirement already satisfied: numpy in /usr/local/lib/python3.8/dist-packages (from trax) (1.22.4)\n",
            "Requirement already satisfied: tensorflow-text in /usr/local/lib/python3.8/dist-packages (from trax) (2.11.0)\n",
            "Requirement already satisfied: jaxlib in /usr/local/lib/python3.8/dist-packages (from trax) (0.3.25+cuda11.cudnn805)\n",
            "Requirement already satisfied: tensorflow-datasets in /usr/local/lib/python3.8/dist-packages (from trax) (4.8.2)\n",
            "Requirement already satisfied: gym in /usr/local/lib/python3.8/dist-packages (from trax) (0.25.2)\n",
            "Requirement already satisfied: six in /usr/local/lib/python3.8/dist-packages (from trax) (1.15.0)\n",
            "Requirement already satisfied: scipy in /usr/local/lib/python3.8/dist-packages (from trax) (1.7.3)\n",
            "Requirement already satisfied: jax in /usr/local/lib/python3.8/dist-packages (from trax) (0.3.25)\n",
            "Requirement already satisfied: psutil in /usr/local/lib/python3.8/dist-packages (from trax) (5.4.8)\n",
            "Requirement already satisfied: funcsigs in /usr/local/lib/python3.8/dist-packages (from trax) (1.0.2)\n",
            "Requirement already satisfied: gym-notices>=0.0.4 in /usr/local/lib/python3.8/dist-packages (from gym->trax) (0.0.8)\n",
            "Requirement already satisfied: cloudpickle>=1.2.0 in /usr/local/lib/python3.8/dist-packages (from gym->trax) (2.2.1)\n",
            "Requirement already satisfied: importlib-metadata>=4.8.0 in /usr/local/lib/python3.8/dist-packages (from gym->trax) (6.0.0)\n",
            "Requirement already satisfied: typing-extensions in /usr/local/lib/python3.8/dist-packages (from jax->trax) (4.5.0)\n",
            "Requirement already satisfied: opt-einsum in /usr/local/lib/python3.8/dist-packages (from jax->trax) (3.3.0)\n",
            "Requirement already satisfied: python-dateutil>=2.1 in /usr/local/lib/python3.8/dist-packages (from matplotlib->trax) (2.8.2)\n",
            "Requirement already satisfied: kiwisolver>=1.0.1 in /usr/local/lib/python3.8/dist-packages (from matplotlib->trax) (1.4.4)\n",
            "Requirement already satisfied: pyparsing!=2.0.4,!=2.1.2,!=2.1.6,>=2.0.1 in /usr/local/lib/python3.8/dist-packages (from matplotlib->trax) (3.0.9)\n",
            "Requirement already satisfied: cycler>=0.10 in /usr/local/lib/python3.8/dist-packages (from matplotlib->trax) (0.11.0)\n",
            "Requirement already satisfied: etils[enp,epath]>=0.9.0 in /usr/local/lib/python3.8/dist-packages (from tensorflow-datasets->trax) (1.0.0)\n",
            "Requirement already satisfied: protobuf>=3.12.2 in /usr/local/lib/python3.8/dist-packages (from tensorflow-datasets->trax) (3.19.6)\n",
            "Requirement already satisfied: dm-tree in /usr/local/lib/python3.8/dist-packages (from tensorflow-datasets->trax) (0.1.8)\n",
            "Requirement already satisfied: requests>=2.19.0 in /usr/local/lib/python3.8/dist-packages (from tensorflow-datasets->trax) (2.25.1)\n",
            "Requirement already satisfied: tqdm in /usr/local/lib/python3.8/dist-packages (from tensorflow-datasets->trax) (4.64.1)\n",
            "Requirement already satisfied: toml in /usr/local/lib/python3.8/dist-packages (from tensorflow-datasets->trax) (0.10.2)\n",
            "Requirement already satisfied: click in /usr/local/lib/python3.8/dist-packages (from tensorflow-datasets->trax) (7.1.2)\n",
            "Requirement already satisfied: termcolor in /usr/local/lib/python3.8/dist-packages (from tensorflow-datasets->trax) (2.2.0)\n",
            "Requirement already satisfied: wrapt in /usr/local/lib/python3.8/dist-packages (from tensorflow-datasets->trax) (1.14.1)\n",
            "Requirement already satisfied: promise in /usr/local/lib/python3.8/dist-packages (from tensorflow-datasets->trax) (2.3)\n",
            "Requirement already satisfied: dill in /usr/local/lib/python3.8/dist-packages (from tensorflow-datasets->trax) (0.3.6)\n",
            "Requirement already satisfied: tensorflow-metadata in /usr/local/lib/python3.8/dist-packages (from tensorflow-datasets->trax) (1.12.0)\n",
            "Requirement already satisfied: importlib-resources in /usr/local/lib/python3.8/dist-packages (from tensorflow-datasets->trax) (5.10.2)\n",
            "Requirement already satisfied: tensorflow-hub>=0.8.0 in /usr/local/lib/python3.8/dist-packages (from tensorflow-text->trax) (0.12.0)\n",
            "Requirement already satisfied: tensorflow<2.12,>=2.11.0 in /usr/local/lib/python3.8/dist-packages (from tensorflow-text->trax) (2.11.0)\n",
            "Requirement already satisfied: zipp in /usr/local/lib/python3.8/dist-packages (from etils[enp,epath]>=0.9.0->tensorflow-datasets->trax) (3.13.0)\n",
            "Requirement already satisfied: certifi>=2017.4.17 in /usr/local/lib/python3.8/dist-packages (from requests>=2.19.0->tensorflow-datasets->trax) (2022.12.7)\n",
            "Requirement already satisfied: chardet<5,>=3.0.2 in /usr/local/lib/python3.8/dist-packages (from requests>=2.19.0->tensorflow-datasets->trax) (4.0.0)\n",
            "Requirement already satisfied: urllib3<1.27,>=1.21.1 in /usr/local/lib/python3.8/dist-packages (from requests>=2.19.0->tensorflow-datasets->trax) (1.24.3)\n",
            "Requirement already satisfied: idna<3,>=2.5 in /usr/local/lib/python3.8/dist-packages (from requests>=2.19.0->tensorflow-datasets->trax) (2.10)\n",
            "Requirement already satisfied: tensorboard<2.12,>=2.11 in /usr/local/lib/python3.8/dist-packages (from tensorflow<2.12,>=2.11.0->tensorflow-text->trax) (2.11.2)\n",
            "Requirement already satisfied: google-pasta>=0.1.1 in /usr/local/lib/python3.8/dist-packages (from tensorflow<2.12,>=2.11.0->tensorflow-text->trax) (0.2.0)\n",
            "Requirement already satisfied: grpcio<2.0,>=1.24.3 in /usr/local/lib/python3.8/dist-packages (from tensorflow<2.12,>=2.11.0->tensorflow-text->trax) (1.51.1)\n",
            "Requirement already satisfied: h5py>=2.9.0 in /usr/local/lib/python3.8/dist-packages (from tensorflow<2.12,>=2.11.0->tensorflow-text->trax) (3.1.0)\n",
            "Requirement already satisfied: packaging in /usr/local/lib/python3.8/dist-packages (from tensorflow<2.12,>=2.11.0->tensorflow-text->trax) (23.0)\n",
            "Requirement already satisfied: setuptools in /usr/local/lib/python3.8/dist-packages (from tensorflow<2.12,>=2.11.0->tensorflow-text->trax) (57.4.0)\n",
            "Requirement already satisfied: astunparse>=1.6.0 in /usr/local/lib/python3.8/dist-packages (from tensorflow<2.12,>=2.11.0->tensorflow-text->trax) (1.6.3)\n",
            "Requirement already satisfied: tensorflow-estimator<2.12,>=2.11.0 in /usr/local/lib/python3.8/dist-packages (from tensorflow<2.12,>=2.11.0->tensorflow-text->trax) (2.11.0)\n",
            "Requirement already satisfied: tensorflow-io-gcs-filesystem>=0.23.1 in /usr/local/lib/python3.8/dist-packages (from tensorflow<2.12,>=2.11.0->tensorflow-text->trax) (0.30.0)\n",
            "Requirement already satisfied: libclang>=13.0.0 in /usr/local/lib/python3.8/dist-packages (from tensorflow<2.12,>=2.11.0->tensorflow-text->trax) (15.0.6.1)\n",
            "Requirement already satisfied: flatbuffers>=2.0 in /usr/local/lib/python3.8/dist-packages (from tensorflow<2.12,>=2.11.0->tensorflow-text->trax) (23.1.21)\n",
            "Requirement already satisfied: gast<=0.4.0,>=0.2.1 in /usr/local/lib/python3.8/dist-packages (from tensorflow<2.12,>=2.11.0->tensorflow-text->trax) (0.4.0)\n",
            "Requirement already satisfied: keras<2.12,>=2.11.0 in /usr/local/lib/python3.8/dist-packages (from tensorflow<2.12,>=2.11.0->tensorflow-text->trax) (2.11.0)\n",
            "Requirement already satisfied: googleapis-common-protos<2,>=1.52.0 in /usr/local/lib/python3.8/dist-packages (from tensorflow-metadata->tensorflow-datasets->trax) (1.58.0)\n",
            "Requirement already satisfied: wheel<1.0,>=0.23.0 in /usr/local/lib/python3.8/dist-packages (from astunparse>=1.6.0->tensorflow<2.12,>=2.11.0->tensorflow-text->trax) (0.38.4)\n",
            "Requirement already satisfied: tensorboard-data-server<0.7.0,>=0.6.0 in /usr/local/lib/python3.8/dist-packages (from tensorboard<2.12,>=2.11->tensorflow<2.12,>=2.11.0->tensorflow-text->trax) (0.6.1)\n",
            "Requirement already satisfied: werkzeug>=1.0.1 in /usr/local/lib/python3.8/dist-packages (from tensorboard<2.12,>=2.11->tensorflow<2.12,>=2.11.0->tensorflow-text->trax) (1.0.1)\n",
            "Requirement already satisfied: markdown>=2.6.8 in /usr/local/lib/python3.8/dist-packages (from tensorboard<2.12,>=2.11->tensorflow<2.12,>=2.11.0->tensorflow-text->trax) (3.4.1)\n",
            "Requirement already satisfied: google-auth-oauthlib<0.5,>=0.4.1 in /usr/local/lib/python3.8/dist-packages (from tensorboard<2.12,>=2.11->tensorflow<2.12,>=2.11.0->tensorflow-text->trax) (0.4.6)\n",
            "Requirement already satisfied: tensorboard-plugin-wit>=1.6.0 in /usr/local/lib/python3.8/dist-packages (from tensorboard<2.12,>=2.11->tensorflow<2.12,>=2.11.0->tensorflow-text->trax) (1.8.1)\n",
            "Requirement already satisfied: google-auth<3,>=1.6.3 in /usr/local/lib/python3.8/dist-packages (from tensorboard<2.12,>=2.11->tensorflow<2.12,>=2.11.0->tensorflow-text->trax) (2.16.0)\n",
            "Requirement already satisfied: pyasn1-modules>=0.2.1 in /usr/local/lib/python3.8/dist-packages (from google-auth<3,>=1.6.3->tensorboard<2.12,>=2.11->tensorflow<2.12,>=2.11.0->tensorflow-text->trax) (0.2.8)\n",
            "Requirement already satisfied: cachetools<6.0,>=2.0.0 in /usr/local/lib/python3.8/dist-packages (from google-auth<3,>=1.6.3->tensorboard<2.12,>=2.11->tensorflow<2.12,>=2.11.0->tensorflow-text->trax) (5.3.0)\n",
            "Requirement already satisfied: rsa<5,>=3.1.4 in /usr/local/lib/python3.8/dist-packages (from google-auth<3,>=1.6.3->tensorboard<2.12,>=2.11->tensorflow<2.12,>=2.11.0->tensorflow-text->trax) (4.9)\n",
            "Requirement already satisfied: requests-oauthlib>=0.7.0 in /usr/local/lib/python3.8/dist-packages (from google-auth-oauthlib<0.5,>=0.4.1->tensorboard<2.12,>=2.11->tensorflow<2.12,>=2.11.0->tensorflow-text->trax) (1.3.1)\n",
            "Requirement already satisfied: pyasn1<0.5.0,>=0.4.6 in /usr/local/lib/python3.8/dist-packages (from pyasn1-modules>=0.2.1->google-auth<3,>=1.6.3->tensorboard<2.12,>=2.11->tensorflow<2.12,>=2.11.0->tensorflow-text->trax) (0.4.8)\n",
            "Requirement already satisfied: oauthlib>=3.0.0 in /usr/local/lib/python3.8/dist-packages (from requests-oauthlib>=0.7.0->google-auth-oauthlib<0.5,>=0.4.1->tensorboard<2.12,>=2.11->tensorflow<2.12,>=2.11.0->tensorflow-text->trax) (3.2.2)\n"
          ]
        }
      ]
    },
    {
      "cell_type": "code",
      "execution_count": 2,
      "metadata": {
        "tags": [],
        "id": "98bpaeshLYcb"
      },
      "outputs": [],
      "source": [
        "import numpy as np              # regular ol' numpy\n",
        "from trax import layers as tl   # core building block\n",
        "from trax import shapes         # data signatures: dimensionality and type\n",
        "from trax import fastmath       # uses jax, offers numpy on steroids"
      ]
    },
    {
      "cell_type": "markdown",
      "metadata": {
        "id": "U5UCXKHGLYcd"
      },
      "source": [
        "## 1. The tl.Serial Combinator is Stack Oriented.\n",
        "\n",
        "To understand how stack-orientation works in [Trax](https://trax-ml.readthedocs.io/en/latest/), most times one will be using the `Serial` layer. We will define two simple [Function layers](https://trax-ml.readthedocs.io/en/latest/notebooks/layers_intro.html?highlight=fn#With-the-Fn-layer-creating-function.): 1) Addition and 2) Multiplication.\n",
        "\n",
        "Suppose we want to make the simple calculation (3 + 4) * 15 + 3. `Serial` will perform the calculations in the following manner `3` `4` `add` `15` `mul` `3` `add`. The steps of the calculation are shown in the table below. The first column shows the operations made on the stack and the second column the output of those operations. Moreover, the rightmost element in the second column represents the top of the stack (e.g. in the second row, `Push(3)` pushes `3 ` on top of the stack and `4` is now under it).\n",
        "\n",
        "<div style=\"text-align:center\" width=\"50px\"><img src=\"https://github.com/lpanigrahi/coursera/blob/main/Deep%20Learning/NLP_spc/Stack1.png?raw=1\" /></div>\n",
        "\n",
        "After processing all the stack contains 108 which is the answer to our simple computation.\n",
        "\n",
        "From this, the following can be concluded: a stack-based layer has only one way to handle data, by taking one piece of data from atop the stack, termed popping, and putting data back atop the stack, termed pushing. Any expression that can be written conventionally, can be written in this form and thus be amenable to being interpreted by a stack-oriented layer like `Serial`."
      ]
    },
    {
      "cell_type": "markdown",
      "metadata": {
        "id": "uLsNjJM9LYce"
      },
      "source": [
        "### Coding the example in the table:"
      ]
    },
    {
      "cell_type": "markdown",
      "metadata": {
        "id": "XL8d1SFKLYcf"
      },
      "source": [
        "**Defining addition**"
      ]
    },
    {
      "cell_type": "code",
      "execution_count": 3,
      "metadata": {
        "tags": [],
        "id": "19BQc_5oLYcg",
        "outputId": "f3d072ac-1c3c-4bee-aa88-91b33081421c",
        "colab": {
          "base_uri": "https://localhost:8080/"
        }
      },
      "outputs": [
        {
          "output_type": "stream",
          "name": "stderr",
          "text": [
            "WARNING:jax._src.lib.xla_bridge:No GPU/TPU found, falling back to CPU. (Set TF_CPP_MIN_LOG_LEVEL=0 and rerun for more info.)\n"
          ]
        },
        {
          "output_type": "stream",
          "name": "stdout",
          "text": [
            "-- Properties --\n",
            "name : Addition\n",
            "expected inputs : 2\n",
            "promised outputs : 1 \n",
            "\n",
            "-- Inputs --\n",
            "x : [3] \n",
            "\n",
            "y : [4] \n",
            "\n",
            "-- Outputs --\n",
            "z : [7]\n"
          ]
        }
      ],
      "source": [
        "def Addition():\n",
        "    layer_name = \"Addition\"  # don't forget to give your custom layer a name to identify\n",
        "\n",
        "    # Custom function for the custom layer\n",
        "    def func(x, y):\n",
        "        return x + y\n",
        "\n",
        "    return tl.Fn(layer_name, func)\n",
        "\n",
        "\n",
        "# Test it\n",
        "add = Addition()\n",
        "\n",
        "# Inspect properties\n",
        "print(\"-- Properties --\")\n",
        "print(\"name :\", add.name)\n",
        "print(\"expected inputs :\", add.n_in)\n",
        "print(\"promised outputs :\", add.n_out, \"\\n\")\n",
        "\n",
        "# Inputs\n",
        "x = np.array([3])\n",
        "y = np.array([4])\n",
        "print(\"-- Inputs --\")\n",
        "print(\"x :\", x, \"\\n\")\n",
        "print(\"y :\", y, \"\\n\")\n",
        "\n",
        "# Outputs\n",
        "z = add((x, y))\n",
        "print(\"-- Outputs --\")\n",
        "print(\"z :\", z)"
      ]
    },
    {
      "cell_type": "markdown",
      "metadata": {
        "id": "NrE5Ps7wLYch"
      },
      "source": [
        "**Defining multiplication**"
      ]
    },
    {
      "cell_type": "code",
      "execution_count": 4,
      "metadata": {
        "tags": [],
        "id": "RzsCfplgLYci",
        "outputId": "bc0809e8-9bee-42ba-ef2e-fd2f0d794f9b",
        "colab": {
          "base_uri": "https://localhost:8080/"
        }
      },
      "outputs": [
        {
          "output_type": "stream",
          "name": "stdout",
          "text": [
            "-- Properties --\n",
            "name : Multiplication\n",
            "expected inputs : 2\n",
            "promised outputs : 1 \n",
            "\n",
            "-- Inputs --\n",
            "x : [7] \n",
            "\n",
            "y : [15] \n",
            "\n",
            "-- Outputs --\n",
            "z : [105]\n"
          ]
        }
      ],
      "source": [
        "def Multiplication():\n",
        "    layer_name = (\n",
        "        \"Multiplication\"  # don't forget to give your custom layer a name to identify\n",
        "    )\n",
        "\n",
        "    # Custom function for the custom layer\n",
        "    def func(x, y):\n",
        "        return x * y\n",
        "\n",
        "    return tl.Fn(layer_name, func)\n",
        "\n",
        "\n",
        "# Test it\n",
        "mul = Multiplication()\n",
        "\n",
        "# Inspect properties\n",
        "print(\"-- Properties --\")\n",
        "print(\"name :\", mul.name)\n",
        "print(\"expected inputs :\", mul.n_in)\n",
        "print(\"promised outputs :\", mul.n_out, \"\\n\")\n",
        "\n",
        "# Inputs\n",
        "x = np.array([7])\n",
        "y = np.array([15])\n",
        "print(\"-- Inputs --\")\n",
        "print(\"x :\", x, \"\\n\")\n",
        "print(\"y :\", y, \"\\n\")\n",
        "\n",
        "# Outputs\n",
        "z = mul((x, y))\n",
        "print(\"-- Outputs --\")\n",
        "print(\"z :\", z)"
      ]
    },
    {
      "cell_type": "markdown",
      "metadata": {
        "id": "9c2w7OjmLYcj"
      },
      "source": [
        "**Implementing the computations using Serial combinator.**"
      ]
    },
    {
      "cell_type": "code",
      "execution_count": 5,
      "metadata": {
        "tags": [],
        "id": "S8XamYkCLYcj",
        "outputId": "0feb5f52-3f05-44d1-a46d-0ebf715e3b5a",
        "colab": {
          "base_uri": "https://localhost:8080/"
        }
      },
      "outputs": [
        {
          "output_type": "stream",
          "name": "stdout",
          "text": [
            "-- Serial Model --\n",
            "Serial_in4[\n",
            "  Addition_in2\n",
            "  Multiplication_in2\n",
            "  Addition_in2\n",
            "] \n",
            "\n",
            "-- Properties --\n",
            "name : Serial\n",
            "sublayers : [Addition_in2, Multiplication_in2, Addition_in2]\n",
            "expected inputs : 4\n",
            "promised outputs : 1 \n",
            "\n",
            "-- Inputs --\n",
            "x : (array([3]), array([4]), array([15]), array([3])) \n",
            "\n",
            "-- Outputs --\n",
            "y : [108]\n"
          ]
        }
      ],
      "source": [
        "# Serial combinator\n",
        "serial = tl.Serial(\n",
        "    Addition(), Multiplication(), Addition()  # add 3 + 4  # multiply result by 15\n",
        ")\n",
        "\n",
        "# Initialization\n",
        "x = (np.array([3]), np.array([4]), np.array([15]), np.array([3]))  # input\n",
        "\n",
        "serial.init(shapes.signature(x))  # initializing serial instance\n",
        "\n",
        "\n",
        "print(\"-- Serial Model --\")\n",
        "print(serial, \"\\n\")\n",
        "print(\"-- Properties --\")\n",
        "print(\"name :\", serial.name)\n",
        "print(\"sublayers :\", serial.sublayers)\n",
        "print(\"expected inputs :\", serial.n_in)\n",
        "print(\"promised outputs :\", serial.n_out, \"\\n\")\n",
        "\n",
        "# Inputs\n",
        "print(\"-- Inputs --\")\n",
        "print(\"x :\", x, \"\\n\")\n",
        "\n",
        "# Outputs\n",
        "y = serial(x)\n",
        "print(\"-- Outputs --\")\n",
        "print(\"y :\", y)"
      ]
    },
    {
      "cell_type": "markdown",
      "metadata": {
        "id": "DRdXwiWeLYck"
      },
      "source": [
        "The example with the two simple adition and multiplication functions that where coded together with the serial combinator show how stack semantics work in `Trax`."
      ]
    },
    {
      "cell_type": "markdown",
      "metadata": {
        "id": "zHXKOeN2LYck"
      },
      "source": [
        "## 2. The tl.Select combinator in the context of the Serial combinator"
      ]
    },
    {
      "cell_type": "markdown",
      "metadata": {
        "id": "vlUQtLO1LYcl"
      },
      "source": [
        "Having understood how stack semantics work in `Trax`, we will demonstrate how the [tl.Select](https://trax-ml.readthedocs.io/en/latest/trax.layers.html?highlight=select#trax.layers.combinators.Select) combinator works."
      ]
    },
    {
      "cell_type": "markdown",
      "metadata": {
        "id": "vrZo-34OLYcl"
      },
      "source": [
        "### First example of tl.Select"
      ]
    },
    {
      "cell_type": "markdown",
      "metadata": {
        "id": "_joIwfCWLYcl"
      },
      "source": [
        "Suppose we want to make the simple calculation (3 + 4) * 3 + 4. We can use `Select` to perform the calculations in the following manner:\n",
        "\n",
        "1. `4`\n",
        "2. `3`\n",
        "3. `tl.Select([0,1,0,1])` \n",
        "4. `add` \n",
        "5. `mul` \n",
        "6. `add`. \n",
        "\n",
        "The `tl.Select` requires a list or tuple of 0-based indices to select elements relative to the top of the stack. For our example, the top of the stack is `3` (which is at index 0) then `4` (index 1) and we Select to add in an ordered manner to the top of the stack which after the command is `3` `4` `3` `4`. The steps of the calculation for our example are shown in the table below. As in the previous table each column shows the contents of the stack and the outputs after the operations are carried out.\n",
        "\n",
        "<div style=\"text-align:center\" width=\"20px\"><img src=\"https://github.com/lpanigrahi/coursera/blob/main/Deep%20Learning/NLP_spc/Stack2.png?raw=1\" /></div>\n",
        "\n",
        "After processing all the inputs the stack contains 25 which is the answer we get above."
      ]
    },
    {
      "cell_type": "code",
      "execution_count": 6,
      "metadata": {
        "tags": [],
        "id": "Ig5pRY3-LYcm",
        "outputId": "d764d1fd-d14b-4a69-d1c3-bebcae9e648d",
        "colab": {
          "base_uri": "https://localhost:8080/"
        }
      },
      "outputs": [
        {
          "output_type": "stream",
          "name": "stdout",
          "text": [
            "-- Serial Model --\n",
            "Serial_in2[\n",
            "  Select[0,1,0,1]_in2_out4\n",
            "  Addition_in2\n",
            "  Multiplication_in2\n",
            "  Addition_in2\n",
            "] \n",
            "\n",
            "-- Properties --\n",
            "name : Serial\n",
            "sublayers : [Select[0,1,0,1]_in2_out4, Addition_in2, Multiplication_in2, Addition_in2]\n",
            "expected inputs : 2\n",
            "promised outputs : 1 \n",
            "\n",
            "-- Inputs --\n",
            "x : (array([3]), array([4])) \n",
            "\n",
            "-- Outputs --\n",
            "y : [25]\n"
          ]
        }
      ],
      "source": [
        "serial = tl.Serial(tl.Select([0, 1, 0, 1]), Addition(), Multiplication(), Addition())\n",
        "\n",
        "# Initialization\n",
        "x = (np.array([3]), np.array([4]))  # input\n",
        "\n",
        "serial.init(shapes.signature(x))  # initializing serial instance\n",
        "\n",
        "\n",
        "print(\"-- Serial Model --\")\n",
        "print(serial, \"\\n\")\n",
        "print(\"-- Properties --\")\n",
        "print(\"name :\", serial.name)\n",
        "print(\"sublayers :\", serial.sublayers)\n",
        "print(\"expected inputs :\", serial.n_in)\n",
        "print(\"promised outputs :\", serial.n_out, \"\\n\")\n",
        "\n",
        "# Inputs\n",
        "print(\"-- Inputs --\")\n",
        "print(\"x :\", x, \"\\n\")\n",
        "\n",
        "# Outputs\n",
        "y = serial(x)\n",
        "print(\"-- Outputs --\")\n",
        "print(\"y :\", y)"
      ]
    },
    {
      "cell_type": "markdown",
      "metadata": {
        "id": "1WRKFsaULYcm"
      },
      "source": [
        "### Second example of tl.Select"
      ]
    },
    {
      "cell_type": "markdown",
      "metadata": {
        "id": "_eoo4lTjLYcm"
      },
      "source": [
        "Suppose we want to make the simple calculation (3 + 4) * 4. We can use `Select` to perform the calculations in the following manner:\n",
        "\n",
        "1. `4`\n",
        "2. `3`\n",
        "3. `tl.Select([0,1,0,1])` \n",
        "4. `add` \n",
        "5. `tl.Select([0], n_in=2)`\n",
        "6. `mul`\n",
        "\n",
        "The example is a bit contrived but it demonstrates the flexibility of the command. The second `tl.Select` pops two elements (specified in n_in) from the stack starting from index 0 (i.e. top of the stack). This means that `7` and `3 ` will be popped out because `n_in = 2`) but only `7` is placed back on top because it only selects `[0]`.  As in the previous table each column shows the contents of the stack and the outputs after the operations are carried out.\n",
        "\n",
        "<div style=\"text-align:center\" width=\"20px\"><img src=\"https://github.com/lpanigrahi/coursera/blob/main/Deep%20Learning/NLP_spc/Stack3.png?raw=1\" /></div>\n",
        "\n",
        "After processing all the inputs the stack contains 28 which is the answer we get above."
      ]
    },
    {
      "cell_type": "code",
      "execution_count": 7,
      "metadata": {
        "tags": [],
        "id": "7RXqdO6BLYcn",
        "outputId": "09a2ce5d-d181-4cfb-c52f-38ab42dd9234",
        "colab": {
          "base_uri": "https://localhost:8080/"
        }
      },
      "outputs": [
        {
          "output_type": "stream",
          "name": "stdout",
          "text": [
            "-- Serial Model --\n",
            "Serial_in2[\n",
            "  Select[0,1,0,1]_in2_out4\n",
            "  Addition_in2\n",
            "  Select[0]_in2\n",
            "  Multiplication_in2\n",
            "] \n",
            "\n",
            "-- Properties --\n",
            "name : Serial\n",
            "sublayers : [Select[0,1,0,1]_in2_out4, Addition_in2, Select[0]_in2, Multiplication_in2]\n",
            "expected inputs : 2\n",
            "promised outputs : 1 \n",
            "\n",
            "-- Inputs --\n",
            "x : (array([3]), array([4])) \n",
            "\n",
            "-- Outputs --\n",
            "y : [28]\n"
          ]
        }
      ],
      "source": [
        "serial = tl.Serial(\n",
        "    tl.Select([0, 1, 0, 1]), Addition(), tl.Select([0], n_in=2), Multiplication()\n",
        ")\n",
        "\n",
        "# Initialization\n",
        "x = (np.array([3]), np.array([4]))  # input\n",
        "\n",
        "serial.init(shapes.signature(x))  # initializing serial instance\n",
        "\n",
        "\n",
        "print(\"-- Serial Model --\")\n",
        "print(serial, \"\\n\")\n",
        "print(\"-- Properties --\")\n",
        "print(\"name :\", serial.name)\n",
        "print(\"sublayers :\", serial.sublayers)\n",
        "print(\"expected inputs :\", serial.n_in)\n",
        "print(\"promised outputs :\", serial.n_out, \"\\n\")\n",
        "\n",
        "# Inputs\n",
        "print(\"-- Inputs --\")\n",
        "print(\"x :\", x, \"\\n\")\n",
        "\n",
        "# Outputs\n",
        "y = serial(x)\n",
        "print(\"-- Outputs --\")\n",
        "print(\"y :\", y)"
      ]
    },
    {
      "cell_type": "markdown",
      "metadata": {
        "id": "ePhfVHQuLYcn"
      },
      "source": [
        "**In summary, what Select does in this example is a copy of the inputs in order to be used further along in the stack of operations.**"
      ]
    },
    {
      "cell_type": "markdown",
      "metadata": {
        "id": "bmfB6Ty8LYco"
      },
      "source": [
        "## 3. The tl.Residual combinator in the context of the Serial combinator"
      ]
    },
    {
      "cell_type": "markdown",
      "metadata": {
        "id": "l5lQzoq8LYco"
      },
      "source": [
        "### tl.Residual"
      ]
    },
    {
      "cell_type": "markdown",
      "metadata": {
        "id": "VlPI-W7DLYco"
      },
      "source": [
        "[Residual networks](https://arxiv.org/pdf/1512.03385.pdf) are frequently used to make deep models easier to train and you will be using it in the assignment as well. Trax already has a built in layer for this. The [Residual layer](https://trax-ml.readthedocs.io/en/latest/trax.layers.html?highlight=residual#trax.layers.combinators.Residual) computes the element-wise sum of the *stack-top* input with the output of the layer series. For example, if we wanted the cumulative sum of the folowing series of computations (3 + 4) * 3 + 4. The result can be obtained with the use of the `Residual` combinator in the following manner \n",
        "\n",
        "1. `4`\n",
        "2. `3`\n",
        "3. `tl.Select([0,1,0,1])` \n",
        "4. `add` \n",
        "5. `mul` \n",
        "6. `tl.Residual`.  \n",
        "\n",
        "For our example the top of the stack is `3` `4` and we select to add the same to numbers in an ordered manner to the top of the stack which after the command is `3` `4` `3` `4`. The steps of the calculation for our example are shown in the table below together with the cumulative sum which is the result of `tl.Residual`.\n",
        "\n",
        "<div style=\"text-align:center\" width=\"20px\"><img src=\"https://github.com/lpanigrahi/coursera/blob/main/Deep%20Learning/NLP_spc/Stack4.png?raw=1\" /></div>\n",
        "\n",
        "After processing all the inputs the stack contains 50 which is the cumulative sum of all the operations."
      ]
    },
    {
      "cell_type": "code",
      "execution_count": 8,
      "metadata": {
        "lines_to_next_cell": 2,
        "tags": [],
        "id": "gxsBq3FRLYco",
        "outputId": "670ac11a-bb1e-42aa-9e25-1be648c93301",
        "colab": {
          "base_uri": "https://localhost:8080/"
        }
      },
      "outputs": [
        {
          "output_type": "stream",
          "name": "stdout",
          "text": [
            "-- Serial Model --\n",
            "Serial_in2[\n",
            "  Select[0,1,0,1]_in2_out4\n",
            "  Addition_in2\n",
            "  Multiplication_in2\n",
            "  Addition_in2\n",
            "  Serial[\n",
            "    Branch_out2[\n",
            "      None\n",
            "      Serial\n",
            "    ]\n",
            "    Add_in2\n",
            "  ]\n",
            "] \n",
            "\n",
            "-- Properties --\n",
            "name : Serial\n",
            "sublayers : [Select[0,1,0,1]_in2_out4, Addition_in2, Multiplication_in2, Addition_in2, Serial[\n",
            "  Branch_out2[\n",
            "    None\n",
            "    Serial\n",
            "  ]\n",
            "  Add_in2\n",
            "]]\n",
            "expected inputs : 2\n",
            "promised outputs : 1 \n",
            "\n",
            "-- Inputs --\n",
            "x : (array([3]), array([4])) \n",
            "\n",
            "-- Outputs --\n",
            "y : [50]\n"
          ]
        }
      ],
      "source": [
        "serial = tl.Serial(\n",
        "    tl.Select([0, 1, 0, 1]), Addition(), Multiplication(), Addition(), tl.Residual()\n",
        ")\n",
        "\n",
        "# Initialization\n",
        "x = (np.array([3]), np.array([4]))  # input\n",
        "\n",
        "serial.init(shapes.signature(x))  # initializing serial instance\n",
        "\n",
        "\n",
        "print(\"-- Serial Model --\")\n",
        "print(serial, \"\\n\")\n",
        "print(\"-- Properties --\")\n",
        "print(\"name :\", serial.name)\n",
        "print(\"sublayers :\", serial.sublayers)\n",
        "print(\"expected inputs :\", serial.n_in)\n",
        "print(\"promised outputs :\", serial.n_out, \"\\n\")\n",
        "\n",
        "# Inputs\n",
        "print(\"-- Inputs --\")\n",
        "print(\"x :\", x, \"\\n\")\n",
        "\n",
        "# Outputs\n",
        "y = serial(x)\n",
        "print(\"-- Outputs --\")\n",
        "print(\"y :\", y)"
      ]
    },
    {
      "cell_type": "markdown",
      "metadata": {
        "id": "7RvfsIRPLYcp"
      },
      "source": [
        "### A slightly trickier example:\n",
        "\n",
        "Normally, the Residual layer will accept a layer as an argument and it will add the output of that layer to the current stack top input. In the example below, you'll notice that in the last step, we specify `tl.Residual(Addition())`. If you refer to the same figure above, you'll notice that the stack at that point has `21 4` where `21` is the top of the stack. The Residual layer remembers this value (i.e. `21`) so the result of the `Addition()` layer nested into it (i.e. `25`) is added to this stack top input to arrive at the result: `46`."
      ]
    },
    {
      "cell_type": "code",
      "execution_count": 9,
      "metadata": {
        "id": "Uaj1ye5YLYcp",
        "outputId": "168f72f2-0c70-44f7-d5df-20e8662837e3",
        "colab": {
          "base_uri": "https://localhost:8080/"
        }
      },
      "outputs": [
        {
          "output_type": "stream",
          "name": "stdout",
          "text": [
            "-- Serial Model --\n",
            "Serial_in2[\n",
            "  Select[0,1,0,1]_in2_out4\n",
            "  Addition_in2\n",
            "  Multiplication_in2\n",
            "  Serial_in2[\n",
            "    Branch_in2_out2[\n",
            "      None\n",
            "      Addition_in2\n",
            "    ]\n",
            "    Add_in2\n",
            "  ]\n",
            "] \n",
            "\n",
            "-- Properties --\n",
            "name : Serial\n",
            "sublayers : [Select[0,1,0,1]_in2_out4, Addition_in2, Multiplication_in2, Serial_in2[\n",
            "  Branch_in2_out2[\n",
            "    None\n",
            "    Addition_in2\n",
            "  ]\n",
            "  Add_in2\n",
            "]]\n",
            "expected inputs : 2\n",
            "promised outputs : 1 \n",
            "\n",
            "-- Inputs --\n",
            "x : (array([3]), array([4])) \n",
            "\n",
            "-- Outputs --\n",
            "y : [46]\n"
          ]
        }
      ],
      "source": [
        "serial = tl.Serial(\n",
        "    tl.Select([0, 1, 0, 1]), Addition(), Multiplication(), tl.Residual(Addition()) \n",
        ")\n",
        "\n",
        "# Initialization\n",
        "x = (np.array([3]), np.array([4]))  # input\n",
        "\n",
        "serial.init(shapes.signature(x))  # initializing serial instance\n",
        "\n",
        "\n",
        "print(\"-- Serial Model --\")\n",
        "print(serial, \"\\n\")\n",
        "print(\"-- Properties --\")\n",
        "print(\"name :\", serial.name)\n",
        "print(\"sublayers :\", serial.sublayers)\n",
        "print(\"expected inputs :\", serial.n_in)\n",
        "print(\"promised outputs :\", serial.n_out, \"\\n\")\n",
        "\n",
        "# Inputs\n",
        "print(\"-- Inputs --\")\n",
        "print(\"x :\", x, \"\\n\")\n",
        "\n",
        "# Outputs\n",
        "y = serial(x)\n",
        "print(\"-- Outputs --\")\n",
        "print(\"y :\", y)"
      ]
    }
  ],
  "metadata": {
    "jupytext": {
      "encoding": "# -*- coding: utf-8 -*-",
      "formats": "ipynb,py:percent"
    },
    "kernelspec": {
      "display_name": "Python 3",
      "language": "python",
      "name": "python3"
    },
    "language_info": {
      "codemirror_mode": {
        "name": "ipython",
        "version": 3
      },
      "file_extension": ".py",
      "mimetype": "text/x-python",
      "name": "python",
      "nbconvert_exporter": "python",
      "pygments_lexer": "ipython3",
      "version": "3.7.6"
    },
    "colab": {
      "provenance": [],
      "include_colab_link": true
    }
  },
  "nbformat": 4,
  "nbformat_minor": 0
}