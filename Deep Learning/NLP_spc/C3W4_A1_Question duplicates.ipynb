{
  "cells": [
    {
      "cell_type": "markdown",
      "metadata": {
        "id": "view-in-github",
        "colab_type": "text"
      },
      "source": [
        "<a href=\"https://colab.research.google.com/github/lpanigrahi/coursera/blob/main/Deep%20Learning/NLP_spc/C3W4_A1_Question%20duplicates.ipynb\" target=\"_parent\"><img src=\"https://colab.research.google.com/assets/colab-badge.svg\" alt=\"Open In Colab\"/></a>"
      ]
    },
    {
      "cell_type": "markdown",
      "metadata": {
        "id": "-Jv7Y4hXwt0j"
      },
      "source": [
        "# Assignment 4:  Question duplicates\n",
        "\n",
        "Welcome to the fourth assignment of course 3. In this assignment you will explore Siamese networks applied to natural language processing. You will further explore the fundamentals of Trax and you will be able to implement a more complicated structure using it. By completing this assignment, you will learn how to implement models with different architectures. \n",
        "\n",
        "## Outline\n",
        "\n",
        "- [Overview](#0)\n",
        "- [Part 1: Importing the Data](#1)\n",
        "    - [1.1 Loading in the data](#1.1)\n",
        "    - [1.2 Converting a question to a tensor](#1.2)\n",
        "    - [1.3 Understanding the iterator](#1.3)\n",
        "        - [Exercise 01](#ex01)\n",
        "- [Part 2: Defining the Siamese model](#2)\n",
        "    - [2.1 Understanding Siamese Network](#2.1)\n",
        "        - [Exercise 02](#ex02)\n",
        "    - [2.2 Hard  Negative Mining](#2.2)\n",
        "        - [Exercise 03](#ex03)\n",
        "- [Part 3: Training](#3)\n",
        "    - [3.1 Training the model](#3.1)\n",
        "        - [Exercise 04](#ex04)\n",
        "- [Part 4: Evaluation](#4)\n",
        "    - [4.1 Evaluating your siamese network](#4.1)\n",
        "    - [4.2 Classify](#4.2)\n",
        "        - [Exercise 05](#ex05)\n",
        "- [Part 5: Testing with your own questions](#5)\n",
        "    - [Exercise 06](#ex06)\n",
        "- [On Siamese networks](#6)\n",
        "\n",
        "<a name='0'></a>\n",
        "### Overview\n",
        "In this assignment, concretely you will: \n",
        "\n",
        "- Learn about Siamese networks\n",
        "- Understand how the triplet loss works\n",
        "- Understand how to evaluate accuracy\n",
        "- Use cosine similarity between the model's outputted vectors\n",
        "- Use the data generator to get batches of questions\n",
        "- Predict using your own model\n",
        "\n",
        "By now, you are familiar with trax and know how to make use of classes to define your model. We will start this homework by asking you to preprocess the data the same way you did in the previous assignments. After processing the data you will build a classifier that will allow you to identify whether to questions are the same or not. \n",
        "<img src = \"meme.png\" style=\"width:550px;height:300px;\"/>\n",
        "\n",
        "\n",
        "You will process the data first and then pad in a similar way you have done in the previous assignment. Your model will take in the two question embeddings, run them through an LSTM, and then compare the outputs of the two sub networks using cosine similarity. Before taking a deep dive into the model, start by importing the data set.\n"
      ]
    },
    {
      "cell_type": "markdown",
      "metadata": {
        "id": "4sF9Hqzgwt0l"
      },
      "source": [
        "<a name='1'></a>\n",
        "# Part 1: Importing the Data\n",
        "<a name='1.1'></a>\n",
        "### 1.1 Loading in the data\n",
        "\n",
        "You will be using the Quora question answer dataset to build a model that could identify similar questions. This is a useful task because you don't want to have several versions of the same question posted. Several times when teaching I end up responding to similar questions on piazza, or on other community forums. This data set has been labeled for you. Run the cell below to import some of the packages you will be using. "
      ]
    },
    {
      "cell_type": "code",
      "source": [
        "from google.colab import drive\n",
        "drive.mount('/content/drive')"
      ],
      "metadata": {
        "id": "-sdjZvSEcUao",
        "outputId": "42e2ee42-6cbb-433a-dd03-65a6c2675670",
        "colab": {
          "base_uri": "https://localhost:8080/"
        }
      },
      "execution_count": 1,
      "outputs": [
        {
          "output_type": "stream",
          "name": "stdout",
          "text": [
            "Mounted at /content/drive\n"
          ]
        }
      ]
    },
    {
      "cell_type": "code",
      "source": [
        "import os"
      ],
      "metadata": {
        "id": "lk64FjfdcneU"
      },
      "execution_count": 2,
      "outputs": []
    },
    {
      "cell_type": "code",
      "source": [
        "PROJECT_NAME = 'C3_W4_Assignment_Solution_Siamese_Network'"
      ],
      "metadata": {
        "id": "B2RUyueMcrXz"
      },
      "execution_count": 3,
      "outputs": []
    },
    {
      "cell_type": "code",
      "source": [
        "WORKING_DIR = os.path.join(os.getcwd(),'drive/MyDrive/coursera',PROJECT_NAME)\n",
        "\n",
        "if not os.path.exists(WORKING_DIR):\n",
        "  %mkdir {WORKING_DIR}\n",
        "  %cd {WORKING_DIR}\n",
        "else:\n",
        "  %cd {WORKING_DIR} "
      ],
      "metadata": {
        "id": "BL0BckfLc5Bn",
        "outputId": "6f5d1891-965a-4efa-99b2-125974c76494",
        "colab": {
          "base_uri": "https://localhost:8080/"
        }
      },
      "execution_count": 4,
      "outputs": [
        {
          "output_type": "stream",
          "name": "stdout",
          "text": [
            "/content/drive/MyDrive/coursera/C3_W4_Assignment_Solution_Siamese_Network\n"
          ]
        }
      ]
    },
    {
      "cell_type": "code",
      "source": [
        "!pip install trax"
      ],
      "metadata": {
        "id": "_ufAgYS8dUtm",
        "outputId": "f82959b6-d347-4537-ddd0-63b6003fbe3b",
        "colab": {
          "base_uri": "https://localhost:8080/"
        }
      },
      "execution_count": 5,
      "outputs": [
        {
          "output_type": "stream",
          "name": "stdout",
          "text": [
            "Looking in indexes: https://pypi.org/simple, https://us-python.pkg.dev/colab-wheels/public/simple/\n",
            "Collecting trax\n",
            "  Downloading trax-1.4.1-py2.py3-none-any.whl (637 kB)\n",
            "\u001b[2K     \u001b[90m━━━━━━━━━━━━━━━━━━━━━━━━━━━━━━━━━━━━━━\u001b[0m \u001b[32m637.9/637.9 KB\u001b[0m \u001b[31m41.4 MB/s\u001b[0m eta \u001b[36m0:00:00\u001b[0m\n",
            "\u001b[?25hRequirement already satisfied: matplotlib in /usr/local/lib/python3.8/dist-packages (from trax) (3.2.2)\n",
            "Requirement already satisfied: absl-py in /usr/local/lib/python3.8/dist-packages (from trax) (1.4.0)\n",
            "Requirement already satisfied: numpy in /usr/local/lib/python3.8/dist-packages (from trax) (1.22.4)\n",
            "Requirement already satisfied: gin-config in /usr/local/lib/python3.8/dist-packages (from trax) (0.5.0)\n",
            "Requirement already satisfied: psutil in /usr/local/lib/python3.8/dist-packages (from trax) (5.4.8)\n",
            "Collecting funcsigs\n",
            "  Downloading funcsigs-1.0.2-py2.py3-none-any.whl (17 kB)\n",
            "Requirement already satisfied: gym in /usr/local/lib/python3.8/dist-packages (from trax) (0.25.2)\n",
            "Requirement already satisfied: six in /usr/local/lib/python3.8/dist-packages (from trax) (1.15.0)\n",
            "Requirement already satisfied: jax in /usr/local/lib/python3.8/dist-packages (from trax) (0.3.25)\n",
            "Requirement already satisfied: scipy in /usr/local/lib/python3.8/dist-packages (from trax) (1.7.3)\n",
            "Requirement already satisfied: tensorflow-datasets in /usr/local/lib/python3.8/dist-packages (from trax) (4.8.2)\n",
            "Requirement already satisfied: jaxlib in /usr/local/lib/python3.8/dist-packages (from trax) (0.3.25+cuda11.cudnn805)\n",
            "Collecting tensorflow-text\n",
            "  Downloading tensorflow_text-2.11.0-cp38-cp38-manylinux_2_17_x86_64.manylinux2014_x86_64.whl (5.8 MB)\n",
            "\u001b[2K     \u001b[90m━━━━━━━━━━━━━━━━━━━━━━━━━━━━━━━━━━━━━━━━\u001b[0m \u001b[32m5.8/5.8 MB\u001b[0m \u001b[31m103.9 MB/s\u001b[0m eta \u001b[36m0:00:00\u001b[0m\n",
            "\u001b[?25hRequirement already satisfied: cloudpickle>=1.2.0 in /usr/local/lib/python3.8/dist-packages (from gym->trax) (2.2.1)\n",
            "Requirement already satisfied: importlib-metadata>=4.8.0 in /usr/local/lib/python3.8/dist-packages (from gym->trax) (6.0.0)\n",
            "Requirement already satisfied: gym-notices>=0.0.4 in /usr/local/lib/python3.8/dist-packages (from gym->trax) (0.0.8)\n",
            "Requirement already satisfied: opt-einsum in /usr/local/lib/python3.8/dist-packages (from jax->trax) (3.3.0)\n",
            "Requirement already satisfied: typing-extensions in /usr/local/lib/python3.8/dist-packages (from jax->trax) (4.5.0)\n",
            "Requirement already satisfied: python-dateutil>=2.1 in /usr/local/lib/python3.8/dist-packages (from matplotlib->trax) (2.8.2)\n",
            "Requirement already satisfied: kiwisolver>=1.0.1 in /usr/local/lib/python3.8/dist-packages (from matplotlib->trax) (1.4.4)\n",
            "Requirement already satisfied: pyparsing!=2.0.4,!=2.1.2,!=2.1.6,>=2.0.1 in /usr/local/lib/python3.8/dist-packages (from matplotlib->trax) (3.0.9)\n",
            "Requirement already satisfied: cycler>=0.10 in /usr/local/lib/python3.8/dist-packages (from matplotlib->trax) (0.11.0)\n",
            "Requirement already satisfied: promise in /usr/local/lib/python3.8/dist-packages (from tensorflow-datasets->trax) (2.3)\n",
            "Requirement already satisfied: protobuf>=3.12.2 in /usr/local/lib/python3.8/dist-packages (from tensorflow-datasets->trax) (3.19.6)\n",
            "Requirement already satisfied: tensorflow-metadata in /usr/local/lib/python3.8/dist-packages (from tensorflow-datasets->trax) (1.12.0)\n",
            "Requirement already satisfied: click in /usr/local/lib/python3.8/dist-packages (from tensorflow-datasets->trax) (7.1.2)\n",
            "Requirement already satisfied: termcolor in /usr/local/lib/python3.8/dist-packages (from tensorflow-datasets->trax) (2.2.0)\n",
            "Requirement already satisfied: wrapt in /usr/local/lib/python3.8/dist-packages (from tensorflow-datasets->trax) (1.14.1)\n",
            "Requirement already satisfied: requests>=2.19.0 in /usr/local/lib/python3.8/dist-packages (from tensorflow-datasets->trax) (2.25.1)\n",
            "Requirement already satisfied: tqdm in /usr/local/lib/python3.8/dist-packages (from tensorflow-datasets->trax) (4.64.1)\n",
            "Requirement already satisfied: dm-tree in /usr/local/lib/python3.8/dist-packages (from tensorflow-datasets->trax) (0.1.8)\n",
            "Requirement already satisfied: importlib-resources in /usr/local/lib/python3.8/dist-packages (from tensorflow-datasets->trax) (5.10.2)\n",
            "Requirement already satisfied: etils[enp,epath]>=0.9.0 in /usr/local/lib/python3.8/dist-packages (from tensorflow-datasets->trax) (1.0.0)\n",
            "Requirement already satisfied: dill in /usr/local/lib/python3.8/dist-packages (from tensorflow-datasets->trax) (0.3.6)\n",
            "Requirement already satisfied: toml in /usr/local/lib/python3.8/dist-packages (from tensorflow-datasets->trax) (0.10.2)\n",
            "Requirement already satisfied: tensorflow-hub>=0.8.0 in /usr/local/lib/python3.8/dist-packages (from tensorflow-text->trax) (0.12.0)\n",
            "Requirement already satisfied: tensorflow<2.12,>=2.11.0 in /usr/local/lib/python3.8/dist-packages (from tensorflow-text->trax) (2.11.0)\n",
            "Requirement already satisfied: zipp in /usr/local/lib/python3.8/dist-packages (from etils[enp,epath]>=0.9.0->tensorflow-datasets->trax) (3.13.0)\n",
            "Requirement already satisfied: urllib3<1.27,>=1.21.1 in /usr/local/lib/python3.8/dist-packages (from requests>=2.19.0->tensorflow-datasets->trax) (1.24.3)\n",
            "Requirement already satisfied: certifi>=2017.4.17 in /usr/local/lib/python3.8/dist-packages (from requests>=2.19.0->tensorflow-datasets->trax) (2022.12.7)\n",
            "Requirement already satisfied: chardet<5,>=3.0.2 in /usr/local/lib/python3.8/dist-packages (from requests>=2.19.0->tensorflow-datasets->trax) (4.0.0)\n",
            "Requirement already satisfied: idna<3,>=2.5 in /usr/local/lib/python3.8/dist-packages (from requests>=2.19.0->tensorflow-datasets->trax) (2.10)\n",
            "Requirement already satisfied: keras<2.12,>=2.11.0 in /usr/local/lib/python3.8/dist-packages (from tensorflow<2.12,>=2.11.0->tensorflow-text->trax) (2.11.0)\n",
            "Requirement already satisfied: h5py>=2.9.0 in /usr/local/lib/python3.8/dist-packages (from tensorflow<2.12,>=2.11.0->tensorflow-text->trax) (3.1.0)\n",
            "Requirement already satisfied: flatbuffers>=2.0 in /usr/local/lib/python3.8/dist-packages (from tensorflow<2.12,>=2.11.0->tensorflow-text->trax) (23.1.21)\n",
            "Requirement already satisfied: astunparse>=1.6.0 in /usr/local/lib/python3.8/dist-packages (from tensorflow<2.12,>=2.11.0->tensorflow-text->trax) (1.6.3)\n",
            "Requirement already satisfied: tensorboard<2.12,>=2.11 in /usr/local/lib/python3.8/dist-packages (from tensorflow<2.12,>=2.11.0->tensorflow-text->trax) (2.11.2)\n",
            "Requirement already satisfied: gast<=0.4.0,>=0.2.1 in /usr/local/lib/python3.8/dist-packages (from tensorflow<2.12,>=2.11.0->tensorflow-text->trax) (0.4.0)\n",
            "Requirement already satisfied: libclang>=13.0.0 in /usr/local/lib/python3.8/dist-packages (from tensorflow<2.12,>=2.11.0->tensorflow-text->trax) (15.0.6.1)\n",
            "Requirement already satisfied: tensorflow-estimator<2.12,>=2.11.0 in /usr/local/lib/python3.8/dist-packages (from tensorflow<2.12,>=2.11.0->tensorflow-text->trax) (2.11.0)\n",
            "Requirement already satisfied: google-pasta>=0.1.1 in /usr/local/lib/python3.8/dist-packages (from tensorflow<2.12,>=2.11.0->tensorflow-text->trax) (0.2.0)\n",
            "Requirement already satisfied: grpcio<2.0,>=1.24.3 in /usr/local/lib/python3.8/dist-packages (from tensorflow<2.12,>=2.11.0->tensorflow-text->trax) (1.51.1)\n",
            "Requirement already satisfied: setuptools in /usr/local/lib/python3.8/dist-packages (from tensorflow<2.12,>=2.11.0->tensorflow-text->trax) (57.4.0)\n",
            "Requirement already satisfied: tensorflow-io-gcs-filesystem>=0.23.1 in /usr/local/lib/python3.8/dist-packages (from tensorflow<2.12,>=2.11.0->tensorflow-text->trax) (0.30.0)\n",
            "Requirement already satisfied: packaging in /usr/local/lib/python3.8/dist-packages (from tensorflow<2.12,>=2.11.0->tensorflow-text->trax) (23.0)\n",
            "Requirement already satisfied: googleapis-common-protos<2,>=1.52.0 in /usr/local/lib/python3.8/dist-packages (from tensorflow-metadata->tensorflow-datasets->trax) (1.58.0)\n",
            "Requirement already satisfied: wheel<1.0,>=0.23.0 in /usr/local/lib/python3.8/dist-packages (from astunparse>=1.6.0->tensorflow<2.12,>=2.11.0->tensorflow-text->trax) (0.38.4)\n",
            "Requirement already satisfied: werkzeug>=1.0.1 in /usr/local/lib/python3.8/dist-packages (from tensorboard<2.12,>=2.11->tensorflow<2.12,>=2.11.0->tensorflow-text->trax) (1.0.1)\n",
            "Requirement already satisfied: markdown>=2.6.8 in /usr/local/lib/python3.8/dist-packages (from tensorboard<2.12,>=2.11->tensorflow<2.12,>=2.11.0->tensorflow-text->trax) (3.4.1)\n",
            "Requirement already satisfied: tensorboard-data-server<0.7.0,>=0.6.0 in /usr/local/lib/python3.8/dist-packages (from tensorboard<2.12,>=2.11->tensorflow<2.12,>=2.11.0->tensorflow-text->trax) (0.6.1)\n",
            "Requirement already satisfied: tensorboard-plugin-wit>=1.6.0 in /usr/local/lib/python3.8/dist-packages (from tensorboard<2.12,>=2.11->tensorflow<2.12,>=2.11.0->tensorflow-text->trax) (1.8.1)\n",
            "Requirement already satisfied: google-auth<3,>=1.6.3 in /usr/local/lib/python3.8/dist-packages (from tensorboard<2.12,>=2.11->tensorflow<2.12,>=2.11.0->tensorflow-text->trax) (2.16.0)\n",
            "Requirement already satisfied: google-auth-oauthlib<0.5,>=0.4.1 in /usr/local/lib/python3.8/dist-packages (from tensorboard<2.12,>=2.11->tensorflow<2.12,>=2.11.0->tensorflow-text->trax) (0.4.6)\n",
            "Requirement already satisfied: cachetools<6.0,>=2.0.0 in /usr/local/lib/python3.8/dist-packages (from google-auth<3,>=1.6.3->tensorboard<2.12,>=2.11->tensorflow<2.12,>=2.11.0->tensorflow-text->trax) (5.3.0)\n",
            "Requirement already satisfied: rsa<5,>=3.1.4 in /usr/local/lib/python3.8/dist-packages (from google-auth<3,>=1.6.3->tensorboard<2.12,>=2.11->tensorflow<2.12,>=2.11.0->tensorflow-text->trax) (4.9)\n",
            "Requirement already satisfied: pyasn1-modules>=0.2.1 in /usr/local/lib/python3.8/dist-packages (from google-auth<3,>=1.6.3->tensorboard<2.12,>=2.11->tensorflow<2.12,>=2.11.0->tensorflow-text->trax) (0.2.8)\n",
            "Requirement already satisfied: requests-oauthlib>=0.7.0 in /usr/local/lib/python3.8/dist-packages (from google-auth-oauthlib<0.5,>=0.4.1->tensorboard<2.12,>=2.11->tensorflow<2.12,>=2.11.0->tensorflow-text->trax) (1.3.1)\n",
            "Requirement already satisfied: pyasn1<0.5.0,>=0.4.6 in /usr/local/lib/python3.8/dist-packages (from pyasn1-modules>=0.2.1->google-auth<3,>=1.6.3->tensorboard<2.12,>=2.11->tensorflow<2.12,>=2.11.0->tensorflow-text->trax) (0.4.8)\n",
            "Requirement already satisfied: oauthlib>=3.0.0 in /usr/local/lib/python3.8/dist-packages (from requests-oauthlib>=0.7.0->google-auth-oauthlib<0.5,>=0.4.1->tensorboard<2.12,>=2.11->tensorflow<2.12,>=2.11.0->tensorflow-text->trax) (3.2.2)\n",
            "Installing collected packages: funcsigs, tensorflow-text, trax\n",
            "Successfully installed funcsigs-1.0.2 tensorflow-text-2.11.0 trax-1.4.1\n"
          ]
        }
      ]
    },
    {
      "cell_type": "code",
      "execution_count": 6,
      "metadata": {
        "id": "zdACgs491cs2"
      },
      "outputs": [],
      "source": [
        "import os\n",
        "import nltk\n",
        "import trax\n",
        "from trax import layers as tl\n",
        "from trax.supervised import training\n",
        "from trax.fastmath import numpy as fastnp\n",
        "import numpy as np\n",
        "import pandas as pd\n",
        "import random as rnd\n",
        "\n",
        "# set random seeds\n",
        "# trax.supervised.trainer_lib.init_random_number_generators(34)\n",
        "rnd.seed(34)"
      ]
    },
    {
      "cell_type": "markdown",
      "metadata": {
        "id": "3GYhQRMspitx"
      },
      "source": [
        "**Notice that for this assignment Trax's numpy is referred to as `fastnp`, while regular numpy is referred to as `np`.**\n",
        "\n",
        "You will now load in the data set. We have done some preprocessing for you. If you have taken the deeplearning specialization, this is a slightly different training method than the one you have seen there. If you have not, then don't worry about it, we will explain everything. "
      ]
    },
    {
      "cell_type": "code",
      "source": [
        "# !unzip train.csv.zip"
      ],
      "metadata": {
        "id": "CmBKKe60esW0",
        "outputId": "defa63c8-9187-4da6-b009-862e1fd75d59",
        "colab": {
          "base_uri": "https://localhost:8080/"
        }
      },
      "execution_count": 7,
      "outputs": [
        {
          "output_type": "stream",
          "name": "stdout",
          "text": [
            "Archive:  train.csv.zip\n",
            "replace train.csv? [y]es, [n]o, [A]ll, [N]one, [r]ename: Y\n",
            "  inflating: train.csv               \n"
          ]
        }
      ]
    },
    {
      "cell_type": "code",
      "execution_count": 8,
      "metadata": {
        "colab": {
          "base_uri": "https://localhost:8080/",
          "height": 354
        },
        "id": "sXWBVGWnpity",
        "outputId": "9b49bac9-9c5a-4af3-b276-f0cd940b8a5a"
      },
      "outputs": [
        {
          "output_type": "stream",
          "name": "stdout",
          "text": [
            "Number of question pairs:  404290\n"
          ]
        },
        {
          "output_type": "execute_result",
          "data": {
            "text/plain": [
              "   id  qid1  qid2                                          question1  \\\n",
              "0   0     1     2  What is the step by step guide to invest in sh...   \n",
              "1   1     3     4  What is the story of Kohinoor (Koh-i-Noor) Dia...   \n",
              "2   2     5     6  How can I increase the speed of my internet co...   \n",
              "3   3     7     8  Why am I mentally very lonely? How can I solve...   \n",
              "4   4     9    10  Which one dissolve in water quikly sugar, salt...   \n",
              "\n",
              "                                           question2  is_duplicate  \n",
              "0  What is the step by step guide to invest in sh...             0  \n",
              "1  What would happen if the Indian government sto...             0  \n",
              "2  How can Internet speed be increased by hacking...             0  \n",
              "3  Find the remainder when [math]23^{24}[/math] i...             0  \n",
              "4            Which fish would survive in salt water?             0  "
            ],
            "text/html": [
              "\n",
              "  <div id=\"df-006878ad-c281-420e-8dce-7e5a8a39d67d\">\n",
              "    <div class=\"colab-df-container\">\n",
              "      <div>\n",
              "<style scoped>\n",
              "    .dataframe tbody tr th:only-of-type {\n",
              "        vertical-align: middle;\n",
              "    }\n",
              "\n",
              "    .dataframe tbody tr th {\n",
              "        vertical-align: top;\n",
              "    }\n",
              "\n",
              "    .dataframe thead th {\n",
              "        text-align: right;\n",
              "    }\n",
              "</style>\n",
              "<table border=\"1\" class=\"dataframe\">\n",
              "  <thead>\n",
              "    <tr style=\"text-align: right;\">\n",
              "      <th></th>\n",
              "      <th>id</th>\n",
              "      <th>qid1</th>\n",
              "      <th>qid2</th>\n",
              "      <th>question1</th>\n",
              "      <th>question2</th>\n",
              "      <th>is_duplicate</th>\n",
              "    </tr>\n",
              "  </thead>\n",
              "  <tbody>\n",
              "    <tr>\n",
              "      <th>0</th>\n",
              "      <td>0</td>\n",
              "      <td>1</td>\n",
              "      <td>2</td>\n",
              "      <td>What is the step by step guide to invest in sh...</td>\n",
              "      <td>What is the step by step guide to invest in sh...</td>\n",
              "      <td>0</td>\n",
              "    </tr>\n",
              "    <tr>\n",
              "      <th>1</th>\n",
              "      <td>1</td>\n",
              "      <td>3</td>\n",
              "      <td>4</td>\n",
              "      <td>What is the story of Kohinoor (Koh-i-Noor) Dia...</td>\n",
              "      <td>What would happen if the Indian government sto...</td>\n",
              "      <td>0</td>\n",
              "    </tr>\n",
              "    <tr>\n",
              "      <th>2</th>\n",
              "      <td>2</td>\n",
              "      <td>5</td>\n",
              "      <td>6</td>\n",
              "      <td>How can I increase the speed of my internet co...</td>\n",
              "      <td>How can Internet speed be increased by hacking...</td>\n",
              "      <td>0</td>\n",
              "    </tr>\n",
              "    <tr>\n",
              "      <th>3</th>\n",
              "      <td>3</td>\n",
              "      <td>7</td>\n",
              "      <td>8</td>\n",
              "      <td>Why am I mentally very lonely? How can I solve...</td>\n",
              "      <td>Find the remainder when [math]23^{24}[/math] i...</td>\n",
              "      <td>0</td>\n",
              "    </tr>\n",
              "    <tr>\n",
              "      <th>4</th>\n",
              "      <td>4</td>\n",
              "      <td>9</td>\n",
              "      <td>10</td>\n",
              "      <td>Which one dissolve in water quikly sugar, salt...</td>\n",
              "      <td>Which fish would survive in salt water?</td>\n",
              "      <td>0</td>\n",
              "    </tr>\n",
              "  </tbody>\n",
              "</table>\n",
              "</div>\n",
              "      <button class=\"colab-df-convert\" onclick=\"convertToInteractive('df-006878ad-c281-420e-8dce-7e5a8a39d67d')\"\n",
              "              title=\"Convert this dataframe to an interactive table.\"\n",
              "              style=\"display:none;\">\n",
              "        \n",
              "  <svg xmlns=\"http://www.w3.org/2000/svg\" height=\"24px\"viewBox=\"0 0 24 24\"\n",
              "       width=\"24px\">\n",
              "    <path d=\"M0 0h24v24H0V0z\" fill=\"none\"/>\n",
              "    <path d=\"M18.56 5.44l.94 2.06.94-2.06 2.06-.94-2.06-.94-.94-2.06-.94 2.06-2.06.94zm-11 1L8.5 8.5l.94-2.06 2.06-.94-2.06-.94L8.5 2.5l-.94 2.06-2.06.94zm10 10l.94 2.06.94-2.06 2.06-.94-2.06-.94-.94-2.06-.94 2.06-2.06.94z\"/><path d=\"M17.41 7.96l-1.37-1.37c-.4-.4-.92-.59-1.43-.59-.52 0-1.04.2-1.43.59L10.3 9.45l-7.72 7.72c-.78.78-.78 2.05 0 2.83L4 21.41c.39.39.9.59 1.41.59.51 0 1.02-.2 1.41-.59l7.78-7.78 2.81-2.81c.8-.78.8-2.07 0-2.86zM5.41 20L4 18.59l7.72-7.72 1.47 1.35L5.41 20z\"/>\n",
              "  </svg>\n",
              "      </button>\n",
              "      \n",
              "  <style>\n",
              "    .colab-df-container {\n",
              "      display:flex;\n",
              "      flex-wrap:wrap;\n",
              "      gap: 12px;\n",
              "    }\n",
              "\n",
              "    .colab-df-convert {\n",
              "      background-color: #E8F0FE;\n",
              "      border: none;\n",
              "      border-radius: 50%;\n",
              "      cursor: pointer;\n",
              "      display: none;\n",
              "      fill: #1967D2;\n",
              "      height: 32px;\n",
              "      padding: 0 0 0 0;\n",
              "      width: 32px;\n",
              "    }\n",
              "\n",
              "    .colab-df-convert:hover {\n",
              "      background-color: #E2EBFA;\n",
              "      box-shadow: 0px 1px 2px rgba(60, 64, 67, 0.3), 0px 1px 3px 1px rgba(60, 64, 67, 0.15);\n",
              "      fill: #174EA6;\n",
              "    }\n",
              "\n",
              "    [theme=dark] .colab-df-convert {\n",
              "      background-color: #3B4455;\n",
              "      fill: #D2E3FC;\n",
              "    }\n",
              "\n",
              "    [theme=dark] .colab-df-convert:hover {\n",
              "      background-color: #434B5C;\n",
              "      box-shadow: 0px 1px 3px 1px rgba(0, 0, 0, 0.15);\n",
              "      filter: drop-shadow(0px 1px 2px rgba(0, 0, 0, 0.3));\n",
              "      fill: #FFFFFF;\n",
              "    }\n",
              "  </style>\n",
              "\n",
              "      <script>\n",
              "        const buttonEl =\n",
              "          document.querySelector('#df-006878ad-c281-420e-8dce-7e5a8a39d67d button.colab-df-convert');\n",
              "        buttonEl.style.display =\n",
              "          google.colab.kernel.accessAllowed ? 'block' : 'none';\n",
              "\n",
              "        async function convertToInteractive(key) {\n",
              "          const element = document.querySelector('#df-006878ad-c281-420e-8dce-7e5a8a39d67d');\n",
              "          const dataTable =\n",
              "            await google.colab.kernel.invokeFunction('convertToInteractive',\n",
              "                                                     [key], {});\n",
              "          if (!dataTable) return;\n",
              "\n",
              "          const docLinkHtml = 'Like what you see? Visit the ' +\n",
              "            '<a target=\"_blank\" href=https://colab.research.google.com/notebooks/data_table.ipynb>data table notebook</a>'\n",
              "            + ' to learn more about interactive tables.';\n",
              "          element.innerHTML = '';\n",
              "          dataTable['output_type'] = 'display_data';\n",
              "          await google.colab.output.renderOutput(dataTable, element);\n",
              "          const docLink = document.createElement('div');\n",
              "          docLink.innerHTML = docLinkHtml;\n",
              "          element.appendChild(docLink);\n",
              "        }\n",
              "      </script>\n",
              "    </div>\n",
              "  </div>\n",
              "  "
            ]
          },
          "metadata": {},
          "execution_count": 8
        }
      ],
      "source": [
        "# data = pd.read_csv(\"questions.csv\")\n",
        "data = pd.read_csv(\"train.csv\")\n",
        "N=len(data)\n",
        "print('Number of question pairs: ', N)\n",
        "data.head()"
      ]
    },
    {
      "cell_type": "markdown",
      "metadata": {
        "id": "gkSQTu7Ypit0"
      },
      "source": [
        "We first split the data into a train and test set. The test set will be used later to evaluate our model."
      ]
    },
    {
      "cell_type": "code",
      "execution_count": 9,
      "metadata": {
        "colab": {
          "base_uri": "https://localhost:8080/"
        },
        "id": "z00A7vEMpit1",
        "outputId": "2b5b4f67-54ba-425a-b90b-86f8950f0b0e"
      },
      "outputs": [
        {
          "output_type": "stream",
          "name": "stdout",
          "text": [
            "Train set: 300000 Test set: 10240\n"
          ]
        }
      ],
      "source": [
        "N_train = 300000\n",
        "N_test  = 10*1024\n",
        "data_train = data[:N_train]\n",
        "data_test  = data[N_train:N_train+N_test]\n",
        "print(\"Train set:\", len(data_train), \"Test set:\", len(data_test))\n",
        "del(data) # remove to free memory"
      ]
    },
    {
      "cell_type": "markdown",
      "metadata": {
        "id": "FbqIRRyEpit4"
      },
      "source": [
        "As explained in the lectures, we select only the question pairs that are duplicate to train the model. <br>\n",
        "We build two batches as input for the Siamese network and we assume that question $q1_i$ (question $i$ in the first batch) is a duplicate of $q2_i$ (question $i$ in the second batch), but all other questions in the second batch are not duplicates of $q1_i$.  \n",
        "The test set uses the original pairs of questions and the status describing if the questions are duplicates."
      ]
    },
    {
      "cell_type": "code",
      "execution_count": 10,
      "metadata": {
        "colab": {
          "base_uri": "https://localhost:8080/"
        },
        "id": "Xi_TwXxxpit4",
        "outputId": "4abca250-b9ff-44e0-9841-0e02100dbb4a"
      },
      "outputs": [
        {
          "output_type": "stream",
          "name": "stdout",
          "text": [
            "number of duplicate questions:  111473\n",
            "indexes of first ten duplicate questions: [5, 7, 11, 12, 13, 15, 16, 18, 20, 29]\n"
          ]
        }
      ],
      "source": [
        "td_index = (data_train['is_duplicate'] == 1).to_numpy()\n",
        "td_index = [i for i, x in enumerate(td_index) if x] \n",
        "print('number of duplicate questions: ', len(td_index))\n",
        "print('indexes of first ten duplicate questions:', td_index[:10])"
      ]
    },
    {
      "cell_type": "code",
      "execution_count": 11,
      "metadata": {
        "colab": {
          "base_uri": "https://localhost:8080/"
        },
        "id": "3I9oXSsKpit7",
        "outputId": "72e4f545-e400-428f-b767-0a431bd5ccd5"
      },
      "outputs": [
        {
          "output_type": "stream",
          "name": "stdout",
          "text": [
            "Astrology: I am a Capricorn Sun Cap moon and cap rising...what does that say about me?\n",
            "I'm a triple Capricorn (Sun, Moon and ascendant in Capricorn) What does this say about me?\n",
            "is_duplicate:  1\n"
          ]
        }
      ],
      "source": [
        "print(data_train['question1'][5])  #  Example of question duplicates (first one in data)\n",
        "print(data_train['question2'][5])\n",
        "print('is_duplicate: ', data_train['is_duplicate'][5])"
      ]
    },
    {
      "cell_type": "code",
      "execution_count": 12,
      "metadata": {
        "id": "XHpZO58Dss_v"
      },
      "outputs": [],
      "source": [
        "Q1_train_words = np.array(data_train['question1'][td_index])\n",
        "Q2_train_words = np.array(data_train['question2'][td_index])\n",
        "\n",
        "Q1_test_words = np.array(data_test['question1'])\n",
        "Q2_test_words = np.array(data_test['question2'])\n",
        "y_test  = np.array(data_test['is_duplicate'])"
      ]
    },
    {
      "cell_type": "markdown",
      "metadata": {
        "id": "P5vBkxunpiuB"
      },
      "source": [
        "Above, you have seen that you only took the duplicated questions for training our model. <br>You did so on purpose, because the data generator will produce batches $([q1_1, q1_2, q1_3, ...]$, $[q2_1, q2_2,q2_3, ...])$  where $q1_i$ and $q2_k$ are duplicate if and only if $i = k$.\n",
        "\n",
        "<br>Let's print to see what your data looks like."
      ]
    },
    {
      "cell_type": "code",
      "execution_count": 13,
      "metadata": {
        "colab": {
          "base_uri": "https://localhost:8080/"
        },
        "id": "joyrS1XEpLWn",
        "outputId": "84f1b036-7c5c-450f-8a3c-4c04fa6db64e"
      },
      "outputs": [
        {
          "output_type": "stream",
          "name": "stdout",
          "text": [
            "TRAINING QUESTIONS:\n",
            "\n",
            "Question 1:  Astrology: I am a Capricorn Sun Cap moon and cap rising...what does that say about me?\n",
            "Question 2:  I'm a triple Capricorn (Sun, Moon and ascendant in Capricorn) What does this say about me? \n",
            "\n",
            "Question 1:  What would a Trump presidency mean for current international master’s students on an F1 visa?\n",
            "Question 2:  How will a Trump presidency affect the students presently in US or planning to study in US? \n",
            "\n",
            "TESTING QUESTIONS:\n",
            "\n",
            "Question 1:  What were some of the troubles you have faced during and after your 9 months period of pregnancy?\n",
            "Question 2:  What is the difference between neural circuit and neural system? \n",
            "\n",
            "is_duplicate = 0 \n",
            "\n"
          ]
        }
      ],
      "source": [
        "print('TRAINING QUESTIONS:\\n')\n",
        "print('Question 1: ', Q1_train_words[0])\n",
        "print('Question 2: ', Q2_train_words[0], '\\n')\n",
        "print('Question 1: ', Q1_train_words[5])\n",
        "print('Question 2: ', Q2_train_words[5], '\\n')\n",
        "\n",
        "print('TESTING QUESTIONS:\\n')\n",
        "print('Question 1: ', Q1_test_words[0])\n",
        "print('Question 2: ', Q2_test_words[0], '\\n')\n",
        "print('is_duplicate =', y_test[0], '\\n')"
      ]
    },
    {
      "cell_type": "markdown",
      "metadata": {
        "id": "WC_BZU3XpiuF"
      },
      "source": [
        "You will now encode each word of the selected duplicate pairs with an index. <br> Given a question, you can then just encode it as a list of numbers.  \n",
        "\n",
        "First you tokenize the questions using `nltk.word_tokenize`. <br>\n",
        "You need a python default dictionary which later, during inference, assigns the values $0$ to all Out Of Vocabulary (OOV) words.<br>\n",
        "Then you encode each word of the selected duplicate pairs with an index. Given a question, you can then just encode it as a list of numbers. "
      ]
    },
    {
      "cell_type": "code",
      "execution_count": 14,
      "metadata": {
        "id": "QbCoIgLQpiuF"
      },
      "outputs": [],
      "source": [
        "#create arrays\n",
        "Q1_train = np.empty_like(Q1_train_words)\n",
        "Q2_train = np.empty_like(Q2_train_words)\n",
        "\n",
        "Q1_test = np.empty_like(Q1_test_words)\n",
        "Q2_test = np.empty_like(Q2_test_words)"
      ]
    },
    {
      "cell_type": "code",
      "execution_count": 15,
      "metadata": {
        "colab": {
          "base_uri": "https://localhost:8080/"
        },
        "id": "m9ZmfpGWpiuI",
        "outputId": "ec29b7af-6837-40dc-9699-0c221022da84"
      },
      "outputs": [
        {
          "output_type": "stream",
          "name": "stderr",
          "text": [
            "[nltk_data] Downloading package punkt to /root/nltk_data...\n",
            "[nltk_data]   Unzipping tokenizers/punkt.zip.\n"
          ]
        },
        {
          "output_type": "stream",
          "name": "stdout",
          "text": [
            "The length of the vocabulary is:  36279\n"
          ]
        }
      ],
      "source": [
        "# Building the vocabulary with the train set         (this might take a minute)\n",
        "nltk.download('punkt')\n",
        "\n",
        "from collections import defaultdict\n",
        "\n",
        "vocab = defaultdict(lambda: 0)\n",
        "vocab['<PAD>'] = 1\n",
        "\n",
        "for idx in range(len(Q1_train_words)):\n",
        "    Q1_train[idx] = nltk.word_tokenize(Q1_train_words[idx])\n",
        "    Q2_train[idx] = nltk.word_tokenize(Q2_train_words[idx])\n",
        "    q = Q1_train[idx] + Q2_train[idx]\n",
        "    for word in q:\n",
        "        if word not in vocab:\n",
        "            vocab[word] = len(vocab) + 1\n",
        "print('The length of the vocabulary is: ', len(vocab))"
      ]
    },
    {
      "cell_type": "code",
      "execution_count": 16,
      "metadata": {
        "colab": {
          "base_uri": "https://localhost:8080/"
        },
        "id": "TTMRF8eZpiuK",
        "outputId": "58962da2-5ba7-47fc-e80c-8634ee33afa6"
      },
      "outputs": [
        {
          "output_type": "stream",
          "name": "stdout",
          "text": [
            "1\n",
            "2\n",
            "0\n"
          ]
        }
      ],
      "source": [
        "print(vocab['<PAD>'])\n",
        "print(vocab['Astrology'])\n",
        "print(vocab['Astronomy'])  #not in vocabulary, returns 0"
      ]
    },
    {
      "cell_type": "code",
      "execution_count": 17,
      "metadata": {
        "id": "5sDs36m81g6f"
      },
      "outputs": [],
      "source": [
        "for idx in range(len(Q1_test_words)): \n",
        "    Q1_test[idx] = nltk.word_tokenize(Q1_test_words[idx])\n",
        "    Q2_test[idx] = nltk.word_tokenize(Q2_test_words[idx])"
      ]
    },
    {
      "cell_type": "code",
      "execution_count": 18,
      "metadata": {
        "colab": {
          "base_uri": "https://localhost:8080/"
        },
        "id": "3QgGE9KlpiuP",
        "outputId": "a6b57619-b3ef-4d6a-bb02-e79719ecd72e"
      },
      "outputs": [
        {
          "output_type": "stream",
          "name": "stdout",
          "text": [
            "Train set has reduced to:  111473\n",
            "Test set length:  10240\n"
          ]
        }
      ],
      "source": [
        "print('Train set has reduced to: ', len(Q1_train) ) \n",
        "print('Test set length: ', len(Q1_test) ) "
      ]
    },
    {
      "cell_type": "markdown",
      "metadata": {
        "id": "BDcxEmX31y3d"
      },
      "source": [
        "<a name='1.2'></a>\n",
        "### 1.2 Converting a question to a tensor\n",
        "\n",
        "You will now convert every question to a tensor, or an array of numbers, using your vocabulary built above."
      ]
    },
    {
      "cell_type": "code",
      "execution_count": 19,
      "metadata": {
        "id": "zOhNa-sapiuS"
      },
      "outputs": [],
      "source": [
        "# Converting questions to array of integers\n",
        "for i in range(len(Q1_train)):\n",
        "    Q1_train[i] = [vocab[word] for word in Q1_train[i]]\n",
        "    Q2_train[i] = [vocab[word] for word in Q2_train[i]]\n",
        "\n",
        "        \n",
        "for i in range(len(Q1_test)):\n",
        "    Q1_test[i] = [vocab[word] for word in Q1_test[i]]\n",
        "    Q2_test[i] = [vocab[word] for word in Q2_test[i]]"
      ]
    },
    {
      "cell_type": "code",
      "execution_count": 20,
      "metadata": {
        "colab": {
          "base_uri": "https://localhost:8080/"
        },
        "id": "Dpawm38dpiuU",
        "outputId": "2e8ae31b-f20e-4b09-f989-15eab810e924"
      },
      "outputs": [
        {
          "output_type": "stream",
          "name": "stdout",
          "text": [
            "first question in the train set:\n",
            "\n",
            "Astrology: I am a Capricorn Sun Cap moon and cap rising...what does that say about me? \n",
            "\n",
            "encoded version:\n",
            "[2, 3, 4, 5, 6, 7, 8, 9, 10, 11, 12, 13, 14, 15, 16, 17, 18, 19, 20, 21] \n",
            "\n",
            "first question in the test set:\n",
            "\n",
            "What were some of the troubles you have faced during and after your 9 months period of pregnancy? \n",
            "\n",
            "encoded version:\n",
            "[30, 271, 116, 131, 78, 28828, 53, 218, 6589, 124, 11, 267, 56, 1636, 606, 2092, 131, 4329, 21]\n"
          ]
        }
      ],
      "source": [
        "print('first question in the train set:\\n')\n",
        "print(Q1_train_words[0], '\\n') \n",
        "print('encoded version:')\n",
        "print(Q1_train[0],'\\n')\n",
        "\n",
        "print('first question in the test set:\\n')\n",
        "print(Q1_test_words[0], '\\n')\n",
        "print('encoded version:')\n",
        "print(Q1_test[0]) "
      ]
    },
    {
      "cell_type": "markdown",
      "metadata": {
        "id": "SuggGPaQpiuY"
      },
      "source": [
        "You will now split your train set into a training/validation set so that you can use it to train and evaluate your Siamese model."
      ]
    },
    {
      "cell_type": "code",
      "execution_count": 21,
      "metadata": {
        "colab": {
          "base_uri": "https://localhost:8080/"
        },
        "id": "BmhrWPtgpiuY",
        "outputId": "360c8c5b-d9db-438e-935c-c484fb1c4d92"
      },
      "outputs": [
        {
          "output_type": "stream",
          "name": "stdout",
          "text": [
            "Number of duplicate questions:  111473\n",
            "The length of the training set is:   89178\n",
            "The length of the validation set is:  22295\n"
          ]
        }
      ],
      "source": [
        "# Splitting the data\n",
        "cut_off = int(len(Q1_train)*.8)\n",
        "train_Q1, train_Q2 = Q1_train[:cut_off], Q2_train[:cut_off]\n",
        "val_Q1, val_Q2 = Q1_train[cut_off: ], Q2_train[cut_off:]\n",
        "print('Number of duplicate questions: ', len(Q1_train))\n",
        "print(\"The length of the training set is:  \", len(train_Q1))\n",
        "print(\"The length of the validation set is: \", len(val_Q1))"
      ]
    },
    {
      "cell_type": "markdown",
      "metadata": {
        "id": "iFOR19cX2TQs"
      },
      "source": [
        "<a name='1.3'></a>\n",
        "### 1.3 Understanding the iterator \n",
        "\n",
        "Most of the time in Natural Language Processing, and AI in general we use batches when training our data sets. If you were to use stochastic gradient descent with one example at a time, it will take you forever to build a model. In this example, we show you how you can build a data generator that takes in $Q1$ and $Q2$ and returns a batch of size `batch_size`  in the following format $([q1_1, q1_2, q1_3, ...]$, $[q2_1, q2_2,q2_3, ...])$. The tuple consists of two arrays and each array has `batch_size` questions. Again, $q1_i$ and $q2_i$ are duplicates, but they are not duplicates with any other elements in the batch. \n",
        "\n",
        "<br>\n",
        "\n",
        "The command ```next(data_generator)```returns the next batch. This iterator returns the data in a format that you could directly use in your model when computing the feed-forward of your algorithm. This iterator returns a pair of arrays of questions. \n",
        "\n",
        "<a name='ex01'></a>\n",
        "### Exercise 01\n",
        "\n",
        "**Instructions:**  \n",
        "Implement the data generator below. Here are some things you will need. \n",
        "\n",
        "- While true loop.\n",
        "- if `index >= len_Q1`, set the `idx` to $0$.\n",
        "- The generator should return shuffled batches of data. To achieve this without modifying the actual question lists, a list containing the indexes of the questions is created. This list can be shuffled and used to get random batches everytime the index is reset.\n",
        "- Append elements of $Q1$ and $Q2$ to `input1` and `input2` respectively.\n",
        "- if `len(input1) == batch_size`, determine `max_len` as the longest question in `input1` and `input2`. Ceil `max_len` to a power of $2$ (for computation purposes) using the following command:  `max_len = 2**int(np.ceil(np.log2(max_len)))`.\n",
        "- Pad every question by `vocab['<PAD>']` until you get the length `max_len`.\n",
        "- Use yield to return `input1, input2`. \n",
        "- Don't forget to reset `input1, input2`  to empty arrays at the end (data generator resumes from where it last left)."
      ]
    },
    {
      "cell_type": "code",
      "execution_count": 22,
      "metadata": {
        "id": "ibchgos48MtA"
      },
      "outputs": [],
      "source": [
        "# UNQ_C1 (UNIQUE CELL IDENTIFIER, DO NOT EDIT)\n",
        "# GRADED FUNCTION: data_generator\n",
        "def data_generator(Q1, Q2, batch_size, pad=1, shuffle=True):\n",
        "    \"\"\"Generator function that yields batches of data\n",
        "\n",
        "    Args:\n",
        "        Q1 (list): List of transformed (to tensor) questions.\n",
        "        Q2 (list): List of transformed (to tensor) questions.\n",
        "        batch_size (int): Number of elements per batch.\n",
        "        pad (int, optional): Pad character from the vocab. Defaults to 1.\n",
        "        shuffle (bool, optional): If the batches should be randomnized or not. Defaults to True.\n",
        "    Yields:\n",
        "        tuple: Of the form (input1, input2) with types (numpy.ndarray, numpy.ndarray)\n",
        "        NOTE: input1: inputs to your model [q1a, q2a, q3a, ...] i.e. (q1a,q1b) are duplicates\n",
        "              input2: targets to your model [q1b, q2b,q3b, ...] i.e. (q1a,q2i) i!=a are not duplicates\n",
        "    \"\"\"\n",
        "\n",
        "    input1 = []\n",
        "    input2 = []\n",
        "    idx = 0\n",
        "    len_q = len(Q1)\n",
        "    question_indexes = [*range(len_q)]\n",
        "    \n",
        "    if shuffle:\n",
        "        rnd.shuffle(question_indexes)\n",
        "    \n",
        "    ### START CODE HERE (Replace instances of 'None' with your code) ###\n",
        "    while True:\n",
        "        if idx >= len_q:\n",
        "            # if idx is greater than or equal to len_q, set idx accordingly \n",
        "            # (Hint: look at the instructions above)\n",
        "            idx = len_q\n",
        "            # shuffle to get random batches if shuffle is set to True\n",
        "            if shuffle:\n",
        "                rnd.shuffle(question_indexes)\n",
        "        \n",
        "        # get questions at the `question_indexes[idx]` position in Q1 and Q2\n",
        "        q1 = Q1[question_indexes[idx]]\n",
        "        q2 = Q2[question_indexes[idx]]\n",
        "        \n",
        "        # increment idx by 1\n",
        "        idx += 1\n",
        "        # append q1\n",
        "        input1.append(q1)\n",
        "        # append q2\n",
        "        input2.append(q2)\n",
        "        if len(input1) == batch_size:\n",
        "            # determine max_len as the longest question in input1 & input 2\n",
        "            # Hint: use the `max` function. \n",
        "            # take max of input1 & input2 and then max out of the two of them.\n",
        "            max_len = max(max([len(q) for q in input1]),max([len(q) for q in input2]))\n",
        "            # pad to power-of-2 (Hint: look at the instructions above)\n",
        "            max_len = 2**int(np.ceil(np.log2(max_len)))\n",
        "            b1 = []\n",
        "            b2 = []\n",
        "            for q1, q2 in zip(input1, input2):\n",
        "                # add [pad] to q1 until it reaches max_len\n",
        "                q1 = q1 + [pad] * (max_len - len(q1))\n",
        "                # add [pad] to q2 until it reaches max_len\n",
        "                q2 = q2 + [pad] * (max_len - len(q2))\n",
        "                # append q1\n",
        "                b1.append(q1)\n",
        "                # append q2\n",
        "                b2.append(q2)\n",
        "            # use b1 and b2\n",
        "            yield np.array(b1), np.array(b2)\n",
        "    ### END CODE HERE ###\n",
        "            # reset the batches\n",
        "            input1, input2 = [], []  # reset the batches"
      ]
    },
    {
      "cell_type": "code",
      "execution_count": 23,
      "metadata": {
        "colab": {
          "base_uri": "https://localhost:8080/"
        },
        "id": "ZFZeBPnW8Mlb",
        "outputId": "8cc08126-65bb-49fb-b86e-ecab83d5058d"
      },
      "outputs": [
        {
          "output_type": "stream",
          "name": "stdout",
          "text": [
            "First questions  :  \n",
            " [[   30    87   116   790  1251    19 14744 17067   850    21     1     1\n",
            "      1     1     1     1     1     1     1     1     1     1     1     1\n",
            "      1     1     1     1     1     1     1     1]\n",
            " [ 8837   572    39   504 14256   251  1358   131    43  4376    25    15\n",
            "     37     4   981   899    21     1     1     1     1     1     1     1\n",
            "      1     1     1     1     1     1     1     1]] \n",
            "\n",
            "Second questions :  \n",
            " [[   30    87    78  3841  5837  1251    19 14744 17067   850    21     1\n",
            "      1     1     1     1     1     1     1     1     1     1     1     1\n",
            "      1     1     1     1     1     1     1     1]\n",
            " [   30    87    78   627    17    43 14256  1139   572  1081    21     1\n",
            "      1     1     1     1     1     1     1     1     1     1     1     1\n",
            "      1     1     1     1     1     1     1     1]]\n"
          ]
        }
      ],
      "source": [
        "batch_size = 2\n",
        "res1, res2 = next(data_generator(train_Q1, train_Q2, batch_size))\n",
        "print(\"First questions  : \",'\\n', res1, '\\n')\n",
        "print(\"Second questions : \",'\\n', res2)"
      ]
    },
    {
      "cell_type": "markdown",
      "metadata": {
        "id": "tWJ1L9m2piui"
      },
      "source": [
        "**Note**: The following expected output is valid only if you run the above test cell **_once_** (first time). The output will change on each execution.\n",
        "\n",
        "If you think your implementation is correct and it is not matching the output, make sure to restart the kernel and run all the cells from the top again. \n",
        "\n",
        "**Expected Output:**\n",
        "```CPP\n",
        "First questions  :  \n",
        " [[  30   87   78  134 2132 1981   28   78  594   21    1    1    1    1\n",
        "     1    1]\n",
        " [  30   55   78 3541 1460   28   56  253   21    1    1    1    1    1\n",
        "     1    1]] \n",
        "\n",
        "Second questions :  \n",
        " [[  30  156   78  134 2132 9508   21    1    1    1    1    1    1    1\n",
        "     1    1]\n",
        " [  30  156   78 3541 1460  131   56  253   21    1    1    1    1    1\n",
        "     1    1]]\n",
        "```\n",
        "Now that you have your generator, you can just call it and it will return tensors which correspond to your questions in the Quora data set.<br>Now you can go ahead and start building your neural network. \n",
        "\n"
      ]
    },
    {
      "cell_type": "markdown",
      "metadata": {
        "id": "KmZRBoaMwt0w"
      },
      "source": [
        "<a name='2'></a>\n",
        "# Part 2: Defining the Siamese model\n",
        "\n",
        "<a name='2.1'></a>\n",
        "\n",
        "### 2.1 Understanding Siamese Network \n",
        "A Siamese network is a neural network which uses the same weights while working in tandem on two different input vectors to compute comparable output vectors.The Siamese network you are about to implement looks like this:\n",
        "\n",
        "<img src = \"siamese.png\" style=\"width:600px;height:300px;\"/>\n",
        "\n",
        "You get the question embedding, run it through an LSTM layer, normalize $v_1$ and $v_2$, and finally use a triplet loss (explained below) to get the corresponding cosine similarity for each pair of questions. As usual, you will start by importing the data set. The triplet loss makes use of a baseline (anchor) input that is compared to a positive (truthy) input and a negative (falsy) input. The distance from the baseline (anchor) input to the positive (truthy) input is minimized, and the distance from the baseline (anchor) input to the negative (falsy) input is maximized. In math equations, you are trying to maximize the following.\n",
        "\n",
        "$$\\mathcal{L}(A, P, N)=\\max \\left(\\|\\mathrm{f}(A)-\\mathrm{f}(P)\\|^{2}-\\|\\mathrm{f}(A)-\\mathrm{f}(N)\\|^{2}+\\alpha, 0\\right)$$\n",
        "\n",
        "$A$ is the anchor input, for example $q1_1$, $P$ the duplicate input, for example, $q2_1$, and $N$ the negative input (the non duplicate question), for example $q2_2$.<br>\n",
        "$\\alpha$ is a margin; you can think about it as a safety net, or by how much you want to push the duplicates from the non duplicates. \n",
        "<br>\n",
        "\n",
        "<a name='ex02'></a>\n",
        "### Exercise 02\n",
        "\n",
        "**Instructions:** Implement the `Siamese` function below. You should be using all the objects explained below. \n",
        "\n",
        "To implement this model, you will be using `trax`. Concretely, you will be using the following functions.\n",
        "\n",
        "\n",
        "- `tl.Serial`: Combinator that applies layers serially (by function composition) allows you set up the overall structure of the feedforward. [docs](https://trax-ml.readthedocs.io/en/latest/trax.layers.html#trax.layers.combinators.Serial) / [source code](https://github.com/google/trax/blob/1372b903bb66b0daccee19fd0b1fdf44f659330b/trax/layers/combinators.py#L26)\n",
        "    - You can pass in the layers as arguments to `Serial`, separated by commas. \n",
        "    - For example: `tl.Serial(tl.Embeddings(...), tl.Mean(...), tl.Dense(...), tl.LogSoftmax(...))` \n",
        "\n",
        "\n",
        "-  `tl.Embedding`: Maps discrete tokens to vectors. It will have shape (vocabulary length X dimension of output vectors). The dimension of output vectors (also called d_feature) is the number of elements in the word embedding. [docs](https://trax-ml.readthedocs.io/en/latest/trax.layers.html#trax.layers.core.Embedding) / [source code](https://github.com/google/trax/blob/1372b903bb66b0daccee19fd0b1fdf44f659330b/trax/layers/core.py#L113)\n",
        "    - `tl.Embedding(vocab_size, d_feature)`.\n",
        "    - `vocab_size` is the number of unique words in the given vocabulary.\n",
        "    - `d_feature` is the number of elements in the word embedding (some choices for a word embedding size range from 150 to 300, for example).\n",
        "\n",
        "\n",
        "-  `tl.LSTM` The LSTM layer. It leverages another Trax layer called [`LSTMCell`](https://trax-ml.readthedocs.io/en/latest/trax.layers.html#trax.layers.rnn.LSTMCell). The number of units should be specified and should match the number of elements in the word embedding. [docs](https://trax-ml.readthedocs.io/en/latest/trax.layers.html#trax.layers.rnn.LSTM) / [source code](https://github.com/google/trax/blob/1372b903bb66b0daccee19fd0b1fdf44f659330b/trax/layers/rnn.py#L87)\n",
        "    - `tl.LSTM(n_units)` Builds an LSTM layer of n_units.\n",
        "    \n",
        "    \n",
        "- `tl.Mean`: Computes the mean across a desired axis. Mean uses one tensor axis to form groups of values and replaces each group with the mean value of that group. [docs](https://trax-ml.readthedocs.io/en/latest/trax.layers.html#trax.layers.core.Mean) / [source code](https://github.com/google/trax/blob/1372b903bb66b0daccee19fd0b1fdf44f659330b/trax/layers/core.py#L276)\n",
        "    - `tl.Mean(axis=1)` mean over columns.\n",
        "\n",
        "\n",
        "- `tl.Fn` Layer with no weights that applies the function f, which should be specified using a lambda syntax. [docs](https://trax-ml.readthedocs.io/en/latest/trax.layers.html#trax.layers.base.Fn) / [source doce](https://github.com/google/trax/blob/70f5364dcaf6ec11aabbd918e5f5e4b0f5bfb995/trax/layers/base.py#L576)\n",
        "    - $x$ -> This is used for cosine similarity.\n",
        "    - `tl.Fn('Normalize', lambda x: normalize(x))` Returns a layer with no weights that applies the function `f`\n",
        "    \n",
        "    \n",
        "- `tl.parallel`: It is a combinator layer (like `Serial`) that applies a list of layers in parallel to its inputs. [docs](https://trax-ml.readthedocs.io/en/latest/trax.layers.html#trax.layers.combinators.Parallel) / [source code](https://github.com/google/trax/blob/37aba571a89a8ad86be76a569d0ec4a46bdd8642/trax/layers/combinators.py#L152)\n"
      ]
    },
    {
      "cell_type": "code",
      "execution_count": 24,
      "metadata": {
        "id": "hww76f8_wt0x"
      },
      "outputs": [],
      "source": [
        "# UNQ_C2 (UNIQUE CELL IDENTIFIER, DO NOT EDIT)\n",
        "# GRADED FUNCTION: Siamese\n",
        "def Siamese(vocab_size=len(vocab), d_model=128, mode='train'):\n",
        "    \"\"\"Returns a Siamese model.\n",
        "\n",
        "    Args:\n",
        "        vocab_size (int, optional): Length of the vocabulary. Defaults to len(vocab).\n",
        "        d_model (int, optional): Depth of the model. Defaults to 128.\n",
        "        mode (str, optional): 'train', 'eval' or 'predict', predict mode is for fast inference. Defaults to 'train'.\n",
        "\n",
        "    Returns:\n",
        "        trax.layers.combinators.Parallel: A Siamese model. \n",
        "    \"\"\"\n",
        "\n",
        "    def normalize(x):  # normalizes the vectors to have L2 norm 1\n",
        "        return x / fastnp.sqrt(fastnp.sum(x * x, axis=-1, keepdims=True))\n",
        "    \n",
        "    ### START CODE HERE (Replace instances of 'None' with your code) ###\n",
        "    q_processor = tl.Serial(  # Processor will run on Q1 and Q2.\n",
        "        tl.Embedding(vocab_size, d_model), # Embedding layer\n",
        "        tl.LSTM(d_model), # LSTM layer\n",
        "        tl.Mean(axis=1), # Mean over columns\n",
        "        tl.Fn('Normalize', lambda x: normalize(x))  # Apply normalize function\n",
        "    )  # Returns one vector of shape [batch_size, d_model].\n",
        "    \n",
        "    ### END CODE HERE ###\n",
        "    \n",
        "    # Run on Q1 and Q2 in parallel.\n",
        "    model = tl.Parallel(q_processor, q_processor)\n",
        "    return model\n"
      ]
    },
    {
      "cell_type": "markdown",
      "metadata": {
        "id": "es2gfwZypiul"
      },
      "source": [
        "Setup the Siamese network model"
      ]
    },
    {
      "cell_type": "code",
      "execution_count": 25,
      "metadata": {
        "colab": {
          "base_uri": "https://localhost:8080/"
        },
        "id": "kvQ_jf52-JAn",
        "outputId": "8d0cc071-b5a0-476b-a153-6e5c89a3d8bf"
      },
      "outputs": [
        {
          "output_type": "stream",
          "name": "stdout",
          "text": [
            "Parallel_in2_out2[\n",
            "  Serial[\n",
            "    Embedding_41703_128\n",
            "    LSTM_128\n",
            "    Mean\n",
            "    Normalize\n",
            "  ]\n",
            "  Serial[\n",
            "    Embedding_41703_128\n",
            "    LSTM_128\n",
            "    Mean\n",
            "    Normalize\n",
            "  ]\n",
            "]\n"
          ]
        }
      ],
      "source": [
        "# check your model\n",
        "model = Siamese()\n",
        "print(model)"
      ]
    },
    {
      "cell_type": "markdown",
      "metadata": {
        "id": "LMK9zqhHpiuo"
      },
      "source": [
        "**Expected output:**  \n",
        "\n",
        "```CPP\n",
        "Parallel_in2_out2[\n",
        "  Serial[\n",
        "    Embedding_41699_128\n",
        "    LSTM_128\n",
        "    Mean\n",
        "    Normalize\n",
        "  ]\n",
        "  Serial[\n",
        "    Embedding_41699_128\n",
        "    LSTM_128\n",
        "    Mean\n",
        "    Normalize\n",
        "  ]\n",
        "]\n",
        "```"
      ]
    },
    {
      "cell_type": "markdown",
      "metadata": {
        "id": "KVo1Gvripiuo"
      },
      "source": [
        "<a name='2.2'></a>\n",
        "\n",
        "### 2.2 Hard  Negative Mining\n",
        "\n",
        "\n",
        "You will now implement the `TripletLoss`.<br>\n",
        "As explained in the lecture, loss is composed of two terms. One term utilizes the mean of all the non duplicates, the second utilizes the *closest negative*. Our loss expression is then:\n",
        " \n",
        "\\begin{align}\n",
        " \\mathcal{Loss_1(A,P,N)} &=\\max \\left( -cos(A,P)  + mean_{neg} +\\alpha, 0\\right) \\\\\n",
        " \\mathcal{Loss_2(A,P,N)} &=\\max \\left( -cos(A,P)  + closest_{neg} +\\alpha, 0\\right) \\\\\n",
        "\\mathcal{Loss(A,P,N)} &= mean(Loss_1 + Loss_2) \\\\\n",
        "\\end{align}\n",
        "\n",
        "\n",
        "Further, two sets of instructions are provided. The first set provides a brief description of the task. If that set proves insufficient, a more detailed set can be displayed.  \n",
        "\n",
        "<a name='ex03'></a>\n",
        "### Exercise 03\n",
        "\n",
        "**Instructions (Brief):** Here is a list of things you should do: <br>\n",
        "\n",
        "- As this will be run inside trax, use `fastnp.xyz` when using any `xyz` numpy function\n",
        "- Use `fastnp.dot` to calculate the similarity matrix $v_1v_2^T$ of dimension `batch_size` x `batch_size`\n",
        "- Take the score of the duplicates on the diagonal `fastnp.diagonal`\n",
        "- Use the `trax` functions `fastnp.eye` and `fastnp.maximum` for the identity matrix and the maximum."
      ]
    },
    {
      "cell_type": "markdown",
      "metadata": {
        "id": "GWsX-Wz3piup"
      },
      "source": [
        "<details>    \n",
        "<summary>\n",
        "    <font size=\"3\" color=\"darkgreen\"><b>More Detailed Instructions </b></font>\n",
        "</summary>\n",
        "We'll describe the algorithm using a detailed example. Below, V1, V2 are the output of the normalization blocks in our model. Here we will use a batch_size of 4 and a d_model of 3. As explained in lecture, the inputs, Q1, Q2 are arranged so that corresponding inputs are duplicates while non-corresponding entries are not. The outputs will have the same pattern.\n",
        "<img src = \"C3_W4_triploss1.png\" style=\"width:1021px;height:229px;\"/>\n",
        "This testcase arranges the outputs, v1,v2, to highlight different scenarios. Here, the first two outputs V1[0], V2[0] match exactly - so the model is generating the same vector for Q1[0] and Q2[0] inputs. The second outputs differ, circled in orange, we set, V2[1] is set to match V2[**2**], simulating a model which is generating very poor results. V1[3] and V2[3] match exactly again while V1[4] and V2[4] are set to be exactly wrong - 180 degrees from each other, circled in blue. \n",
        "\n",
        "The first step is to compute the cosine similarity matrix or `score` in the code. As explained in lecture, this is $$V_1 V_2^T$$ This is generated with `fastnp.dot`.\n",
        "<img src = \"C3_W4_triploss2.png\" style=\"width:959px;height:236px;\"/>\n",
        "The clever arrangement of inputs creates the data needed for positive *and* negative examples without having to run all pair-wise combinations. Because Q1[n] is a duplicate of only Q2[n], other combinations are explicitly created negative examples or *Hard Negative* examples. The matrix multiplication efficiently produces the cosine similarity of all positive/negative combinations as shown above on the left side of the diagram. 'Positive' are the results of duplicate examples and 'negative' are the results of explicitly created negative examples. The results for our test case are as expected, V1[0]V2[0] match producing '1' while our other 'positive' cases (in green) don't match well, as was arranged. The V2[2] was set to match V1[3] producing a poor match at `score[2,2]` and an undesired 'negative' case of a '1' shown in grey. \n",
        "\n",
        "With the similarity matrix (`score`) we can begin to implement the loss equations. First, we can extract $$cos(A,P)$$ by utilizing `fastnp.diagonal`. The goal is to grab all the green entries in the diagram above. This is `positive` in the code.\n",
        "\n",
        "Next, we will create the *closest_negative*. This is the nonduplicate entry in V2 that is closest (has largest cosine similarity) to an entry in V1. Each row, n, of `score` represents all comparisons of the results of Q1[n] vs Q2[x] within a batch. A specific example in our testcase is row `score[2,:]`. It has the cosine similarity of V1[2] and V2[x]. The *closest_negative*, as was arranged, is V2[2] which has a score of 1. This is the maximum value of the 'negative' entries (blue entries in the diagram).\n",
        "\n",
        "To implement this, we need to pick the maximum entry on a row of `score`, ignoring the 'positive'/green entries. To avoid selecting the 'positive'/green entries, we can make them larger negative numbers. Multiply `fastnp.eye(batch_size)` with 2.0 and subtract it out of `scores`. The result is `negative_without_positive`. Now we can use `fastnp.max`, row by row (axis=1), to select the maximum which is `closest_negative`.\n",
        "\n",
        "Next, we'll create *mean_negative*. As the name suggests, this is the mean of all the 'negative'/blue values in `score` on a row by row basis. We can use `fastnp.eye(batch_size)` and a constant, this time to create a mask with zeros on the diagonal. Element-wise multiply this with `score` to get just the 'negative values. This is `negative_zero_on_duplicate` in the code. Compute the mean by using `fastnp.sum` on `negative_zero_on_duplicate` for `axis=1` and divide it by `(batch_size - 1)` . This is `mean_negative`.\n",
        "\n",
        "Now, we can compute loss using the two equations above and `fastnp.maximum`. This will form `triplet_loss1` and `triplet_loss2`. \n",
        "\n",
        "`triple_loss` is the `fastnp.mean` of the sum of the two individual losses.\n",
        "\n",
        "Once you have this code matching the expected results, you can clip out the section between ### START CODE HERE and ### END CODE HERE it out and insert it into TripletLoss below.\n",
        "\n",
        " \n",
        "<\\details>  "
      ]
    },
    {
      "cell_type": "code",
      "execution_count": 26,
      "metadata": {
        "id": "oJM8EQiopiuv"
      },
      "outputs": [],
      "source": [
        "# UNQ_C3 (UNIQUE CELL IDENTIFIER, DO NOT EDIT)\n",
        "# GRADED FUNCTION: TripletLossFn\n",
        "def TripletLossFn(v1, v2, margin=0.25):\n",
        "    \"\"\"Custom Loss function.\n",
        "\n",
        "    Args:\n",
        "        v1 (numpy.ndarray): Array with dimension (batch_size, model_dimension) associated to Q1.\n",
        "        v2 (numpy.ndarray): Array with dimension (batch_size, model_dimension) associated to Q2.\n",
        "        margin (float, optional): Desired margin. Defaults to 0.25.\n",
        "\n",
        "    Returns:\n",
        "        jax.interpreters.xla.DeviceArray: Triplet Loss.\n",
        "    \"\"\"\n",
        "    ### START CODE HERE (Replace instances of 'None' with your code) ###\n",
        "    \n",
        "    # use fastnp to take the dot product of the two batches (don't forget to transpose the second argument)\n",
        "    scores = fastnp.dot(v1, v2.T)  # pairwise cosine sim\n",
        "    # calculate new batch size\n",
        "    batch_size = len(scores)\n",
        "    # use fastnp to grab all postive `diagonal` entries in `scores`\n",
        "    positive = fastnp.diagonal(scores)  # the positive ones (duplicates)\n",
        "    # multiply `fastnp.eye(batch_size)` with 2.0 and subtract it out of `scores`\n",
        "    negative_without_positive = scores - 2.0 * fastnp.eye(batch_size)\n",
        "    # take the row by row `max` of `negative_without_positive`. \n",
        "    # Hint: negative_without_positive.max(axis = [?])  \n",
        "    closest_negative = negative_without_positive.max(axis=1)\n",
        "    # subtract `fastnp.eye(batch_size)` out of 1.0 and do element-wise multiplication with `scores`\n",
        "    negative_zero_on_duplicate = scores * (1.0 - fastnp.eye(batch_size))\n",
        "    # use `fastnp.sum` on `negative_zero_on_duplicate` for `axis=1` and divide it by `(batch_size - 1)` \n",
        "    mean_negative = np.sum(negative_zero_on_duplicate, axis=1) / (batch_size-1)\n",
        "    # compute `fastnp.maximum` among 0.0 and `A`\n",
        "    # A = subtract `positive` from `margin` and add `closest_negative` \n",
        "    triplet_loss1 = fastnp.maximum(0.0, margin - positive + closest_negative)\n",
        "    # compute `fastnp.maximum` among 0.0 and `B`\n",
        "    # B = subtract `positive` from `margin` and add `mean_negative`\n",
        "    triplet_loss2 = fastnp.maximum(0.0, margin - positive + mean_negative)\n",
        "    # add the two losses together and take the `fastnp.mean` of it\n",
        "    triplet_loss = fastnp.mean(triplet_loss1 + triplet_loss2)\n",
        "    \n",
        "    ### END CODE HERE ###\n",
        "    \n",
        "    return triplet_loss"
      ]
    },
    {
      "cell_type": "code",
      "execution_count": 27,
      "metadata": {
        "id": "tPgSH4SKcImt",
        "outputId": "2ade8425-3287-4fa4-a748-f0eda1b27252",
        "colab": {
          "base_uri": "https://localhost:8080/"
        }
      },
      "outputs": [
        {
          "output_type": "stream",
          "name": "stdout",
          "text": [
            "Triplet Loss: 0.5\n"
          ]
        }
      ],
      "source": [
        "v1 = np.array([[0.26726124, 0.53452248, 0.80178373],[0.5178918 , 0.57543534, 0.63297887]])\n",
        "v2 = np.array([[ 0.26726124,  0.53452248,  0.80178373],[-0.5178918 , -0.57543534, -0.63297887]])\n",
        "TripletLossFn(v2,v1)\n",
        "print(\"Triplet Loss:\", TripletLossFn(v2,v1))"
      ]
    },
    {
      "cell_type": "markdown",
      "metadata": {
        "id": "4P0r07DFcImt"
      },
      "source": [
        "**Expected Output:**\n",
        "```CPP\n",
        "Triplet Loss: 0.5\n",
        "```   "
      ]
    },
    {
      "cell_type": "markdown",
      "metadata": {
        "id": "r974ozuHYAom"
      },
      "source": [
        "To make a layer out of a function with no trainable variables, use `tl.Fn`."
      ]
    },
    {
      "cell_type": "code",
      "execution_count": 28,
      "metadata": {
        "id": "c8-XkpvicImu"
      },
      "outputs": [],
      "source": [
        "from functools import partial\n",
        "def TripletLoss(margin=0.25):\n",
        "    triplet_loss_fn = partial(TripletLossFn, margin=margin)\n",
        "    return tl.Fn('TripletLoss', triplet_loss_fn)"
      ]
    },
    {
      "cell_type": "markdown",
      "metadata": {
        "id": "lsvjaCQ6wt02"
      },
      "source": [
        "<a name='3'></a>\n",
        "\n",
        "# Part 3: Training\n",
        "\n",
        "Now you are going to train your model. As usual, you have to define the cost function and the optimizer. You also have to feed in the built model. Before, going into the training, we will use a special data set up. We will define the inputs using the data generator we built above. The lambda function acts as a seed to remember the last batch that was given. Run the cell below to get the question pairs inputs. "
      ]
    },
    {
      "cell_type": "code",
      "execution_count": 29,
      "metadata": {
        "colab": {
          "base_uri": "https://localhost:8080/"
        },
        "id": "iPk7gh-nzCBg",
        "outputId": "6a1bcba4-cd77-4b94-84f8-5a6feda61fe0"
      },
      "outputs": [
        {
          "output_type": "stream",
          "name": "stdout",
          "text": [
            "train_Q1.shape  (89178,)\n",
            "val_Q1.shape    (22295,)\n"
          ]
        }
      ],
      "source": [
        "batch_size = 256\n",
        "train_generator = data_generator(train_Q1, train_Q2, batch_size, vocab['<PAD>'])\n",
        "val_generator = data_generator(val_Q1, val_Q2, batch_size, vocab['<PAD>'])\n",
        "print('train_Q1.shape ', train_Q1.shape)\n",
        "print('val_Q1.shape   ', val_Q1.shape)"
      ]
    },
    {
      "cell_type": "markdown",
      "metadata": {
        "id": "IgFMfH5awt07"
      },
      "source": [
        "<a name='3.1'></a>\n",
        "\n",
        "### 3.1 Training the model\n",
        "\n",
        "You will now write a function that takes in your model and trains it. To train your model you have to decide how many times you want to iterate over the entire data set; each iteration is defined as an `epoch`. For each epoch, you have to go over all the data, using your training iterator.\n",
        "\n",
        "<a name='ex04'></a>\n",
        "### Exercise 04\n",
        "\n",
        "**Instructions:** Implement the `train_model` below to train the neural network above. Here is a list of things you should do, as already shown in lecture 7: \n",
        "\n",
        "- Create `TrainTask` and `EvalTask`\n",
        "- Create the training loop `trax.supervised.training.Loop`\n",
        "- Pass in the following depending on the context (train_task or eval_task):\n",
        "    - `labeled_data=generator`\n",
        "    - `metrics=[TripletLoss()]`,\n",
        "    - `loss_layer=TripletLoss()`\n",
        "    - `optimizer=trax.optimizers.Adam` with learning rate of 0.01\n",
        "    - `lr_schedule=lr_schedule`,\n",
        "    - `output_dir=output_dir`\n",
        "\n",
        "\n",
        "You will be using your triplet loss function with Adam optimizer. Please read the [trax](https://trax-ml.readthedocs.io/en/latest/trax.optimizers.html?highlight=adam#trax.optimizers.adam.Adam) documentation to get a full understanding. \n",
        "\n",
        "This function should return a `training.Loop` object. To read more about this check the [docs](https://trax-ml.readthedocs.io/en/latest/trax.supervised.html?highlight=loop#trax.supervised.training.Loop)."
      ]
    },
    {
      "cell_type": "code",
      "execution_count": 30,
      "metadata": {
        "id": "_kbtfz4T_m7x"
      },
      "outputs": [],
      "source": [
        "lr_schedule = trax.lr.warmup_and_rsqrt_decay(400, 0.01)\n",
        "\n",
        "# UNQ_C4 (UNIQUE CELL IDENTIFIER, DO NOT EDIT)\n",
        "# GRADED FUNCTION: train_model\n",
        "def train_model(Siamese, TripletLoss, lr_schedule, train_generator=train_generator, val_generator=val_generator, output_dir='model/'):\n",
        "    \"\"\"Training the Siamese Model\n",
        "\n",
        "    Args:\n",
        "        Siamese (function): Function that returns the Siamese model.\n",
        "        TripletLoss (function): Function that defines the TripletLoss loss function.\n",
        "        lr_schedule (function): Trax multifactor schedule function.\n",
        "        train_generator (generator, optional): Training generator. Defaults to train_generator.\n",
        "        val_generator (generator, optional): Validation generator. Defaults to val_generator.\n",
        "        output_dir (str, optional): Path to save model to. Defaults to 'model/'.\n",
        "\n",
        "    Returns:\n",
        "        trax.supervised.training.Loop: Training loop for the model.\n",
        "    \"\"\"\n",
        "    output_dir = os.path.expanduser(output_dir)\n",
        "\n",
        "    ### START CODE HERE (Replace instances of 'None' with your code) ###\n",
        "\n",
        "    train_task = training.TrainTask(\n",
        "        labeled_data=train_generator,            # Use generator (train)\n",
        "        loss_layer=TripletLoss(),                # Use triplet loss. Don't forget to instantiate this object\n",
        "        optimizer=trax.optimizers.Adam(0.01),    # Don't forget to add the learning rate parameter\n",
        "        lr_schedule=lr_schedule,                  # Use Trax multifactor schedule function\n",
        "    )\n",
        "\n",
        "    eval_task = training.EvalTask(\n",
        "        labeled_data=val_generator,       # Use generator (val)\n",
        "        metrics=[TripletLoss()],          # Use triplet loss. Don't forget to instantiate this object\n",
        "    )\n",
        "    \n",
        "    ### END CODE HERE ###\n",
        "\n",
        "    training_loop = training.Loop(Siamese(),\n",
        "                                  train_task,\n",
        "                                  eval_tasks=[eval_task],\n",
        "                                  output_dir=output_dir)\n",
        "\n",
        "    return training_loop"
      ]
    },
    {
      "cell_type": "code",
      "execution_count": 31,
      "metadata": {
        "colab": {
          "base_uri": "https://localhost:8080/"
        },
        "id": "-3KXjmBo_6Xa",
        "outputId": "699d69ad-de42-4b14-ecf0-f7c15d8ce067"
      },
      "outputs": [
        {
          "output_type": "stream",
          "name": "stderr",
          "text": [
            "/usr/local/lib/python3.8/dist-packages/jax/_src/lib/xla_bridge.py:553: UserWarning: jax.host_count has been renamed to jax.process_count. This alias will eventually be removed; please update your code.\n",
            "  warnings.warn(\n"
          ]
        },
        {
          "output_type": "stream",
          "name": "stdout",
          "text": [
            "\n",
            "Step      1: Total number of trainable weights: 5469568\n",
            "Step      1: Ran 1 train steps in 3.83 secs\n",
            "Step      1: train TripletLoss |  0.49999660\n",
            "Step      1: eval  TripletLoss |  0.49999315\n"
          ]
        }
      ],
      "source": [
        "train_steps = 5\n",
        "training_loop = train_model(Siamese, TripletLoss, lr_schedule)\n",
        "training_loop.run(train_steps)"
      ]
    },
    {
      "cell_type": "markdown",
      "metadata": {
        "id": "w8H2f6-vcImw"
      },
      "source": [
        "The model was only trained for 5 steps due to the constraints of this environment. For the rest of the assignment you will be using a pretrained model but now you should understand how the training can be done using Trax."
      ]
    },
    {
      "cell_type": "markdown",
      "metadata": {
        "id": "abKPe7d4wt1C"
      },
      "source": [
        "<a name='4'></a>\n",
        "\n",
        "# Part 4:  Evaluation  \n",
        "\n",
        "<a name='4.1'></a>\n",
        "\n",
        "### 4.1 Evaluating your siamese network\n",
        "\n",
        "In this section you will learn how to evaluate a Siamese network. You will first start by loading a pretrained model and then you will use it to predict. "
      ]
    },
    {
      "cell_type": "code",
      "execution_count": 32,
      "metadata": {
        "colab": {
          "base_uri": "https://localhost:8080/"
        },
        "id": "3OtmlEuOwt1D",
        "outputId": "94b109a9-5551-4554-8c78-247451e44dab"
      },
      "outputs": [
        {
          "output_type": "execute_result",
          "data": {
            "text/plain": [
              "(((array([[-0.7434783 , -0.5323    ,  0.26556844, ...,  0.24734499,\n",
              "            0.971258  , -0.3176002 ],\n",
              "          [-1.9103315 , -1.2298064 ,  0.7929189 , ..., -1.3576206 ,\n",
              "           -0.9268899 ,  0.11710498],\n",
              "          [ 1.1356051 ,  1.2533569 ,  1.4670613 , ...,  1.2557949 ,\n",
              "            1.1703947 ,  1.7554839 ],\n",
              "          ...,\n",
              "          [-0.49271938,  0.06522572, -0.74080336, ...,  1.4723355 ,\n",
              "            1.1603701 ,  0.51038134],\n",
              "          [ 1.4607905 , -0.15703319,  0.5001072 , ...,  0.18419997,\n",
              "           -0.5392223 , -0.4307455 ],\n",
              "          [-1.4316021 , -1.2368174 ,  0.0611912 , ..., -0.24021208,\n",
              "            0.34730613, -0.07061554]], dtype=float32),\n",
              "   (((), ((), ())),\n",
              "    ((array([[-0.02550941, -0.06643244, -0.03194237, ..., -0.01651929,\n",
              "              -0.0235158 , -0.02485679],\n",
              "             [-0.0683428 , -0.06671927,  0.0349182 , ...,  0.01044205,\n",
              "               0.02273431,  0.0717328 ],\n",
              "             [-0.03171944,  0.01028203,  0.05781721, ..., -0.04236581,\n",
              "              -0.04657996, -0.06436575],\n",
              "             ...,\n",
              "             [ 0.03127091, -0.02159434, -0.08765983, ...,  0.02809162,\n",
              "              -0.01996687,  0.00975176],\n",
              "             [-0.02458269, -0.02480528, -0.07895178, ..., -0.08660002,\n",
              "               0.05699608, -0.02815895],\n",
              "             [ 0.03601498,  0.04997371,  0.02829743, ..., -0.0378585 ,\n",
              "              -0.08549955, -0.05847359]], dtype=float32),\n",
              "      array([0.9999873 , 0.99998873, 0.9999902 , 0.99998885, 0.9999903 ,\n",
              "             0.99999326, 0.999991  , 0.9999885 , 0.99998873, 0.9999922 ,\n",
              "             0.99999166, 0.9999899 , 0.99998844, 0.9999887 , 0.9999879 ,\n",
              "             0.9999915 , 0.9999861 , 0.9999893 , 0.9999898 , 0.99998873,\n",
              "             0.99998903, 0.9999907 , 0.9999904 , 0.9999898 , 0.9999872 ,\n",
              "             0.9999893 , 0.9999884 , 0.99999195, 0.9999887 , 0.99999106,\n",
              "             0.9999898 , 0.9999901 , 0.99998766, 0.9999907 , 0.9999862 ,\n",
              "             0.999988  , 0.9999887 , 0.9999905 , 0.9999898 , 0.99998724,\n",
              "             0.99998826, 0.99998754, 0.99998873, 0.9999895 , 0.9999895 ,\n",
              "             0.99999183, 0.9999906 , 0.999989  , 0.9999955 , 0.9999871 ,\n",
              "             0.99999   , 0.9999893 , 0.99999106, 0.9999881 , 0.99998856,\n",
              "             0.9999909 , 0.99998885, 0.9999881 , 0.99999106, 0.9999861 ,\n",
              "             0.999991  , 0.9999886 , 0.99999267, 0.9999936 , 0.9999905 ,\n",
              "             0.9999886 , 0.99999076, 0.99998826, 0.99998766, 0.9999887 ,\n",
              "             0.99998975, 0.9999886 , 0.9999902 , 0.9999874 , 0.99998903,\n",
              "             0.9999917 , 0.99998915, 0.99998915, 0.9999961 , 0.99998933,\n",
              "             0.9999876 , 0.99998784, 0.9999894 , 0.999991  , 0.9999883 ,\n",
              "             0.99999297, 0.99999213, 0.9999894 , 0.99998635, 0.9999892 ,\n",
              "             0.9999884 , 0.9999898 , 0.99999076, 0.99999064, 0.99998987,\n",
              "             0.999991  , 0.9999883 , 0.9999901 , 0.9999894 , 0.9999873 ,\n",
              "             0.9999905 , 0.999988  , 0.9999894 , 0.99998724, 0.9999887 ,\n",
              "             0.99998856, 0.9999896 , 0.99999005, 0.9999914 , 0.99999017,\n",
              "             0.9999878 , 0.9999874 , 0.9999894 , 0.9999904 , 0.9999885 ,\n",
              "             0.99999094, 0.9999902 , 0.9999837 , 0.9999906 , 0.99999326,\n",
              "             0.99999076, 0.9999874 , 0.9999915 , 0.99998766, 0.99999183,\n",
              "             0.9999902 , 0.9999897 , 0.999988  , 0.99997586, 0.99998116,\n",
              "             0.99998844, 0.99997693, 0.99998796, 0.9999755 , 0.9999877 ,\n",
              "             0.9999863 , 0.9999866 , 1.0000036 , 0.9999898 , 0.9999837 ,\n",
              "             0.9999796 , 0.99997854, 0.99998003, 0.99999166, 0.99998474,\n",
              "             0.99998194, 0.99998844, 0.9999833 , 0.9999866 , 0.99998385,\n",
              "             0.9999883 , 0.9999821 , 0.99998605, 0.9999878 , 0.9999786 ,\n",
              "             0.99997604, 0.99998504, 0.9999835 , 0.99998707, 0.9999886 ,\n",
              "             0.99998134, 0.9999869 , 0.9999835 , 0.9999783 , 0.99998134,\n",
              "             0.9999805 , 0.9999862 , 0.99998933, 0.99998444, 0.999987  ,\n",
              "             0.99998605, 0.99998814, 0.99999154, 0.99998987, 0.9999869 ,\n",
              "             0.9999892 , 0.9999964 , 0.999978  , 0.99998164, 0.9999928 ,\n",
              "             0.99998844, 0.9999784 , 0.99998164, 0.99998116, 0.99998176,\n",
              "             0.99998647, 0.9999849 , 0.99998003, 0.9999817 , 0.9999905 ,\n",
              "             0.99998236, 0.9999761 , 0.99998266, 0.99999106, 0.9999891 ,\n",
              "             0.9999774 , 0.99998754, 0.99998385, 0.9999859 , 0.9999839 ,\n",
              "             0.9999906 , 0.9999829 , 0.9999904 , 0.9999824 , 0.9999845 ,\n",
              "             0.9999874 , 0.99997836, 0.9999874 , 0.9999776 , 0.999985  ,\n",
              "             0.99999505, 0.9999806 , 0.9999777 , 0.99997616, 0.9999886 ,\n",
              "             0.99998724, 0.9999794 , 0.99998355, 0.9999879 , 0.9999827 ,\n",
              "             0.99999166, 0.9999827 , 0.9999897 , 0.99998856, 0.99998623,\n",
              "             0.9999871 , 0.99998367, 0.9999769 , 0.99998647, 0.9999796 ,\n",
              "             0.99997723, 0.99998975, 0.9999881 , 0.9999898 , 0.9999866 ,\n",
              "             0.99999917, 0.99998224, 0.99998546, 0.9999798 , 0.9999887 ,\n",
              "             0.99999523, 0.9999873 , 0.99998844, 0.99998856, 0.99998164,\n",
              "             0.9999799 , 0.9999893 , 0.99999726, 0.9999856 , 0.9999798 ,\n",
              "             0.9999885 , 0.9999828 , 0.99997884, 0.99997747, 0.99998266,\n",
              "             0.9999813 , 0.9999861 , 0.9999872 , 0.99998856, 0.9999861 ,\n",
              "             0.9999863 , 0.99999833, 0.9999936 , 0.999989  , 0.99999154,\n",
              "             0.9999952 , 0.99999017, 0.99998707, 0.99998784, 0.9999849 ,\n",
              "             0.99998766, 0.99999076, 0.99998665, 0.99999154, 0.99998957,\n",
              "             0.9999874 , 0.9999893 , 0.9999904 , 0.99999046, 0.9999862 ,\n",
              "             0.9999882 , 0.99998885, 0.9999869 , 0.99999475, 0.9999882 ,\n",
              "             0.9999891 , 0.99998987, 0.99998945, 0.9999873 , 0.9999898 ,\n",
              "             0.9999863 , 0.99998856, 0.9999844 , 0.99999213, 0.99999046,\n",
              "             0.9999886 , 0.99998766, 0.9999888 , 0.99998873, 0.9999884 ,\n",
              "             0.999989  , 0.9999942 , 0.99998945, 0.9999929 , 0.9999983 ,\n",
              "             0.9999856 , 0.99998534, 0.99999005, 0.9999897 , 0.9999868 ,\n",
              "             0.9999875 , 0.99998844, 0.99999   , 0.9999888 , 0.99998873,\n",
              "             0.99998474, 0.9999915 , 0.99998856, 0.99999547, 0.9999969 ,\n",
              "             0.99998856, 0.9999887 , 0.99999046, 0.9999899 , 0.99998975,\n",
              "             0.9999856 , 0.99999005, 0.99998456, 0.9999874 , 0.99998575,\n",
              "             0.99999005, 0.99999505, 0.99998885, 0.9999906 , 1.0000011 ,\n",
              "             0.99998915, 0.999983  , 0.99998856, 0.9999981 , 0.9999888 ,\n",
              "             0.9999902 , 0.99999684, 0.99998987, 0.99998665, 0.99998504,\n",
              "             0.9999884 , 0.9999873 , 0.9999863 , 0.9999907 , 0.9999888 ,\n",
              "             0.9999894 , 0.9999893 , 0.9999908 , 0.99999124, 0.9999887 ,\n",
              "             0.9999851 , 0.9999908 , 0.9999859 , 0.9999894 , 0.9999879 ,\n",
              "             0.99998957, 0.9999904 , 0.9999875 , 1.0000012 , 0.999993  ,\n",
              "             0.9999875 , 0.9999866 , 0.9999902 , 0.9999909 , 0.9999873 ,\n",
              "             0.9999889 , 0.99999005, 0.9999866 , 0.99998224, 0.9999889 ,\n",
              "             0.99999666, 0.9999897 , 0.99998766, 0.99999106, 0.9999863 ,\n",
              "             0.9999922 , 0.9999883 , 0.99998796, 0.999989  , 0.99999154,\n",
              "             0.9999906 , 0.9999861 , 0.9999887 , 0.9999845 , 0.9999956 ,\n",
              "             0.99999326, 0.9999852 , 0.99999094, 0.9999919 , 0.9999905 ,\n",
              "             0.9999917 , 0.9999908 , 0.99998504, 0.9999863 , 0.99999243,\n",
              "             0.9999867 , 0.99999386, 0.99998814, 0.99998605, 0.9999883 ,\n",
              "             0.99999666, 0.9999906 , 0.99998415, 0.9999882 , 0.999987  ,\n",
              "             0.9999912 , 0.99999535, 0.99999213, 0.9999912 , 0.9999879 ,\n",
              "             0.9999851 , 0.9999897 , 0.9999888 , 0.99998695, 0.9999934 ,\n",
              "             0.99998665, 0.99999374, 0.99999285, 0.9999873 , 0.99998945,\n",
              "             0.99998707, 0.99998873, 0.9999887 , 0.99998784, 0.99999064,\n",
              "             0.99998647, 0.99999374, 0.9999962 , 0.99998885, 0.9999937 ,\n",
              "             0.99999094, 0.99998695, 0.99998724, 0.99998766, 0.99999255,\n",
              "             0.9999899 , 0.99998575, 0.999988  , 0.9999914 , 0.9999941 ,\n",
              "             0.9999882 , 0.99999523, 0.99999946, 0.9999908 , 0.9999871 ,\n",
              "             0.9999877 , 0.9999923 , 0.99998945, 0.9999867 , 0.9999863 ,\n",
              "             0.99998707, 0.99998933, 0.999985  , 0.999988  , 0.99999607,\n",
              "             0.9999861 , 0.9999903 , 1.0000001 , 0.9999924 , 0.9999875 ,\n",
              "             0.999987  , 0.9999967 , 0.9999887 , 0.9999927 , 0.9999978 ,\n",
              "             0.99999154, 0.99998736, 0.9999856 , 0.9999929 , 0.99998945,\n",
              "             0.9999885 , 0.99998915, 0.9999912 , 0.99998707, 0.9999867 ,\n",
              "             0.99999267, 0.9999922 , 0.9999915 , 0.999992  , 0.9999887 ,\n",
              "             0.9999879 , 0.9999926 , 0.9999883 , 0.9999881 , 0.9999919 ,\n",
              "             0.9999901 , 1.0000008 , 0.9999919 , 0.9999881 , 0.9999875 ,\n",
              "             0.9999878 , 0.99999136, 0.9999868 , 0.99998736, 0.99999213,\n",
              "             0.9999868 , 0.9999882 , 0.9999884 , 0.9999947 , 0.9999933 ,\n",
              "             0.9999927 , 0.9999933 , 0.9999894 , 0.9999923 , 0.9999892 ,\n",
              "             0.99998623, 0.9999848 ], dtype=float32)),),\n",
              "    ()),\n",
              "   (),\n",
              "   ()),\n",
              "  {'__marker_for_cached_weights_': ()}),\n",
              " (((), (((), ((), ())), ((), ()), ()), (), ()),\n",
              "  {'__marker_for_cached_state_': ()}))"
            ]
          },
          "metadata": {},
          "execution_count": 32
        }
      ],
      "source": [
        "# Loading in the saved model\n",
        "model = Siamese()\n",
        "model.init_from_file('model.pkl.gz')"
      ]
    },
    {
      "cell_type": "markdown",
      "metadata": {
        "id": "QDi4MBiKpivF"
      },
      "source": [
        "<a name='4.2'></a>\n",
        "### 4.2 Classify\n",
        "To determine the accuracy of the model, we will utilize the test set that was configured earlier. While in training we used only positive examples, the test data, Q1_test, Q2_test and y_test, is setup as pairs of questions, some of which are duplicates some are not. \n",
        "This routine will run all the test question pairs through the model, compute the cosine simlarity of each pair, threshold it and compare the result to  y_test - the correct response from the data set. The results are accumulated to produce an accuracy.\n",
        "\n",
        "\n",
        "<a name='ex05'></a>\n",
        "### Exercise 05\n",
        "\n",
        "**Instructions**  \n",
        " - Loop through the incoming data in batch_size chunks\n",
        " - Use the data generator to load q1, q2 a batch at a time. **Don't forget to set shuffle=False!**\n",
        " - copy a batch_size chunk of y into y_test\n",
        " - compute v1, v2 using the model\n",
        " - for each element of the batch\n",
        "        - compute the cos similarity of each pair of entries, v1[j],v2[j]\n",
        "        - determine if d > threshold\n",
        "        - increment accuracy if that result matches the expected results (y_test[j])\n",
        " - compute the final accuracy and return\n",
        " \n",
        "Due to some limitations of this environment, running classify multiple times may result in the kernel failing. If that happens *Restart Kernal & clear output* and then run from the top. During development, consider using a smaller set of data to reduce the number of calls to model(). "
      ]
    },
    {
      "cell_type": "code",
      "execution_count": 33,
      "metadata": {
        "id": "K-h6ZH507fUm"
      },
      "outputs": [],
      "source": [
        "# UNQ_C5 (UNIQUE CELL IDENTIFIER, DO NOT EDIT)\n",
        "# GRADED FUNCTION: classify\n",
        "def classify(test_Q1, test_Q2, y, threshold, model, vocab, data_generator=data_generator, batch_size=64):\n",
        "    \"\"\"Function to test the accuracy of the model.\n",
        "\n",
        "    Args:\n",
        "        test_Q1 (numpy.ndarray): Array of Q1 questions.\n",
        "        test_Q2 (numpy.ndarray): Array of Q2 questions.\n",
        "        y (numpy.ndarray): Array of actual target.\n",
        "        threshold (float): Desired threshold.\n",
        "        model (trax.layers.combinators.Parallel): The Siamese model.\n",
        "        vocab (collections.defaultdict): The vocabulary used.\n",
        "        data_generator (function): Data generator function. Defaults to data_generator.\n",
        "        batch_size (int, optional): Size of the batches. Defaults to 64.\n",
        "\n",
        "    Returns:\n",
        "        float: Accuracy of the model.\n",
        "    \"\"\"\n",
        "    accuracy = 0\n",
        "    ### START CODE HERE (Replace instances of 'None' with your code) ###\n",
        "    for i in range(0, len(test_Q1), batch_size):\n",
        "        # Call the data generator (built in Ex 01) with shuffle=False using next()\n",
        "        # use batch size chuncks of questions as Q1 & Q2 arguments of the data generator. e.g x[i:i + batch_size]\n",
        "        # Hint: use `vocab['<PAD>']` for the `pad` argument of the data generator\n",
        "        q1, q2 = next(data_generator(test_Q1[i:i + batch_size], test_Q2[i:i + batch_size], batch_size, vocab['<PAD>'], shuffle=False))\n",
        "        # use batch size chuncks of actual output targets (same syntax as example above)\n",
        "        y_test = y[i:i + batch_size]\n",
        "        # Call the model\n",
        "        v1, v2 = model((q1, q2))\n",
        "\n",
        "        for j in range(batch_size):\n",
        "            # take dot product to compute cos similarity of each pair of entries, v1[j], v2[j]\n",
        "            # don't forget to transpose the second argument\n",
        "            d = np.dot(v1[j], v2[j].T)\n",
        "            # is d greater than the threshold?\n",
        "            res = d > threshold\n",
        "            # increment accurancy if y_test is equal `res`\n",
        "            accuracy += (y_test[j] == res)\n",
        "    # compute accuracy using accuracy and total length of test questions\n",
        "    accuracy = accuracy / len(test_Q1)\n",
        "    ### END CODE HERE ###\n",
        "    \n",
        "    return accuracy"
      ]
    },
    {
      "cell_type": "code",
      "execution_count": 34,
      "metadata": {
        "colab": {
          "base_uri": "https://localhost:8080/"
        },
        "id": "yeQjHxkfpivH",
        "outputId": "ae37e82b-052c-409d-8172-8b9ec9de7d6d"
      },
      "outputs": [
        {
          "output_type": "stream",
          "name": "stdout",
          "text": [
            "Accuracy 0.3765625\n"
          ]
        }
      ],
      "source": [
        "# this takes around 1 minute\n",
        "accuracy = classify(Q1_test,Q2_test, y_test, 0.7, model, vocab, batch_size = 512) \n",
        "print(\"Accuracy\", accuracy)"
      ]
    },
    {
      "cell_type": "markdown",
      "metadata": {
        "id": "CsokYZwhpivJ"
      },
      "source": [
        "**Expected Result**  \n",
        "Accuracy ~0.69"
      ]
    },
    {
      "cell_type": "markdown",
      "metadata": {
        "id": "4-STC44Ywt1I"
      },
      "source": [
        "<a name='5'></a>\n",
        "\n",
        "# Part 5: Testing with your own questions\n",
        "\n",
        "In this section you will test the model with your own questions. You will write a function `predict` which takes two questions as input and returns $1$ or $0$ depending on whether the question pair is a duplicate or not.   \n",
        "\n",
        "But first, we build a reverse vocabulary that allows to map encoded questions back to words: "
      ]
    },
    {
      "cell_type": "markdown",
      "metadata": {
        "id": "21h3Y0FNpivK"
      },
      "source": [
        "Write a function `predict`that takes in two questions, the model, and the vocabulary and returns whether the questions are duplicates ($1$) or not duplicates ($0$) given a similarity threshold. \n",
        "\n",
        "<a name='ex06'></a>\n",
        "### Exercise 06\n",
        "\n",
        "\n",
        "**Instructions:** \n",
        "- Tokenize your question using `nltk.word_tokenize` \n",
        "- Create Q1,Q2 by encoding your questions as a list of numbers using vocab\n",
        "- pad Q1,Q2 with next(data_generator([Q1], [Q2],1,vocab['<PAD>']))\n",
        "- use model() to create v1, v2\n",
        "- compute the cosine similarity (dot product) of v1, v2\n",
        "- compute res by comparing d to the threshold\n"
      ]
    },
    {
      "cell_type": "code",
      "execution_count": 35,
      "metadata": {
        "id": "kg0wQ8qhpivL"
      },
      "outputs": [],
      "source": [
        "# UNQ_C6 (UNIQUE CELL IDENTIFIER, DO NOT EDIT)\n",
        "# GRADED FUNCTION: predict\n",
        "def predict(question1, question2, threshold, model, vocab, data_generator=data_generator, verbose=False):\n",
        "    \"\"\"Function for predicting if two questions are duplicates.\n",
        "\n",
        "    Args:\n",
        "        question1 (str): First question.\n",
        "        question2 (str): Second question.\n",
        "        threshold (float): Desired threshold.\n",
        "        model (trax.layers.combinators.Parallel): The Siamese model.\n",
        "        vocab (collections.defaultdict): The vocabulary used.\n",
        "        data_generator (function): Data generator function. Defaults to data_generator.\n",
        "        verbose (bool, optional): If the results should be printed out. Defaults to False.\n",
        "\n",
        "    Returns:\n",
        "        bool: True if the questions are duplicates, False otherwise.\n",
        "    \"\"\"\n",
        "    ### START CODE HERE (Replace instances of 'None' with your code) ###\n",
        "    # use `nltk` word tokenize function to tokenize\n",
        "    q1 = nltk.word_tokenize(question1)  # tokenize\n",
        "    q2 = nltk.word_tokenize(question2)  # tokenize\n",
        "    Q1, Q2 = [], []\n",
        "    for word in q1:  # encode q1\n",
        "        # increment by checking the 'word' index in `vocab`\n",
        "        Q1 += [vocab[word]]\n",
        "    for word in q2:  # encode q2\n",
        "        # increment by checking the 'word' index in `vocab`\n",
        "        Q2 += [vocab[word]]\n",
        "        \n",
        "    # Call the data generator (built in Ex 01) using next()\n",
        "    # pass [Q1] & [Q2] as Q1 & Q2 arguments of the data generator. Set batch size as 1\n",
        "    # Hint: use `vocab['<PAD>']` for the `pad` argument of the data generator\n",
        "    Q1, Q2 = next(data_generator([Q1], [Q2], 1, vocab['<PAD>']))\n",
        "    # Call the model\n",
        "    v1, v2 = model((Q1, Q2))\n",
        "    # take dot product to compute cos similarity of each pair of entries, v1, v2\n",
        "    # don't forget to transpose the second argument\n",
        "    d = np.dot(v1[0], v2[0].T)\n",
        "    # is d greater than the threshold?\n",
        "    res = d > threshold\n",
        "    \n",
        "    ### END CODE HERE ###\n",
        "    \n",
        "    if(verbose):\n",
        "        print(\"Q1  = \", Q1, \"\\nQ2  = \", Q2)\n",
        "        print(\"d   = \", d)\n",
        "        print(\"res = \", res)\n",
        "\n",
        "    return res"
      ]
    },
    {
      "cell_type": "code",
      "execution_count": 36,
      "metadata": {
        "colab": {
          "base_uri": "https://localhost:8080/"
        },
        "id": "Raojyhw3z7HE",
        "outputId": "8b9d6c34-4ee4-4ef4-f5fb-675edf090e0c"
      },
      "outputs": [
        {
          "output_type": "stream",
          "name": "stdout",
          "text": [
            "Q1  =  [[585  76   4  46  53  21   1   1]] \n",
            "Q2  =  [[ 585   33    4   46   53 7280   21    1]]\n",
            "d   =  0.99465454\n",
            "res =  True\n"
          ]
        },
        {
          "output_type": "execute_result",
          "data": {
            "text/plain": [
              "True"
            ]
          },
          "metadata": {},
          "execution_count": 36
        }
      ],
      "source": [
        "# Feel free to try with your own questions\n",
        "question1 = \"When will I see you?\"\n",
        "question2 = \"When can I see you again?\"\n",
        "# 1 means it is duplicated, 0 otherwise\n",
        "predict(question1 , question2, 0.7, model, vocab, verbose = True)"
      ]
    },
    {
      "cell_type": "markdown",
      "metadata": {
        "id": "7OEKCa_hpivP"
      },
      "source": [
        "##### Expected Output\n",
        "If input is:\n",
        "```CPP\n",
        "question1 = \"When will I see you?\"\n",
        "question2 = \"When can I see you again?\"\n",
        "```\n",
        "\n",
        "Output is (d may vary a bit):\n",
        "```CPP\n",
        "Q1  =  [[585  76   4  46  53  21   1   1]] \n",
        "Q2  =  [[ 585   33    4   46   53 7280   21    1]]\n",
        "d   =  0.88113236\n",
        "res =  True\n",
        "True\n",
        "```"
      ]
    },
    {
      "cell_type": "code",
      "execution_count": 37,
      "metadata": {
        "colab": {
          "base_uri": "https://localhost:8080/"
        },
        "id": "DZccIQ_lpivQ",
        "outputId": "b49084c5-b931-4d4c-c428-895dda9cb934"
      },
      "outputs": [
        {
          "output_type": "stream",
          "name": "stdout",
          "text": [
            "Q1  =  [[  443  1145  3159  1169    78 29016    21     1]] \n",
            "Q2  =  [[  443  1145    60 15302    28    78  7431    21]]\n",
            "d   =  0.9910673\n",
            "res =  True\n"
          ]
        },
        {
          "output_type": "execute_result",
          "data": {
            "text/plain": [
              "True"
            ]
          },
          "metadata": {},
          "execution_count": 37
        }
      ],
      "source": [
        "# Feel free to try with your own questions\n",
        "question1 = \"Do they enjoy eating the dessert?\"\n",
        "question2 = \"Do they like hiking in the desert?\"\n",
        "# 1 means it is duplicated, 0 otherwise\n",
        "predict(question1 , question2, 0.7, model, vocab, verbose=True)"
      ]
    },
    {
      "cell_type": "markdown",
      "metadata": {
        "id": "lWrt-yCMpivS"
      },
      "source": [
        "##### Expected output\n",
        "\n",
        "If input is:\n",
        "```CPP\n",
        "question1 = \"Do they enjoy eating the dessert?\"\n",
        "question2 = \"Do they like hiking in the desert?\"\n",
        "```\n",
        "\n",
        "Output  (d may vary a bit):\n",
        "\n",
        "```CPP\n",
        "Q1  =  [[  443  1145  3159  1169    78 29017    21     1]] \n",
        "Q2  =  [[  443  1145    60 15302    28    78  7431    21]]\n",
        "d   =  0.477536\n",
        "res =  False\n",
        "False\n",
        "```"
      ]
    },
    {
      "cell_type": "markdown",
      "metadata": {
        "id": "NAfV3l5Zwt1L"
      },
      "source": [
        "You can see that the Siamese network is capable of catching complicated structures. Concretely it can identify question duplicates although the questions do not have many words in common. \n",
        " "
      ]
    },
    {
      "cell_type": "markdown",
      "metadata": {
        "id": "FsE8tdTLwt1M"
      },
      "source": [
        "<a name='6'></a>\n",
        "\n",
        "###  <span style=\"color:blue\"> On Siamese networks </span>\n",
        "\n",
        "Siamese networks are important and useful. Many times there are several questions that are already asked in quora, or other platforms and you can use Siamese networks to avoid question duplicates. \n",
        "\n",
        "Congratulations, you have now built a powerful system that can recognize question duplicates. In the next course we will use transformers for machine translation, summarization, question answering, and chatbots. \n"
      ]
    }
  ],
  "metadata": {
    "accelerator": "GPU",
    "colab": {
      "machine_shape": "hm",
      "name": "C3_W4_Assignment_Solution.ipynb",
      "provenance": [],
      "include_colab_link": true
    },
    "coursera": {
      "schema_names": [
        "NLPC3-4A"
      ]
    },
    "kernelspec": {
      "display_name": "Python 3",
      "language": "python",
      "name": "python3"
    },
    "language_info": {
      "codemirror_mode": {
        "name": "ipython",
        "version": 3
      },
      "file_extension": ".py",
      "mimetype": "text/x-python",
      "name": "python",
      "nbconvert_exporter": "python",
      "pygments_lexer": "ipython3",
      "version": "3.7.1"
    },
    "gpuClass": "standard"
  },
  "nbformat": 4,
  "nbformat_minor": 0
}